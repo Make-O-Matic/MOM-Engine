{
 "cells": [
  {
   "cell_type": "markdown",
   "metadata": {},
   "source": [
    "# Make-o-Matic Gesture Recognition\n",
    "\n",
    "## Part 1: Data Preprocessing\n",
    "\n",
    "2017 by Thomas Lidy, TU Wien\n",
    "\n",
    "### Requirements\n",
    "\n",
    "Python 2.7\n",
    "\n",
    "pip install -r requirements.txt\n",
    "\n",
    "Tested on OS: Ubuntu 16.04.3 LTS"
   ]
  },
  {
   "cell_type": "code",
   "execution_count": 1,
   "metadata": {
    "collapsed": true
   },
   "outputs": [],
   "source": [
    "import numpy as np\n",
    "import pandas as pd"
   ]
  },
  {
   "cell_type": "markdown",
   "metadata": {},
   "source": [
    "## Read Data"
   ]
  },
  {
   "cell_type": "code",
   "execution_count": 2,
   "metadata": {
    "collapsed": true
   },
   "outputs": [],
   "source": [
    "# main data\n",
    "\n",
    "#input\n",
    "csv_file = 'data/EXPORT_09042017173622.csv'\n",
    "\n",
    "# output\n",
    "csv_file_out = 'data/EXPORT_09042017173622_preprocessed.csv'"
   ]
  },
  {
   "cell_type": "code",
   "execution_count": 3,
   "metadata": {
    "collapsed": false
   },
   "outputs": [
    {
     "name": "stderr",
     "output_type": "stream",
     "text": [
      "/usr/local/lib/python2.7/dist-packages/IPython/core/interactiveshell.py:2871: DtypeWarning: Columns (7) have mixed types. Specify dtype option on import or set low_memory=False.\n",
      "  interactivity=interactivity, compiler=compiler, result=result)\n"
     ]
    }
   ],
   "source": [
    "# Experiment Data\n",
    "data = pd.read_csv(csv_file)"
   ]
  },
  {
   "cell_type": "code",
   "execution_count": 4,
   "metadata": {
    "collapsed": false
   },
   "outputs": [
    {
     "data": {
      "text/plain": [
       "(1435576, 26)"
      ]
     },
     "execution_count": 4,
     "metadata": {},
     "output_type": "execute_result"
    }
   ],
   "source": [
    "data.shape"
   ]
  },
  {
   "cell_type": "code",
   "execution_count": 5,
   "metadata": {
    "collapsed": false
   },
   "outputs": [
    {
     "data": {
      "text/plain": [
       "Index([u'Trainset-ID', u'Experiment-ID', u'Subject-ID', u'Observer-ID',\n",
       "       u'collectedByHand', u'Collector-ID', u'TimeStamp', u'RFID-ID',\n",
       "       u'GRASP-A', u'GRASP-B', u'GRASP-C', u'AX', u'AY', u'AZ', u'EX', u'EY',\n",
       "       u'EZ', u'USERINPUT', u'HANDINGLOVE', u' Parcours-ID', u'Parcours-Step',\n",
       "       u'Mutation-ID', u' Mutation/HandIsActive', u'Host-ID', u'Host/Spot-ID',\n",
       "       u'Gesture-ID'],\n",
       "      dtype='object')"
      ]
     },
     "execution_count": 5,
     "metadata": {},
     "output_type": "execute_result"
    }
   ],
   "source": [
    "data.columns"
   ]
  },
  {
   "cell_type": "code",
   "execution_count": 6,
   "metadata": {
    "collapsed": false
   },
   "outputs": [
    {
     "data": {
      "text/plain": [
       "Trainset-ID                object\n",
       "Experiment-ID              object\n",
       "Subject-ID                 object\n",
       "Observer-ID                object\n",
       "collectedByHand            object\n",
       "Collector-ID               object\n",
       "TimeStamp                   int64\n",
       "RFID-ID                    object\n",
       "GRASP-A                     int64\n",
       "GRASP-B                     int64\n",
       "GRASP-C                     int64\n",
       "AX                        float64\n",
       "AY                        float64\n",
       "AZ                        float64\n",
       "EX                        float64\n",
       "EY                        float64\n",
       "EZ                        float64\n",
       "USERINPUT                    bool\n",
       "HANDINGLOVE                  bool\n",
       " Parcours-ID               object\n",
       "Parcours-Step               int64\n",
       "Mutation-ID                object\n",
       " Mutation/HandIsActive       bool\n",
       "Host-ID                    object\n",
       "Host/Spot-ID               object\n",
       "Gesture-ID                 object\n",
       "dtype: object"
      ]
     },
     "execution_count": 6,
     "metadata": {},
     "output_type": "execute_result"
    }
   ],
   "source": [
    "data.dtypes"
   ]
  },
  {
   "cell_type": "code",
   "execution_count": 7,
   "metadata": {
    "collapsed": false
   },
   "outputs": [
    {
     "data": {
      "text/html": [
       "<div>\n",
       "<table border=\"1\" class=\"dataframe\">\n",
       "  <thead>\n",
       "    <tr style=\"text-align: right;\">\n",
       "      <th></th>\n",
       "      <th>Trainset-ID</th>\n",
       "      <th>Experiment-ID</th>\n",
       "      <th>Subject-ID</th>\n",
       "      <th>Observer-ID</th>\n",
       "      <th>collectedByHand</th>\n",
       "      <th>Collector-ID</th>\n",
       "      <th>TimeStamp</th>\n",
       "      <th>RFID-ID</th>\n",
       "      <th>GRASP-A</th>\n",
       "      <th>GRASP-B</th>\n",
       "      <th>...</th>\n",
       "      <th>EZ</th>\n",
       "      <th>USERINPUT</th>\n",
       "      <th>HANDINGLOVE</th>\n",
       "      <th>Parcours-ID</th>\n",
       "      <th>Parcours-Step</th>\n",
       "      <th>Mutation-ID</th>\n",
       "      <th>Mutation/HandIsActive</th>\n",
       "      <th>Host-ID</th>\n",
       "      <th>Host/Spot-ID</th>\n",
       "      <th>Gesture-ID</th>\n",
       "    </tr>\n",
       "  </thead>\n",
       "  <tbody>\n",
       "    <tr>\n",
       "      <th>0</th>\n",
       "      <td>_TRAINSET14022017094616</td>\n",
       "      <td>E001</td>\n",
       "      <td>Andreas</td>\n",
       "      <td>Clemens</td>\n",
       "      <td>right</td>\n",
       "      <td>R01</td>\n",
       "      <td>0</td>\n",
       "      <td>000000000000</td>\n",
       "      <td>781</td>\n",
       "      <td>8</td>\n",
       "      <td>...</td>\n",
       "      <td>-81.9375</td>\n",
       "      <td>False</td>\n",
       "      <td>True</td>\n",
       "      <td>P101</td>\n",
       "      <td>1</td>\n",
       "      <td>M151</td>\n",
       "      <td>True</td>\n",
       "      <td>H008</td>\n",
       "      <td>NaN</td>\n",
       "      <td>G15</td>\n",
       "    </tr>\n",
       "    <tr>\n",
       "      <th>1</th>\n",
       "      <td>_TRAINSET14022017094616</td>\n",
       "      <td>E001</td>\n",
       "      <td>Andreas</td>\n",
       "      <td>Clemens</td>\n",
       "      <td>left</td>\n",
       "      <td>L01</td>\n",
       "      <td>19896</td>\n",
       "      <td>000000000000</td>\n",
       "      <td>212</td>\n",
       "      <td>213</td>\n",
       "      <td>...</td>\n",
       "      <td>-84.5625</td>\n",
       "      <td>False</td>\n",
       "      <td>False</td>\n",
       "      <td>P101</td>\n",
       "      <td>1</td>\n",
       "      <td>M151</td>\n",
       "      <td>False</td>\n",
       "      <td>NaN</td>\n",
       "      <td>NaN</td>\n",
       "      <td>NaN</td>\n",
       "    </tr>\n",
       "    <tr>\n",
       "      <th>2</th>\n",
       "      <td>_TRAINSET14022017094616</td>\n",
       "      <td>E001</td>\n",
       "      <td>Andreas</td>\n",
       "      <td>Clemens</td>\n",
       "      <td>right</td>\n",
       "      <td>R01</td>\n",
       "      <td>29001</td>\n",
       "      <td>000000000000</td>\n",
       "      <td>782</td>\n",
       "      <td>0</td>\n",
       "      <td>...</td>\n",
       "      <td>-81.9375</td>\n",
       "      <td>False</td>\n",
       "      <td>True</td>\n",
       "      <td>P101</td>\n",
       "      <td>1</td>\n",
       "      <td>M151</td>\n",
       "      <td>True</td>\n",
       "      <td>H008</td>\n",
       "      <td>NaN</td>\n",
       "      <td>G15</td>\n",
       "    </tr>\n",
       "    <tr>\n",
       "      <th>3</th>\n",
       "      <td>_TRAINSET14022017094616</td>\n",
       "      <td>E001</td>\n",
       "      <td>Andreas</td>\n",
       "      <td>Clemens</td>\n",
       "      <td>left</td>\n",
       "      <td>L01</td>\n",
       "      <td>29823</td>\n",
       "      <td>000000000000</td>\n",
       "      <td>179</td>\n",
       "      <td>185</td>\n",
       "      <td>...</td>\n",
       "      <td>-84.5625</td>\n",
       "      <td>False</td>\n",
       "      <td>False</td>\n",
       "      <td>P101</td>\n",
       "      <td>1</td>\n",
       "      <td>M151</td>\n",
       "      <td>False</td>\n",
       "      <td>NaN</td>\n",
       "      <td>NaN</td>\n",
       "      <td>NaN</td>\n",
       "    </tr>\n",
       "    <tr>\n",
       "      <th>4</th>\n",
       "      <td>_TRAINSET14022017094616</td>\n",
       "      <td>E001</td>\n",
       "      <td>Andreas</td>\n",
       "      <td>Clemens</td>\n",
       "      <td>right</td>\n",
       "      <td>R01</td>\n",
       "      <td>46136</td>\n",
       "      <td>000000000000</td>\n",
       "      <td>782</td>\n",
       "      <td>6</td>\n",
       "      <td>...</td>\n",
       "      <td>-81.8750</td>\n",
       "      <td>False</td>\n",
       "      <td>True</td>\n",
       "      <td>P101</td>\n",
       "      <td>1</td>\n",
       "      <td>M151</td>\n",
       "      <td>True</td>\n",
       "      <td>H008</td>\n",
       "      <td>NaN</td>\n",
       "      <td>G15</td>\n",
       "    </tr>\n",
       "    <tr>\n",
       "      <th>5</th>\n",
       "      <td>_TRAINSET14022017094616</td>\n",
       "      <td>E001</td>\n",
       "      <td>Andreas</td>\n",
       "      <td>Clemens</td>\n",
       "      <td>left</td>\n",
       "      <td>L01</td>\n",
       "      <td>54766</td>\n",
       "      <td>000000000000</td>\n",
       "      <td>130</td>\n",
       "      <td>155</td>\n",
       "      <td>...</td>\n",
       "      <td>-84.6250</td>\n",
       "      <td>False</td>\n",
       "      <td>False</td>\n",
       "      <td>P101</td>\n",
       "      <td>1</td>\n",
       "      <td>M151</td>\n",
       "      <td>False</td>\n",
       "      <td>NaN</td>\n",
       "      <td>NaN</td>\n",
       "      <td>NaN</td>\n",
       "    </tr>\n",
       "    <tr>\n",
       "      <th>6</th>\n",
       "      <td>_TRAINSET14022017094616</td>\n",
       "      <td>E001</td>\n",
       "      <td>Andreas</td>\n",
       "      <td>Clemens</td>\n",
       "      <td>right</td>\n",
       "      <td>R01</td>\n",
       "      <td>74902</td>\n",
       "      <td>000000000000</td>\n",
       "      <td>784</td>\n",
       "      <td>7</td>\n",
       "      <td>...</td>\n",
       "      <td>-81.8125</td>\n",
       "      <td>False</td>\n",
       "      <td>True</td>\n",
       "      <td>P101</td>\n",
       "      <td>1</td>\n",
       "      <td>M151</td>\n",
       "      <td>True</td>\n",
       "      <td>H008</td>\n",
       "      <td>NaN</td>\n",
       "      <td>G15</td>\n",
       "    </tr>\n",
       "    <tr>\n",
       "      <th>7</th>\n",
       "      <td>_TRAINSET14022017094616</td>\n",
       "      <td>E001</td>\n",
       "      <td>Andreas</td>\n",
       "      <td>Clemens</td>\n",
       "      <td>left</td>\n",
       "      <td>L01</td>\n",
       "      <td>79764</td>\n",
       "      <td>000000000000</td>\n",
       "      <td>158</td>\n",
       "      <td>172</td>\n",
       "      <td>...</td>\n",
       "      <td>-84.6250</td>\n",
       "      <td>False</td>\n",
       "      <td>False</td>\n",
       "      <td>P101</td>\n",
       "      <td>1</td>\n",
       "      <td>M151</td>\n",
       "      <td>False</td>\n",
       "      <td>NaN</td>\n",
       "      <td>NaN</td>\n",
       "      <td>NaN</td>\n",
       "    </tr>\n",
       "    <tr>\n",
       "      <th>8</th>\n",
       "      <td>_TRAINSET14022017094616</td>\n",
       "      <td>E001</td>\n",
       "      <td>Andreas</td>\n",
       "      <td>Clemens</td>\n",
       "      <td>right</td>\n",
       "      <td>R01</td>\n",
       "      <td>97663</td>\n",
       "      <td>000000000000</td>\n",
       "      <td>781</td>\n",
       "      <td>0</td>\n",
       "      <td>...</td>\n",
       "      <td>-81.7500</td>\n",
       "      <td>False</td>\n",
       "      <td>True</td>\n",
       "      <td>P101</td>\n",
       "      <td>1</td>\n",
       "      <td>M151</td>\n",
       "      <td>True</td>\n",
       "      <td>H008</td>\n",
       "      <td>NaN</td>\n",
       "      <td>G15</td>\n",
       "    </tr>\n",
       "    <tr>\n",
       "      <th>9</th>\n",
       "      <td>_TRAINSET14022017094616</td>\n",
       "      <td>E001</td>\n",
       "      <td>Andreas</td>\n",
       "      <td>Clemens</td>\n",
       "      <td>left</td>\n",
       "      <td>L01</td>\n",
       "      <td>103845</td>\n",
       "      <td>000000000000</td>\n",
       "      <td>203</td>\n",
       "      <td>204</td>\n",
       "      <td>...</td>\n",
       "      <td>-84.6875</td>\n",
       "      <td>False</td>\n",
       "      <td>False</td>\n",
       "      <td>P101</td>\n",
       "      <td>1</td>\n",
       "      <td>M151</td>\n",
       "      <td>False</td>\n",
       "      <td>NaN</td>\n",
       "      <td>NaN</td>\n",
       "      <td>NaN</td>\n",
       "    </tr>\n",
       "  </tbody>\n",
       "</table>\n",
       "<p>10 rows × 26 columns</p>\n",
       "</div>"
      ],
      "text/plain": [
       "               Trainset-ID Experiment-ID Subject-ID Observer-ID  \\\n",
       "0  _TRAINSET14022017094616          E001    Andreas     Clemens   \n",
       "1  _TRAINSET14022017094616          E001    Andreas     Clemens   \n",
       "2  _TRAINSET14022017094616          E001    Andreas     Clemens   \n",
       "3  _TRAINSET14022017094616          E001    Andreas     Clemens   \n",
       "4  _TRAINSET14022017094616          E001    Andreas     Clemens   \n",
       "5  _TRAINSET14022017094616          E001    Andreas     Clemens   \n",
       "6  _TRAINSET14022017094616          E001    Andreas     Clemens   \n",
       "7  _TRAINSET14022017094616          E001    Andreas     Clemens   \n",
       "8  _TRAINSET14022017094616          E001    Andreas     Clemens   \n",
       "9  _TRAINSET14022017094616          E001    Andreas     Clemens   \n",
       "\n",
       "  collectedByHand Collector-ID  TimeStamp       RFID-ID  GRASP-A  GRASP-B  \\\n",
       "0           right          R01          0  000000000000      781        8   \n",
       "1            left          L01      19896  000000000000      212      213   \n",
       "2           right          R01      29001  000000000000      782        0   \n",
       "3            left          L01      29823  000000000000      179      185   \n",
       "4           right          R01      46136  000000000000      782        6   \n",
       "5            left          L01      54766  000000000000      130      155   \n",
       "6           right          R01      74902  000000000000      784        7   \n",
       "7            left          L01      79764  000000000000      158      172   \n",
       "8           right          R01      97663  000000000000      781        0   \n",
       "9            left          L01     103845  000000000000      203      204   \n",
       "\n",
       "     ...           EZ  USERINPUT  HANDINGLOVE   Parcours-ID  Parcours-Step  \\\n",
       "0    ...     -81.9375      False         True          P101              1   \n",
       "1    ...     -84.5625      False        False          P101              1   \n",
       "2    ...     -81.9375      False         True          P101              1   \n",
       "3    ...     -84.5625      False        False          P101              1   \n",
       "4    ...     -81.8750      False         True          P101              1   \n",
       "5    ...     -84.6250      False        False          P101              1   \n",
       "6    ...     -81.8125      False         True          P101              1   \n",
       "7    ...     -84.6250      False        False          P101              1   \n",
       "8    ...     -81.7500      False         True          P101              1   \n",
       "9    ...     -84.6875      False        False          P101              1   \n",
       "\n",
       "   Mutation-ID   Mutation/HandIsActive Host-ID Host/Spot-ID Gesture-ID  \n",
       "0         M151                    True    H008          NaN        G15  \n",
       "1         M151                   False     NaN          NaN        NaN  \n",
       "2         M151                    True    H008          NaN        G15  \n",
       "3         M151                   False     NaN          NaN        NaN  \n",
       "4         M151                    True    H008          NaN        G15  \n",
       "5         M151                   False     NaN          NaN        NaN  \n",
       "6         M151                    True    H008          NaN        G15  \n",
       "7         M151                   False     NaN          NaN        NaN  \n",
       "8         M151                    True    H008          NaN        G15  \n",
       "9         M151                   False     NaN          NaN        NaN  \n",
       "\n",
       "[10 rows x 26 columns]"
      ]
     },
     "execution_count": 7,
     "metadata": {},
     "output_type": "execute_result"
    }
   ],
   "source": [
    "data.head(10)"
   ]
  },
  {
   "cell_type": "markdown",
   "metadata": {},
   "source": [
    "## Some Data Stats"
   ]
  },
  {
   "cell_type": "code",
   "execution_count": 8,
   "metadata": {
    "collapsed": false
   },
   "outputs": [
    {
     "data": {
      "text/plain": [
       "['Andreas', 'Alfred', 'Claudia', 'Dominik']"
      ]
     },
     "execution_count": 8,
     "metadata": {},
     "output_type": "execute_result"
    }
   ],
   "source": [
    "# how many subjects\n",
    "subjects = data['Subject-ID'].unique().tolist()\n",
    "subjects "
   ]
  },
  {
   "cell_type": "code",
   "execution_count": 9,
   "metadata": {
    "collapsed": false
   },
   "outputs": [
    {
     "data": {
      "text/plain": [
       "['Clemens']"
      ]
     },
     "execution_count": 9,
     "metadata": {},
     "output_type": "execute_result"
    }
   ],
   "source": [
    "# how many observers\n",
    "data['Observer-ID'].unique().tolist()"
   ]
  },
  {
   "cell_type": "code",
   "execution_count": 10,
   "metadata": {
    "collapsed": false
   },
   "outputs": [
    {
     "data": {
      "text/plain": [
       "['R01', 'L01']"
      ]
     },
     "execution_count": 10,
     "metadata": {},
     "output_type": "execute_result"
    }
   ],
   "source": [
    "# how many hands\n",
    "data['Collector-ID'].unique().tolist()"
   ]
  },
  {
   "cell_type": "code",
   "execution_count": 11,
   "metadata": {
    "collapsed": false
   },
   "outputs": [
    {
     "data": {
      "text/plain": [
       "['000000000000',\n",
       " '09006734114B',\n",
       " 0,\n",
       " '05003DD5CD20',\n",
       " '760057911BAB',\n",
       " '13005E4BB7B1',\n",
       " '1400135B8AD6',\n",
       " '14001486BE38',\n",
       " '7600577D0D51',\n",
       " '140014CD1AD7',\n",
       " '280015E55981',\n",
       " '05008C2F993F']"
      ]
     },
     "execution_count": 11,
     "metadata": {},
     "output_type": "execute_result"
    }
   ],
   "source": [
    "# how many RFID ids\n",
    "data['RFID-ID'].unique().tolist()"
   ]
  },
  {
   "cell_type": "code",
   "execution_count": 12,
   "metadata": {
    "collapsed": false
   },
   "outputs": [
    {
     "data": {
      "text/plain": [
       "['E001', 'E002', 'E003', 'E004', 'E005', 'E006', 'E007', 'E008']"
      ]
     },
     "execution_count": 12,
     "metadata": {},
     "output_type": "execute_result"
    }
   ],
   "source": [
    "# how many experiments\n",
    "experiments = data['Experiment-ID'].unique().tolist()\n",
    "experiments"
   ]
  },
  {
   "cell_type": "code",
   "execution_count": 13,
   "metadata": {
    "collapsed": false
   },
   "outputs": [
    {
     "data": {
      "text/plain": [
       "539"
      ]
     },
     "execution_count": 13,
     "metadata": {},
     "output_type": "execute_result"
    }
   ],
   "source": [
    "# how many training sets\n",
    "len(data['Trainset-ID'].unique().tolist())"
   ]
  },
  {
   "cell_type": "code",
   "execution_count": 14,
   "metadata": {
    "collapsed": false
   },
   "outputs": [
    {
     "data": {
      "text/plain": [
       "116"
      ]
     },
     "execution_count": 14,
     "metadata": {},
     "output_type": "execute_result"
    }
   ],
   "source": [
    "# how many parcours\n",
    "len(data[' Parcours-ID'].unique())"
   ]
  },
  {
   "cell_type": "code",
   "execution_count": 15,
   "metadata": {
    "collapsed": false
   },
   "outputs": [
    {
     "data": {
      "text/plain": [
       "array(['P101', 'P102', 'P103', 'P104', 'P105', 'P106', 'P107', 'P108',\n",
       "       'P109', 'P110', 'P111', 'P112', 'P113', 'P114', 'P115', 'P116',\n",
       "       'P117', 'P118', 'P401', 'P402', 'P403', 'P201', 'P202', 'P203',\n",
       "       'P204', 'P205', 'P206', 'P207', 'P208', 'P211', 'P212', 'P213',\n",
       "       'P216', 'P217', 'P218', 'P221', 'P222', 'P223', 'P226', 'P227',\n",
       "       'P228', 'P701', 'P702', 'P705', 'P706', 'P709', 'P710', 'P713',\n",
       "       'P714', 'P801', 'P802', 'P601', 'P602', 'P603', 'P606', 'P607',\n",
       "       'P608', 'P611', 'P612', 'P613', 'P616', 'P617', 'P618', 'P621',\n",
       "       'P622', 'P623', 'P501', 'P502', 'P504', 'P503', 'P301', 'P302',\n",
       "       'P306', 'P307', 'P308', 'P311', 'P312', 'P316', 'P317', 'P318',\n",
       "       'P321', 'P322', 'P326', 'P327', 'P328', 'P119', 'P120', 'P121',\n",
       "       'P231', 'P232', 'P234', 'P233', 'P236', 'P235', 'P717', 'P718',\n",
       "       'P719', 'P720', 'P721', 'P722', 'P723', 'P724', 'P626', 'P627',\n",
       "       'P628', 'P629', 'P630', 'P331', 'P332', 'P333', 'P334', 'P335',\n",
       "       'P336', 'P901', 'P902', 'P903'], dtype=object)"
      ]
     },
     "execution_count": 15,
     "metadata": {},
     "output_type": "execute_result"
    }
   ],
   "source": [
    "data[' Parcours-ID'].unique()"
   ]
  },
  {
   "cell_type": "code",
   "execution_count": 16,
   "metadata": {
    "collapsed": false
   },
   "outputs": [
    {
     "data": {
      "text/plain": [
       "array([ 1,  2,  3,  4,  5,  6,  7,  8,  9, 10, 11, 12])"
      ]
     },
     "execution_count": 16,
     "metadata": {},
     "output_type": "execute_result"
    }
   ],
   "source": [
    "# how many parcours steps\n",
    "data['Parcours-Step'].unique()"
   ]
  },
  {
   "cell_type": "code",
   "execution_count": 17,
   "metadata": {
    "collapsed": false
   },
   "outputs": [
    {
     "data": {
      "text/plain": [
       "177"
      ]
     },
     "execution_count": 17,
     "metadata": {},
     "output_type": "execute_result"
    }
   ],
   "source": [
    "# how many mutations\n",
    "len(data['Mutation-ID'].unique())"
   ]
  },
  {
   "cell_type": "code",
   "execution_count": 18,
   "metadata": {
    "collapsed": false
   },
   "outputs": [
    {
     "data": {
      "text/plain": [
       "19"
      ]
     },
     "execution_count": 18,
     "metadata": {},
     "output_type": "execute_result"
    }
   ],
   "source": [
    "# how many gestures\n",
    "len(data['Gesture-ID'].unique())"
   ]
  },
  {
   "cell_type": "code",
   "execution_count": 19,
   "metadata": {
    "collapsed": false
   },
   "outputs": [
    {
     "data": {
      "text/plain": [
       "[nan,\n",
       " 'G01',\n",
       " 'G02',\n",
       " 'G03',\n",
       " 'G04',\n",
       " 'G05',\n",
       " 'G06',\n",
       " 'G07',\n",
       " 'G08',\n",
       " 'G09',\n",
       " 'G10',\n",
       " 'G11',\n",
       " 'G12',\n",
       " 'G13',\n",
       " 'G14',\n",
       " 'G15',\n",
       " 'G16',\n",
       " 'G17',\n",
       " 'G18']"
      ]
     },
     "execution_count": 19,
     "metadata": {},
     "output_type": "execute_result"
    }
   ],
   "source": [
    "# which gestures exist\n",
    "sorted(data['Gesture-ID'].unique())"
   ]
  },
  {
   "cell_type": "code",
   "execution_count": 20,
   "metadata": {
    "collapsed": false
   },
   "outputs": [
    {
     "data": {
      "text/html": [
       "<div>\n",
       "<table border=\"1\" class=\"dataframe\">\n",
       "  <thead>\n",
       "    <tr style=\"text-align: right;\">\n",
       "      <th></th>\n",
       "      <th>Trainset-ID</th>\n",
       "      <th>Experiment-ID</th>\n",
       "      <th>Subject-ID</th>\n",
       "      <th>Observer-ID</th>\n",
       "      <th>collectedByHand</th>\n",
       "      <th>Collector-ID</th>\n",
       "      <th>TimeStamp</th>\n",
       "      <th>RFID-ID</th>\n",
       "      <th>GRASP-A</th>\n",
       "      <th>GRASP-B</th>\n",
       "      <th>...</th>\n",
       "      <th>EZ</th>\n",
       "      <th>USERINPUT</th>\n",
       "      <th>HANDINGLOVE</th>\n",
       "      <th>Parcours-ID</th>\n",
       "      <th>Parcours-Step</th>\n",
       "      <th>Mutation-ID</th>\n",
       "      <th>Mutation/HandIsActive</th>\n",
       "      <th>Host-ID</th>\n",
       "      <th>Host/Spot-ID</th>\n",
       "      <th>Gesture-ID</th>\n",
       "    </tr>\n",
       "  </thead>\n",
       "  <tbody>\n",
       "    <tr>\n",
       "      <th>0</th>\n",
       "      <td>_TRAINSET14022017094616</td>\n",
       "      <td>E001</td>\n",
       "      <td>Andreas</td>\n",
       "      <td>Clemens</td>\n",
       "      <td>right</td>\n",
       "      <td>R01</td>\n",
       "      <td>0</td>\n",
       "      <td>000000000000</td>\n",
       "      <td>781</td>\n",
       "      <td>8</td>\n",
       "      <td>...</td>\n",
       "      <td>-81.9375</td>\n",
       "      <td>False</td>\n",
       "      <td>True</td>\n",
       "      <td>P101</td>\n",
       "      <td>1</td>\n",
       "      <td>M151</td>\n",
       "      <td>True</td>\n",
       "      <td>H008</td>\n",
       "      <td>NaN</td>\n",
       "      <td>G15</td>\n",
       "    </tr>\n",
       "    <tr>\n",
       "      <th>1</th>\n",
       "      <td>_TRAINSET14022017094616</td>\n",
       "      <td>E001</td>\n",
       "      <td>Andreas</td>\n",
       "      <td>Clemens</td>\n",
       "      <td>left</td>\n",
       "      <td>L01</td>\n",
       "      <td>19896</td>\n",
       "      <td>000000000000</td>\n",
       "      <td>212</td>\n",
       "      <td>213</td>\n",
       "      <td>...</td>\n",
       "      <td>-84.5625</td>\n",
       "      <td>False</td>\n",
       "      <td>False</td>\n",
       "      <td>P101</td>\n",
       "      <td>1</td>\n",
       "      <td>M151</td>\n",
       "      <td>False</td>\n",
       "      <td>NaN</td>\n",
       "      <td>NaN</td>\n",
       "      <td>NaN</td>\n",
       "    </tr>\n",
       "    <tr>\n",
       "      <th>2</th>\n",
       "      <td>_TRAINSET14022017094616</td>\n",
       "      <td>E001</td>\n",
       "      <td>Andreas</td>\n",
       "      <td>Clemens</td>\n",
       "      <td>right</td>\n",
       "      <td>R01</td>\n",
       "      <td>29001</td>\n",
       "      <td>000000000000</td>\n",
       "      <td>782</td>\n",
       "      <td>0</td>\n",
       "      <td>...</td>\n",
       "      <td>-81.9375</td>\n",
       "      <td>False</td>\n",
       "      <td>True</td>\n",
       "      <td>P101</td>\n",
       "      <td>1</td>\n",
       "      <td>M151</td>\n",
       "      <td>True</td>\n",
       "      <td>H008</td>\n",
       "      <td>NaN</td>\n",
       "      <td>G15</td>\n",
       "    </tr>\n",
       "    <tr>\n",
       "      <th>3</th>\n",
       "      <td>_TRAINSET14022017094616</td>\n",
       "      <td>E001</td>\n",
       "      <td>Andreas</td>\n",
       "      <td>Clemens</td>\n",
       "      <td>left</td>\n",
       "      <td>L01</td>\n",
       "      <td>29823</td>\n",
       "      <td>000000000000</td>\n",
       "      <td>179</td>\n",
       "      <td>185</td>\n",
       "      <td>...</td>\n",
       "      <td>-84.5625</td>\n",
       "      <td>False</td>\n",
       "      <td>False</td>\n",
       "      <td>P101</td>\n",
       "      <td>1</td>\n",
       "      <td>M151</td>\n",
       "      <td>False</td>\n",
       "      <td>NaN</td>\n",
       "      <td>NaN</td>\n",
       "      <td>NaN</td>\n",
       "    </tr>\n",
       "    <tr>\n",
       "      <th>4</th>\n",
       "      <td>_TRAINSET14022017094616</td>\n",
       "      <td>E001</td>\n",
       "      <td>Andreas</td>\n",
       "      <td>Clemens</td>\n",
       "      <td>right</td>\n",
       "      <td>R01</td>\n",
       "      <td>46136</td>\n",
       "      <td>000000000000</td>\n",
       "      <td>782</td>\n",
       "      <td>6</td>\n",
       "      <td>...</td>\n",
       "      <td>-81.8750</td>\n",
       "      <td>False</td>\n",
       "      <td>True</td>\n",
       "      <td>P101</td>\n",
       "      <td>1</td>\n",
       "      <td>M151</td>\n",
       "      <td>True</td>\n",
       "      <td>H008</td>\n",
       "      <td>NaN</td>\n",
       "      <td>G15</td>\n",
       "    </tr>\n",
       "  </tbody>\n",
       "</table>\n",
       "<p>5 rows × 26 columns</p>\n",
       "</div>"
      ],
      "text/plain": [
       "               Trainset-ID Experiment-ID Subject-ID Observer-ID  \\\n",
       "0  _TRAINSET14022017094616          E001    Andreas     Clemens   \n",
       "1  _TRAINSET14022017094616          E001    Andreas     Clemens   \n",
       "2  _TRAINSET14022017094616          E001    Andreas     Clemens   \n",
       "3  _TRAINSET14022017094616          E001    Andreas     Clemens   \n",
       "4  _TRAINSET14022017094616          E001    Andreas     Clemens   \n",
       "\n",
       "  collectedByHand Collector-ID  TimeStamp       RFID-ID  GRASP-A  GRASP-B  \\\n",
       "0           right          R01          0  000000000000      781        8   \n",
       "1            left          L01      19896  000000000000      212      213   \n",
       "2           right          R01      29001  000000000000      782        0   \n",
       "3            left          L01      29823  000000000000      179      185   \n",
       "4           right          R01      46136  000000000000      782        6   \n",
       "\n",
       "     ...           EZ  USERINPUT  HANDINGLOVE   Parcours-ID  Parcours-Step  \\\n",
       "0    ...     -81.9375      False         True          P101              1   \n",
       "1    ...     -84.5625      False        False          P101              1   \n",
       "2    ...     -81.9375      False         True          P101              1   \n",
       "3    ...     -84.5625      False        False          P101              1   \n",
       "4    ...     -81.8750      False         True          P101              1   \n",
       "\n",
       "   Mutation-ID   Mutation/HandIsActive Host-ID Host/Spot-ID Gesture-ID  \n",
       "0         M151                    True    H008          NaN        G15  \n",
       "1         M151                   False     NaN          NaN        NaN  \n",
       "2         M151                    True    H008          NaN        G15  \n",
       "3         M151                   False     NaN          NaN        NaN  \n",
       "4         M151                    True    H008          NaN        G15  \n",
       "\n",
       "[5 rows x 26 columns]"
      ]
     },
     "execution_count": 20,
     "metadata": {},
     "output_type": "execute_result"
    }
   ],
   "source": [
    "data.head()"
   ]
  },
  {
   "cell_type": "code",
   "execution_count": 21,
   "metadata": {
    "collapsed": false
   },
   "outputs": [
    {
     "data": {
      "text/plain": [
       "10"
      ]
     },
     "execution_count": 21,
     "metadata": {},
     "output_type": "execute_result"
    }
   ],
   "source": [
    "# how many hosts\n",
    "len(data['Host-ID'].unique())"
   ]
  },
  {
   "cell_type": "code",
   "execution_count": 22,
   "metadata": {
    "collapsed": false
   },
   "outputs": [
    {
     "data": {
      "text/plain": [
       "[nan, 'A', 'B', 'F']"
      ]
     },
     "execution_count": 22,
     "metadata": {},
     "output_type": "execute_result"
    }
   ],
   "source": [
    "# which Host Spots\n",
    "data['Host/Spot-ID'].unique().tolist()"
   ]
  },
  {
   "cell_type": "markdown",
   "metadata": {},
   "source": [
    "## Data Cleanup"
   ]
  },
  {
   "cell_type": "code",
   "execution_count": 23,
   "metadata": {
    "collapsed": false
   },
   "outputs": [
    {
     "name": "stdout",
     "output_type": "stream",
     "text": [
      "Renamed Trainset-ID -> Trainset\n",
      "Renamed Experiment-ID -> Experiment\n",
      "Renamed Subject-ID -> Subject\n",
      "Renamed Observer-ID -> Observer\n",
      "Renamed Collector-ID -> Collector\n",
      "Renamed RFID-ID -> RFID\n",
      "Renamed GRASP-A -> GRASP_A\n",
      "Renamed GRASP-B -> GRASP_B\n",
      "Renamed GRASP-C -> GRASP_C\n",
      "Renamed  Parcours-ID ->  Parcours\n",
      "Renamed  Parcours -> Parcours\n",
      "Renamed Parcours-Step -> Parcours_Step\n",
      "Renamed Mutation-ID -> Mutation\n",
      "Renamed  Mutation/HandIsActive -> Mutation/HandIsActive\n",
      "Renamed Host-ID -> Host\n",
      "Renamed Host/Spot-ID -> Host/Spot\n",
      "Renamed Gesture-ID -> Gesture\n"
     ]
    }
   ],
   "source": [
    "# rename some columns as the - in the column name does not allow for data.query()) to be used\n",
    "# cut off the \"-ID\" suffix, remove a leading space and replace - by _\n",
    "\n",
    "for col in data.columns:\n",
    "    if col.endswith('-ID'):\n",
    "        data.rename(columns={col: col[:-3]}, inplace=True)\n",
    "        print \"Renamed\", col, \"->\", col[:-3]\n",
    "        col = col[:-3]\n",
    "    if col.startswith(' '):\n",
    "        data.rename(columns={col: col[1:]}, inplace=True)\n",
    "        print \"Renamed\", col, \"->\", col[1:]\n",
    "        col = col[1:]\n",
    "    if '-' in col:\n",
    "        new_col = col.replace('-','_')\n",
    "        data.rename(columns={col: new_col}, inplace=True)\n",
    "        print \"Renamed\", col, \"->\", new_col"
   ]
  },
  {
   "cell_type": "code",
   "execution_count": 24,
   "metadata": {
    "collapsed": false
   },
   "outputs": [],
   "source": [
    "# remove rows that are not needed:\n",
    "# all where Gesture-ID is NaN  (implies 'Mutation/HandIsActive' == False and Host is NaN)\n",
    "\n",
    "data.dropna(axis=0, subset=['Gesture'], inplace=True)"
   ]
  },
  {
   "cell_type": "code",
   "execution_count": 25,
   "metadata": {
    "collapsed": false
   },
   "outputs": [],
   "source": [
    "# remove columns that we don't need\n",
    "# to be ignored as communicated by MOM\n",
    "cols_to_remove = ['USERINPUT', 'HANDINGLOVE', 'Observer','Collector',\n",
    "                  'Mutation/HandIsActive']\n",
    "# originally included: 'Trainset', 'RFID', 'Parcours_Step'\n",
    "\n",
    "data.drop(cols_to_remove,inplace=True,axis=1)"
   ]
  },
  {
   "cell_type": "code",
   "execution_count": 26,
   "metadata": {
    "collapsed": false
   },
   "outputs": [
    {
     "data": {
      "text/plain": [
       "(780299, 21)"
      ]
     },
     "execution_count": 26,
     "metadata": {},
     "output_type": "execute_result"
    }
   ],
   "source": [
    "data.shape"
   ]
  },
  {
   "cell_type": "code",
   "execution_count": 27,
   "metadata": {
    "collapsed": false
   },
   "outputs": [
    {
     "data": {
      "text/html": [
       "<div>\n",
       "<table border=\"1\" class=\"dataframe\">\n",
       "  <thead>\n",
       "    <tr style=\"text-align: right;\">\n",
       "      <th></th>\n",
       "      <th>Trainset</th>\n",
       "      <th>Experiment</th>\n",
       "      <th>Subject</th>\n",
       "      <th>collectedByHand</th>\n",
       "      <th>TimeStamp</th>\n",
       "      <th>RFID</th>\n",
       "      <th>GRASP_A</th>\n",
       "      <th>GRASP_B</th>\n",
       "      <th>GRASP_C</th>\n",
       "      <th>AX</th>\n",
       "      <th>...</th>\n",
       "      <th>AZ</th>\n",
       "      <th>EX</th>\n",
       "      <th>EY</th>\n",
       "      <th>EZ</th>\n",
       "      <th>Parcours</th>\n",
       "      <th>Parcours_Step</th>\n",
       "      <th>Mutation</th>\n",
       "      <th>Host</th>\n",
       "      <th>Host/Spot</th>\n",
       "      <th>Gesture</th>\n",
       "    </tr>\n",
       "  </thead>\n",
       "  <tbody>\n",
       "    <tr>\n",
       "      <th>0</th>\n",
       "      <td>_TRAINSET14022017094616</td>\n",
       "      <td>E001</td>\n",
       "      <td>Andreas</td>\n",
       "      <td>right</td>\n",
       "      <td>0</td>\n",
       "      <td>000000000000</td>\n",
       "      <td>781</td>\n",
       "      <td>8</td>\n",
       "      <td>797</td>\n",
       "      <td>0.06</td>\n",
       "      <td>...</td>\n",
       "      <td>-0.10</td>\n",
       "      <td>216.8125</td>\n",
       "      <td>9.0625</td>\n",
       "      <td>-81.9375</td>\n",
       "      <td>P101</td>\n",
       "      <td>1</td>\n",
       "      <td>M151</td>\n",
       "      <td>H008</td>\n",
       "      <td>NaN</td>\n",
       "      <td>G15</td>\n",
       "    </tr>\n",
       "    <tr>\n",
       "      <th>2</th>\n",
       "      <td>_TRAINSET14022017094616</td>\n",
       "      <td>E001</td>\n",
       "      <td>Andreas</td>\n",
       "      <td>right</td>\n",
       "      <td>29001</td>\n",
       "      <td>000000000000</td>\n",
       "      <td>782</td>\n",
       "      <td>0</td>\n",
       "      <td>799</td>\n",
       "      <td>0.09</td>\n",
       "      <td>...</td>\n",
       "      <td>-0.11</td>\n",
       "      <td>217.0625</td>\n",
       "      <td>9.0625</td>\n",
       "      <td>-81.9375</td>\n",
       "      <td>P101</td>\n",
       "      <td>1</td>\n",
       "      <td>M151</td>\n",
       "      <td>H008</td>\n",
       "      <td>NaN</td>\n",
       "      <td>G15</td>\n",
       "    </tr>\n",
       "    <tr>\n",
       "      <th>4</th>\n",
       "      <td>_TRAINSET14022017094616</td>\n",
       "      <td>E001</td>\n",
       "      <td>Andreas</td>\n",
       "      <td>right</td>\n",
       "      <td>46136</td>\n",
       "      <td>000000000000</td>\n",
       "      <td>782</td>\n",
       "      <td>6</td>\n",
       "      <td>798</td>\n",
       "      <td>0.12</td>\n",
       "      <td>...</td>\n",
       "      <td>0.09</td>\n",
       "      <td>217.4375</td>\n",
       "      <td>9.1250</td>\n",
       "      <td>-81.8750</td>\n",
       "      <td>P101</td>\n",
       "      <td>1</td>\n",
       "      <td>M151</td>\n",
       "      <td>H008</td>\n",
       "      <td>NaN</td>\n",
       "      <td>G15</td>\n",
       "    </tr>\n",
       "    <tr>\n",
       "      <th>6</th>\n",
       "      <td>_TRAINSET14022017094616</td>\n",
       "      <td>E001</td>\n",
       "      <td>Andreas</td>\n",
       "      <td>right</td>\n",
       "      <td>74902</td>\n",
       "      <td>000000000000</td>\n",
       "      <td>784</td>\n",
       "      <td>7</td>\n",
       "      <td>798</td>\n",
       "      <td>0.08</td>\n",
       "      <td>...</td>\n",
       "      <td>0.03</td>\n",
       "      <td>217.6250</td>\n",
       "      <td>9.1250</td>\n",
       "      <td>-81.8125</td>\n",
       "      <td>P101</td>\n",
       "      <td>1</td>\n",
       "      <td>M151</td>\n",
       "      <td>H008</td>\n",
       "      <td>NaN</td>\n",
       "      <td>G15</td>\n",
       "    </tr>\n",
       "    <tr>\n",
       "      <th>8</th>\n",
       "      <td>_TRAINSET14022017094616</td>\n",
       "      <td>E001</td>\n",
       "      <td>Andreas</td>\n",
       "      <td>right</td>\n",
       "      <td>97663</td>\n",
       "      <td>000000000000</td>\n",
       "      <td>781</td>\n",
       "      <td>0</td>\n",
       "      <td>798</td>\n",
       "      <td>0.07</td>\n",
       "      <td>...</td>\n",
       "      <td>0.04</td>\n",
       "      <td>217.9375</td>\n",
       "      <td>9.1875</td>\n",
       "      <td>-81.7500</td>\n",
       "      <td>P101</td>\n",
       "      <td>1</td>\n",
       "      <td>M151</td>\n",
       "      <td>H008</td>\n",
       "      <td>NaN</td>\n",
       "      <td>G15</td>\n",
       "    </tr>\n",
       "  </tbody>\n",
       "</table>\n",
       "<p>5 rows × 21 columns</p>\n",
       "</div>"
      ],
      "text/plain": [
       "                  Trainset Experiment  Subject collectedByHand  TimeStamp  \\\n",
       "0  _TRAINSET14022017094616       E001  Andreas           right          0   \n",
       "2  _TRAINSET14022017094616       E001  Andreas           right      29001   \n",
       "4  _TRAINSET14022017094616       E001  Andreas           right      46136   \n",
       "6  _TRAINSET14022017094616       E001  Andreas           right      74902   \n",
       "8  _TRAINSET14022017094616       E001  Andreas           right      97663   \n",
       "\n",
       "           RFID  GRASP_A  GRASP_B  GRASP_C    AX   ...      AZ        EX  \\\n",
       "0  000000000000      781        8      797  0.06   ...   -0.10  216.8125   \n",
       "2  000000000000      782        0      799  0.09   ...   -0.11  217.0625   \n",
       "4  000000000000      782        6      798  0.12   ...    0.09  217.4375   \n",
       "6  000000000000      784        7      798  0.08   ...    0.03  217.6250   \n",
       "8  000000000000      781        0      798  0.07   ...    0.04  217.9375   \n",
       "\n",
       "       EY       EZ  Parcours Parcours_Step  Mutation  Host Host/Spot Gesture  \n",
       "0  9.0625 -81.9375      P101             1      M151  H008       NaN     G15  \n",
       "2  9.0625 -81.9375      P101             1      M151  H008       NaN     G15  \n",
       "4  9.1250 -81.8750      P101             1      M151  H008       NaN     G15  \n",
       "6  9.1250 -81.8125      P101             1      M151  H008       NaN     G15  \n",
       "8  9.1875 -81.7500      P101             1      M151  H008       NaN     G15  \n",
       "\n",
       "[5 rows x 21 columns]"
      ]
     },
     "execution_count": 27,
     "metadata": {},
     "output_type": "execute_result"
    }
   ],
   "source": [
    "data.head()"
   ]
  },
  {
   "cell_type": "code",
   "execution_count": 28,
   "metadata": {
    "collapsed": false
   },
   "outputs": [
    {
     "data": {
      "text/plain": [
       "['right', 'left']"
      ]
     },
     "execution_count": 28,
     "metadata": {},
     "output_type": "execute_result"
    }
   ],
   "source": [
    "# also in this evaluation, we use only one-hand devices and only people who are right-handers\n",
    "data['collectedByHand'].unique().tolist()"
   ]
  },
  {
   "cell_type": "code",
   "execution_count": 29,
   "metadata": {
    "collapsed": false
   },
   "outputs": [
    {
     "data": {
      "text/plain": [
       "711360"
      ]
     },
     "execution_count": 29,
     "metadata": {},
     "output_type": "execute_result"
    }
   ],
   "source": [
    "# right hand data rows\n",
    "sum(data['collectedByHand']=='right')"
   ]
  },
  {
   "cell_type": "code",
   "execution_count": 30,
   "metadata": {
    "collapsed": false
   },
   "outputs": [
    {
     "data": {
      "text/plain": [
       "68939"
      ]
     },
     "execution_count": 30,
     "metadata": {},
     "output_type": "execute_result"
    }
   ],
   "source": [
    "# left hand data rows\n",
    "sum(data['collectedByHand']=='left')"
   ]
  },
  {
   "cell_type": "code",
   "execution_count": 31,
   "metadata": {
    "collapsed": false
   },
   "outputs": [
    {
     "data": {
      "text/plain": [
       "(711360, 21)"
      ]
     },
     "execution_count": 31,
     "metadata": {},
     "output_type": "execute_result"
    }
   ],
   "source": [
    "# REMOVE left hand data, keep only right hand\n",
    "data = data[data['collectedByHand']=='right']\n",
    "data.shape"
   ]
  },
  {
   "cell_type": "code",
   "execution_count": 32,
   "metadata": {
    "collapsed": true
   },
   "outputs": [],
   "source": [
    "# REMOVE column collectedByHand \n",
    "del data['collectedByHand']"
   ]
  },
  {
   "cell_type": "markdown",
   "metadata": {},
   "source": [
    "### Convert Columns with String IDs to numbers, for later improved efficiency"
   ]
  },
  {
   "cell_type": "code",
   "execution_count": 34,
   "metadata": {
    "collapsed": true
   },
   "outputs": [],
   "source": [
    "def str_to_int(string):\n",
    "    '''cut away first character and convert to int - used to convert Gesture IDs like \"G01\" to 1'''\n",
    "    return int(string[1:])"
   ]
  },
  {
   "cell_type": "code",
   "execution_count": 35,
   "metadata": {
    "collapsed": false
   },
   "outputs": [],
   "source": [
    "cols_to_convert = ['Experiment','Parcours','Mutation','Host','Gesture']\n",
    "\n",
    "for c in cols_to_convert:\n",
    "    data[c] = data[c].apply(str_to_int)"
   ]
  },
  {
   "cell_type": "code",
   "execution_count": 36,
   "metadata": {
    "collapsed": false
   },
   "outputs": [
    {
     "data": {
      "text/html": [
       "<div>\n",
       "<table border=\"1\" class=\"dataframe\">\n",
       "  <thead>\n",
       "    <tr style=\"text-align: right;\">\n",
       "      <th></th>\n",
       "      <th>Trainset</th>\n",
       "      <th>Experiment</th>\n",
       "      <th>Subject</th>\n",
       "      <th>TimeStamp</th>\n",
       "      <th>RFID</th>\n",
       "      <th>GRASP_A</th>\n",
       "      <th>GRASP_B</th>\n",
       "      <th>GRASP_C</th>\n",
       "      <th>AX</th>\n",
       "      <th>AY</th>\n",
       "      <th>AZ</th>\n",
       "      <th>EX</th>\n",
       "      <th>EY</th>\n",
       "      <th>EZ</th>\n",
       "      <th>Parcours</th>\n",
       "      <th>Parcours_Step</th>\n",
       "      <th>Mutation</th>\n",
       "      <th>Host</th>\n",
       "      <th>Host/Spot</th>\n",
       "      <th>Gesture</th>\n",
       "    </tr>\n",
       "  </thead>\n",
       "  <tbody>\n",
       "    <tr>\n",
       "      <th>0</th>\n",
       "      <td>_TRAINSET14022017094616</td>\n",
       "      <td>1</td>\n",
       "      <td>Andreas</td>\n",
       "      <td>0</td>\n",
       "      <td>000000000000</td>\n",
       "      <td>781</td>\n",
       "      <td>8</td>\n",
       "      <td>797</td>\n",
       "      <td>0.06</td>\n",
       "      <td>-0.02</td>\n",
       "      <td>-0.10</td>\n",
       "      <td>216.8125</td>\n",
       "      <td>9.0625</td>\n",
       "      <td>-81.9375</td>\n",
       "      <td>101</td>\n",
       "      <td>1</td>\n",
       "      <td>151</td>\n",
       "      <td>8</td>\n",
       "      <td>NaN</td>\n",
       "      <td>15</td>\n",
       "    </tr>\n",
       "    <tr>\n",
       "      <th>2</th>\n",
       "      <td>_TRAINSET14022017094616</td>\n",
       "      <td>1</td>\n",
       "      <td>Andreas</td>\n",
       "      <td>29001</td>\n",
       "      <td>000000000000</td>\n",
       "      <td>782</td>\n",
       "      <td>0</td>\n",
       "      <td>799</td>\n",
       "      <td>0.09</td>\n",
       "      <td>-0.04</td>\n",
       "      <td>-0.11</td>\n",
       "      <td>217.0625</td>\n",
       "      <td>9.0625</td>\n",
       "      <td>-81.9375</td>\n",
       "      <td>101</td>\n",
       "      <td>1</td>\n",
       "      <td>151</td>\n",
       "      <td>8</td>\n",
       "      <td>NaN</td>\n",
       "      <td>15</td>\n",
       "    </tr>\n",
       "    <tr>\n",
       "      <th>4</th>\n",
       "      <td>_TRAINSET14022017094616</td>\n",
       "      <td>1</td>\n",
       "      <td>Andreas</td>\n",
       "      <td>46136</td>\n",
       "      <td>000000000000</td>\n",
       "      <td>782</td>\n",
       "      <td>6</td>\n",
       "      <td>798</td>\n",
       "      <td>0.12</td>\n",
       "      <td>-0.09</td>\n",
       "      <td>0.09</td>\n",
       "      <td>217.4375</td>\n",
       "      <td>9.1250</td>\n",
       "      <td>-81.8750</td>\n",
       "      <td>101</td>\n",
       "      <td>1</td>\n",
       "      <td>151</td>\n",
       "      <td>8</td>\n",
       "      <td>NaN</td>\n",
       "      <td>15</td>\n",
       "    </tr>\n",
       "    <tr>\n",
       "      <th>6</th>\n",
       "      <td>_TRAINSET14022017094616</td>\n",
       "      <td>1</td>\n",
       "      <td>Andreas</td>\n",
       "      <td>74902</td>\n",
       "      <td>000000000000</td>\n",
       "      <td>784</td>\n",
       "      <td>7</td>\n",
       "      <td>798</td>\n",
       "      <td>0.08</td>\n",
       "      <td>-0.08</td>\n",
       "      <td>0.03</td>\n",
       "      <td>217.6250</td>\n",
       "      <td>9.1250</td>\n",
       "      <td>-81.8125</td>\n",
       "      <td>101</td>\n",
       "      <td>1</td>\n",
       "      <td>151</td>\n",
       "      <td>8</td>\n",
       "      <td>NaN</td>\n",
       "      <td>15</td>\n",
       "    </tr>\n",
       "    <tr>\n",
       "      <th>8</th>\n",
       "      <td>_TRAINSET14022017094616</td>\n",
       "      <td>1</td>\n",
       "      <td>Andreas</td>\n",
       "      <td>97663</td>\n",
       "      <td>000000000000</td>\n",
       "      <td>781</td>\n",
       "      <td>0</td>\n",
       "      <td>798</td>\n",
       "      <td>0.07</td>\n",
       "      <td>-0.09</td>\n",
       "      <td>0.04</td>\n",
       "      <td>217.9375</td>\n",
       "      <td>9.1875</td>\n",
       "      <td>-81.7500</td>\n",
       "      <td>101</td>\n",
       "      <td>1</td>\n",
       "      <td>151</td>\n",
       "      <td>8</td>\n",
       "      <td>NaN</td>\n",
       "      <td>15</td>\n",
       "    </tr>\n",
       "  </tbody>\n",
       "</table>\n",
       "</div>"
      ],
      "text/plain": [
       "                  Trainset  Experiment  Subject  TimeStamp          RFID  \\\n",
       "0  _TRAINSET14022017094616           1  Andreas          0  000000000000   \n",
       "2  _TRAINSET14022017094616           1  Andreas      29001  000000000000   \n",
       "4  _TRAINSET14022017094616           1  Andreas      46136  000000000000   \n",
       "6  _TRAINSET14022017094616           1  Andreas      74902  000000000000   \n",
       "8  _TRAINSET14022017094616           1  Andreas      97663  000000000000   \n",
       "\n",
       "   GRASP_A  GRASP_B  GRASP_C    AX    AY    AZ        EX      EY       EZ  \\\n",
       "0      781        8      797  0.06 -0.02 -0.10  216.8125  9.0625 -81.9375   \n",
       "2      782        0      799  0.09 -0.04 -0.11  217.0625  9.0625 -81.9375   \n",
       "4      782        6      798  0.12 -0.09  0.09  217.4375  9.1250 -81.8750   \n",
       "6      784        7      798  0.08 -0.08  0.03  217.6250  9.1250 -81.8125   \n",
       "8      781        0      798  0.07 -0.09  0.04  217.9375  9.1875 -81.7500   \n",
       "\n",
       "   Parcours  Parcours_Step  Mutation  Host Host/Spot  Gesture  \n",
       "0       101              1       151     8       NaN       15  \n",
       "2       101              1       151     8       NaN       15  \n",
       "4       101              1       151     8       NaN       15  \n",
       "6       101              1       151     8       NaN       15  \n",
       "8       101              1       151     8       NaN       15  "
      ]
     },
     "execution_count": 36,
     "metadata": {},
     "output_type": "execute_result"
    }
   ],
   "source": [
    "data.head()"
   ]
  },
  {
   "cell_type": "code",
   "execution_count": 37,
   "metadata": {
    "collapsed": false
   },
   "outputs": [
    {
     "data": {
      "text/plain": [
       "Index([u'Trainset', u'Experiment', u'Subject', u'TimeStamp', u'RFID',\n",
       "       u'GRASP_A', u'GRASP_B', u'GRASP_C', u'AX', u'AY', u'AZ', u'EX', u'EY',\n",
       "       u'EZ', u'Parcours', u'Parcours_Step', u'Mutation', u'Host',\n",
       "       u'Host/Spot', u'Gesture'],\n",
       "      dtype='object')"
      ]
     },
     "execution_count": 37,
     "metadata": {},
     "output_type": "execute_result"
    }
   ],
   "source": [
    "data.columns"
   ]
  },
  {
   "cell_type": "markdown",
   "metadata": {},
   "source": [
    "## Export preprocessed Data"
   ]
  },
  {
   "cell_type": "code",
   "execution_count": 38,
   "metadata": {
    "collapsed": true
   },
   "outputs": [],
   "source": [
    "data.to_csv(csv_file_out, index=False) # index=False means to omit the numeric index column"
   ]
  }
 ],
 "metadata": {
  "kernelspec": {
   "display_name": "Python 2",
   "language": "python",
   "name": "python2"
  },
  "language_info": {
   "codemirror_mode": {
    "name": "ipython",
    "version": 2
   },
   "file_extension": ".py",
   "mimetype": "text/x-python",
   "name": "python",
   "nbconvert_exporter": "python",
   "pygments_lexer": "ipython2",
   "version": "2.7.12"
  }
 },
 "nbformat": 4,
 "nbformat_minor": 0
}
