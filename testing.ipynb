{
 "cells": [
  {
   "cell_type": "markdown",
   "metadata": {},
   "source": [
    "# Make-o-Matic Gesture Recognition\n",
    "\n",
    "## Part 2: Testing\n",
    "\n",
    "2017 by Thomas Lidy, TU Wien\n",
    "\n",
    "### Requirements\n",
    "\n",
    "Python 2.7\n",
    "\n",
    "pip install -r requirements.txt\n",
    "\n",
    "Tested on OS: Ubuntu 16.04.3 LTS"
   ]
  },
  {
   "cell_type": "code",
   "execution_count": 1,
   "metadata": {
    "collapsed": true
   },
   "outputs": [],
   "source": [
    "import numpy as np\n",
    "import pandas as pd\n",
    "import json\n",
    "import time # for time measuring\n",
    "import datetime # for time printing\n",
    "\n",
    "from scipy import stats\n",
    "from scipy.signal import resample\n",
    "from collections import Counter # for majority vote\n",
    "from collections import OrderedDict # for color palette\n",
    "\n",
    "# plotting\n",
    "import matplotlib\n",
    "import matplotlib.pyplot as plt\n",
    "%matplotlib inline  \n",
    "\n",
    "# Machine Learning\n",
    "from sklearn import preprocessing, svm\n",
    "from sklearn.multiclass import OneVsRestClassifier\n",
    "from sklearn.svm import SVC\n",
    "\n",
    "from sklearn.model_selection import StratifiedShuffleSplit\n",
    "from sklearn.metrics import accuracy_score, precision_score, recall_score, f1_score, confusion_matrix"
   ]
  },
  {
   "cell_type": "code",
   "execution_count": 2,
   "metadata": {
    "collapsed": true
   },
   "outputs": [],
   "source": [
    "def str_to_int(string):\n",
    "    '''cut away first character and convert to int - used to convert Gesture IDs like \"G01\" to 1'''\n",
    "    return int(string[1:])"
   ]
  },
  {
   "cell_type": "code",
   "execution_count": 3,
   "metadata": {
    "collapsed": true
   },
   "outputs": [],
   "source": [
    "def timestr(seconds):\n",
    "    ''' returns HH:MM:ss formatted time string for given seconds\n",
    "    (seconds can be a float with milliseconds included, but only the integer part will be used)\n",
    "    :return: string\n",
    "    '''\n",
    "    return str(datetime.timedelta(seconds=int(seconds)))"
   ]
  },
  {
   "cell_type": "markdown",
   "metadata": {},
   "source": [
    "## Read Data"
   ]
  },
  {
   "cell_type": "code",
   "execution_count": 4,
   "metadata": {
    "collapsed": false
   },
   "outputs": [],
   "source": [
    "# main data\n",
    "\n",
    "# original input\n",
    "#csv_file = 'data/EXPORT_09042017173622.csv'\n",
    "\n",
    "# preprocessed input\n",
    "csv_file = 'data/EXPORT_09042017173622_preprocessed.csv'\n",
    "\n",
    "\n",
    "# json files to translate gestures, parcours into long text\n",
    "#gestures_file = 'data/gestures.json' # this is the file edited manually by us to conform to json\n",
    "gestures_file = 'data/gestures.json.orig' # this is the file edited manually by us to conform to json\n",
    "parcours_file = 'data/parcours.json'\n",
    "mutations_file = 'data/mutations.json'\n",
    "\n",
    "files = (gestures_file, parcours_file, mutations_file)\n",
    "dataframes = []\n",
    "\n",
    "# NOTE THAT THESE JSON FILES ARE NOT JSON CONFORM\n",
    "# each line is a json string on its own, so we need to process the json line by line and combine THEN into a list"
   ]
  },
  {
   "cell_type": "code",
   "execution_count": 5,
   "metadata": {
    "collapsed": true
   },
   "outputs": [],
   "source": [
    "def get_oid(oid_dict):\n",
    "    # get from the original representation {u'$oid': u'589c8ed31337b5ab1e1be121'} just the oid\n",
    "    return oid_dict['$oid']"
   ]
  },
  {
   "cell_type": "code",
   "execution_count": 6,
   "metadata": {
    "collapsed": false
   },
   "outputs": [],
   "source": [
    "# get meta-files with descriptions of gestures, parcours and mutations\n",
    "for filename in files:\n",
    "    with open(filename) as f:\n",
    "        lines = [line.rstrip('\\n') for line in f]   # .decode(\"utf-8\")\n",
    "\n",
    "    lines = [json.loads(line) for line in lines]\n",
    "    \n",
    "    # convert list of json lines into Dataframe\n",
    "    df = pd.DataFrame.from_dict(lines)\n",
    "    \n",
    "    # convert long $oid to short\n",
    "    df['_id'] = df['_id'].apply(get_oid)\n",
    "    \n",
    "    # set the real id\n",
    "    df.set_index('id', inplace=True)\n",
    "    \n",
    "    # convert index (ID) from string like 'G01' to int\n",
    "    df.index = df.index.map(str_to_int)\n",
    "    \n",
    "    dataframes.append(df)"
   ]
  },
  {
   "cell_type": "code",
   "execution_count": 7,
   "metadata": {
    "collapsed": false
   },
   "outputs": [],
   "source": [
    "(gestures_df, parcours_df, mutations_df) = tuple(dataframes)"
   ]
  },
  {
   "cell_type": "code",
   "execution_count": 8,
   "metadata": {
    "collapsed": false,
    "scrolled": false
   },
   "outputs": [
    {
     "data": {
      "text/html": [
       "<div>\n",
       "<table border=\"1\" class=\"dataframe\">\n",
       "  <thead>\n",
       "    <tr style=\"text-align: right;\">\n",
       "      <th></th>\n",
       "      <th>_id</th>\n",
       "      <th>isGarbage</th>\n",
       "      <th>isNesture</th>\n",
       "      <th>name</th>\n",
       "      <th>slug</th>\n",
       "    </tr>\n",
       "  </thead>\n",
       "  <tbody>\n",
       "    <tr>\n",
       "      <th>1</th>\n",
       "      <td>58a23a22d826756404709446</td>\n",
       "      <td>NaN</td>\n",
       "      <td>NaN</td>\n",
       "      <td>Single Rotation klein rechtsrum</td>\n",
       "      <td>rssr</td>\n",
       "    </tr>\n",
       "    <tr>\n",
       "      <th>2</th>\n",
       "      <td>58a23a22d826756404709447</td>\n",
       "      <td>NaN</td>\n",
       "      <td>NaN</td>\n",
       "      <td>Single Rotation klein linksrum</td>\n",
       "      <td>rssl</td>\n",
       "    </tr>\n",
       "    <tr>\n",
       "      <th>3</th>\n",
       "      <td>58a23a22d826756404709448</td>\n",
       "      <td>NaN</td>\n",
       "      <td>NaN</td>\n",
       "      <td>Oszillierende Rotation klein rechtsrum</td>\n",
       "      <td>rosr</td>\n",
       "    </tr>\n",
       "    <tr>\n",
       "      <th>4</th>\n",
       "      <td>58a23a22d826756404709449</td>\n",
       "      <td>NaN</td>\n",
       "      <td>NaN</td>\n",
       "      <td>Oszillierende Rotation klein linksrum</td>\n",
       "      <td>rosl</td>\n",
       "    </tr>\n",
       "    <tr>\n",
       "      <th>5</th>\n",
       "      <td>58a23a22d82675640470944a</td>\n",
       "      <td>NaN</td>\n",
       "      <td>NaN</td>\n",
       "      <td>Single Rotation groß rechtsrum</td>\n",
       "      <td>rsbr</td>\n",
       "    </tr>\n",
       "    <tr>\n",
       "      <th>6</th>\n",
       "      <td>58a23a22d82675640470944b</td>\n",
       "      <td>NaN</td>\n",
       "      <td>NaN</td>\n",
       "      <td>Single Rotation groß linksrum</td>\n",
       "      <td>rsbl</td>\n",
       "    </tr>\n",
       "    <tr>\n",
       "      <th>7</th>\n",
       "      <td>58a23a22d82675640470944c</td>\n",
       "      <td>NaN</td>\n",
       "      <td>NaN</td>\n",
       "      <td>Oszillierende Rotation groß rechtsrum</td>\n",
       "      <td>robr</td>\n",
       "    </tr>\n",
       "    <tr>\n",
       "      <th>8</th>\n",
       "      <td>58a23a22d82675640470944d</td>\n",
       "      <td>NaN</td>\n",
       "      <td>NaN</td>\n",
       "      <td>Oszillierende Rotation groß linksrum</td>\n",
       "      <td>robl</td>\n",
       "    </tr>\n",
       "    <tr>\n",
       "      <th>9</th>\n",
       "      <td>58a23a22d82675640470944e</td>\n",
       "      <td>NaN</td>\n",
       "      <td>NaN</td>\n",
       "      <td>Kontinuierliche Rotation groß rechtsrum</td>\n",
       "      <td>rcbr</td>\n",
       "    </tr>\n",
       "    <tr>\n",
       "      <th>10</th>\n",
       "      <td>58a23a22d82675640470944f</td>\n",
       "      <td>NaN</td>\n",
       "      <td>NaN</td>\n",
       "      <td>Kontinuierliche Rotation groß linksrum</td>\n",
       "      <td>rcbl</td>\n",
       "    </tr>\n",
       "    <tr>\n",
       "      <th>11</th>\n",
       "      <td>58a23a22d826756404709450</td>\n",
       "      <td>NaN</td>\n",
       "      <td>NaN</td>\n",
       "      <td>LinearMovement Single</td>\n",
       "      <td>lms</td>\n",
       "    </tr>\n",
       "    <tr>\n",
       "      <th>12</th>\n",
       "      <td>58a23a22d826756404709451</td>\n",
       "      <td>NaN</td>\n",
       "      <td>NaN</td>\n",
       "      <td>LinearMovement Oszillierend</td>\n",
       "      <td>lmo</td>\n",
       "    </tr>\n",
       "    <tr>\n",
       "      <th>13</th>\n",
       "      <td>58a23a22d826756404709452</td>\n",
       "      <td>NaN</td>\n",
       "      <td>NaN</td>\n",
       "      <td>Drücken</td>\n",
       "      <td>pb</td>\n",
       "    </tr>\n",
       "    <tr>\n",
       "      <th>14</th>\n",
       "      <td>58a23a22d826756404709453</td>\n",
       "      <td>True</td>\n",
       "      <td>True</td>\n",
       "      <td>Rest</td>\n",
       "      <td>rest</td>\n",
       "    </tr>\n",
       "    <tr>\n",
       "      <th>15</th>\n",
       "      <td>58a23a22d826756404709454</td>\n",
       "      <td>NaN</td>\n",
       "      <td>True</td>\n",
       "      <td>Greifen</td>\n",
       "      <td>grasp</td>\n",
       "    </tr>\n",
       "    <tr>\n",
       "      <th>16</th>\n",
       "      <td>58a23a22d826756404709455</td>\n",
       "      <td>NaN</td>\n",
       "      <td>True</td>\n",
       "      <td>Positionieren</td>\n",
       "      <td>pos</td>\n",
       "    </tr>\n",
       "    <tr>\n",
       "      <th>17</th>\n",
       "      <td>58a23a22d826756404709456</td>\n",
       "      <td>NaN</td>\n",
       "      <td>True</td>\n",
       "      <td>Umgreifen</td>\n",
       "      <td>regr</td>\n",
       "    </tr>\n",
       "    <tr>\n",
       "      <th>18</th>\n",
       "      <td>58a23a22d826756404709457</td>\n",
       "      <td>NaN</td>\n",
       "      <td>True</td>\n",
       "      <td>Ablegen</td>\n",
       "      <td>release</td>\n",
       "    </tr>\n",
       "  </tbody>\n",
       "</table>\n",
       "</div>"
      ],
      "text/plain": [
       "                         _id isGarbage isNesture  \\\n",
       "1   58a23a22d826756404709446       NaN       NaN   \n",
       "2   58a23a22d826756404709447       NaN       NaN   \n",
       "3   58a23a22d826756404709448       NaN       NaN   \n",
       "4   58a23a22d826756404709449       NaN       NaN   \n",
       "5   58a23a22d82675640470944a       NaN       NaN   \n",
       "6   58a23a22d82675640470944b       NaN       NaN   \n",
       "7   58a23a22d82675640470944c       NaN       NaN   \n",
       "8   58a23a22d82675640470944d       NaN       NaN   \n",
       "9   58a23a22d82675640470944e       NaN       NaN   \n",
       "10  58a23a22d82675640470944f       NaN       NaN   \n",
       "11  58a23a22d826756404709450       NaN       NaN   \n",
       "12  58a23a22d826756404709451       NaN       NaN   \n",
       "13  58a23a22d826756404709452       NaN       NaN   \n",
       "14  58a23a22d826756404709453      True      True   \n",
       "15  58a23a22d826756404709454       NaN      True   \n",
       "16  58a23a22d826756404709455       NaN      True   \n",
       "17  58a23a22d826756404709456       NaN      True   \n",
       "18  58a23a22d826756404709457       NaN      True   \n",
       "\n",
       "                                       name     slug  \n",
       "1           Single Rotation klein rechtsrum     rssr  \n",
       "2            Single Rotation klein linksrum     rssl  \n",
       "3    Oszillierende Rotation klein rechtsrum     rosr  \n",
       "4     Oszillierende Rotation klein linksrum     rosl  \n",
       "5            Single Rotation groß rechtsrum     rsbr  \n",
       "6             Single Rotation groß linksrum     rsbl  \n",
       "7     Oszillierende Rotation groß rechtsrum     robr  \n",
       "8      Oszillierende Rotation groß linksrum     robl  \n",
       "9   Kontinuierliche Rotation groß rechtsrum     rcbr  \n",
       "10   Kontinuierliche Rotation groß linksrum     rcbl  \n",
       "11                    LinearMovement Single      lms  \n",
       "12              LinearMovement Oszillierend      lmo  \n",
       "13                                  Drücken       pb  \n",
       "14                                     Rest     rest  \n",
       "15                                  Greifen    grasp  \n",
       "16                            Positionieren      pos  \n",
       "17                                Umgreifen     regr  \n",
       "18                                  Ablegen  release  "
      ]
     },
     "execution_count": 8,
     "metadata": {},
     "output_type": "execute_result"
    }
   ],
   "source": [
    "gestures_df"
   ]
  },
  {
   "cell_type": "code",
   "execution_count": 9,
   "metadata": {
    "collapsed": false
   },
   "outputs": [],
   "source": [
    "#gestures_df.to_csv('data/gestures.csv', sep=';', encoding='utf-8')"
   ]
  },
  {
   "cell_type": "code",
   "execution_count": 10,
   "metadata": {
    "collapsed": false
   },
   "outputs": [
    {
     "data": {
      "text/plain": [
       "[1, 2, 3, 4, 5, 6, 7, 8, 9, 10, 11, 12, 13]"
      ]
     },
     "execution_count": 10,
     "metadata": {},
     "output_type": "execute_result"
    }
   ],
   "source": [
    "# \"positive\" gestures to recognize (not nestures)\n",
    "gestures_pos = gestures_df[gestures_df['isNesture'] != True].index.tolist()\n",
    "gestures_pos"
   ]
  },
  {
   "cell_type": "code",
   "execution_count": 11,
   "metadata": {
    "collapsed": false
   },
   "outputs": [
    {
     "data": {
      "text/plain": [
       "[14, 15, 16, 17, 18]"
      ]
     },
     "execution_count": 11,
     "metadata": {},
     "output_type": "execute_result"
    }
   ],
   "source": [
    "# \"negative\" gestures (nestures)\n",
    "gestures_neg = gestures_df[gestures_df['isNesture'] == True].index.tolist()\n",
    "nestures = gestures_neg # synonym\n",
    "gestures_neg"
   ]
  },
  {
   "cell_type": "code",
   "execution_count": 12,
   "metadata": {
    "collapsed": false
   },
   "outputs": [
    {
     "data": {
      "text/html": [
       "<div>\n",
       "<table border=\"1\" class=\"dataframe\">\n",
       "  <thead>\n",
       "    <tr style=\"text-align: right;\">\n",
       "      <th></th>\n",
       "      <th>_id</th>\n",
       "      <th>comment</th>\n",
       "      <th>exercises</th>\n",
       "      <th>pose</th>\n",
       "    </tr>\n",
       "  </thead>\n",
       "  <tbody>\n",
       "    <tr>\n",
       "      <th>101</th>\n",
       "      <td>589c897d1337b5ab1e1be118</td>\n",
       "      <td>Zwinge X locker rechtsdrehen einzeln 5x</td>\n",
       "      <td>[{u'signal': {u'beep': True}, u'mutation': {u'...</td>\n",
       "      <td>{u'start': u'Host 008 ist auf Werkbank fixiert...</td>\n",
       "    </tr>\n",
       "    <tr>\n",
       "      <th>102</th>\n",
       "      <td>589c8ba71337b5ab1e1be11c</td>\n",
       "      <td>Zwinge X locker linksdrehen einzeln 5x</td>\n",
       "      <td>[{u'signal': {u'beep': True}, u'mutation': {u'...</td>\n",
       "      <td>{u'start': u'Host 008 ist auf Werkbank fixiert...</td>\n",
       "    </tr>\n",
       "    <tr>\n",
       "      <th>103</th>\n",
       "      <td>589c8dbd1337b5ab1e1be11f</td>\n",
       "      <td>Zwinge X locker rechts- und linksdrehen einzel...</td>\n",
       "      <td>[{u'signal': {u'beep': True}, u'mutation': {u'...</td>\n",
       "      <td>{u'start': u'Host 008 ist auf Werkbank fixiert...</td>\n",
       "    </tr>\n",
       "    <tr>\n",
       "      <th>104</th>\n",
       "      <td>589c8ed31337b5ab1e1be121</td>\n",
       "      <td>Zwinge X fest links- und rechtsdrehen einzeln 5x</td>\n",
       "      <td>[{u'signal': {u'beep': True}, u'mutation': {u'...</td>\n",
       "      <td>{u'start': u'Host 008 ist auf Werkbank fixiert...</td>\n",
       "    </tr>\n",
       "    <tr>\n",
       "      <th>105</th>\n",
       "      <td>589c8fcc1337b5ab1e1be125</td>\n",
       "      <td>Zwinge X oszilierend linksdrehen</td>\n",
       "      <td>[{u'signal': {u'beep': True}, u'mutation': {u'...</td>\n",
       "      <td>{u'start': u'Host 008 ist auf Werkbank fixiert...</td>\n",
       "    </tr>\n",
       "    <tr>\n",
       "      <th>106</th>\n",
       "      <td>589c901a1337b5ab1e1be127</td>\n",
       "      <td>Zwinge X oszilierend rechtsdrehen</td>\n",
       "      <td>[{u'signal': {u'beep': True}, u'mutation': {u'...</td>\n",
       "      <td>{u'start': u'Host 008 ist auf Werkbank fixiert...</td>\n",
       "    </tr>\n",
       "    <tr>\n",
       "      <th>107</th>\n",
       "      <td>589c90e31337b5ab1e1be12c</td>\n",
       "      <td>Zwinge Y locker rechtsdrehen einzeln 5x</td>\n",
       "      <td>[{u'signal': {u'beep': True}, u'mutation': {u'...</td>\n",
       "      <td>{u'start': u'Host 008 ist auf Werkbank fixiert...</td>\n",
       "    </tr>\n",
       "    <tr>\n",
       "      <th>108</th>\n",
       "      <td>589c911c1337b5ab1e1be12e</td>\n",
       "      <td>Zwinge Y locker linksdrehen einzeln 5x</td>\n",
       "      <td>[{u'signal': {u'beep': True}, u'mutation': {u'...</td>\n",
       "      <td>{u'start': u'Host 008 ist auf Werkbank fixiert...</td>\n",
       "    </tr>\n",
       "    <tr>\n",
       "      <th>109</th>\n",
       "      <td>589c91961337b5ab1e1be132</td>\n",
       "      <td>Zwinge Y locker rechts- und linksdrehen einzel...</td>\n",
       "      <td>[{u'signal': {u'beep': True}, u'mutation': {u'...</td>\n",
       "      <td>{u'start': u'Host 008 ist auf Werkbank fixiert...</td>\n",
       "    </tr>\n",
       "    <tr>\n",
       "      <th>110</th>\n",
       "      <td>589c92351337b5ab1e1be134</td>\n",
       "      <td>Zwinge Y fest links- und rechtsdrehen einzeln 5x</td>\n",
       "      <td>[{u'signal': {u'beep': True}, u'mutation': {u'...</td>\n",
       "      <td>{u'start': u'Host 008 ist auf Werkbank fixiert...</td>\n",
       "    </tr>\n",
       "  </tbody>\n",
       "</table>\n",
       "</div>"
      ],
      "text/plain": [
       "                          _id  \\\n",
       "101  589c897d1337b5ab1e1be118   \n",
       "102  589c8ba71337b5ab1e1be11c   \n",
       "103  589c8dbd1337b5ab1e1be11f   \n",
       "104  589c8ed31337b5ab1e1be121   \n",
       "105  589c8fcc1337b5ab1e1be125   \n",
       "106  589c901a1337b5ab1e1be127   \n",
       "107  589c90e31337b5ab1e1be12c   \n",
       "108  589c911c1337b5ab1e1be12e   \n",
       "109  589c91961337b5ab1e1be132   \n",
       "110  589c92351337b5ab1e1be134   \n",
       "\n",
       "                                               comment  \\\n",
       "101            Zwinge X locker rechtsdrehen einzeln 5x   \n",
       "102             Zwinge X locker linksdrehen einzeln 5x   \n",
       "103  Zwinge X locker rechts- und linksdrehen einzel...   \n",
       "104   Zwinge X fest links- und rechtsdrehen einzeln 5x   \n",
       "105                   Zwinge X oszilierend linksdrehen   \n",
       "106                  Zwinge X oszilierend rechtsdrehen   \n",
       "107            Zwinge Y locker rechtsdrehen einzeln 5x   \n",
       "108             Zwinge Y locker linksdrehen einzeln 5x   \n",
       "109  Zwinge Y locker rechts- und linksdrehen einzel...   \n",
       "110   Zwinge Y fest links- und rechtsdrehen einzeln 5x   \n",
       "\n",
       "                                             exercises  \\\n",
       "101  [{u'signal': {u'beep': True}, u'mutation': {u'...   \n",
       "102  [{u'signal': {u'beep': True}, u'mutation': {u'...   \n",
       "103  [{u'signal': {u'beep': True}, u'mutation': {u'...   \n",
       "104  [{u'signal': {u'beep': True}, u'mutation': {u'...   \n",
       "105  [{u'signal': {u'beep': True}, u'mutation': {u'...   \n",
       "106  [{u'signal': {u'beep': True}, u'mutation': {u'...   \n",
       "107  [{u'signal': {u'beep': True}, u'mutation': {u'...   \n",
       "108  [{u'signal': {u'beep': True}, u'mutation': {u'...   \n",
       "109  [{u'signal': {u'beep': True}, u'mutation': {u'...   \n",
       "110  [{u'signal': {u'beep': True}, u'mutation': {u'...   \n",
       "\n",
       "                                                  pose  \n",
       "101  {u'start': u'Host 008 ist auf Werkbank fixiert...  \n",
       "102  {u'start': u'Host 008 ist auf Werkbank fixiert...  \n",
       "103  {u'start': u'Host 008 ist auf Werkbank fixiert...  \n",
       "104  {u'start': u'Host 008 ist auf Werkbank fixiert...  \n",
       "105  {u'start': u'Host 008 ist auf Werkbank fixiert...  \n",
       "106  {u'start': u'Host 008 ist auf Werkbank fixiert...  \n",
       "107  {u'start': u'Host 008 ist auf Werkbank fixiert...  \n",
       "108  {u'start': u'Host 008 ist auf Werkbank fixiert...  \n",
       "109  {u'start': u'Host 008 ist auf Werkbank fixiert...  \n",
       "110  {u'start': u'Host 008 ist auf Werkbank fixiert...  "
      ]
     },
     "execution_count": 12,
     "metadata": {},
     "output_type": "execute_result"
    }
   ],
   "source": [
    "# show first 10 parcours\n",
    "parcours_df.head(10)"
   ]
  },
  {
   "cell_type": "code",
   "execution_count": 13,
   "metadata": {
    "collapsed": false
   },
   "outputs": [
    {
     "data": {
      "text/plain": [
       "[{u'mutation': {u'id': u'M151'}, u'signal': {u'beep': True}},\n",
       " {u'mutation': {u'id': u'M101'}, u'signal': {u'beep': True}},\n",
       " {u'mutation': {u'id': u'M152'}, u'signal': {u'beep': True}},\n",
       " {u'mutation': {u'id': u'M101'}, u'signal': {u'beep': True}},\n",
       " {u'mutation': {u'id': u'M152'}, u'signal': {u'beep': True}},\n",
       " {u'mutation': {u'id': u'M101'}, u'signal': {u'beep': True}},\n",
       " {u'mutation': {u'id': u'M152'}, u'signal': {u'beep': True}},\n",
       " {u'mutation': {u'id': u'M101'}, u'signal': {u'beep': True}},\n",
       " {u'mutation': {u'id': u'M152'}, u'signal': {u'beep': True}},\n",
       " {u'mutation': {u'id': u'M101'}, u'signal': {u'beep': True}}]"
      ]
     },
     "execution_count": 13,
     "metadata": {},
     "output_type": "execute_result"
    }
   ],
   "source": [
    "parcours_df.loc[101,'exercises']"
   ]
  },
  {
   "cell_type": "code",
   "execution_count": 14,
   "metadata": {
    "collapsed": false
   },
   "outputs": [
    {
     "data": {
      "text/plain": [
       "{u'start': u'Host 008 ist auf Werkbank fixiert, Griffachse X, untere Spannbacke fixiert (Xcm), Gewinde genau in Mitte. Subject steht frontal vor Werkbank, etwas links von Host, F\\xfc\\xdfe in Schulterbreite, Arme h\\xe4ngen locker hinunter.'}"
      ]
     },
     "execution_count": 14,
     "metadata": {},
     "output_type": "execute_result"
    }
   ],
   "source": [
    "parcours_df.loc[101,'pose']"
   ]
  },
  {
   "cell_type": "code",
   "execution_count": 15,
   "metadata": {
    "collapsed": false
   },
   "outputs": [
    {
     "data": {
      "text/html": [
       "<div>\n",
       "<table border=\"1\" class=\"dataframe\">\n",
       "  <thead>\n",
       "    <tr style=\"text-align: right;\">\n",
       "      <th></th>\n",
       "      <th>_id</th>\n",
       "      <th>hands</th>\n",
       "      <th>params</th>\n",
       "      <th>slug</th>\n",
       "    </tr>\n",
       "  </thead>\n",
       "  <tbody>\n",
       "    <tr>\n",
       "      <th>101</th>\n",
       "      <td>58a24ffa5097dc5998d3c5d0</td>\n",
       "      <td>{u'right': {u'host': {u'spot': {u'id': u'A', u...</td>\n",
       "      <td>[{u'slug': u'm0', u'value': u'stehend', u'labe...</td>\n",
       "      <td>aaaaaaabaaaba</td>\n",
       "    </tr>\n",
       "    <tr>\n",
       "      <th>102</th>\n",
       "      <td>58a24ffa5097dc5998d3c5d1</td>\n",
       "      <td>{u'right': {u'host': {u'spot': {u'id': u'A', u...</td>\n",
       "      <td>[{u'slug': u'm0', u'value': u'stehend', u'labe...</td>\n",
       "      <td>aaaaaaabababa</td>\n",
       "    </tr>\n",
       "    <tr>\n",
       "      <th>103</th>\n",
       "      <td>58a24ffa5097dc5998d3c5d2</td>\n",
       "      <td>{u'right': {u'host': {u'spot': {u'id': u'A', u...</td>\n",
       "      <td>[{u'slug': u'm0', u'value': u'stehend', u'labe...</td>\n",
       "      <td>aaaaaabbaaaba</td>\n",
       "    </tr>\n",
       "    <tr>\n",
       "      <th>104</th>\n",
       "      <td>58a24ffa5097dc5998d3c5d3</td>\n",
       "      <td>{u'right': {u'host': {u'spot': {u'id': u'A', u...</td>\n",
       "      <td>[{u'slug': u'm0', u'value': u'stehend', u'labe...</td>\n",
       "      <td>aaaaaabbababa</td>\n",
       "    </tr>\n",
       "    <tr>\n",
       "      <th>105</th>\n",
       "      <td>58a24ffa5097dc5998d3c5d4</td>\n",
       "      <td>{u'right': {u'host': {u'spot': {u'id': u'A', u...</td>\n",
       "      <td>[{u'slug': u'm0', u'value': u'stehend', u'labe...</td>\n",
       "      <td>aaaaaacbaabba</td>\n",
       "    </tr>\n",
       "    <tr>\n",
       "      <th>106</th>\n",
       "      <td>58a24ffa5097dc5998d3c5d5</td>\n",
       "      <td>{u'right': {u'host': {u'spot': {u'id': u'A', u...</td>\n",
       "      <td>[{u'slug': u'm0', u'value': u'stehend', u'labe...</td>\n",
       "      <td>aaaaaadbabbba</td>\n",
       "    </tr>\n",
       "    <tr>\n",
       "      <th>107</th>\n",
       "      <td>58a24ffa5097dc5998d3c5d6</td>\n",
       "      <td>{u'right': {u'host': {u'spot': {u'id': u'A', u...</td>\n",
       "      <td>[{u'slug': u'm0', u'value': u'stehend', u'labe...</td>\n",
       "      <td>aaabaaabaaaba</td>\n",
       "    </tr>\n",
       "    <tr>\n",
       "      <th>108</th>\n",
       "      <td>58a24ffa5097dc5998d3c5d7</td>\n",
       "      <td>{u'right': {u'host': {u'spot': {u'id': u'A', u...</td>\n",
       "      <td>[{u'slug': u'm0', u'value': u'stehend', u'labe...</td>\n",
       "      <td>aaabaaabababa</td>\n",
       "    </tr>\n",
       "    <tr>\n",
       "      <th>109</th>\n",
       "      <td>58a24ffa5097dc5998d3c5d8</td>\n",
       "      <td>{u'right': {u'host': {u'spot': {u'id': u'A', u...</td>\n",
       "      <td>[{u'slug': u'm0', u'value': u'stehend', u'labe...</td>\n",
       "      <td>aaabaabbaaaba</td>\n",
       "    </tr>\n",
       "    <tr>\n",
       "      <th>110</th>\n",
       "      <td>58a24ffa5097dc5998d3c5d9</td>\n",
       "      <td>{u'right': {u'host': {u'spot': {u'id': u'A', u...</td>\n",
       "      <td>[{u'slug': u'm0', u'value': u'stehend', u'labe...</td>\n",
       "      <td>aaabaabbababa</td>\n",
       "    </tr>\n",
       "  </tbody>\n",
       "</table>\n",
       "</div>"
      ],
      "text/plain": [
       "                          _id  \\\n",
       "101  58a24ffa5097dc5998d3c5d0   \n",
       "102  58a24ffa5097dc5998d3c5d1   \n",
       "103  58a24ffa5097dc5998d3c5d2   \n",
       "104  58a24ffa5097dc5998d3c5d3   \n",
       "105  58a24ffa5097dc5998d3c5d4   \n",
       "106  58a24ffa5097dc5998d3c5d5   \n",
       "107  58a24ffa5097dc5998d3c5d6   \n",
       "108  58a24ffa5097dc5998d3c5d7   \n",
       "109  58a24ffa5097dc5998d3c5d8   \n",
       "110  58a24ffa5097dc5998d3c5d9   \n",
       "\n",
       "                                                 hands  \\\n",
       "101  {u'right': {u'host': {u'spot': {u'id': u'A', u...   \n",
       "102  {u'right': {u'host': {u'spot': {u'id': u'A', u...   \n",
       "103  {u'right': {u'host': {u'spot': {u'id': u'A', u...   \n",
       "104  {u'right': {u'host': {u'spot': {u'id': u'A', u...   \n",
       "105  {u'right': {u'host': {u'spot': {u'id': u'A', u...   \n",
       "106  {u'right': {u'host': {u'spot': {u'id': u'A', u...   \n",
       "107  {u'right': {u'host': {u'spot': {u'id': u'A', u...   \n",
       "108  {u'right': {u'host': {u'spot': {u'id': u'A', u...   \n",
       "109  {u'right': {u'host': {u'spot': {u'id': u'A', u...   \n",
       "110  {u'right': {u'host': {u'spot': {u'id': u'A', u...   \n",
       "\n",
       "                                                params           slug  \n",
       "101  [{u'slug': u'm0', u'value': u'stehend', u'labe...  aaaaaaabaaaba  \n",
       "102  [{u'slug': u'm0', u'value': u'stehend', u'labe...  aaaaaaabababa  \n",
       "103  [{u'slug': u'm0', u'value': u'stehend', u'labe...  aaaaaabbaaaba  \n",
       "104  [{u'slug': u'm0', u'value': u'stehend', u'labe...  aaaaaabbababa  \n",
       "105  [{u'slug': u'm0', u'value': u'stehend', u'labe...  aaaaaacbaabba  \n",
       "106  [{u'slug': u'm0', u'value': u'stehend', u'labe...  aaaaaadbabbba  \n",
       "107  [{u'slug': u'm0', u'value': u'stehend', u'labe...  aaabaaabaaaba  \n",
       "108  [{u'slug': u'm0', u'value': u'stehend', u'labe...  aaabaaabababa  \n",
       "109  [{u'slug': u'm0', u'value': u'stehend', u'labe...  aaabaabbaaaba  \n",
       "110  [{u'slug': u'm0', u'value': u'stehend', u'labe...  aaabaabbababa  "
      ]
     },
     "execution_count": 15,
     "metadata": {},
     "output_type": "execute_result"
    }
   ],
   "source": [
    "# show first 10 mutations\n",
    "mutations_df.head(10)"
   ]
  },
  {
   "cell_type": "code",
   "execution_count": 16,
   "metadata": {
    "collapsed": false
   },
   "outputs": [
    {
     "data": {
      "text/plain": [
       "{u'right': {u'gesture': {u'id': u'G15'},\n",
       "  u'host': {u'id': u'H008', u'name': u'Schraubzwinge klein'},\n",
       "  u'instruction': u'zu Griff f\\xfchren, greifen mit Faust'}}"
      ]
     },
     "execution_count": 16,
     "metadata": {},
     "output_type": "execute_result"
    }
   ],
   "source": [
    "mutations_df.loc[151,'hands']"
   ]
  },
  {
   "cell_type": "code",
   "execution_count": 17,
   "metadata": {
    "collapsed": false
   },
   "outputs": [
    {
     "data": {
      "text/plain": [
       "nan"
      ]
     },
     "execution_count": 17,
     "metadata": {},
     "output_type": "execute_result"
    }
   ],
   "source": [
    "mutations_df.loc[151,'params']"
   ]
  },
  {
   "cell_type": "code",
   "execution_count": 18,
   "metadata": {
    "collapsed": false
   },
   "outputs": [
    {
     "data": {
      "text/plain": [
       "{u'right': {u'gesture': {u'id': u'G17'},\n",
       "  u'host': {u'id': u'H008', u'name': u'Schraubzwinge klein'},\n",
       "  u'instruction': u'Umgreifen (Hand l\\xf6sen, 90\\xb0 Linksdrehung, Host mit Faust-Handhaltung erneut greifen)'}}"
      ]
     },
     "execution_count": 18,
     "metadata": {},
     "output_type": "execute_result"
    }
   ],
   "source": [
    "mutations_df.loc[152,'hands']"
   ]
  },
  {
   "cell_type": "code",
   "execution_count": 19,
   "metadata": {
    "collapsed": false
   },
   "outputs": [
    {
     "data": {
      "text/plain": [
       "{u'right': {u'gesture': {u'id': u'G01'},\n",
       "  u'host': {u'id': u'H008',\n",
       "   u'name': u'Schraubzwinge klein',\n",
       "   u'spot': {u'id': u'A', u'name': u'Drehgriff'}},\n",
       "  u'instruction': u'Zwinge X locker rechtsdrehen einzeln'}}"
      ]
     },
     "execution_count": 19,
     "metadata": {},
     "output_type": "execute_result"
    }
   ],
   "source": [
    "mutations_df.loc[101,'hands']"
   ]
  },
  {
   "cell_type": "code",
   "execution_count": 20,
   "metadata": {
    "collapsed": false
   },
   "outputs": [
    {
     "data": {
      "text/plain": [
       "[{u'label': u'K\\xf6rperhaltung', u'slug': u'm0', u'value': u'stehend'},\n",
       " {u'label': u'Spot', u'slug': u'm1', u'value': u'Drehgriff'},\n",
       " {u'label': u'Position Spot', u'slug': u'm2', u'value': u'mittig vor Subject'},\n",
       " {u'label': u'Orientierung Spot', u'slug': u'm3', u'value': u'Griffachse X'},\n",
       " {u'label': u'ausf\\xfchrende Hand', u'slug': u'm4', u'value': u'Rechte'},\n",
       " {u'label': u'Handhaltung', u'slug': u'm5', u'value': u'Faust'},\n",
       " {u'label': u'Widerstand', u'slug': u'm6', u'value': u'keiner'},\n",
       " {u'label': u'Drehweise',\n",
       "  u'slug': u'm7',\n",
       "  u'value': u'ganze Hand mitbewegen, ganze Hand umgreifen'},\n",
       " {u'label': u'Drehwinkel', u'slug': u'm8', u'value': u'90\\xb0'},\n",
       " {u'label': u'Drehrichtung',\n",
       "  u'slug': u'm9',\n",
       "  u'value': u'rechtsrum (schlie\\xdfen)'},\n",
       " {u'label': u'Bewegungsablauf', u'slug': u'm10', u'value': u'einzeln'},\n",
       " {u'label': u'2. Hand', u'slug': u'm11', u'value': u'ruht woanders'}]"
      ]
     },
     "execution_count": 20,
     "metadata": {},
     "output_type": "execute_result"
    }
   ],
   "source": [
    "mutations_df.loc[101,'params']"
   ]
  },
  {
   "cell_type": "code",
   "execution_count": 21,
   "metadata": {
    "collapsed": false
   },
   "outputs": [
    {
     "data": {
      "text/plain": [
       "u'G01'"
      ]
     },
     "execution_count": 21,
     "metadata": {},
     "output_type": "execute_result"
    }
   ],
   "source": [
    "mutations_df.loc[101,'hands']['right']['gesture']['id']"
   ]
  },
  {
   "cell_type": "code",
   "execution_count": 22,
   "metadata": {
    "collapsed": false
   },
   "outputs": [
    {
     "data": {
      "text/plain": [
       "[{u'label': u'K\\xf6rperhaltung', u'slug': u'm0', u'value': u'stehend'},\n",
       " {u'label': u'Spot', u'slug': u'm1', u'value': u'Drehgriff'},\n",
       " {u'label': u'Position Spot', u'slug': u'm2', u'value': u'mittig vor Subject'},\n",
       " {u'label': u'Orientierung Spot', u'slug': u'm3', u'value': u'Griffachse X'},\n",
       " {u'label': u'ausf\\xfchrende Hand', u'slug': u'm4', u'value': u'Rechte'},\n",
       " {u'label': u'Handhaltung', u'slug': u'm5', u'value': u'Faust'},\n",
       " {u'label': u'Widerstand', u'slug': u'm6', u'value': u'keiner'},\n",
       " {u'label': u'Drehweise',\n",
       "  u'slug': u'm7',\n",
       "  u'value': u'ganze Hand mitbewegen, ganze Hand umgreifen'},\n",
       " {u'label': u'Drehwinkel', u'slug': u'm8', u'value': u'90\\xb0'},\n",
       " {u'label': u'Drehrichtung',\n",
       "  u'slug': u'm9',\n",
       "  u'value': u'rechtsrum (schlie\\xdfen)'},\n",
       " {u'label': u'Bewegungsablauf', u'slug': u'm10', u'value': u'einzeln'},\n",
       " {u'label': u'2. Hand', u'slug': u'm11', u'value': u'ruht woanders'}]"
      ]
     },
     "execution_count": 22,
     "metadata": {},
     "output_type": "execute_result"
    }
   ],
   "source": [
    "mutations_df.loc[101,'params']"
   ]
  },
  {
   "cell_type": "code",
   "execution_count": 23,
   "metadata": {
    "collapsed": false
   },
   "outputs": [
    {
     "data": {
      "text/plain": [
       "_id                                58a250245097dc5998d3c657\n",
       "hands     {u'right': {u'host': {u'id': u'H008', u'name':...\n",
       "params                                                  NaN\n",
       "slug                                        Start - Greifen\n",
       "Name: 151, dtype: object"
      ]
     },
     "execution_count": 23,
     "metadata": {},
     "output_type": "execute_result"
    }
   ],
   "source": [
    "mutations_df.loc[151]"
   ]
  },
  {
   "cell_type": "markdown",
   "metadata": {},
   "source": [
    "### Define handy function shortcuts"
   ]
  },
  {
   "cell_type": "code",
   "execution_count": 24,
   "metadata": {
    "collapsed": true
   },
   "outputs": [],
   "source": [
    "def gesture_name(gesture_id):\n",
    "    if gesture_id is None: return None\n",
    "    return gestures_df.loc[gesture_id,'name']"
   ]
  },
  {
   "cell_type": "code",
   "execution_count": 25,
   "metadata": {
    "collapsed": false
   },
   "outputs": [],
   "source": [
    "def get_mutation_gesture(mutation_id):\n",
    "    gest_str = mutations_df.ix[mutation_id,'hands']['right']['gesture']['id']\n",
    "    return str_to_int(gest_str)"
   ]
  },
  {
   "cell_type": "markdown",
   "metadata": {},
   "source": [
    "## Read Experiment Data"
   ]
  },
  {
   "cell_type": "code",
   "execution_count": 26,
   "metadata": {
    "collapsed": false
   },
   "outputs": [
    {
     "name": "stderr",
     "output_type": "stream",
     "text": [
      "/usr/local/lib/python2.7/dist-packages/IPython/core/interactiveshell.py:2871: DtypeWarning: Columns (4) have mixed types. Specify dtype option on import or set low_memory=False.\n",
      "  interactivity=interactivity, compiler=compiler, result=result)\n"
     ]
    }
   ],
   "source": [
    "# Experiment Data\n",
    "data = pd.read_csv(csv_file)"
   ]
  },
  {
   "cell_type": "code",
   "execution_count": 27,
   "metadata": {
    "collapsed": false
   },
   "outputs": [
    {
     "data": {
      "text/plain": [
       "(711360, 20)"
      ]
     },
     "execution_count": 27,
     "metadata": {},
     "output_type": "execute_result"
    }
   ],
   "source": [
    "data.shape"
   ]
  },
  {
   "cell_type": "code",
   "execution_count": 28,
   "metadata": {
    "collapsed": false
   },
   "outputs": [
    {
     "data": {
      "text/plain": [
       "Index([u'Trainset', u'Experiment', u'Subject', u'TimeStamp', u'RFID',\n",
       "       u'GRASP_A', u'GRASP_B', u'GRASP_C', u'AX', u'AY', u'AZ', u'EX', u'EY',\n",
       "       u'EZ', u'Parcours', u'Parcours_Step', u'Mutation', u'Host',\n",
       "       u'Host/Spot', u'Gesture'],\n",
       "      dtype='object')"
      ]
     },
     "execution_count": 28,
     "metadata": {},
     "output_type": "execute_result"
    }
   ],
   "source": [
    "data.columns"
   ]
  },
  {
   "cell_type": "code",
   "execution_count": 29,
   "metadata": {
    "collapsed": false
   },
   "outputs": [
    {
     "data": {
      "text/plain": [
       "Trainset          object\n",
       "Experiment         int64\n",
       "Subject           object\n",
       "TimeStamp          int64\n",
       "RFID              object\n",
       "GRASP_A            int64\n",
       "GRASP_B            int64\n",
       "GRASP_C            int64\n",
       "AX               float64\n",
       "AY               float64\n",
       "AZ               float64\n",
       "EX               float64\n",
       "EY               float64\n",
       "EZ               float64\n",
       "Parcours           int64\n",
       "Parcours_Step      int64\n",
       "Mutation           int64\n",
       "Host               int64\n",
       "Host/Spot         object\n",
       "Gesture            int64\n",
       "dtype: object"
      ]
     },
     "execution_count": 29,
     "metadata": {},
     "output_type": "execute_result"
    }
   ],
   "source": [
    "data.dtypes"
   ]
  },
  {
   "cell_type": "code",
   "execution_count": 30,
   "metadata": {
    "collapsed": false
   },
   "outputs": [
    {
     "data": {
      "text/html": [
       "<div>\n",
       "<table border=\"1\" class=\"dataframe\">\n",
       "  <thead>\n",
       "    <tr style=\"text-align: right;\">\n",
       "      <th></th>\n",
       "      <th>Trainset</th>\n",
       "      <th>Experiment</th>\n",
       "      <th>Subject</th>\n",
       "      <th>TimeStamp</th>\n",
       "      <th>RFID</th>\n",
       "      <th>GRASP_A</th>\n",
       "      <th>GRASP_B</th>\n",
       "      <th>GRASP_C</th>\n",
       "      <th>AX</th>\n",
       "      <th>AY</th>\n",
       "      <th>AZ</th>\n",
       "      <th>EX</th>\n",
       "      <th>EY</th>\n",
       "      <th>EZ</th>\n",
       "      <th>Parcours</th>\n",
       "      <th>Parcours_Step</th>\n",
       "      <th>Mutation</th>\n",
       "      <th>Host</th>\n",
       "      <th>Host/Spot</th>\n",
       "      <th>Gesture</th>\n",
       "    </tr>\n",
       "  </thead>\n",
       "  <tbody>\n",
       "    <tr>\n",
       "      <th>0</th>\n",
       "      <td>_TRAINSET14022017094616</td>\n",
       "      <td>1</td>\n",
       "      <td>Andreas</td>\n",
       "      <td>0</td>\n",
       "      <td>000000000000</td>\n",
       "      <td>781</td>\n",
       "      <td>8</td>\n",
       "      <td>797</td>\n",
       "      <td>0.06</td>\n",
       "      <td>-0.02</td>\n",
       "      <td>-0.10</td>\n",
       "      <td>216.8125</td>\n",
       "      <td>9.0625</td>\n",
       "      <td>-81.9375</td>\n",
       "      <td>101</td>\n",
       "      <td>1</td>\n",
       "      <td>151</td>\n",
       "      <td>8</td>\n",
       "      <td>NaN</td>\n",
       "      <td>15</td>\n",
       "    </tr>\n",
       "    <tr>\n",
       "      <th>1</th>\n",
       "      <td>_TRAINSET14022017094616</td>\n",
       "      <td>1</td>\n",
       "      <td>Andreas</td>\n",
       "      <td>29001</td>\n",
       "      <td>000000000000</td>\n",
       "      <td>782</td>\n",
       "      <td>0</td>\n",
       "      <td>799</td>\n",
       "      <td>0.09</td>\n",
       "      <td>-0.04</td>\n",
       "      <td>-0.11</td>\n",
       "      <td>217.0625</td>\n",
       "      <td>9.0625</td>\n",
       "      <td>-81.9375</td>\n",
       "      <td>101</td>\n",
       "      <td>1</td>\n",
       "      <td>151</td>\n",
       "      <td>8</td>\n",
       "      <td>NaN</td>\n",
       "      <td>15</td>\n",
       "    </tr>\n",
       "    <tr>\n",
       "      <th>2</th>\n",
       "      <td>_TRAINSET14022017094616</td>\n",
       "      <td>1</td>\n",
       "      <td>Andreas</td>\n",
       "      <td>46136</td>\n",
       "      <td>000000000000</td>\n",
       "      <td>782</td>\n",
       "      <td>6</td>\n",
       "      <td>798</td>\n",
       "      <td>0.12</td>\n",
       "      <td>-0.09</td>\n",
       "      <td>0.09</td>\n",
       "      <td>217.4375</td>\n",
       "      <td>9.1250</td>\n",
       "      <td>-81.8750</td>\n",
       "      <td>101</td>\n",
       "      <td>1</td>\n",
       "      <td>151</td>\n",
       "      <td>8</td>\n",
       "      <td>NaN</td>\n",
       "      <td>15</td>\n",
       "    </tr>\n",
       "    <tr>\n",
       "      <th>3</th>\n",
       "      <td>_TRAINSET14022017094616</td>\n",
       "      <td>1</td>\n",
       "      <td>Andreas</td>\n",
       "      <td>74902</td>\n",
       "      <td>000000000000</td>\n",
       "      <td>784</td>\n",
       "      <td>7</td>\n",
       "      <td>798</td>\n",
       "      <td>0.08</td>\n",
       "      <td>-0.08</td>\n",
       "      <td>0.03</td>\n",
       "      <td>217.6250</td>\n",
       "      <td>9.1250</td>\n",
       "      <td>-81.8125</td>\n",
       "      <td>101</td>\n",
       "      <td>1</td>\n",
       "      <td>151</td>\n",
       "      <td>8</td>\n",
       "      <td>NaN</td>\n",
       "      <td>15</td>\n",
       "    </tr>\n",
       "    <tr>\n",
       "      <th>4</th>\n",
       "      <td>_TRAINSET14022017094616</td>\n",
       "      <td>1</td>\n",
       "      <td>Andreas</td>\n",
       "      <td>97663</td>\n",
       "      <td>000000000000</td>\n",
       "      <td>781</td>\n",
       "      <td>0</td>\n",
       "      <td>798</td>\n",
       "      <td>0.07</td>\n",
       "      <td>-0.09</td>\n",
       "      <td>0.04</td>\n",
       "      <td>217.9375</td>\n",
       "      <td>9.1875</td>\n",
       "      <td>-81.7500</td>\n",
       "      <td>101</td>\n",
       "      <td>1</td>\n",
       "      <td>151</td>\n",
       "      <td>8</td>\n",
       "      <td>NaN</td>\n",
       "      <td>15</td>\n",
       "    </tr>\n",
       "    <tr>\n",
       "      <th>5</th>\n",
       "      <td>_TRAINSET14022017094616</td>\n",
       "      <td>1</td>\n",
       "      <td>Andreas</td>\n",
       "      <td>116448</td>\n",
       "      <td>000000000000</td>\n",
       "      <td>784</td>\n",
       "      <td>4</td>\n",
       "      <td>800</td>\n",
       "      <td>0.12</td>\n",
       "      <td>-0.06</td>\n",
       "      <td>-0.03</td>\n",
       "      <td>218.3125</td>\n",
       "      <td>9.2500</td>\n",
       "      <td>-81.7500</td>\n",
       "      <td>101</td>\n",
       "      <td>1</td>\n",
       "      <td>151</td>\n",
       "      <td>8</td>\n",
       "      <td>NaN</td>\n",
       "      <td>15</td>\n",
       "    </tr>\n",
       "    <tr>\n",
       "      <th>6</th>\n",
       "      <td>_TRAINSET14022017094616</td>\n",
       "      <td>1</td>\n",
       "      <td>Andreas</td>\n",
       "      <td>148753</td>\n",
       "      <td>000000000000</td>\n",
       "      <td>783</td>\n",
       "      <td>0</td>\n",
       "      <td>798</td>\n",
       "      <td>0.21</td>\n",
       "      <td>-0.04</td>\n",
       "      <td>0.03</td>\n",
       "      <td>218.5000</td>\n",
       "      <td>9.3125</td>\n",
       "      <td>-81.7500</td>\n",
       "      <td>101</td>\n",
       "      <td>1</td>\n",
       "      <td>151</td>\n",
       "      <td>8</td>\n",
       "      <td>NaN</td>\n",
       "      <td>15</td>\n",
       "    </tr>\n",
       "    <tr>\n",
       "      <th>7</th>\n",
       "      <td>_TRAINSET14022017094616</td>\n",
       "      <td>1</td>\n",
       "      <td>Andreas</td>\n",
       "      <td>167422</td>\n",
       "      <td>000000000000</td>\n",
       "      <td>784</td>\n",
       "      <td>2</td>\n",
       "      <td>798</td>\n",
       "      <td>0.18</td>\n",
       "      <td>-0.10</td>\n",
       "      <td>-0.08</td>\n",
       "      <td>218.6875</td>\n",
       "      <td>9.3750</td>\n",
       "      <td>-81.7500</td>\n",
       "      <td>101</td>\n",
       "      <td>1</td>\n",
       "      <td>151</td>\n",
       "      <td>8</td>\n",
       "      <td>NaN</td>\n",
       "      <td>15</td>\n",
       "    </tr>\n",
       "    <tr>\n",
       "      <th>8</th>\n",
       "      <td>_TRAINSET14022017094616</td>\n",
       "      <td>1</td>\n",
       "      <td>Andreas</td>\n",
       "      <td>187481</td>\n",
       "      <td>000000000000</td>\n",
       "      <td>782</td>\n",
       "      <td>4</td>\n",
       "      <td>799</td>\n",
       "      <td>0.15</td>\n",
       "      <td>-0.18</td>\n",
       "      <td>-0.03</td>\n",
       "      <td>219.0000</td>\n",
       "      <td>9.4375</td>\n",
       "      <td>-81.7500</td>\n",
       "      <td>101</td>\n",
       "      <td>1</td>\n",
       "      <td>151</td>\n",
       "      <td>8</td>\n",
       "      <td>NaN</td>\n",
       "      <td>15</td>\n",
       "    </tr>\n",
       "    <tr>\n",
       "      <th>9</th>\n",
       "      <td>_TRAINSET14022017094616</td>\n",
       "      <td>1</td>\n",
       "      <td>Andreas</td>\n",
       "      <td>213733</td>\n",
       "      <td>000000000000</td>\n",
       "      <td>784</td>\n",
       "      <td>13</td>\n",
       "      <td>799</td>\n",
       "      <td>0.15</td>\n",
       "      <td>-0.18</td>\n",
       "      <td>-0.17</td>\n",
       "      <td>219.1250</td>\n",
       "      <td>9.4375</td>\n",
       "      <td>-81.7500</td>\n",
       "      <td>101</td>\n",
       "      <td>1</td>\n",
       "      <td>151</td>\n",
       "      <td>8</td>\n",
       "      <td>NaN</td>\n",
       "      <td>15</td>\n",
       "    </tr>\n",
       "  </tbody>\n",
       "</table>\n",
       "</div>"
      ],
      "text/plain": [
       "                  Trainset  Experiment  Subject  TimeStamp          RFID  \\\n",
       "0  _TRAINSET14022017094616           1  Andreas          0  000000000000   \n",
       "1  _TRAINSET14022017094616           1  Andreas      29001  000000000000   \n",
       "2  _TRAINSET14022017094616           1  Andreas      46136  000000000000   \n",
       "3  _TRAINSET14022017094616           1  Andreas      74902  000000000000   \n",
       "4  _TRAINSET14022017094616           1  Andreas      97663  000000000000   \n",
       "5  _TRAINSET14022017094616           1  Andreas     116448  000000000000   \n",
       "6  _TRAINSET14022017094616           1  Andreas     148753  000000000000   \n",
       "7  _TRAINSET14022017094616           1  Andreas     167422  000000000000   \n",
       "8  _TRAINSET14022017094616           1  Andreas     187481  000000000000   \n",
       "9  _TRAINSET14022017094616           1  Andreas     213733  000000000000   \n",
       "\n",
       "   GRASP_A  GRASP_B  GRASP_C    AX    AY    AZ        EX      EY       EZ  \\\n",
       "0      781        8      797  0.06 -0.02 -0.10  216.8125  9.0625 -81.9375   \n",
       "1      782        0      799  0.09 -0.04 -0.11  217.0625  9.0625 -81.9375   \n",
       "2      782        6      798  0.12 -0.09  0.09  217.4375  9.1250 -81.8750   \n",
       "3      784        7      798  0.08 -0.08  0.03  217.6250  9.1250 -81.8125   \n",
       "4      781        0      798  0.07 -0.09  0.04  217.9375  9.1875 -81.7500   \n",
       "5      784        4      800  0.12 -0.06 -0.03  218.3125  9.2500 -81.7500   \n",
       "6      783        0      798  0.21 -0.04  0.03  218.5000  9.3125 -81.7500   \n",
       "7      784        2      798  0.18 -0.10 -0.08  218.6875  9.3750 -81.7500   \n",
       "8      782        4      799  0.15 -0.18 -0.03  219.0000  9.4375 -81.7500   \n",
       "9      784       13      799  0.15 -0.18 -0.17  219.1250  9.4375 -81.7500   \n",
       "\n",
       "   Parcours  Parcours_Step  Mutation  Host Host/Spot  Gesture  \n",
       "0       101              1       151     8       NaN       15  \n",
       "1       101              1       151     8       NaN       15  \n",
       "2       101              1       151     8       NaN       15  \n",
       "3       101              1       151     8       NaN       15  \n",
       "4       101              1       151     8       NaN       15  \n",
       "5       101              1       151     8       NaN       15  \n",
       "6       101              1       151     8       NaN       15  \n",
       "7       101              1       151     8       NaN       15  \n",
       "8       101              1       151     8       NaN       15  \n",
       "9       101              1       151     8       NaN       15  "
      ]
     },
     "execution_count": 30,
     "metadata": {},
     "output_type": "execute_result"
    }
   ],
   "source": [
    "data.head(10)"
   ]
  },
  {
   "cell_type": "markdown",
   "metadata": {},
   "source": [
    "## Some Data Stats"
   ]
  },
  {
   "cell_type": "code",
   "execution_count": 31,
   "metadata": {
    "collapsed": false
   },
   "outputs": [
    {
     "data": {
      "text/plain": [
       "['Andreas', 'Alfred', 'Claudia', 'Dominik']"
      ]
     },
     "execution_count": 31,
     "metadata": {},
     "output_type": "execute_result"
    }
   ],
   "source": [
    "# how many subjects\n",
    "subjects = data['Subject'].unique().tolist()\n",
    "subjects "
   ]
  },
  {
   "cell_type": "code",
   "execution_count": 32,
   "metadata": {
    "collapsed": false
   },
   "outputs": [
    {
     "data": {
      "text/plain": [
       "['000000000000',\n",
       " '09006734114B',\n",
       " '0',\n",
       " '05003DD5CD20',\n",
       " '760057911BAB',\n",
       " '13005E4BB7B1',\n",
       " '1400135B8AD6',\n",
       " '14001486BE38',\n",
       " '7600577D0D51',\n",
       " 0,\n",
       " '140014CD1AD7',\n",
       " '280015E55981']"
      ]
     },
     "execution_count": 32,
     "metadata": {},
     "output_type": "execute_result"
    }
   ],
   "source": [
    "# how many RFID ids\n",
    "data['RFID'].unique().tolist()"
   ]
  },
  {
   "cell_type": "code",
   "execution_count": 33,
   "metadata": {
    "collapsed": false
   },
   "outputs": [
    {
     "data": {
      "text/plain": [
       "[1, 2, 3, 4, 5, 6, 7, 8]"
      ]
     },
     "execution_count": 33,
     "metadata": {},
     "output_type": "execute_result"
    }
   ],
   "source": [
    "# how many experiments\n",
    "experiments = data['Experiment'].unique().tolist()\n",
    "experiments"
   ]
  },
  {
   "cell_type": "code",
   "execution_count": 34,
   "metadata": {
    "collapsed": false
   },
   "outputs": [
    {
     "data": {
      "text/plain": [
       "539"
      ]
     },
     "execution_count": 34,
     "metadata": {},
     "output_type": "execute_result"
    }
   ],
   "source": [
    "# how many training sets\n",
    "len(data['Trainset'].unique().tolist())"
   ]
  },
  {
   "cell_type": "code",
   "execution_count": 35,
   "metadata": {
    "collapsed": false
   },
   "outputs": [
    {
     "data": {
      "text/plain": [
       "116"
      ]
     },
     "execution_count": 35,
     "metadata": {},
     "output_type": "execute_result"
    }
   ],
   "source": [
    "# how many parcours\n",
    "len(data['Parcours'].unique())"
   ]
  },
  {
   "cell_type": "code",
   "execution_count": 36,
   "metadata": {
    "collapsed": false
   },
   "outputs": [
    {
     "data": {
      "text/plain": [
       "array([101, 102, 103, 104, 105, 106, 107, 108, 109, 110, 111, 112, 113,\n",
       "       114, 115, 116, 117, 118, 401, 402, 403, 201, 202, 203, 204, 205,\n",
       "       206, 207, 208, 211, 212, 213, 216, 217, 218, 221, 222, 223, 226,\n",
       "       227, 228, 701, 702, 705, 706, 709, 710, 713, 714, 801, 802, 601,\n",
       "       602, 603, 606, 607, 608, 611, 612, 613, 616, 617, 618, 621, 622,\n",
       "       623, 501, 502, 504, 503, 301, 302, 306, 307, 308, 311, 312, 316,\n",
       "       317, 318, 321, 322, 326, 327, 328, 119, 120, 121, 231, 232, 234,\n",
       "       233, 236, 235, 717, 718, 719, 720, 721, 722, 723, 724, 626, 627,\n",
       "       628, 629, 630, 331, 332, 333, 334, 335, 336, 901, 902, 903])"
      ]
     },
     "execution_count": 36,
     "metadata": {},
     "output_type": "execute_result"
    }
   ],
   "source": [
    "data['Parcours'].unique()"
   ]
  },
  {
   "cell_type": "code",
   "execution_count": 37,
   "metadata": {
    "collapsed": false
   },
   "outputs": [
    {
     "data": {
      "text/plain": [
       "array([ 1,  2,  3,  4,  5,  6,  7,  8,  9, 10, 11, 12])"
      ]
     },
     "execution_count": 37,
     "metadata": {},
     "output_type": "execute_result"
    }
   ],
   "source": [
    "# how many parcours steps\n",
    "data['Parcours_Step'].unique()"
   ]
  },
  {
   "cell_type": "code",
   "execution_count": 38,
   "metadata": {
    "collapsed": false
   },
   "outputs": [
    {
     "data": {
      "text/plain": [
       "176"
      ]
     },
     "execution_count": 38,
     "metadata": {},
     "output_type": "execute_result"
    }
   ],
   "source": [
    "# how many mutations\n",
    "len(data['Mutation'].unique())"
   ]
  },
  {
   "cell_type": "code",
   "execution_count": 39,
   "metadata": {
    "collapsed": false
   },
   "outputs": [
    {
     "data": {
      "text/plain": [
       "17"
      ]
     },
     "execution_count": 39,
     "metadata": {},
     "output_type": "execute_result"
    }
   ],
   "source": [
    "# how many gestures\n",
    "len(data['Gesture'].unique())"
   ]
  },
  {
   "cell_type": "code",
   "execution_count": null,
   "metadata": {
    "collapsed": false
   },
   "outputs": [
    {
     "data": {
      "text/plain": [
       "[1, 2, 3, 4, 5, 6, 7, 8, 9, 10, 11, 12, 13, 14, 15, 16, 17]"
      ]
     },
     "execution_count": 40,
     "metadata": {},
     "output_type": "execute_result"
    }
   ],
   "source": [
    "# which gestures exist\n",
    "sorted(data['Gesture'].unique())"
   ]
  },
  {
   "cell_type": "code",
   "execution_count": null,
   "metadata": {
    "collapsed": false
   },
   "outputs": [],
   "source": [
    "data.head()"
   ]
  },
  {
   "cell_type": "code",
   "execution_count": null,
   "metadata": {
    "collapsed": false
   },
   "outputs": [],
   "source": [
    "# how many hosts\n",
    "len(data['Host'].unique())"
   ]
  },
  {
   "cell_type": "code",
   "execution_count": null,
   "metadata": {
    "collapsed": false
   },
   "outputs": [],
   "source": [
    "# which Host Spots\n",
    "data['Host/Spot'].unique().tolist()"
   ]
  },
  {
   "cell_type": "markdown",
   "metadata": {},
   "source": [
    "## Look into the Data"
   ]
  },
  {
   "cell_type": "code",
   "execution_count": null,
   "metadata": {
    "collapsed": false
   },
   "outputs": [],
   "source": [
    "data.columns"
   ]
  },
  {
   "cell_type": "markdown",
   "metadata": {},
   "source": [
    "### Get Experiment data: Filter for one experiment of one subject (just for testing)"
   ]
  },
  {
   "cell_type": "code",
   "execution_count": null,
   "metadata": {
    "collapsed": false
   },
   "outputs": [],
   "source": [
    "def get_experiment(data,experiment,trainset,subject,parcours,mutation,gesture):\n",
    "    query = []\n",
    "    # by passing None, some parts of these can be omitted (returning more data)\n",
    "    if experiment: query.append('Experiment==@exp')\n",
    "    if trainset: query.append('Trainset==@trainset')\n",
    "    if subject: query.append('Subject==@subject')\n",
    "    if parcours: query.append('Parcours==@parcours')\n",
    "    if mutation: query.append('Mutation==@mutation')\n",
    "    if gesture: query.append('Gesture==@gesture')\n",
    "    # TODO filter by Parcours_Step u/o Host\n",
    "    \n",
    "    query = \" and \".join(query)\n",
    "    #print query\n",
    "    return data.query(query)"
   ]
  },
  {
   "cell_type": "markdown",
   "metadata": {},
   "source": [
    "### Get 1 Experiment"
   ]
  },
  {
   "cell_type": "code",
   "execution_count": null,
   "metadata": {
    "collapsed": false
   },
   "outputs": [],
   "source": [
    "# get experiment data (setting one to None does not filter by it)\n",
    "exp = 1\n",
    "subject = 'Andreas'\n",
    "trainset = None\n",
    "parcours = None # 102\n",
    "mutation = None\n",
    "gesture = None #2 # 1\n",
    "\n",
    "mydata = get_experiment(data,exp,trainset,subject,parcours,mutation,gesture)\n",
    "mydata.shape"
   ]
  },
  {
   "cell_type": "code",
   "execution_count": null,
   "metadata": {
    "collapsed": false,
    "scrolled": true
   },
   "outputs": [],
   "source": [
    "# if we queried without Parcours, use this to get all the Parcours\n",
    "parcours = mydata['Parcours'].unique().tolist()\n",
    "print len(parcours), \"Parcours\""
   ]
  },
  {
   "cell_type": "code",
   "execution_count": null,
   "metadata": {
    "collapsed": false
   },
   "outputs": [],
   "source": [
    "# how many training sets included in this experiment\n",
    "trainsets = mydata['Trainset'].unique().tolist()\n",
    "print len(trainsets), \"Train sets\""
   ]
  },
  {
   "cell_type": "code",
   "execution_count": null,
   "metadata": {
    "collapsed": false
   },
   "outputs": [],
   "source": [
    "# print first few\n",
    "trainsets[:5]"
   ]
  },
  {
   "cell_type": "code",
   "execution_count": null,
   "metadata": {
    "collapsed": false
   },
   "outputs": [],
   "source": [
    "# how often does the Timestamp jump, i.e. start at 0 again?\n",
    "sum(mydata['TimeStamp'].diff() < 0)"
   ]
  },
  {
   "cell_type": "code",
   "execution_count": null,
   "metadata": {
    "collapsed": true
   },
   "outputs": [],
   "source": [
    "# -> seems right!"
   ]
  },
  {
   "cell_type": "markdown",
   "metadata": {},
   "source": [
    "### Get 1 Trainset"
   ]
  },
  {
   "cell_type": "code",
   "execution_count": null,
   "metadata": {
    "collapsed": false
   },
   "outputs": [],
   "source": [
    "# get experiment data (setting one to None does not filter by it)\n",
    "exp = 1\n",
    "subject = 'Andreas'\n",
    "trainset = '_TRAINSET14022017094616'\n",
    "parcours = None # 102\n",
    "mutation = None\n",
    "gesture = None #2 # 1\n",
    "\n",
    "mydata = get_experiment(data,exp,trainset,subject,parcours,mutation,gesture)\n",
    "mydata.shape"
   ]
  },
  {
   "cell_type": "code",
   "execution_count": null,
   "metadata": {
    "collapsed": false
   },
   "outputs": [],
   "source": [
    "# which parcours\n",
    "mydata['Parcours'].unique().tolist()"
   ]
  },
  {
   "cell_type": "code",
   "execution_count": null,
   "metadata": {
    "collapsed": false
   },
   "outputs": [],
   "source": [
    "# which parcours-steps\n",
    "mydata['Parcours_Step'].unique().tolist()"
   ]
  },
  {
   "cell_type": "code",
   "execution_count": null,
   "metadata": {
    "collapsed": false
   },
   "outputs": [],
   "source": [
    "group_by = ('Subject','Experiment','Trainset','Parcours','Parcours_Step')\n",
    "mydata.groupby(group_by).size()"
   ]
  },
  {
   "cell_type": "code",
   "execution_count": null,
   "metadata": {
    "collapsed": false
   },
   "outputs": [],
   "source": [
    "# which gestures in each Parcours_Step\n",
    "for idx, group_df in mydata.groupby(group_by):\n",
    "    parcours_step = idx[-1] # last entry in index is the Parcours_Step\n",
    "    print parcours_step, np.unique(group_df['Gesture']), len(group_df)"
   ]
  },
  {
   "cell_type": "code",
   "execution_count": null,
   "metadata": {
    "collapsed": false
   },
   "outputs": [],
   "source": [
    "# which mutations\n",
    "mut_list = mydata['Mutation'].unique().tolist()\n",
    "mut_list"
   ]
  },
  {
   "cell_type": "code",
   "execution_count": null,
   "metadata": {
    "collapsed": false
   },
   "outputs": [],
   "source": [
    "# which gestures\n",
    "gest_list = mydata['Gesture'].unique().tolist()\n",
    "gest_list"
   ]
  },
  {
   "cell_type": "code",
   "execution_count": null,
   "metadata": {
    "collapsed": false
   },
   "outputs": [],
   "source": [
    "# which mutation corresponds to which gesture\n",
    "for mut in mut_list:\n",
    "    gest = get_mutation_gesture(mut)\n",
    "    print mut, \":\", gest, gesture_name(gest)"
   ]
  },
  {
   "cell_type": "code",
   "execution_count": null,
   "metadata": {
    "collapsed": false
   },
   "outputs": [],
   "source": [
    "# which RFIDs\n",
    "mydata['RFID'].unique().tolist()"
   ]
  },
  {
   "cell_type": "markdown",
   "metadata": {},
   "source": [
    "### Get 1 Gesture"
   ]
  },
  {
   "cell_type": "code",
   "execution_count": null,
   "metadata": {
    "collapsed": false,
    "scrolled": false
   },
   "outputs": [],
   "source": [
    "# get data for 1 gesture\n",
    "mutation = None\n",
    "parcours = 101\n",
    "gesture = 15 \n",
    "mydata = get_experiment(data,exp,trainset,subject,parcours,mutation,gesture)\n",
    "mydata.head()"
   ]
  },
  {
   "cell_type": "code",
   "execution_count": null,
   "metadata": {
    "collapsed": false
   },
   "outputs": [],
   "source": [
    "### Check TimeStep deltas\n",
    "# investigate time stamp delta mean and variance\n",
    "mydata['TimeStamp'].diff().describe()"
   ]
  },
  {
   "cell_type": "code",
   "execution_count": null,
   "metadata": {
    "collapsed": false,
    "scrolled": true
   },
   "outputs": [],
   "source": [
    "print \"Average Time Stamp delta:\", mydata['TimeStamp'].diff().mean()"
   ]
  },
  {
   "cell_type": "code",
   "execution_count": null,
   "metadata": {
    "collapsed": false
   },
   "outputs": [],
   "source": [
    "# how often does the Timestamp jump, i.e. start at 0 again?\n",
    "sum(mydata['TimeStamp'].diff() < 0)"
   ]
  },
  {
   "cell_type": "code",
   "execution_count": null,
   "metadata": {
    "collapsed": true
   },
   "outputs": [],
   "source": [
    "# -> should be 0: within a gesture there should be no TimeStamp reset!"
   ]
  },
  {
   "cell_type": "markdown",
   "metadata": {
    "collapsed": true
   },
   "source": [
    "### Plot timeline of sensor data of 1 Trainset"
   ]
  },
  {
   "cell_type": "code",
   "execution_count": null,
   "metadata": {
    "collapsed": true
   },
   "outputs": [],
   "source": [
    "params = ['AX', 'AY', 'AZ', 'EX', 'EY', 'EZ', 'GRASP_A', 'GRASP_B', 'GRASP_C']\n",
    "# TODO add RFID?"
   ]
  },
  {
   "cell_type": "code",
   "execution_count": null,
   "metadata": {
    "collapsed": false
   },
   "outputs": [],
   "source": [
    "def one_plot(mydata,var):\n",
    "    y = mydata[var]\n",
    "    x = range(len(y))\n",
    "    #x = mydata['TimeStamp']\n",
    "    plt.plot(x, y)\n",
    "    title = \"E%s %s %s P%s M%s G%s %s\" % (str(exp),subject,trainset,str(parcours),str(mutation),str(gesture),gesture_name(gesture)) \n",
    "    plt.title(title)\n",
    "    #plt.show()"
   ]
  },
  {
   "cell_type": "code",
   "execution_count": null,
   "metadata": {
    "collapsed": false
   },
   "outputs": [],
   "source": [
    "def grid_plot(mydata, title=True):\n",
    "    rows = 3\n",
    "    cols = 3\n",
    "    fig, axes = plt.subplots(rows, cols, figsize=(16, 10)) #, sharex=True, sharey=True)\n",
    "    if title is True:\n",
    "        title = \"E%s %s %s P%s M%s G%s %s\" % (str(exp),subject,trainset,str(parcours),str(mutation),str(gesture),gesture_name(gesture)) \n",
    "\n",
    "    if title is not None:\n",
    "        fig.suptitle(title, fontsize=16)\n",
    "\n",
    "    axes_list = axes.reshape(-1)\n",
    "\n",
    "    for i, var in enumerate(params):\n",
    "\n",
    "        # data\n",
    "        y = mydata[var]\n",
    "        x = range(len(y))\n",
    "        #x = mydata['TimeStamp']\n",
    "\n",
    "        # subplot index\n",
    "        r = i % rows\n",
    "        c = int(i / rows)\n",
    "        axes[r,c].plot(x, y)\n",
    "        axes[r,c].set_title(var)\n",
    "    "
   ]
  },
  {
   "cell_type": "code",
   "execution_count": null,
   "metadata": {
    "collapsed": false,
    "scrolled": false
   },
   "outputs": [],
   "source": [
    "# show data for 1 PARCOURS\n",
    "exp = 1\n",
    "subject = 'Andreas'\n",
    "trainset = trainsets[0]\n",
    "parcours = 101\n",
    "mutation = None\n",
    "gesture = None \n",
    "\n",
    "mydata = get_experiment(data,exp,trainset,subject,parcours,mutation,gesture)\n",
    "\n",
    "grid_plot(mydata)"
   ]
  },
  {
   "cell_type": "code",
   "execution_count": null,
   "metadata": {
    "collapsed": false
   },
   "outputs": [],
   "source": [
    "var = 'TimeStamp'\n",
    "one_plot(mydata,var)\n",
    "print \"Avg. TimeStamp delta:\", mydata['TimeStamp'].diff().mean()"
   ]
  },
  {
   "cell_type": "markdown",
   "metadata": {},
   "source": [
    "#### = Nice continuous data"
   ]
  },
  {
   "cell_type": "markdown",
   "metadata": {},
   "source": [
    "### Plot Gestures == Parcour-Steps inside 1 Trainset with different color:"
   ]
  },
  {
   "cell_type": "code",
   "execution_count": null,
   "metadata": {
    "collapsed": false,
    "scrolled": true
   },
   "outputs": [],
   "source": [
    "# which / how many gestures are in this parcours?\n",
    "gest_list = mydata['Gesture'].unique().tolist()\n",
    "\n",
    "for g in gest_list:\n",
    "    print \"G\", g, gesture_name(g)"
   ]
  },
  {
   "cell_type": "code",
   "execution_count": null,
   "metadata": {
    "collapsed": false
   },
   "outputs": [],
   "source": [
    "trainset"
   ]
  },
  {
   "cell_type": "code",
   "execution_count": null,
   "metadata": {
    "collapsed": false
   },
   "outputs": [],
   "source": [
    "var = 'EY'\n",
    "mydata.head()"
   ]
  },
  {
   "cell_type": "code",
   "execution_count": null,
   "metadata": {
    "collapsed": false
   },
   "outputs": [],
   "source": [
    "# define color map\n",
    "n_gestures = len(gestures_df)\n",
    "colors = matplotlib.cm.jet(np.linspace(0, 1, n_gestures))"
   ]
  },
  {
   "cell_type": "code",
   "execution_count": null,
   "metadata": {
    "collapsed": false
   },
   "outputs": [],
   "source": [
    "#print \"Plot of gestures in 1 Parcours by different colours:\"\n",
    "\n",
    "group_data = mydata.groupby(('Parcours','Parcours_Step'))\n",
    "\n",
    "plt.figure(figsize=(16,8))\n",
    "\n",
    "for idx, group_df in group_data:\n",
    "    gest_list = group_df['Gesture'].unique()\n",
    "    if len(gest_list) != 1:\n",
    "        raise ValueError(\"More than 1 gesture in parcours step:\" + str(gest_list))\n",
    "        \n",
    "    gest = gest_list[0]\n",
    "    color = tuple(colors[gest])\n",
    "    plt.plot(group_df['TimeStamp'], group_df[var], color=color, label=str(gest))\n",
    "\n",
    "# resorting lables in an OrderedDict as they would be repeated otherwise\n",
    "handles, labels = plt.gca().get_legend_handles_labels()\n",
    "by_label = OrderedDict(zip(labels, handles))\n",
    "plt.legend(by_label.values(), by_label.keys())  # loc='upper left')\n",
    "plt.title(\"Gestures in 1 Parcours by color\")\n",
    "pass"
   ]
  },
  {
   "cell_type": "code",
   "execution_count": null,
   "metadata": {
    "collapsed": false
   },
   "outputs": [],
   "source": [
    "one_plot(mydata,var)"
   ]
  },
  {
   "cell_type": "markdown",
   "metadata": {},
   "source": [
    "### Plot 1 Gesture"
   ]
  },
  {
   "cell_type": "code",
   "execution_count": null,
   "metadata": {
    "collapsed": false
   },
   "outputs": [],
   "source": [
    "# get data for 1 GESTURE\n",
    "\n",
    "mutation = None\n",
    "gesture = 1\n",
    "\n",
    "mydata = get_experiment(data,exp,trainset,subject,parcours,mutation,gesture)\n",
    "\n",
    "grid_plot(mydata)"
   ]
  },
  {
   "cell_type": "code",
   "execution_count": null,
   "metadata": {
    "collapsed": false
   },
   "outputs": [],
   "source": [
    "\n",
    "one_plot(mydata,'EY')"
   ]
  },
  {
   "cell_type": "code",
   "execution_count": null,
   "metadata": {
    "collapsed": false,
    "scrolled": true
   },
   "outputs": [],
   "source": [
    "var = 'TimeStamp'\n",
    "one_plot(mydata,var)\n",
    "print \"Avg. TimeStamp delta:\", mydata['TimeStamp'].diff().mean()"
   ]
  },
  {
   "cell_type": "markdown",
   "metadata": {},
   "source": [
    "#### = Cuts in the data! PROBLEM!!!\n",
    "\n",
    "#### CONCLUSION: USE PARCOURS DATA - but it may contain multiple gestures - how to group them??"
   ]
  },
  {
   "cell_type": "markdown",
   "metadata": {},
   "source": [
    "## Solution: Replace Nestures"
   ]
  },
  {
   "cell_type": "code",
   "execution_count": null,
   "metadata": {
    "collapsed": true
   },
   "outputs": [],
   "source": [
    "replace_nestures = True"
   ]
  },
  {
   "cell_type": "code",
   "execution_count": null,
   "metadata": {
    "collapsed": false
   },
   "outputs": [],
   "source": [
    "group_by = ('Subject','Experiment','Trainset','Parcours','Mutation','Gesture')\n",
    "group_df = data.groupby(group_by)\n",
    "print \"Originally\", len(group_df), \"individual gesture blocks\""
   ]
  },
  {
   "cell_type": "code",
   "execution_count": null,
   "metadata": {
    "collapsed": false
   },
   "outputs": [],
   "source": [
    "data.groupby(group_by).count().head(20)"
   ]
  },
  {
   "cell_type": "code",
   "execution_count": null,
   "metadata": {
    "collapsed": true
   },
   "outputs": [],
   "source": [
    "# Therefore Group by PARCOURS\n",
    "# group data nicely, subdivided by Subject, Experiment, Trainset, Parcours\n",
    "group_by = ('Subject','Experiment','Trainset','Parcours')"
   ]
  },
  {
   "cell_type": "code",
   "execution_count": null,
   "metadata": {
    "collapsed": false
   },
   "outputs": [],
   "source": [
    "# just show groups first\n",
    "data.groupby(group_by).count().head(20)"
   ]
  },
  {
   "cell_type": "code",
   "execution_count": null,
   "metadata": {
    "collapsed": false
   },
   "outputs": [],
   "source": [
    "# CHECK before: how many / which gestures are in each Parcours\n",
    "\n",
    "for name_tuple, group_data in data.groupby(group_by):\n",
    "    gest_list = group_data['Gesture'].unique().tolist()\n",
    "    print name_tuple, \":\", gest_list"
   ]
  },
  {
   "cell_type": "code",
   "execution_count": null,
   "metadata": {
    "collapsed": false
   },
   "outputs": [],
   "source": [
    "# Step 1: replace ALL Nestures by NaN\n",
    "if replace_nestures:\n",
    "    # make a copy of the complete data before altering anything\n",
    "    data_nonest = data.copy()\n",
    "    idx_nestures = data_nonest['Gesture'].isin(nestures)\n",
    "    # replace nestures by NaN\n",
    "    data_nonest.loc[idx_nestures,'Gesture'] = np.nan\n",
    "    print data_nonest.head()"
   ]
  },
  {
   "cell_type": "code",
   "execution_count": null,
   "metadata": {
    "collapsed": false
   },
   "outputs": [],
   "source": [
    "data.head()"
   ]
  },
  {
   "cell_type": "code",
   "execution_count": null,
   "metadata": {
    "collapsed": false
   },
   "outputs": [],
   "source": [
    "data_nonest.head()"
   ]
  },
  {
   "cell_type": "code",
   "execution_count": null,
   "metadata": {
    "collapsed": false
   },
   "outputs": [],
   "source": [
    "# CHECK after: which gestures are in each Parcours\n",
    "if replace_nestures:\n",
    "    for name_tuple, group_data in data_nonest.groupby(group_by):\n",
    "        print name_tuple, \":\", group_data['Gesture'].unique().tolist()\n",
    "        \n",
    "    #if len(gest_list) != 1:\n",
    "    #    raise ValueError(\"Parcours-Step has more than 1 gesture!\")"
   ]
  },
  {
   "cell_type": "code",
   "execution_count": null,
   "metadata": {
    "collapsed": true
   },
   "outputs": [],
   "source": [
    "# now we can use the Forward FILL and Backward FILL methods of Pandas\n",
    "# to replace the NaNs by the values that come before or after\n",
    "\n",
    "# BUT: we shall not do that across Parcours/Experiments!"
   ]
  },
  {
   "cell_type": "code",
   "execution_count": null,
   "metadata": {
    "collapsed": false
   },
   "outputs": [],
   "source": [
    "# GROUPBY helps us here to apply the fill methods only within a PARCOURS\n",
    "\n",
    "if replace_nestures:\n",
    "    # BACKWARD FILL first by later values to NaNs before\n",
    "    data_nonest = data_nonest.groupby(group_by).bfill()\n",
    "\n",
    "    # in case there would be NaNs left, do also a FORWARD FILL\n",
    "    #data = data.groupby(group_by).ffill()\n",
    "    \n",
    "    print \"Replaced Nestures by filling with neighboured Gestures!\"\n",
    "    print np.isnan(data_nonest['Gesture']).sum(), \"NaN values remaining. Should be 0.\""
   ]
  },
  {
   "cell_type": "code",
   "execution_count": null,
   "metadata": {
    "collapsed": true
   },
   "outputs": [],
   "source": [
    "# NOTE: bfill applies to ALL COLUMNS! so there might be other columns affected by this!\n",
    "# TODO double-check any side effects!"
   ]
  },
  {
   "cell_type": "code",
   "execution_count": null,
   "metadata": {
    "collapsed": false
   },
   "outputs": [],
   "source": [
    "# adding NaNs cause the Gesture column to be converted from int to float\n",
    "# we convert back to int\n",
    "if replace_nestures:\n",
    "    data_nonest['Gesture'] = data_nonest['Gesture'].astype(int)"
   ]
  },
  {
   "cell_type": "code",
   "execution_count": null,
   "metadata": {
    "collapsed": false
   },
   "outputs": [],
   "source": [
    "max_num_gest = 0\n",
    "\n",
    "# CHECK after: which gestures are in each Parcours\n",
    "if replace_nestures:\n",
    "    for name_tuple, group_data in data_nonest.groupby(group_by):\n",
    "        gest_list = group_data['Gesture'].unique().tolist()\n",
    "        print name_tuple, \":\", gest_list\n",
    "        l = len(gest_list)\n",
    "        max_num_gest = max(l,max_num_gest)"
   ]
  },
  {
   "cell_type": "code",
   "execution_count": null,
   "metadata": {
    "collapsed": false,
    "scrolled": true
   },
   "outputs": [],
   "source": [
    "max_num_gest"
   ]
  },
  {
   "cell_type": "code",
   "execution_count": null,
   "metadata": {
    "collapsed": false
   },
   "outputs": [],
   "source": [
    "# Nesture -> NaN has been correctly replaced by Gesture 1:\n",
    "data_nonest.head()"
   ]
  },
  {
   "cell_type": "code",
   "execution_count": null,
   "metadata": {
    "collapsed": false
   },
   "outputs": [],
   "source": [
    "# check via groupby:\n",
    "group_by = ('Subject','Experiment','Trainset','Parcours','Gesture')\n",
    "group_df = data_nonest.groupby(group_by)\n",
    "print \"After nesture replacement\", len(group_df), \"individual gesture blocks\""
   ]
  },
  {
   "cell_type": "code",
   "execution_count": null,
   "metadata": {
    "collapsed": false
   },
   "outputs": [],
   "source": [
    "group_df.count()"
   ]
  },
  {
   "cell_type": "code",
   "execution_count": null,
   "metadata": {
    "collapsed": true
   },
   "outputs": [],
   "source": [
    "# keep original data in a variable\n",
    "data_orig = data"
   ]
  },
  {
   "cell_type": "code",
   "execution_count": null,
   "metadata": {
    "collapsed": true
   },
   "outputs": [],
   "source": [
    "# from here on we use data again for data_nonest\n",
    "\n",
    "if replace_nestures:\n",
    "    data = data_nonest"
   ]
  },
  {
   "cell_type": "markdown",
   "metadata": {},
   "source": [
    "## Data Pre-Procssing Part I"
   ]
  },
  {
   "cell_type": "markdown",
   "metadata": {},
   "source": [
    "### Which Sensor Parameters to use?"
   ]
  },
  {
   "cell_type": "code",
   "execution_count": null,
   "metadata": {
    "collapsed": true
   },
   "outputs": [],
   "source": [
    "include_GRASP = True\n",
    "\n",
    "if include_GRASP:\n",
    "    params = ['AX', 'AY', 'AZ', 'EX', 'EY', 'EZ', 'GRASP_A', 'GRASP_B', 'GRASP_C']\n",
    "else:\n",
    "    params = ['AX', 'AY', 'AZ', 'EX', 'EY', 'EZ']\n",
    "\n",
    "# TODO add RFID?"
   ]
  },
  {
   "cell_type": "markdown",
   "metadata": {},
   "source": [
    "### Normalize Parameter columns to -1, 1\n",
    "\n",
    "here it's done globally. if set to False, there is an option to do it locally later"
   ]
  },
  {
   "cell_type": "code",
   "execution_count": null,
   "metadata": {
    "collapsed": true
   },
   "outputs": [],
   "source": [
    "normalize_global = False\n",
    "# normalize_global means we normalize all parameter columns at once, globally => NO LATER TREATMENT"
   ]
  },
  {
   "cell_type": "code",
   "execution_count": null,
   "metadata": {
    "collapsed": false
   },
   "outputs": [],
   "source": [
    "data[params].head()"
   ]
  },
  {
   "cell_type": "code",
   "execution_count": null,
   "metadata": {
    "collapsed": true
   },
   "outputs": [],
   "source": [
    "if normalize_global:\n",
    "    # normalize to -1, 1\n",
    "    data[params] = preprocessing.minmax_scale(data[params], feature_range=(-1, 1), axis=0, copy=False)"
   ]
  },
  {
   "cell_type": "code",
   "execution_count": null,
   "metadata": {
    "collapsed": false
   },
   "outputs": [],
   "source": [
    "data[params].head()"
   ]
  },
  {
   "cell_type": "markdown",
   "metadata": {
    "collapsed": true
   },
   "source": [
    "## Groupings for each Gesture (by Subject, Experiment, Trainset, Parcours and Mutation)\n",
    "\n",
    "to be further processed for learning"
   ]
  },
  {
   "cell_type": "code",
   "execution_count": null,
   "metadata": {
    "collapsed": false,
    "scrolled": true
   },
   "outputs": [],
   "source": [
    "# A) GET INDIVIDUAL GESTURES \n",
    "# group data nicely, subdivided by Subject, Experiment, Trainset, Parcours, Gesture\n",
    "\n",
    "if replace_nestures:\n",
    "    # NOTE: we HAVE to remove Mutation here! otherwise the Gestures merged by replacing Nestures will still be SEPARATE\n",
    "    group_by = ('Subject','Experiment','Trainset','Parcours','Gesture')\n",
    "else:\n",
    "    group_by = ('Subject','Experiment','Trainset','Parcours','Mutation','Gesture')\n",
    "\n",
    "group_df = data.groupby(group_by)\n",
    "group_df.mean().head(100)  # mean is not meaningful here as aggregation - just to print the structure of the data"
   ]
  },
  {
   "cell_type": "code",
   "execution_count": null,
   "metadata": {
    "collapsed": false
   },
   "outputs": [],
   "source": [
    "print len(group_df), \"individual gesture blocks\""
   ]
  },
  {
   "cell_type": "code",
   "execution_count": null,
   "metadata": {
    "collapsed": false
   },
   "outputs": [],
   "source": [
    "# B) GET PARCOURS - AVOIDS CUTS IN THE DATA - BUT MERGES MULTIPLE GESTURES (!!)\n",
    "\n",
    "# EXPERIMENTAL-  DO NOT USE\n",
    "def unused():\n",
    "    \n",
    "    # group data nicely, subdivided by Subject, Experiment, Parcours, Mutation, Gesture\n",
    "    group_by = ('Subject','Experiment','Trainset','Parcours')\n",
    "    group_df = data.groupby(group_by)\n",
    "    group_df.mean().head(100)  # mean is not meaningful here as aggregation - just to print the structure of the data"
   ]
  },
  {
   "cell_type": "code",
   "execution_count": null,
   "metadata": {
    "collapsed": false
   },
   "outputs": [],
   "source": [
    "\n",
    "# store for each group (parcours) the prevalent gesture\n",
    "\n",
    "def unused():\n",
    "    prevalent_gestures = []\n",
    "\n",
    "    for name_tuple, group_data in group_df:\n",
    "\n",
    "        # TODO this is a TEMPORARY SOLUTION - some PARCOURS contain multiple gestures!!!\n",
    "        # get all gestures in Parcours, descending by count (TODO: use size())\n",
    "        gest_sub_df = group_data.groupby(\"Gesture\").count().sort_values('Experiment', ascending=False)\n",
    "        # retain only \"positive\" gestures, remove nestures\n",
    "        idx_pos = gest_sub_df.index.intersection(pd.Index(gestures_pos))\n",
    "        # get the most frequent gesture\n",
    "        gest_most_frequent = gest_sub_df.ix[idx_pos].index[0]\n",
    "\n",
    "        prevalent_gestures.append(gest_most_frequent)\n",
    "\n",
    "        print name_tuple, \":\", group_data['Gesture'].unique().tolist(), \"- most frequent:\", gest_most_frequent\n",
    "\n",
    "        # only for debugging\n",
    "        if name_tuple == ('Alfred', 8, 231): # gestures:  [15, 16, 3, 4]\n",
    "            test_group_data = group_data\n",
    "\n",
    "        if name_tuple == ('Alfred', 2, 101): # gestures:  [15, 1, 17] - most frequent: 17\n",
    "            test_group_data2 = group_data\n",
    "\n",
    "            # REPLACE original gestures by PREVALENT GESTURE\n",
    "            # DOES NOT WORK ON ORIGINAL DATA!!!!!\n",
    "            #group_data['Gesture'] = gest_most_frequent\n"
   ]
  },
  {
   "cell_type": "markdown",
   "metadata": {},
   "source": [
    "## Get Gesture Data: 1 Block per each individual Gesture\n",
    "\n",
    "we put each time series that belong to 1 particular gesture in a particular parcours into a dictionary,\n",
    "which contains a list of such time series blocks per gesture entry in the dict"
   ]
  },
  {
   "cell_type": "code",
   "execution_count": null,
   "metadata": {
    "collapsed": false
   },
   "outputs": [],
   "source": [
    "# now we ITERATE nicely through group_df and get each Gesture block individually\n",
    "# -> group_data will be a dataframe just for a single gesture\n",
    "\n",
    "i=0\n",
    "# dictionary containing a list of sub-datasets for each gesture, to train ML\n",
    "gesture_exp_dict = {}\n",
    "\n",
    "for name_tuple, group_data in group_df:\n",
    "    i += 1\n",
    "    #print str(name_tuple)\n",
    "    gesture = name_tuple[-1]  # gesture is last element of tuple, as defined in group_by above\n",
    "    \n",
    "    # initalize empty list for this gesture\n",
    "    if gesture not in gesture_exp_dict.keys():\n",
    "        gesture_exp_dict[gesture] = [] \n",
    "        \n",
    "    # add data to gesture dict\n",
    "    gesture_exp_dict[gesture].append(group_data)\n",
    "    \n",
    "    # NOTE that group_data here still contains ALL data columns. we will redue to params later\n",
    "\n",
    "print \"DONE:\", i, \"gesture blocks\""
   ]
  },
  {
   "cell_type": "code",
   "execution_count": null,
   "metadata": {
    "collapsed": true
   },
   "outputs": [],
   "source": [
    "# Older version iterating over experiments with FOR loop - MUCH SLOWER! \n",
    "# - UNUSED BUT KEPT FOR EXAMPLE HOW IT CAN BE DONE - \n",
    "# Iterate over Experiments etc. to group data by gestures\n",
    "\n",
    "def unused():\n",
    "\n",
    "    # dictionary containing a list of sub-datasets for each gesture, to train ML\n",
    "    gesture_exp_dict = {}\n",
    "\n",
    "    experiments = data['Experiment'].unique().tolist()\n",
    "\n",
    "    for subject in subjects:\n",
    "        for exp in experiments:\n",
    "\n",
    "            exp_data = get_experiment(data,exp,subject,parcours=None,mutation=None,gesture=None)\n",
    "\n",
    "            if exp_data.shape[0] > 0:\n",
    "                # list of parcours in this experiment\n",
    "                parc_list = exp_data['Parcours'].unique().tolist()\n",
    "\n",
    "                print subject, exp, \":\", len(parc_list), \"parcours\"\n",
    "\n",
    "    #            for parc in parc_list:\n",
    "                for parc in parc_list[:5]:     # DEBUG: take only first 5 parcours per experiment\n",
    "                    mydata = get_experiment(data,exp,subject,parc,mutation=None,gesture=None)\n",
    "                    mutations = exp_data['Mutation'].unique().tolist()\n",
    "                    gestures = exp_data['Gesture'].unique().tolist() \n",
    "\n",
    "                    print \"- P\", parc, mydata.shape, len(mutations), \"mutations\", len(gestures), \"gestures\"\n",
    "\n",
    "                    for mut in mutations:\n",
    "                        mydata = get_experiment(data,exp,subject,parc,mut,gesture=None)\n",
    "                        gestures = mydata['Gesture'].unique().tolist() \n",
    "\n",
    "                        for gest in gestures:\n",
    "                            mydata = get_experiment(data,exp,subject,parc,mut,gest)\n",
    "                            print mydata.shape\n",
    "                            # add data to gesture dict\n",
    "                            if mydata.shape[0] > 0:\n",
    "                                if gest not in gesture_exp_dict.keys():\n",
    "                                    gesture_exp_dict[gest] = [] # initalize empty list for this gesture\n",
    "                                # add data to gesture dict\n",
    "                                gesture_exp_dict[gest].append(mydata)\n",
    "\n",
    "    print \"FINISHED.\""
   ]
  },
  {
   "cell_type": "code",
   "execution_count": null,
   "metadata": {
    "collapsed": false
   },
   "outputs": [],
   "source": [
    "# How many data blocks = training examples do we have for each gesture\n",
    "for gest in sorted(gesture_exp_dict.keys()):\n",
    "    print \"G\", gest, '\\t', len(gesture_exp_dict[gest]), \"training data blocks\", '\\t', gesture_name(gest) "
   ]
  },
  {
   "cell_type": "code",
   "execution_count": null,
   "metadata": {
    "collapsed": false
   },
   "outputs": [],
   "source": [
    "# how many data points (= samples or timesteps) does each data block have?\n",
    "\n",
    "data_sizes = {} # collect per gesture in dict\n",
    "data_sizes_total = [] # collect all in list\n",
    "\n",
    "print \"average data length (number of samples) per gesture:\"\n",
    "\n",
    "for gest in sorted(gesture_exp_dict.keys()):\n",
    "    print \"G\", gest, ':\\t', \n",
    "    data_sizes[gest] = []\n",
    "    for datablock in gesture_exp_dict[gest]:\n",
    "        size = datablock.shape[0]\n",
    "        #print size,\n",
    "        # TODO data_sizes ...\n",
    "        data_sizes[gest].append(size)\n",
    "        data_sizes_total.append(size)\n",
    "    print int(np.mean(data_sizes[gest]))"
   ]
  },
  {
   "cell_type": "code",
   "execution_count": null,
   "metadata": {
    "collapsed": false
   },
   "outputs": [],
   "source": [
    "print min(data_sizes_total), max(data_sizes_total)"
   ]
  },
  {
   "cell_type": "code",
   "execution_count": null,
   "metadata": {
    "collapsed": false
   },
   "outputs": [],
   "source": [
    "# average data length (number of samples)\n",
    "print \"Average data length (number of samples) of all gestures\"\n",
    "avg_data_len = int(np.mean(data_sizes_total))\n",
    "avg_data_len"
   ]
  },
  {
   "cell_type": "markdown",
   "metadata": {},
   "source": [
    "### Verification: How does the individual Gesture Data look like"
   ]
  },
  {
   "cell_type": "code",
   "execution_count": null,
   "metadata": {
    "collapsed": false
   },
   "outputs": [],
   "source": [
    "# get 0th entry fo gesture 1\n",
    "g = gesture = 1\n",
    "i=0\n",
    "mydata = gesture_exp_dict[g][i]\n",
    "mydata.shape"
   ]
  },
  {
   "cell_type": "code",
   "execution_count": null,
   "metadata": {
    "collapsed": false
   },
   "outputs": [],
   "source": [
    "mydata.head()"
   ]
  },
  {
   "cell_type": "code",
   "execution_count": null,
   "metadata": {
    "collapsed": false
   },
   "outputs": [],
   "source": [
    "one_plot(mydata,'TimeStamp')"
   ]
  },
  {
   "cell_type": "code",
   "execution_count": null,
   "metadata": {
    "collapsed": false
   },
   "outputs": [],
   "source": [
    "title = \"G%d #%d - %s\" % (g,i,gesture_name(g))\n",
    "grid_plot(mydata, title)"
   ]
  },
  {
   "cell_type": "code",
   "execution_count": null,
   "metadata": {
    "collapsed": true
   },
   "outputs": [],
   "source": [
    "# get 3rd entry fo gesture 3\n",
    "g = gesture = 3\n",
    "i=3\n",
    "mydata = gesture_exp_dict[g][i]"
   ]
  },
  {
   "cell_type": "code",
   "execution_count": null,
   "metadata": {
    "collapsed": false
   },
   "outputs": [],
   "source": [
    "one_plot(mydata,'TimeStamp')"
   ]
  },
  {
   "cell_type": "code",
   "execution_count": null,
   "metadata": {
    "collapsed": false
   },
   "outputs": [],
   "source": [
    "title = \"G%d #%d - %s\" % (g,i,gesture_name(g))\n",
    "grid_plot(mydata, title)"
   ]
  },
  {
   "cell_type": "code",
   "execution_count": null,
   "metadata": {
    "collapsed": true
   },
   "outputs": [],
   "source": [
    "g = 4\n",
    "i=2\n",
    "mydata = gesture_exp_dict[g][i]"
   ]
  },
  {
   "cell_type": "code",
   "execution_count": null,
   "metadata": {
    "collapsed": false,
    "scrolled": false
   },
   "outputs": [],
   "source": [
    "title = \"G%d #%d - %s\" % (g,i,gesture_name(g))\n",
    "grid_plot(mydata, title)"
   ]
  },
  {
   "cell_type": "code",
   "execution_count": null,
   "metadata": {
    "collapsed": false
   },
   "outputs": [],
   "source": [
    "one_plot(mydata,'TimeStamp')"
   ]
  },
  {
   "cell_type": "markdown",
   "metadata": {},
   "source": [
    "## TODO why do we still have step data here??"
   ]
  },
  {
   "cell_type": "markdown",
   "metadata": {},
   "source": [
    "## Data Pre-Processing Part II"
   ]
  },
  {
   "cell_type": "markdown",
   "metadata": {},
   "source": [
    "### Reduce Data to desired parameter columns"
   ]
  },
  {
   "cell_type": "code",
   "execution_count": null,
   "metadata": {
    "collapsed": false
   },
   "outputs": [],
   "source": [
    "# in the group_df iteration before, we kept all data columns \n",
    "# now we ITERATE over the gesture_exp_dict again, retaining only the parameter columns\n",
    "\n",
    "gesture_dict_params = {}\n",
    "n_datablocks = 0\n",
    "\n",
    "for g in sorted(gesture_exp_dict.keys()):\n",
    "    print \"G\" + str(g) +'\\t',\n",
    "        \n",
    "    #initalize empty list for this gesture\n",
    "    gesture_dict_params[g] = [] \n",
    "            \n",
    "    for datablock in gesture_exp_dict[g]:\n",
    "\n",
    "        # reduce to params columns\n",
    "        datablock_params = datablock[params] # .T # prevously: # transpose: 9 data rows with params, cols is time series\n",
    "        \n",
    "        # add data to new gesture dict\n",
    "        gesture_dict_params[g].append(datablock_params)\n",
    "        \n",
    "        n_datablocks += 1\n",
    "    \n",
    "    print len(gesture_dict_params[g]), \"data blocks\"\n",
    "print"
   ]
  },
  {
   "cell_type": "markdown",
   "metadata": {},
   "source": [
    "### Normalization: Min-Max Scaling - Testing"
   ]
  },
  {
   "cell_type": "markdown",
   "metadata": {},
   "source": [
    "#### Test for 1 signal"
   ]
  },
  {
   "cell_type": "code",
   "execution_count": null,
   "metadata": {
    "collapsed": true
   },
   "outputs": [],
   "source": [
    "# get 0th entry fo gesture 1\n",
    "g = 1\n",
    "i=0\n",
    "mydata = gesture_dict_params[g][i]\n",
    "var = 'EZ'\n",
    "signal_orig = mydata[var]"
   ]
  },
  {
   "cell_type": "code",
   "execution_count": null,
   "metadata": {
    "collapsed": false
   },
   "outputs": [],
   "source": [
    "# plot with indices on x\n",
    "y = signal_orig\n",
    "plt.plot(range(len(y)), y)"
   ]
  },
  {
   "cell_type": "code",
   "execution_count": null,
   "metadata": {
    "collapsed": true
   },
   "outputs": [],
   "source": [
    "# normalize to -1, 1\n",
    "signal_normalized = preprocessing.minmax_scale(signal_orig, feature_range=(-1, 1))"
   ]
  },
  {
   "cell_type": "code",
   "execution_count": null,
   "metadata": {
    "collapsed": false
   },
   "outputs": [],
   "source": [
    "# plot with indices on x\n",
    "y = signal_normalized\n",
    "plt.plot(range(len(y)), y)"
   ]
  },
  {
   "cell_type": "markdown",
   "metadata": {},
   "source": [
    "#### Test for all signals"
   ]
  },
  {
   "cell_type": "code",
   "execution_count": null,
   "metadata": {
    "collapsed": false
   },
   "outputs": [],
   "source": [
    "# try on a block of data\n",
    "mydata.head()"
   ]
  },
  {
   "cell_type": "code",
   "execution_count": null,
   "metadata": {
    "collapsed": false
   },
   "outputs": [],
   "source": [
    "# normalize all rows\n",
    "mydata_norm = preprocessing.minmax_scale(mydata, feature_range=(-1, 1),axis=0)\n",
    "mydata_norm.shape"
   ]
  },
  {
   "cell_type": "code",
   "execution_count": null,
   "metadata": {
    "collapsed": false
   },
   "outputs": [],
   "source": [
    "mydata_norm = pd.DataFrame(mydata_norm, index=mydata.index, columns=mydata.columns)\n",
    "mydata_norm.head()"
   ]
  },
  {
   "cell_type": "code",
   "execution_count": null,
   "metadata": {
    "collapsed": false
   },
   "outputs": [],
   "source": [
    "# before\n",
    "var = 'EZ'\n",
    "y = mydata[var]\n",
    "plt.plot(range(len(y)), y)"
   ]
  },
  {
   "cell_type": "code",
   "execution_count": null,
   "metadata": {
    "collapsed": false
   },
   "outputs": [],
   "source": [
    "# plot with indices on x\n",
    "y = mydata_norm[var]\n",
    "plt.plot(range(len(y)), y)"
   ]
  },
  {
   "cell_type": "markdown",
   "metadata": {},
   "source": [
    "### Normalization: Min-Max Scaling"
   ]
  },
  {
   "cell_type": "code",
   "execution_count": null,
   "metadata": {
    "collapsed": true
   },
   "outputs": [],
   "source": [
    "make_copy = True  # MAKE A COPY OF THE DATA for normalized version -> takes more RAM"
   ]
  },
  {
   "cell_type": "code",
   "execution_count": null,
   "metadata": {
    "collapsed": false
   },
   "outputs": [],
   "source": [
    "# Loop over ALL gesture data\n",
    "# build new gesture dictionary for normalized data\n",
    "\n",
    "gesture_dict_norm = {}\n",
    "\n",
    "for g in sorted(gesture_dict_params.keys()):\n",
    "    print \"G\" + str(g) +'\\t',\n",
    "\n",
    "    #initalize empty list for this gesture\n",
    "    gesture_dict_norm[g] = [] \n",
    "\n",
    "    for datablock in gesture_dict_params[g]:\n",
    "\n",
    "        # normalize all param columns\n",
    "        datablock_norm = preprocessing.minmax_scale(datablock, feature_range=(-1, 1), axis=0, copy=make_copy)\n",
    "        \n",
    "        # make DataFrame again (to retriev column parameters later)\n",
    "        datablock_norm = pd.DataFrame(datablock_norm, index=datablock.index, columns=datablock.columns)\n",
    "\n",
    "        # add data to new gesture dict\n",
    "        gesture_dict_norm[g].append(datablock_norm)\n",
    "\n",
    "    print len(gesture_dict_norm[g]), \"data blocks\""
   ]
  },
  {
   "cell_type": "code",
   "execution_count": null,
   "metadata": {
    "collapsed": true
   },
   "outputs": [],
   "source": [
    "# Verifying normalization"
   ]
  },
  {
   "cell_type": "code",
   "execution_count": null,
   "metadata": {
    "collapsed": false
   },
   "outputs": [],
   "source": [
    "# get 0th entry fo gesture 1\n",
    "g = 1\n",
    "i=0\n",
    "mydata = gesture_dict_norm[g][i]\n",
    "mydata.head()"
   ]
  },
  {
   "cell_type": "code",
   "execution_count": null,
   "metadata": {
    "collapsed": false
   },
   "outputs": [],
   "source": [
    "var = 'EZ'\n",
    "y = mydata[var]\n",
    "plt.plot(range(len(y)), y)"
   ]
  },
  {
   "cell_type": "markdown",
   "metadata": {},
   "source": [
    "### Testing Time Normalization: Resampling"
   ]
  },
  {
   "cell_type": "code",
   "execution_count": null,
   "metadata": {
    "collapsed": false
   },
   "outputs": [],
   "source": [
    "# Time Normalize / Interpolate time stamps\n",
    "signal_orig = gesture_exp_dict[g][i]['EZ']\n",
    "signal_orig_timestamps = gesture_exp_dict[g][i]['TimeStamp'].values"
   ]
  },
  {
   "cell_type": "code",
   "execution_count": null,
   "metadata": {
    "collapsed": false
   },
   "outputs": [],
   "source": [
    "# plot with indices on x\n",
    "y = signal_orig\n",
    "plt.plot(range(len(y)), y)"
   ]
  },
  {
   "cell_type": "code",
   "execution_count": null,
   "metadata": {
    "collapsed": false
   },
   "outputs": [],
   "source": [
    "# plot with timestamps on x\n",
    "plt.plot(signal_orig_timestamps, signal_orig)"
   ]
  },
  {
   "cell_type": "code",
   "execution_count": null,
   "metadata": {
    "collapsed": false
   },
   "outputs": [],
   "source": [
    "signal_orig_timestamps"
   ]
  },
  {
   "cell_type": "code",
   "execution_count": null,
   "metadata": {
    "collapsed": true
   },
   "outputs": [],
   "source": [
    "# testing\n",
    "#samples = 500 \n",
    "\n",
    "# we set number of samples in resample signal to average number of samples across all gestures\n",
    "samples = avg_data_len\n",
    "\n",
    "# TODO: try min or max of sample length of all gestures\n",
    "\n",
    "# If t is not given, it is assumed to be the sample positions associated with the signal data in x.\n",
    "signal_resampled = resample(signal_orig, num=samples, window='hann') # , t=None,"
   ]
  },
  {
   "cell_type": "code",
   "execution_count": null,
   "metadata": {
    "collapsed": false
   },
   "outputs": [],
   "source": [
    "signal_resampled2, timestamps2 = resample(signal_orig, num=samples, t=signal_orig_timestamps, window='hann')"
   ]
  },
  {
   "cell_type": "code",
   "execution_count": null,
   "metadata": {
    "collapsed": false
   },
   "outputs": [],
   "source": [
    "np.all(signal_resampled == signal_resampled2)"
   ]
  },
  {
   "cell_type": "code",
   "execution_count": null,
   "metadata": {
    "collapsed": false
   },
   "outputs": [],
   "source": [
    "# plot with indices on x\n",
    "y = signal_resampled\n",
    "plt.plot(range(len(y)), y)"
   ]
  },
  {
   "cell_type": "code",
   "execution_count": null,
   "metadata": {
    "collapsed": false
   },
   "outputs": [],
   "source": [
    "# plot with indices on x\n",
    "y = signal_resampled2\n",
    "plt.plot(range(len(y)), y)"
   ]
  },
  {
   "cell_type": "code",
   "execution_count": null,
   "metadata": {
    "collapsed": false
   },
   "outputs": [],
   "source": [
    "# plot with timestamps on x\n",
    "y = signal_resampled2\n",
    "plt.plot(timestamps2, y)"
   ]
  },
  {
   "cell_type": "code",
   "execution_count": null,
   "metadata": {
    "collapsed": false
   },
   "outputs": [],
   "source": [
    "max(signal_orig_timestamps)"
   ]
  },
  {
   "cell_type": "code",
   "execution_count": null,
   "metadata": {
    "collapsed": false
   },
   "outputs": [],
   "source": [
    "max(timestamps2)"
   ]
  },
  {
   "cell_type": "code",
   "execution_count": null,
   "metadata": {
    "collapsed": false
   },
   "outputs": [],
   "source": [
    "len(signal_resampled2)"
   ]
  },
  {
   "cell_type": "code",
   "execution_count": null,
   "metadata": {
    "collapsed": false
   },
   "outputs": [],
   "source": [
    "# timestamp delta\n",
    "max(timestamps2) / len(signal_resampled2) "
   ]
  },
  {
   "cell_type": "code",
   "execution_count": null,
   "metadata": {
    "collapsed": false
   },
   "outputs": [],
   "source": [
    "# TODO compute sampling rate across all input, not just this one\n",
    "sampling_rate = 1.0 / (max(timestamps2) / 1000000.0/ len(signal_resampled2)) # / 1000 = ms to sec\n",
    "sampling_rate"
   ]
  },
  {
   "cell_type": "markdown",
   "metadata": {},
   "source": [
    "### Resampling / Time Normalization - Batch"
   ]
  },
  {
   "cell_type": "code",
   "execution_count": null,
   "metadata": {
    "collapsed": true
   },
   "outputs": [],
   "source": [
    "use_normalized_for_resampling = True"
   ]
  },
  {
   "cell_type": "code",
   "execution_count": null,
   "metadata": {
    "collapsed": true
   },
   "outputs": [],
   "source": [
    "if use_normalized_for_resampling and not normalize_global:\n",
    "    # normalized\n",
    "    input_dict = gesture_dict_norm\n",
    "else:\n",
    "    # original\n",
    "    input_dict = gesture_dict_params"
   ]
  },
  {
   "cell_type": "code",
   "execution_count": null,
   "metadata": {
    "collapsed": false
   },
   "outputs": [],
   "source": [
    "# Resample Loop over ALL data\n",
    "\n",
    "# build new gesture dictionary for resampled data\n",
    "\n",
    "gesture_dict_resampled = {}\n",
    "\n",
    "for g in sorted(input_dict.keys()):\n",
    "    print \"G\", g#, ':\\t'#, \n",
    "    gesture_dict_resampled[g] = [] # initalize empty list for this gesture\n",
    "    \n",
    "    for datablock in input_dict[g]:\n",
    "        #print datablock.shape, \n",
    "\n",
    "        # resample the whole block to target number of samples\n",
    "        # a) without original timestamps\n",
    "        datablock_resampled = resample(datablock, num=samples, axis=0, window='hann')\n",
    "        \n",
    "        # b) TODO re-interpolation according to original timestamps\n",
    "        #datablock['TimeStamp'].values # TODO keep them before\n",
    "        #datablock_resampled = resample(datablock, num=samples, axis=0, t=signal_orig_timestamps)\n",
    "        \n",
    "        # make DataFrame again (to retrieve column parameters later)\n",
    "        datablock_resampled = pd.DataFrame(datablock_resampled, columns=datablock.columns)\n",
    "\n",
    "        # add data to new gesture dict\n",
    "        gesture_dict_resampled[g].append(datablock_resampled)\n",
    "    #print"
   ]
  },
  {
   "cell_type": "code",
   "execution_count": null,
   "metadata": {
    "collapsed": false
   },
   "outputs": [],
   "source": [
    "datablock"
   ]
  },
  {
   "cell_type": "markdown",
   "metadata": {},
   "source": [
    "### Time Resampling - Verification"
   ]
  },
  {
   "cell_type": "code",
   "execution_count": null,
   "metadata": {
    "collapsed": false
   },
   "outputs": [],
   "source": [
    "datablock.shape"
   ]
  },
  {
   "cell_type": "code",
   "execution_count": null,
   "metadata": {
    "collapsed": false
   },
   "outputs": [],
   "source": [
    "# get 0th entry fo gesture 1\n",
    "g = 1\n",
    "i=0\n",
    "mydata = input_dict[g][i]\n",
    "mydata.head()"
   ]
  },
  {
   "cell_type": "code",
   "execution_count": null,
   "metadata": {
    "collapsed": false
   },
   "outputs": [],
   "source": [
    "# before\n",
    "var = 'EX'\n",
    "y = mydata[var]\n",
    "plt.plot(range(len(y)), y)"
   ]
  },
  {
   "cell_type": "code",
   "execution_count": null,
   "metadata": {
    "collapsed": false
   },
   "outputs": [],
   "source": [
    "# after\n",
    "mydata_res = gesture_dict_resampled[g][i]\n",
    "mydata_res.head()"
   ]
  },
  {
   "cell_type": "code",
   "execution_count": null,
   "metadata": {
    "collapsed": false,
    "scrolled": true
   },
   "outputs": [],
   "source": [
    "y = mydata_res[var]\n",
    "plt.plot(range(len(y)), y)"
   ]
  },
  {
   "cell_type": "markdown",
   "metadata": {},
   "source": [
    "### Testing: Calc Derivative Signals"
   ]
  },
  {
   "cell_type": "code",
   "execution_count": null,
   "metadata": {
    "collapsed": false
   },
   "outputs": [],
   "source": [
    "# Calc derivatives \n",
    "\n",
    "v = 'EX'\n",
    "y = mydata[var]\n",
    "\n",
    "y_d = np.gradient(y) \n",
    "plt.plot(range(len(y_d)), y_d)"
   ]
  },
  {
   "cell_type": "code",
   "execution_count": null,
   "metadata": {
    "collapsed": false
   },
   "outputs": [],
   "source": [
    "# can we do it on the matrix of input signals?\n",
    "mydata_deriv = np.gradient(mydata, axis=0)\n",
    "mydata_deriv.shape"
   ]
  },
  {
   "cell_type": "code",
   "execution_count": null,
   "metadata": {
    "collapsed": false
   },
   "outputs": [],
   "source": [
    "# deriv from full matrix\n",
    "i = mydata.columns.get_loc(var)\n",
    "i"
   ]
  },
  {
   "cell_type": "code",
   "execution_count": null,
   "metadata": {
    "collapsed": false
   },
   "outputs": [],
   "source": [
    "y = mydata_deriv[:,i]\n",
    "plt.plot(range(len(y)), y)"
   ]
  },
  {
   "cell_type": "markdown",
   "metadata": {},
   "source": [
    "#### -> Problem with Artefacts!"
   ]
  },
  {
   "cell_type": "markdown",
   "metadata": {},
   "source": [
    "### Low-Pass Filter - Testing\n",
    "\n",
    "removing high frequencies (little fluctuations which are probably not relevant)"
   ]
  },
  {
   "cell_type": "code",
   "execution_count": null,
   "metadata": {
    "collapsed": true
   },
   "outputs": [],
   "source": [
    "# source code from https://stackoverflow.com/questions/25191620/creating-lowpass-filter-in-scipy-understanding-methods-and-units\n",
    "\n",
    "from scipy.signal import butter, lfilter, freqz\n",
    "\n",
    "def butter_lowpass(cutoff, fs, order=5):\n",
    "    '''cutoff: cutoff frequency in Hz\n",
    "    fs: sampling rate in Hz'''\n",
    "    nyq = 0.5 * fs # Nyquist frequency is half the sampling rate.\n",
    "    normal_cutoff = cutoff / nyq\n",
    "    b, a = butter(order, normal_cutoff, btype='low', analog=False)\n",
    "    return b, a\n",
    "\n",
    "def butter_lowpass_filter(data, cutoff, fs, order=5):\n",
    "    b, a = butter_lowpass(cutoff, fs, order=order)\n",
    "    y = lfilter(b, a, data)\n",
    "    return y"
   ]
  },
  {
   "cell_type": "code",
   "execution_count": null,
   "metadata": {
    "collapsed": false
   },
   "outputs": [],
   "source": [
    "# before\n",
    "var = 'EX'\n",
    "y = mydata[var]\n",
    "plt.plot(range(len(y)), y)"
   ]
  },
  {
   "cell_type": "code",
   "execution_count": null,
   "metadata": {
    "collapsed": true
   },
   "outputs": [],
   "source": [
    "# Filter settings\n",
    "#fs = 30.0       # sample rate, Hz\n",
    "fs = sampling_rate   # determined before by average time delta # TODO improve its computation\n",
    "\n",
    "# CHOOSE HERE desired cutoff frequency of the filter Hz\n",
    "order = 1 #3 #5 #6\n",
    "\n",
    "cutoff = 4 #Hz\n",
    "#cutoff = 3.667 \n",
    "#cutoff = 1.3\n",
    "#cutoff = 0.667 \n",
    "#cutoff = 0.5\n",
    "#cutoff = 0.33"
   ]
  },
  {
   "cell_type": "code",
   "execution_count": null,
   "metadata": {
    "collapsed": false
   },
   "outputs": [],
   "source": [
    "# after\n",
    "# Filter the data, and plot both the original and filtered signals.\n",
    "y_filt = butter_lowpass_filter(y, cutoff, fs, order)"
   ]
  },
  {
   "cell_type": "code",
   "execution_count": null,
   "metadata": {
    "collapsed": false
   },
   "outputs": [],
   "source": [
    "plt.plot(range(len(y_filt)), y_filt)"
   ]
  },
  {
   "cell_type": "markdown",
   "metadata": {},
   "source": [
    "### Low-Pass Filter - Batch"
   ]
  },
  {
   "cell_type": "code",
   "execution_count": null,
   "metadata": {
    "collapsed": false
   },
   "outputs": [],
   "source": [
    "# Resample Loop over ALL data\n",
    "\n",
    "# build new gesture dictionary: in: resampled data out: filtered data\n",
    "\n",
    "input_dict = gesture_dict_resampled\n",
    "\n",
    "gesture_dict_filtered = {} # out\n",
    "\n",
    "for g in sorted(input_dict.keys()):\n",
    "    print \"G\", g#, ':\\t'#, \n",
    "    gesture_dict_filtered[g] = [] # initalize empty list for this gesture\n",
    "    \n",
    "    for datablock in input_dict[g]:\n",
    "        #print datablock.shape, \n",
    "\n",
    "        # filter the signal block with low-pass filter\n",
    "        datablock_filtered = butter_lowpass_filter(datablock, cutoff, fs, order)\n",
    "\n",
    "        # make DataFrame again (to retrieve column parameters later)\n",
    "        datablock_filtered = pd.DataFrame(datablock_filtered, columns=datablock.columns)\n",
    "\n",
    "        # add data to new gesture dict\n",
    "        gesture_dict_filtered[g].append(datablock_filtered)\n",
    "    #print"
   ]
  },
  {
   "cell_type": "markdown",
   "metadata": {},
   "source": [
    "### Zero Crossing Rate - Testing"
   ]
  },
  {
   "cell_type": "code",
   "execution_count": null,
   "metadata": {
    "collapsed": true
   },
   "outputs": [],
   "source": [
    "# Zero-Crossing rate measures how often the signal changes its sign from positive to negative or vice-versa\n",
    "# Matlab code: ZCR=mean(abs(diff(sign(Signal)))"
   ]
  },
  {
   "cell_type": "code",
   "execution_count": null,
   "metadata": {
    "collapsed": true
   },
   "outputs": [],
   "source": [
    "def signal_one_plot(mydata,var):\n",
    "    y = mydata[var]\n",
    "    x = range(len(y))\n",
    "    #x = mydata['TimeStamp']\n",
    "    plt.plot(x, y)\n",
    "    title = var\n",
    "    plt.title(title)\n",
    "    #plt.show()"
   ]
  },
  {
   "cell_type": "code",
   "execution_count": null,
   "metadata": {
    "collapsed": false
   },
   "outputs": [],
   "source": [
    "# TESTING: \n",
    "# reusing mydata from above\n",
    "mydata.head()"
   ]
  },
  {
   "cell_type": "code",
   "execution_count": null,
   "metadata": {
    "collapsed": true
   },
   "outputs": [],
   "source": [
    "var = 'AX'"
   ]
  },
  {
   "cell_type": "code",
   "execution_count": null,
   "metadata": {
    "collapsed": false
   },
   "outputs": [],
   "source": [
    "signal_one_plot(mydata,var)"
   ]
  },
  {
   "cell_type": "code",
   "execution_count": null,
   "metadata": {
    "collapsed": true
   },
   "outputs": [],
   "source": [
    "# TEST with 1 signal\n",
    "signal = mydata[var]"
   ]
  },
  {
   "cell_type": "code",
   "execution_count": null,
   "metadata": {
    "collapsed": false
   },
   "outputs": [],
   "source": [
    "# NOTE: np.sign vs. np.signbit do not use sign function cause it can be -1 , 0 or 1 and then diff is 2\n",
    "# instead we use np.signbit which is False or Ture (when the sign of the signal changes)\n",
    "# this is what we want to count for ZCR\n",
    "# testint the difference:\n",
    "#np.sign(signal)\n",
    "#np.signbit(signal)"
   ]
  },
  {
   "cell_type": "code",
   "execution_count": null,
   "metadata": {
    "collapsed": false
   },
   "outputs": [],
   "source": [
    "# ZCR calculation\n",
    "# ZCR=mean(abs(diff(sign(Signal))) # Matlab code\n",
    "\n",
    "# for 1 signal row:\n",
    "zcr = np.signbit(signal).diff().abs().mean()\n",
    "zcr"
   ]
  },
  {
   "cell_type": "code",
   "execution_count": null,
   "metadata": {
    "collapsed": false
   },
   "outputs": [],
   "source": [
    "# for multiple signal rows:\n",
    "zcr = np.signbit(mydata).astype(int).diff(axis=0).abs().mean(axis=0)\n",
    "zcr"
   ]
  },
  {
   "cell_type": "markdown",
   "metadata": {},
   "source": [
    "### Zero Crossing Rate - Implementation"
   ]
  },
  {
   "cell_type": "code",
   "execution_count": null,
   "metadata": {
    "collapsed": true
   },
   "outputs": [],
   "source": [
    "def calc_zero_crossings(datablock):\n",
    "    '''computes row-wise zerocrossings'''\n",
    "    # datablock is assumed to be pandas Dataframe and to have multiple signals in the rows\n",
    "    # example for 1 signal row:\n",
    "    #zcr = np.signbit(signal).diff().abs().mean()\n",
    "    # for multiple signal rows:\n",
    "    return np.signbit(datablock).astype(int).diff(axis=0).abs().mean(axis=0)"
   ]
  },
  {
   "cell_type": "markdown",
   "metadata": {},
   "source": [
    "###  Add more features?"
   ]
  },
  {
   "cell_type": "markdown",
   "metadata": {},
   "source": [
    "## Pre-Processing of the Signals"
   ]
  },
  {
   "cell_type": "code",
   "execution_count": null,
   "metadata": {
    "collapsed": true
   },
   "outputs": [],
   "source": [
    "def preprocess_signal(testdata, n_samples=None, normalize=False, resampling=False, timestamps=None, filtering=False):\n",
    "    \n",
    "    # Min/max normalization\n",
    "    # Note: to do it the fully right way, the minmax scaling should be done on all training data coherently\n",
    "    # (currently its done per training block) and the same scaling values (min and max) should be reused here\n",
    "    # see http://scikit-learn.org/stable/modules/generated/sklearn.preprocessing.MinMaxScaler.html\n",
    "    if normalize:\n",
    "        testdata = preprocessing.minmax_scale(testdata, feature_range=(-1, 1), axis=0)\n",
    "        \n",
    "    # Time Resampling\n",
    "    if resampling:\n",
    "        \n",
    "        if n_samples is None:\n",
    "            # if not a FIXED number of samples is provided, the number of samples stays the same as in the input signal\n",
    "            n_samples = testdata.shape[0] \n",
    "        \n",
    "        \n",
    "        \n",
    "        if timestamps is None:\n",
    "            testdata = resample(testdata, num=n_samples, window='hann')\n",
    "        else:\n",
    "            # if provided, we use the original timestamps to re-align the signal\n",
    "            # TODO check: n_samples must match len(timestamps)\n",
    "            testdata, timestamps2 = resample(testdata, num=n_samples, t=timestamps, window='hann')\n",
    "        \n",
    "\n",
    "    if filtering:\n",
    "        # filter the signal block with low-pass filter\n",
    "        testdata = butter_lowpass_filter(testdata, cutoff, fs, order)\n",
    "        \n",
    "    return testdata"
   ]
  },
  {
   "cell_type": "markdown",
   "metadata": {},
   "source": [
    "## Feature Calculation\n",
    "\n",
    "#### Statistical Features, Derivative, Zero Crossings"
   ]
  },
  {
   "cell_type": "markdown",
   "metadata": {},
   "source": [
    "#### Options: Set Options here"
   ]
  },
  {
   "cell_type": "code",
   "execution_count": null,
   "metadata": {
    "collapsed": true
   },
   "outputs": [],
   "source": [
    "# OPTIONS:\n",
    "\n",
    "# either/or:\n",
    "use_lowpassfilter = False\n",
    "use_normalized = True \n",
    "use_resampled = True \n",
    "# if both are False, unresampled unnormalized input is used\n",
    "\n",
    "# other options: # True is better for all\n",
    "exclude_non_gestures = True\n",
    "calc_derivative = True\n",
    "calc_zerocrossings = True"
   ]
  },
  {
   "cell_type": "code",
   "execution_count": null,
   "metadata": {
    "collapsed": false
   },
   "outputs": [],
   "source": [
    "# SELECT THE RIGHT INPUT DEPENDING ON OPTIONS\n",
    "\n",
    "if use_lowpassfilter:\n",
    "    input_dict = gesture_dict_filtered\n",
    "elif use_resampled:\n",
    "    input_dict = gesture_dict_resampled \n",
    "elif use_normalized and not normalize_global:\n",
    "    input_dict = gesture_dict_norm\n",
    "else:\n",
    "    input_dict = gesture_dict_params # non resampled\n",
    "\n",
    "if exclude_non_gestures:\n",
    "    gestures_to_process = gestures_pos\n",
    "else:\n",
    "    gestures_to_process = input_dict.keys()"
   ]
  },
  {
   "cell_type": "code",
   "execution_count": null,
   "metadata": {
    "collapsed": true
   },
   "outputs": [],
   "source": [
    "# Calc statistical features\n",
    "\n",
    "def calc_statistical_features(matrix, axis=0):\n",
    "\n",
    "    # to define the proper output shape, we need the \"other axis\" of the input shape (not the one where we compute along)\n",
    "    other_axis = int(not axis) \n",
    "    n_rows = matrix.shape[other_axis]\n",
    "    \n",
    "    result = np.zeros((n_rows,7))\n",
    "    \n",
    "    result[:,0] = np.mean(matrix, axis=axis)\n",
    "    result[:,1] = np.var(matrix, axis=axis, dtype=np.float64) \n",
    "    result[:,2] = stats.skew(matrix, axis=axis)\n",
    "    result[:,3] = np.median(matrix, axis=axis)\n",
    "    result[:,4] = np.min(matrix, axis=axis)\n",
    "    result[:,5] = np.max(matrix, axis=axis)\n",
    "    result[:,6] = stats.kurtosis(matrix, axis=axis, fisher=False) # Matlab calculates Pearson's Kurtosis\n",
    "\n",
    "    result[np.where(np.isnan(result))] = 0\n",
    "    return result"
   ]
  },
  {
   "cell_type": "code",
   "execution_count": null,
   "metadata": {
    "collapsed": true
   },
   "outputs": [],
   "source": [
    "def calc_all_features(in_data, calc_derivative=False, calc_zerocrossings=False):\n",
    "\n",
    "    # calc statistical features\n",
    "    features = calc_statistical_features(in_data, axis=0)\n",
    "\n",
    "    # vectorize\n",
    "    features = features.flatten()\n",
    "\n",
    "    if calc_derivative:\n",
    "        # calc derivative of all signals\n",
    "        in_data_deriv = np.gradient(in_data, axis=0)\n",
    "        # calc statistics of derivatives\n",
    "        features_deriv = calc_statistical_features(in_data_deriv, axis=0)\n",
    "        # vectorize\n",
    "        features_deriv = features_deriv.flatten()\n",
    "        # concatenate to other features\n",
    "        features = np.concatenate((features,features_deriv))\n",
    "\n",
    "    if calc_zerocrossings:\n",
    "        features_zcr = calc_zero_crossings(in_data)\n",
    "        features = np.concatenate((features,features_zcr))\n",
    "\n",
    "    return features"
   ]
  },
  {
   "cell_type": "code",
   "execution_count": null,
   "metadata": {
    "collapsed": true
   },
   "outputs": [],
   "source": [
    "# NEW!!!!!\n",
    "# we added preprocess signal below, thats why we need to use the original gesture_dict as input\n",
    "\n",
    "input_dict = gesture_dict_params # non resampled\n"
   ]
  },
  {
   "cell_type": "code",
   "execution_count": null,
   "metadata": {
    "collapsed": false
   },
   "outputs": [],
   "source": [
    "# COMPUTE FEATURES\n",
    "# LOOP over all gesture data to create features\n",
    "\n",
    "# initialize feature output for training data as a list\n",
    "train_list = []\n",
    "train_classes_num = []\n",
    "\n",
    "for gest in sorted(gestures_to_process):\n",
    "    print \"G\", gest, ':\\t', len(input_dict[gest]), \"examples\"\n",
    "    \n",
    "    for in_data in input_dict[gest]:\n",
    "        #print datablock.shape, \n",
    "        \n",
    "        #if use_resampled:\n",
    "        #    # resampled data has already extracted the param columns\n",
    "        #    in_data = datablock\n",
    "        #else:\n",
    "        #    # for non-resampled we have to get the relevant data columns and transpose\n",
    "        #    in_data = datablock[params].T\n",
    "        \n",
    "        # preprocessing\n",
    "        in_data = preprocess_signal(in_data, samples, use_normalized, use_resampled, None, use_lowpassfilter)\n",
    "    \n",
    "        # convert to dataframe cause we use pandas .diff() in ZCR computation\n",
    "        in_data = pd.DataFrame(in_data, columns=params)\n",
    "\n",
    "        # calculate features\n",
    "        features = calc_all_features(in_data, calc_derivative, calc_zerocrossings)\n",
    "\n",
    "        # append to output list\n",
    "        train_list.append(features)\n",
    "        \n",
    "        # store class (gesture number) for these features\n",
    "        train_classes_num.append(gest)"
   ]
  },
  {
   "cell_type": "code",
   "execution_count": null,
   "metadata": {
    "collapsed": false
   },
   "outputs": [],
   "source": [
    "features.shape"
   ]
  },
  {
   "cell_type": "markdown",
   "metadata": {},
   "source": [
    "## Prepare Training Data"
   ]
  },
  {
   "cell_type": "code",
   "execution_count": null,
   "metadata": {
    "collapsed": false,
    "scrolled": true
   },
   "outputs": [],
   "source": [
    "print \"Training data:\", len(train_list), \"examples\""
   ]
  },
  {
   "cell_type": "code",
   "execution_count": null,
   "metadata": {
    "collapsed": false
   },
   "outputs": [],
   "source": [
    "# make feature array from feature list (ALL training data)\n",
    "\n",
    "train_data = np.array(train_list)\n",
    "#del train_list\n",
    "train_data.shape"
   ]
  },
  {
   "cell_type": "code",
   "execution_count": null,
   "metadata": {
    "collapsed": false
   },
   "outputs": [],
   "source": [
    "# verify if the training categories (gesture numbers) have the same length\n",
    "len(train_classes_num)"
   ]
  },
  {
   "cell_type": "markdown",
   "metadata": {},
   "source": [
    "### Standardize\n",
    "\n",
    "Zero-mean unit-variance Standardization"
   ]
  },
  {
   "cell_type": "code",
   "execution_count": null,
   "metadata": {
    "collapsed": false
   },
   "outputs": [],
   "source": [
    "# ad-hoc scaling\n",
    "#train_data = preprocessing.scale(train_data,axis=0)\n",
    "# axis=0 means independently standardize each feature, otherwise (if 1) standardize each sample"
   ]
  },
  {
   "cell_type": "code",
   "execution_count": null,
   "metadata": {
    "collapsed": false
   },
   "outputs": [],
   "source": [
    "# we now user StandardScaler class to keep the mean and variance for later\n",
    "standardizer = preprocessing.StandardScaler()\n",
    "train_data = standardizer.fit_transform(train_data)"
   ]
  },
  {
   "cell_type": "markdown",
   "metadata": {},
   "source": [
    "## Machine Learning"
   ]
  },
  {
   "cell_type": "markdown",
   "metadata": {},
   "source": [
    "### Train/Test Set Split"
   ]
  },
  {
   "cell_type": "code",
   "execution_count": null,
   "metadata": {
    "collapsed": false,
    "scrolled": true
   },
   "outputs": [],
   "source": [
    "# split the data into train/test set\n",
    "\n",
    "testset_size = 0.25\n",
    "\n",
    "# sklearn >= 0.18\n",
    "# use random_state to avoid that the results fluctuate randomly\n",
    "splitter = StratifiedShuffleSplit(n_splits=1, test_size=testset_size, random_state=0) \n",
    "splits = splitter.split(train_data, train_classes_num)\n",
    "\n",
    "# Note: this for loop is only executed once, if n_splits==1\n",
    "for train_index, test_index in splits:\n",
    "    #print \"TRAIN INDEX:\", train_index\n",
    "    #print \"TEST INDEX:\", test_index\n",
    "    \n",
    "    # split the data\n",
    "    train_set = train_data[train_index]\n",
    "    test_set = train_data[test_index]\n",
    "    \n",
    "    # and the numeric classes (groundtruth)\n",
    "    train_classes = np.array(train_classes_num)[train_index]\n",
    "    test_classes = np.array(train_classes_num)[test_index]\n",
    "    \n",
    "    print \"TRAIN SIZE:\", train_set.shape\n",
    "    print \"TEST SIZE:\", test_set.shape\n",
    "    "
   ]
  },
  {
   "cell_type": "markdown",
   "metadata": {},
   "source": [
    "## 1) Gesture Regonition - isolated (+ independent of host)"
   ]
  },
  {
   "cell_type": "markdown",
   "metadata": {},
   "source": [
    "### ML Algorithm: SVM\n",
    "\n",
    "Support Vector Machines"
   ]
  },
  {
   "cell_type": "code",
   "execution_count": null,
   "metadata": {
    "collapsed": true
   },
   "outputs": [],
   "source": [
    "# try 3 different SVM kernels\n",
    "kernels = ['linear','poly','rbf']"
   ]
  },
  {
   "cell_type": "code",
   "execution_count": null,
   "metadata": {
    "collapsed": false
   },
   "outputs": [],
   "source": [
    "models = {}\n",
    "\n",
    "for kernel in kernels:\n",
    "    print \"SVM\", kernel,\n",
    "    \n",
    "    # TRAIN \n",
    "    start_time = time.time() # measure time\n",
    "\n",
    "    model = OneVsRestClassifier(SVC(kernel=kernel)) #, degree=degree)) #, n_jobs=-1)  # n_jobs = n cpus, -1 = all\n",
    "    # full set\n",
    "    #model.fit(train_data, train_classes_num)\n",
    "    # train set\n",
    "    model.fit(train_set, train_classes)\n",
    "    \n",
    "    # store in dict\n",
    "    models[kernel] = model\n",
    "\n",
    "    end_time = time.time()\n",
    "    print \"Training time:\", timestr(end_time - start_time)"
   ]
  },
  {
   "cell_type": "markdown",
   "metadata": {},
   "source": [
    "#### Verification on Train Set (just for plausibility)"
   ]
  },
  {
   "cell_type": "code",
   "execution_count": null,
   "metadata": {
    "collapsed": false
   },
   "outputs": [],
   "source": [
    "# predict on train set\n",
    "pred_train = model.predict(train_set)\n",
    "pred_train"
   ]
  },
  {
   "cell_type": "code",
   "execution_count": null,
   "metadata": {
    "collapsed": false
   },
   "outputs": [],
   "source": [
    "train_classes"
   ]
  },
  {
   "cell_type": "code",
   "execution_count": null,
   "metadata": {
    "collapsed": false
   },
   "outputs": [],
   "source": [
    "# Accuracy on train set (manual computation)\n",
    "np.sum(pred_train == train_classes) * 1.0 / len(train_classes)"
   ]
  },
  {
   "cell_type": "code",
   "execution_count": null,
   "metadata": {
    "collapsed": false
   },
   "outputs": [],
   "source": [
    "# Accuracy on train set (using scikit-learn)\n",
    "accuracy_score(train_classes, pred_train)"
   ]
  },
  {
   "cell_type": "markdown",
   "metadata": {},
   "source": [
    "## Evaluation"
   ]
  },
  {
   "cell_type": "markdown",
   "metadata": {},
   "source": [
    "### Evaluation - Overall"
   ]
  },
  {
   "cell_type": "code",
   "execution_count": null,
   "metadata": {
    "collapsed": false
   },
   "outputs": [],
   "source": [
    "result_ov = pd.DataFrame(index=kernels, columns=['Accuracy','Precision','Recall','F-Measure'])"
   ]
  },
  {
   "cell_type": "code",
   "execution_count": null,
   "metadata": {
    "collapsed": false
   },
   "outputs": [],
   "source": [
    "for k in kernels:\n",
    "    # predict on TEST set\n",
    "    pred_test = models[k].predict(test_set) \n",
    "    \n",
    "    # Accuracy, Precision, Reacall on TEST set\n",
    "    result_ov.loc[k,'Accuracy'] = accuracy_score(test_classes, pred_test)\n",
    "    result_ov.loc[k,'Precision'] = precision_score(test_classes, pred_test, average='macro')\n",
    "    result_ov.loc[k,'Recall'] = recall_score(test_classes, pred_test, average='macro')\n",
    "    result_ov.loc[k,'F-Measure'] = f1_score(test_classes, pred_test, average='macro')"
   ]
  },
  {
   "cell_type": "code",
   "execution_count": null,
   "metadata": {
    "collapsed": false
   },
   "outputs": [],
   "source": [
    "pd.options.display.float_format = '{:,.2f}'.format\n",
    "result_ov*100"
   ]
  },
  {
   "cell_type": "markdown",
   "metadata": {},
   "source": [
    "### Evaluation - Per Gesture"
   ]
  },
  {
   "cell_type": "code",
   "execution_count": null,
   "metadata": {
    "collapsed": false
   },
   "outputs": [],
   "source": [
    "# manual selection which one was the best one\n",
    "best_model = models['poly']\n",
    "pred_test = best_model.predict(test_set) "
   ]
  },
  {
   "cell_type": "code",
   "execution_count": null,
   "metadata": {
    "collapsed": false
   },
   "outputs": [],
   "source": [
    "# TODO check if the sorting of precision_score etc. is really in this order!!\n",
    "labels = sorted(np.unique(test_classes))\n",
    "gesture_names = [gesture_name(l) for l in labels]"
   ]
  },
  {
   "cell_type": "code",
   "execution_count": null,
   "metadata": {
    "collapsed": true
   },
   "outputs": [],
   "source": [
    "# nice result dataframe\n",
    "columns = ['Gesture','N_train','N_test','Precision','Recall','F1']\n",
    "result_df = pd.DataFrame(index=labels,columns=columns)\n",
    "result_df['Gesture'] = gesture_names"
   ]
  },
  {
   "cell_type": "code",
   "execution_count": null,
   "metadata": {
    "collapsed": false
   },
   "outputs": [],
   "source": [
    "# number of train / test instances\n",
    "values, counts = np.unique(train_classes, return_counts=True)\n",
    "result_df['N_train'] = pd.Series(counts, index=values)\n",
    "values, counts = np.unique(test_classes, return_counts=True)\n",
    "result_df['N_test'] = pd.Series(counts, index=values)"
   ]
  },
  {
   "cell_type": "code",
   "execution_count": null,
   "metadata": {
    "collapsed": false
   },
   "outputs": [],
   "source": [
    "# per class evaluation\n",
    "result_df['Precision'] = precision_score(test_classes, pred_test, average=None) * 100\n",
    "result_df['Recall'] = recall_score(test_classes, pred_test, average=None) * 100\n",
    "result_df['F1'] = f1_score(test_classes, pred_test, average=None) * 100"
   ]
  },
  {
   "cell_type": "code",
   "execution_count": null,
   "metadata": {
    "collapsed": false
   },
   "outputs": [],
   "source": [
    "result_df"
   ]
  },
  {
   "cell_type": "code",
   "execution_count": null,
   "metadata": {
    "collapsed": false
   },
   "outputs": [],
   "source": [
    "# compare average P, R and F to overall P, R and F above (same)\n",
    "result_df.mean(axis=0)"
   ]
  },
  {
   "cell_type": "code",
   "execution_count": null,
   "metadata": {
    "collapsed": false
   },
   "outputs": [],
   "source": [
    "# Confusion Matrix\n",
    "conf = confusion_matrix(test_classes, pred_test, labels=labels) # labels defines the order\n",
    "labels_long = gestures_df.loc[labels,'name']\n",
    "conf_df = pd.DataFrame(conf, index=labels_long, columns=labels)\n",
    "conf_df"
   ]
  },
  {
   "cell_type": "markdown",
   "metadata": {
    "collapsed": true
   },
   "source": [
    "## 2) Continuous Time Series Prediction\n",
    "\n",
    "What is our input stream?\n",
    "\n",
    "The data of 1 trainset, because after each trainset, the TimeStamp is reset."
   ]
  },
  {
   "cell_type": "code",
   "execution_count": null,
   "metadata": {
    "collapsed": false
   },
   "outputs": [],
   "source": [
    "# a) loop over each Trainset\n",
    "#group_by = ('Subject','Experiment','Trainset')\n",
    "\n",
    "# b) use Experiment as the block where we do predictions (means it includes timestamp resets!!)\n",
    "group_by = ('Subject','Experiment')\n",
    "\n",
    "group_df = data.groupby(group_by)\n",
    "group_df.max().head(50) "
   ]
  },
  {
   "cell_type": "code",
   "execution_count": null,
   "metadata": {
    "collapsed": false
   },
   "outputs": [],
   "source": [
    "print len(group_df), \"Experiments / Trainsets\""
   ]
  },
  {
   "cell_type": "code",
   "execution_count": null,
   "metadata": {
    "collapsed": false
   },
   "outputs": [],
   "source": [
    "# iterate over each Trainset\n",
    "i =0\n",
    "for name_tuple, group_data in group_df:\n",
    "    i += 1\n",
    "    #print str(name_tuple)\n",
    "    \n",
    "    if len(name_tuple) == 3:\n",
    "        subject, exp, trainset = name_tuple\n",
    "    elif len(name_tuple) == 2:\n",
    "        subject, exp = name_tuple\n",
    "        trainset = None\n",
    "    \n",
    "    break # for testing we just do 1 loop\n",
    "    "
   ]
  },
  {
   "cell_type": "code",
   "execution_count": null,
   "metadata": {
    "collapsed": false
   },
   "outputs": [],
   "source": [
    "name_tuple"
   ]
  },
  {
   "cell_type": "code",
   "execution_count": null,
   "metadata": {
    "collapsed": false
   },
   "outputs": [],
   "source": [
    "group_data['TimeStamp'].min()"
   ]
  },
  {
   "cell_type": "code",
   "execution_count": null,
   "metadata": {
    "collapsed": false
   },
   "outputs": [],
   "source": [
    "group_data['TimeStamp'].max()"
   ]
  },
  {
   "cell_type": "code",
   "execution_count": null,
   "metadata": {
    "collapsed": false
   },
   "outputs": [],
   "source": [
    "if len(name_tuple) == 3:\n",
    "    # check if TimeStamps are monotonously increasing\n",
    "    if not np.all(group_data['TimeStamp'].diff()[1:] > 0):\n",
    "        raise ValueError(\"Time Stamps are not monotonously increasing!\")"
   ]
  },
  {
   "cell_type": "code",
   "execution_count": null,
   "metadata": {
    "collapsed": false
   },
   "outputs": [],
   "source": [
    "# set these to None so that plot title is not shown wrongly\n",
    "parcours = None\n",
    "mutation = None\n",
    "gesture = None"
   ]
  },
  {
   "cell_type": "code",
   "execution_count": null,
   "metadata": {
    "collapsed": false
   },
   "outputs": [],
   "source": [
    "# which gestures appear in this Experiment or Trainset\n",
    "group_data['Gesture'].unique()"
   ]
  },
  {
   "cell_type": "code",
   "execution_count": null,
   "metadata": {
    "collapsed": false
   },
   "outputs": [],
   "source": [
    "one_plot(group_data,'TimeStamp')"
   ]
  },
  {
   "cell_type": "code",
   "execution_count": null,
   "metadata": {
    "collapsed": false
   },
   "outputs": [],
   "source": [
    "grid_plot(group_data)"
   ]
  },
  {
   "cell_type": "markdown",
   "metadata": {},
   "source": [
    "### Pre-Process the Data - Testing\n",
    "\n",
    "the same way as it was done for training set"
   ]
  },
  {
   "cell_type": "code",
   "execution_count": null,
   "metadata": {
    "collapsed": true
   },
   "outputs": [],
   "source": [
    "pd.options.display.float_format = '{:,.5f}'.format"
   ]
  },
  {
   "cell_type": "code",
   "execution_count": null,
   "metadata": {
    "collapsed": true
   },
   "outputs": [],
   "source": [
    "# get the relevant columns out of group_data"
   ]
  },
  {
   "cell_type": "code",
   "execution_count": null,
   "metadata": {
    "collapsed": false
   },
   "outputs": [],
   "source": [
    "timestamps = group_data['TimeStamp'].tolist()"
   ]
  },
  {
   "cell_type": "code",
   "execution_count": null,
   "metadata": {
    "collapsed": true
   },
   "outputs": [],
   "source": [
    "test_gestures = group_data['Gesture'].tolist()"
   ]
  },
  {
   "cell_type": "code",
   "execution_count": null,
   "metadata": {
    "collapsed": false
   },
   "outputs": [],
   "source": [
    "# 9 parameters columns\n",
    "testdata = group_data[params]\n",
    "testdata.shape"
   ]
  },
  {
   "cell_type": "code",
   "execution_count": null,
   "metadata": {
    "collapsed": true
   },
   "outputs": [],
   "source": [
    "# Min/max normalization\n",
    "# Note: to do it the fully right way, the minmax scaling should be done on all training data coherently\n",
    "# (currently its done per training block) and the same scaling values (min and max) should be reused here\n",
    "# see http://scikit-learn.org/stable/modules/generated/sklearn.preprocessing.MinMaxScaler.html\n",
    "# TODO store minmax_scale from training data and reapply same scaling here\n",
    "\n",
    "if use_normalized:\n",
    "    testdata = preprocessing.minmax_scale(testdata, feature_range=(-1, 1), axis=0, copy=make_copy)"
   ]
  },
  {
   "cell_type": "code",
   "execution_count": null,
   "metadata": {
    "collapsed": false
   },
   "outputs": [],
   "source": [
    "# convert to dataframe cause plot needs column names\n",
    "testdata = pd.DataFrame(testdata, columns=params)\n",
    "\n",
    "grid_plot(testdata)"
   ]
  },
  {
   "cell_type": "code",
   "execution_count": null,
   "metadata": {
    "collapsed": false
   },
   "outputs": [],
   "source": [
    "testdata.head(15)"
   ]
  },
  {
   "cell_type": "code",
   "execution_count": null,
   "metadata": {
    "collapsed": false
   },
   "outputs": [],
   "source": [
    "# time resample\n",
    "\n",
    "n_samples = len(timestamps)  \n",
    "\n",
    "if use_resampled:\n",
    "    # the number of samples stays the same\n",
    "    # but we use the original timestamps to re-align the signal\n",
    "    testdata_res, timestamps2 = resample(testdata, num=n_samples, t=timestamps)\n",
    "    \n",
    "    # convert to dataframe cause plot needs column names\n",
    "    testdata_res = pd.DataFrame(testdata_res, columns=params)"
   ]
  },
  {
   "cell_type": "code",
   "execution_count": null,
   "metadata": {
    "collapsed": false
   },
   "outputs": [],
   "source": [
    "timestamps[:15]"
   ]
  },
  {
   "cell_type": "code",
   "execution_count": null,
   "metadata": {
    "collapsed": false
   },
   "outputs": [],
   "source": [
    "timestamps2[:15]"
   ]
  },
  {
   "cell_type": "code",
   "execution_count": null,
   "metadata": {
    "collapsed": false
   },
   "outputs": [],
   "source": [
    "# timestamps are now equidistant\n",
    "timestamps2[1:15] - timestamps2[:14]"
   ]
  },
  {
   "cell_type": "code",
   "execution_count": null,
   "metadata": {
    "collapsed": false
   },
   "outputs": [],
   "source": [
    "testdata_res.head(15)"
   ]
  },
  {
   "cell_type": "code",
   "execution_count": null,
   "metadata": {
    "collapsed": false
   },
   "outputs": [],
   "source": [
    "# debug check whether the values have been altered -> OK\n",
    "#testdata == testdata_res"
   ]
  },
  {
   "cell_type": "code",
   "execution_count": null,
   "metadata": {
    "collapsed": true
   },
   "outputs": [],
   "source": [
    "# overwrite testdata with testdata_res for subsequent coherent usage\n",
    "#testdata = testdata_res"
   ]
  },
  {
   "cell_type": "code",
   "execution_count": null,
   "metadata": {
    "collapsed": false
   },
   "outputs": [],
   "source": [
    "grid_plot(testdata)"
   ]
  },
  {
   "cell_type": "markdown",
   "metadata": {},
   "source": [
    "### Continuous Prediction"
   ]
  },
  {
   "cell_type": "code",
   "execution_count": null,
   "metadata": {
    "collapsed": false
   },
   "outputs": [],
   "source": [
    "# for our window_size (= signal length of input to Machine Learning)\n",
    "# we take the average signal length of the trained gestures\n",
    "window_size = avg_data_len \n",
    "window_size"
   ]
  },
  {
   "cell_type": "code",
   "execution_count": null,
   "metadata": {
    "collapsed": false
   },
   "outputs": [],
   "source": [
    "# PREDICTION RESOLUTION\n",
    "# how quickly do we step forward\n",
    "\n",
    "# for now we choose half the window_size\n",
    "step_size = window_size / 2\n",
    "\n",
    "# can be set smaller for higher resolution\n",
    "\n",
    "# TODO: set in milliseconds - convert back to sample length\n",
    "\n",
    "step_size"
   ]
  },
  {
   "cell_type": "code",
   "execution_count": null,
   "metadata": {
    "collapsed": true
   },
   "outputs": [],
   "source": [
    "# TODO: align with preprocess_signal function used in training data above\n",
    "\n",
    "def preprocess_signal_continuous(testdata, normalize=False, resampling=False, timestamps=None, filtering=False):\n",
    "    \n",
    "    # Min/max normalization\n",
    "    # Note: to do it the fully right way, the minmax scaling should be done on all training data coherently\n",
    "    # (currently its done per training block) and the same scaling values (min and max) should be reused here\n",
    "    # see http://scikit-learn.org/stable/modules/generated/sklearn.preprocessing.MinMaxScaler.html\n",
    "\n",
    "    if normalize:\n",
    "        testdata = preprocessing.minmax_scale(testdata, feature_range=(-1, 1), axis=0)\n",
    "        \n",
    "    # Time Resampling\n",
    "    if resampling:\n",
    "        # the number of samples stays the same\n",
    "        # if provided, we use the original timestamps to re-align the signal\n",
    "        n_samples = testdata.shape[0] # must match len(timestamps)\n",
    "        testdata, timestamps2 = resample(testdata, num=n_samples, t=timestamps, window='hann')\n",
    "\n",
    "    if filtering:\n",
    "        # filter the signal block with low-pass filter\n",
    "        testdata = butter_lowpass_filter(testdata, cutoff, fs, order)\n",
    "        \n",
    "    return testdata"
   ]
  },
  {
   "cell_type": "code",
   "execution_count": null,
   "metadata": {
    "collapsed": false
   },
   "outputs": [],
   "source": [
    "# PREDICTION LOOP OVER 1 TRAINING INPUT BLOCK\n",
    "\n",
    "def continuous_prediction(testdata, window_size, step_size):\n",
    "    pos = 0\n",
    "    n_samples = testdata.shape[0]\n",
    "    \n",
    "    # output\n",
    "    test_groundtruth = [] # we create the groundtruth to compare with here\n",
    "    predictions = []  # predictions are collected here\n",
    "\n",
    "    while pos < (n_samples - window_size):\n",
    "        # cut a window out of the incoming signal\n",
    "        signal = testdata[pos:pos+window_size]\n",
    "\n",
    "        # to get the \"correct\" gesture for that window, we cut the same part of the gesture information\n",
    "        test_window_groundtruth = test_gestures[pos:pos+window_size]\n",
    "\n",
    "        # we do a majority vote to say which gesture is pre-dominant in this window\n",
    "        gt_gesture = Counter(test_window_groundtruth).most_common()[0][0]\n",
    "\n",
    "        # calc features\n",
    "        features = calc_all_features(signal, calc_derivative, calc_zerocrossings)\n",
    "\n",
    "        # reshape to row vector for standardize and predict below (= single input sample)\n",
    "        features = features.reshape(1, -1)  \n",
    "        \n",
    "        # STANDARDIZE features, the same way as done in training (reusing those mean and var)\n",
    "        features = standardizer.transform(features)\n",
    "\n",
    "        # ML prediction of gesture\n",
    "        pred_gesture = best_model.predict(features)[0]\n",
    "\n",
    "        # add to groundtruth and prediction list\n",
    "        test_groundtruth.append(gt_gesture)\n",
    "        predictions.append(pred_gesture)\n",
    "\n",
    "        # step forward\n",
    "        pos += step_size\n",
    "    \n",
    "    return test_groundtruth, predictions"
   ]
  },
  {
   "cell_type": "code",
   "execution_count": null,
   "metadata": {
    "collapsed": false
   },
   "outputs": [],
   "source": [
    "# LOOP over ALL Experiments or Trainsets\n",
    "\n",
    "i = 0\n",
    "n_groups = len(group_df)\n",
    "\n",
    "test_groundtruth_all = [] # we create the groundtruth to compare with here\n",
    "predictions_all = []  # predictions are collected here\n",
    "\n",
    "for name_tuple, group_data in group_df:\n",
    "    \n",
    "    i += 1\n",
    "    print \"Experiment\", i, \"/\", n_groups, \":\", str(name_tuple), group_data.shape,\n",
    "    \n",
    "    # just metadata\n",
    "    if len(name_tuple) == 3:\n",
    "        subject, exp, trainset = name_tuple\n",
    "    elif len(name_tuple) == 2:\n",
    "        subject, exp = name_tuple\n",
    "        trainset = None\n",
    "    \n",
    "    # get signals, timestamps and gesture groundtruth\n",
    "    timestamps = group_data['TimeStamp'].tolist()\n",
    "    test_gestures = group_data['Gesture'].tolist()\n",
    "    testdata = group_data[params]\n",
    "    \n",
    "    # preprocess testdata\n",
    "    print \"Preprocessing ...\",\n",
    "    testdata = preprocess_signal_continuous(testdata, use_normalized, use_resampled, timestamps, use_lowpassfilter)\n",
    "    #print testdata.shape\n",
    "    \n",
    "    # convert to dataframe cause we use pandas .diff() in ZCR computation\n",
    "    testdata = pd.DataFrame(testdata, columns=params)\n",
    "    \n",
    "    print \"Prediction:\", \n",
    "    test_groundtruth, predictions = continuous_prediction(testdata, window_size, step_size)\n",
    "    print len(predictions), \"predictions\"\n",
    "    \n",
    "    test_groundtruth_all.extend(test_groundtruth)\n",
    "    predictions_all.extend(predictions)\n",
    "    "
   ]
  },
  {
   "cell_type": "code",
   "execution_count": null,
   "metadata": {
    "collapsed": false
   },
   "outputs": [],
   "source": [
    "n_samples"
   ]
  },
  {
   "cell_type": "code",
   "execution_count": null,
   "metadata": {
    "collapsed": false
   },
   "outputs": [],
   "source": [
    "gesture_name(11)"
   ]
  },
  {
   "cell_type": "code",
   "execution_count": null,
   "metadata": {
    "collapsed": false
   },
   "outputs": [],
   "source": [
    "signal.shape"
   ]
  },
  {
   "cell_type": "code",
   "execution_count": null,
   "metadata": {
    "collapsed": false
   },
   "outputs": [],
   "source": [
    "features.shape"
   ]
  },
  {
   "cell_type": "code",
   "execution_count": null,
   "metadata": {
    "collapsed": false
   },
   "outputs": [],
   "source": [
    "n_samples"
   ]
  },
  {
   "cell_type": "code",
   "execution_count": null,
   "metadata": {
    "collapsed": false
   },
   "outputs": [],
   "source": [
    "print len(predictions_all), \"predictions\""
   ]
  },
  {
   "cell_type": "code",
   "execution_count": null,
   "metadata": {
    "collapsed": false
   },
   "outputs": [],
   "source": [
    "print \"collected true gestures include:\"\n",
    "np.unique(test_groundtruth_all).tolist()"
   ]
  },
  {
   "cell_type": "code",
   "execution_count": null,
   "metadata": {
    "collapsed": false
   },
   "outputs": [],
   "source": [
    "print \"predicted gestures include:\"\n",
    "np.unique(predictions_all).tolist()"
   ]
  },
  {
   "cell_type": "code",
   "execution_count": null,
   "metadata": {
    "collapsed": false
   },
   "outputs": [],
   "source": [
    "pd.DataFrame({'groundt':test_groundtruth_all, 'pred':predictions_all})"
   ]
  },
  {
   "cell_type": "code",
   "execution_count": null,
   "metadata": {
    "collapsed": false
   },
   "outputs": [],
   "source": [
    "result_ov = pd.DataFrame(columns=['result']) #columns=['Accuracy','Precision','Recall','F-Measure'])\n",
    "\n",
    "# Accuracy, Precision, Reacall on TEST set\n",
    "result_ov.loc['Accuracy'] = accuracy_score(test_groundtruth_all, predictions_all)\n",
    "result_ov.loc['Precision'] = precision_score(test_groundtruth_all, predictions_all, average='macro')\n",
    "result_ov.loc['Recall'] = recall_score(test_groundtruth_all, predictions_all, average='macro')\n",
    "result_ov.loc['F-Measure'] = f1_score(test_groundtruth_all, predictions_all, average='macro')\n",
    "result_ov"
   ]
  },
  {
   "cell_type": "markdown",
   "metadata": {},
   "source": [
    "#### Confusion Matrix"
   ]
  },
  {
   "cell_type": "code",
   "execution_count": null,
   "metadata": {
    "collapsed": true
   },
   "outputs": [],
   "source": [
    "conf = confusion_matrix(test_groundtruth_all, predictions_all, labels=labels) # labels defines the order"
   ]
  },
  {
   "cell_type": "code",
   "execution_count": null,
   "metadata": {
    "collapsed": false
   },
   "outputs": [],
   "source": [
    "labels_long = gestures_df.loc[labels,'name']\n",
    "conf_df = pd.DataFrame(conf, index=labels_long, columns=labels)\n",
    "conf_df"
   ]
  },
  {
   "cell_type": "code",
   "execution_count": null,
   "metadata": {
    "collapsed": false
   },
   "outputs": [],
   "source": [
    "labels_long"
   ]
  },
  {
   "cell_type": "code",
   "execution_count": null,
   "metadata": {
    "collapsed": true
   },
   "outputs": [],
   "source": []
  }
 ],
 "metadata": {
  "kernelspec": {
   "display_name": "Python 2",
   "language": "python",
   "name": "python2"
  },
  "language_info": {
   "codemirror_mode": {
    "name": "ipython",
    "version": 2
   },
   "file_extension": ".py",
   "mimetype": "text/x-python",
   "name": "python",
   "nbconvert_exporter": "python",
   "pygments_lexer": "ipython2",
   "version": "2.7.12"
  }
 },
 "nbformat": 4,
 "nbformat_minor": 0
}
