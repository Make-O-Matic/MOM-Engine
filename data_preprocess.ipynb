{
 "cells": [
  {
   "cell_type": "code",
   "execution_count": 27,
   "metadata": {
    "collapsed": true
   },
   "outputs": [],
   "source": [
    "import pandas as pd\n",
    "import json"
   ]
  },
  {
   "cell_type": "code",
   "execution_count": 91,
   "metadata": {
    "collapsed": true
   },
   "outputs": [],
   "source": [
    "# plotting\n",
    "import matplotlib\n",
    "import matplotlib.pyplot as plt\n",
    "%matplotlib inline  "
   ]
  },
  {
   "cell_type": "markdown",
   "metadata": {},
   "source": [
    "## Read Data"
   ]
  },
  {
   "cell_type": "code",
   "execution_count": 28,
   "metadata": {
    "collapsed": true
   },
   "outputs": [],
   "source": [
    "csv_file = 'data/EXPORT_09042017173622.csv'\n",
    "json_file = 'data/gestures.json'"
   ]
  },
  {
   "cell_type": "code",
   "execution_count": 46,
   "metadata": {
    "collapsed": false
   },
   "outputs": [],
   "source": [
    "# Gesture List with names\n",
    "with open(json_file) as data_file:    \n",
    "    gestures = json.load(data_file)\n",
    "    # j = json.loads(input_file.read().decode(\"utf-8-sig\"))"
   ]
  },
  {
   "cell_type": "code",
   "execution_count": 45,
   "metadata": {
    "collapsed": false
   },
   "outputs": [
    {
     "data": {
      "text/html": [
       "<div>\n",
       "<table border=\"1\" class=\"dataframe\">\n",
       "  <thead>\n",
       "    <tr style=\"text-align: right;\">\n",
       "      <th></th>\n",
       "      <th>$oid</th>\n",
       "      <th>isGarbage</th>\n",
       "      <th>isNesture</th>\n",
       "      <th>name</th>\n",
       "      <th>slug</th>\n",
       "    </tr>\n",
       "    <tr>\n",
       "      <th>id</th>\n",
       "      <th></th>\n",
       "      <th></th>\n",
       "      <th></th>\n",
       "      <th></th>\n",
       "      <th></th>\n",
       "    </tr>\n",
       "  </thead>\n",
       "  <tbody>\n",
       "    <tr>\n",
       "      <th>G01</th>\n",
       "      <td>58a23a22d826756404709446</td>\n",
       "      <td>NaN</td>\n",
       "      <td>NaN</td>\n",
       "      <td>Single Rotation klein rechtsrum</td>\n",
       "      <td>rssr</td>\n",
       "    </tr>\n",
       "    <tr>\n",
       "      <th>G02</th>\n",
       "      <td>58a23a22d826756404709447</td>\n",
       "      <td>NaN</td>\n",
       "      <td>NaN</td>\n",
       "      <td>Single Rotation klein linksrum</td>\n",
       "      <td>rssl</td>\n",
       "    </tr>\n",
       "    <tr>\n",
       "      <th>G03</th>\n",
       "      <td>58a23a22d826756404709448</td>\n",
       "      <td>NaN</td>\n",
       "      <td>NaN</td>\n",
       "      <td>Oszillierende Rotation klein rechtsrum</td>\n",
       "      <td>rosr</td>\n",
       "    </tr>\n",
       "    <tr>\n",
       "      <th>G04</th>\n",
       "      <td>58a23a22d826756404709449</td>\n",
       "      <td>NaN</td>\n",
       "      <td>NaN</td>\n",
       "      <td>Oszillierende Rotation klein linksrum</td>\n",
       "      <td>rosl</td>\n",
       "    </tr>\n",
       "    <tr>\n",
       "      <th>G05</th>\n",
       "      <td>58a23a22d82675640470944a</td>\n",
       "      <td>NaN</td>\n",
       "      <td>NaN</td>\n",
       "      <td>Single Rotation groß rechtsrum</td>\n",
       "      <td>rsbr</td>\n",
       "    </tr>\n",
       "    <tr>\n",
       "      <th>G06</th>\n",
       "      <td>58a23a22d82675640470944b</td>\n",
       "      <td>NaN</td>\n",
       "      <td>NaN</td>\n",
       "      <td>Single Rotation groß linksrum</td>\n",
       "      <td>rsbl</td>\n",
       "    </tr>\n",
       "    <tr>\n",
       "      <th>G07</th>\n",
       "      <td>58a23a22d82675640470944c</td>\n",
       "      <td>NaN</td>\n",
       "      <td>NaN</td>\n",
       "      <td>Oszillierende Rotation groß rechtsrum</td>\n",
       "      <td>robr</td>\n",
       "    </tr>\n",
       "    <tr>\n",
       "      <th>G08</th>\n",
       "      <td>58a23a22d82675640470944d</td>\n",
       "      <td>NaN</td>\n",
       "      <td>NaN</td>\n",
       "      <td>Oszillierende Rotation groß linksrum</td>\n",
       "      <td>robl</td>\n",
       "    </tr>\n",
       "    <tr>\n",
       "      <th>G09</th>\n",
       "      <td>58a23a22d82675640470944e</td>\n",
       "      <td>NaN</td>\n",
       "      <td>NaN</td>\n",
       "      <td>Kontinuierliche Rotation groß rechtsrum</td>\n",
       "      <td>rcbr</td>\n",
       "    </tr>\n",
       "    <tr>\n",
       "      <th>G10</th>\n",
       "      <td>58a23a22d82675640470944f</td>\n",
       "      <td>NaN</td>\n",
       "      <td>NaN</td>\n",
       "      <td>Kontinuierliche Rotation groß linksrum</td>\n",
       "      <td>rcbl</td>\n",
       "    </tr>\n",
       "    <tr>\n",
       "      <th>G11</th>\n",
       "      <td>58a23a22d826756404709450</td>\n",
       "      <td>NaN</td>\n",
       "      <td>NaN</td>\n",
       "      <td>LinearMovement Single</td>\n",
       "      <td>lms</td>\n",
       "    </tr>\n",
       "    <tr>\n",
       "      <th>G12</th>\n",
       "      <td>58a23a22d826756404709451</td>\n",
       "      <td>NaN</td>\n",
       "      <td>NaN</td>\n",
       "      <td>LinearMovement Oszillierend</td>\n",
       "      <td>lmo</td>\n",
       "    </tr>\n",
       "    <tr>\n",
       "      <th>G13</th>\n",
       "      <td>58a23a22d826756404709452</td>\n",
       "      <td>NaN</td>\n",
       "      <td>NaN</td>\n",
       "      <td>Drücken</td>\n",
       "      <td>pb</td>\n",
       "    </tr>\n",
       "    <tr>\n",
       "      <th>G14</th>\n",
       "      <td>58a23a22d826756404709453</td>\n",
       "      <td>True</td>\n",
       "      <td>True</td>\n",
       "      <td>Rest</td>\n",
       "      <td>rest</td>\n",
       "    </tr>\n",
       "    <tr>\n",
       "      <th>G15</th>\n",
       "      <td>58a23a22d826756404709454</td>\n",
       "      <td>NaN</td>\n",
       "      <td>True</td>\n",
       "      <td>Greifen</td>\n",
       "      <td>grasp</td>\n",
       "    </tr>\n",
       "    <tr>\n",
       "      <th>G16</th>\n",
       "      <td>58a23a22d826756404709455</td>\n",
       "      <td>NaN</td>\n",
       "      <td>True</td>\n",
       "      <td>Positionieren</td>\n",
       "      <td>pos</td>\n",
       "    </tr>\n",
       "    <tr>\n",
       "      <th>G17</th>\n",
       "      <td>58a23a22d826756404709456</td>\n",
       "      <td>NaN</td>\n",
       "      <td>True</td>\n",
       "      <td>Umgreifen</td>\n",
       "      <td>regr</td>\n",
       "    </tr>\n",
       "    <tr>\n",
       "      <th>G18</th>\n",
       "      <td>58a23a22d826756404709457</td>\n",
       "      <td>NaN</td>\n",
       "      <td>True</td>\n",
       "      <td>Ablegen</td>\n",
       "      <td>release</td>\n",
       "    </tr>\n",
       "  </tbody>\n",
       "</table>\n",
       "</div>"
      ],
      "text/plain": [
       "                         $oid isGarbage isNesture  \\\n",
       "id                                                  \n",
       "G01  58a23a22d826756404709446       NaN       NaN   \n",
       "G02  58a23a22d826756404709447       NaN       NaN   \n",
       "G03  58a23a22d826756404709448       NaN       NaN   \n",
       "G04  58a23a22d826756404709449       NaN       NaN   \n",
       "G05  58a23a22d82675640470944a       NaN       NaN   \n",
       "G06  58a23a22d82675640470944b       NaN       NaN   \n",
       "G07  58a23a22d82675640470944c       NaN       NaN   \n",
       "G08  58a23a22d82675640470944d       NaN       NaN   \n",
       "G09  58a23a22d82675640470944e       NaN       NaN   \n",
       "G10  58a23a22d82675640470944f       NaN       NaN   \n",
       "G11  58a23a22d826756404709450       NaN       NaN   \n",
       "G12  58a23a22d826756404709451       NaN       NaN   \n",
       "G13  58a23a22d826756404709452       NaN       NaN   \n",
       "G14  58a23a22d826756404709453      True      True   \n",
       "G15  58a23a22d826756404709454       NaN      True   \n",
       "G16  58a23a22d826756404709455       NaN      True   \n",
       "G17  58a23a22d826756404709456       NaN      True   \n",
       "G18  58a23a22d826756404709457       NaN      True   \n",
       "\n",
       "                                        name     slug  \n",
       "id                                                     \n",
       "G01          Single Rotation klein rechtsrum     rssr  \n",
       "G02           Single Rotation klein linksrum     rssl  \n",
       "G03   Oszillierende Rotation klein rechtsrum     rosr  \n",
       "G04    Oszillierende Rotation klein linksrum     rosl  \n",
       "G05           Single Rotation groß rechtsrum     rsbr  \n",
       "G06            Single Rotation groß linksrum     rsbl  \n",
       "G07    Oszillierende Rotation groß rechtsrum     robr  \n",
       "G08     Oszillierende Rotation groß linksrum     robl  \n",
       "G09  Kontinuierliche Rotation groß rechtsrum     rcbr  \n",
       "G10   Kontinuierliche Rotation groß linksrum     rcbl  \n",
       "G11                    LinearMovement Single      lms  \n",
       "G12              LinearMovement Oszillierend      lmo  \n",
       "G13                                  Drücken       pb  \n",
       "G14                                     Rest     rest  \n",
       "G15                                  Greifen    grasp  \n",
       "G16                            Positionieren      pos  \n",
       "G17                                Umgreifen     regr  \n",
       "G18                                  Ablegen  release  "
      ]
     },
     "execution_count": 45,
     "metadata": {},
     "output_type": "execute_result"
    }
   ],
   "source": [
    "gestures_df = pd.DataFrame.from_dict(gestures['gestures'])\n",
    "gestures_df.set_index('id', inplace=True)\n",
    "gestures_df"
   ]
  },
  {
   "cell_type": "code",
   "execution_count": 104,
   "metadata": {
    "collapsed": true
   },
   "outputs": [],
   "source": [
    "def gesture_name(gesture_id):\n",
    "    return gestures_df.loc[gesture_id,'name']"
   ]
  },
  {
   "cell_type": "code",
   "execution_count": 2,
   "metadata": {
    "collapsed": false
   },
   "outputs": [
    {
     "name": "stderr",
     "output_type": "stream",
     "text": [
      "/usr/local/lib/python2.7/dist-packages/IPython/core/interactiveshell.py:2871: DtypeWarning: Columns (7) have mixed types. Specify dtype option on import or set low_memory=False.\n",
      "  interactivity=interactivity, compiler=compiler, result=result)\n"
     ]
    }
   ],
   "source": [
    "# Experiment Data\n",
    "data = pd.read_csv(csv_file)\n",
    "data.shape"
   ]
  },
  {
   "cell_type": "code",
   "execution_count": 48,
   "metadata": {
    "collapsed": false
   },
   "outputs": [
    {
     "data": {
      "text/plain": [
       "(1435576, 26)"
      ]
     },
     "execution_count": 48,
     "metadata": {},
     "output_type": "execute_result"
    }
   ],
   "source": [
    "data.shape"
   ]
  },
  {
   "cell_type": "code",
   "execution_count": 47,
   "metadata": {
    "collapsed": false
   },
   "outputs": [
    {
     "data": {
      "text/plain": [
       "Index([u'Trainset-ID', u'Experiment-ID', u'Subject-ID', u'Observer-ID',\n",
       "       u'collectedByHand', u'Collector-ID', u'TimeStamp', u'RFID-ID',\n",
       "       u'GRASP-A', u'GRASP-B', u'GRASP-C', u'AX', u'AY', u'AZ', u'EX', u'EY',\n",
       "       u'EZ', u'USERINPUT', u'HANDINGLOVE', u' Parcours-ID', u'Parcours-Step',\n",
       "       u'Mutation-ID', u' Mutation/HandIsActive', u'Host-ID', u'Host/Spot-ID',\n",
       "       u'Gesture-ID'],\n",
       "      dtype='object')"
      ]
     },
     "execution_count": 47,
     "metadata": {},
     "output_type": "execute_result"
    }
   ],
   "source": [
    "data.columns"
   ]
  },
  {
   "cell_type": "code",
   "execution_count": 4,
   "metadata": {
    "collapsed": false
   },
   "outputs": [
    {
     "data": {
      "text/html": [
       "<div>\n",
       "<table border=\"1\" class=\"dataframe\">\n",
       "  <thead>\n",
       "    <tr style=\"text-align: right;\">\n",
       "      <th></th>\n",
       "      <th>Trainset-ID</th>\n",
       "      <th>Experiment-ID</th>\n",
       "      <th>Subject-ID</th>\n",
       "      <th>Observer-ID</th>\n",
       "      <th>collectedByHand</th>\n",
       "      <th>Collector-ID</th>\n",
       "      <th>TimeStamp</th>\n",
       "      <th>RFID-ID</th>\n",
       "      <th>GRASP-A</th>\n",
       "      <th>GRASP-B</th>\n",
       "      <th>...</th>\n",
       "      <th>EZ</th>\n",
       "      <th>USERINPUT</th>\n",
       "      <th>HANDINGLOVE</th>\n",
       "      <th>Parcours-ID</th>\n",
       "      <th>Parcours-Step</th>\n",
       "      <th>Mutation-ID</th>\n",
       "      <th>Mutation/HandIsActive</th>\n",
       "      <th>Host-ID</th>\n",
       "      <th>Host/Spot-ID</th>\n",
       "      <th>Gesture-ID</th>\n",
       "    </tr>\n",
       "  </thead>\n",
       "  <tbody>\n",
       "    <tr>\n",
       "      <th>0</th>\n",
       "      <td>_TRAINSET14022017094616</td>\n",
       "      <td>E001</td>\n",
       "      <td>Andreas</td>\n",
       "      <td>Clemens</td>\n",
       "      <td>right</td>\n",
       "      <td>R01</td>\n",
       "      <td>0</td>\n",
       "      <td>000000000000</td>\n",
       "      <td>781</td>\n",
       "      <td>8</td>\n",
       "      <td>...</td>\n",
       "      <td>-81.9375</td>\n",
       "      <td>False</td>\n",
       "      <td>True</td>\n",
       "      <td>P101</td>\n",
       "      <td>1</td>\n",
       "      <td>M151</td>\n",
       "      <td>True</td>\n",
       "      <td>H008</td>\n",
       "      <td>NaN</td>\n",
       "      <td>G15</td>\n",
       "    </tr>\n",
       "    <tr>\n",
       "      <th>1</th>\n",
       "      <td>_TRAINSET14022017094616</td>\n",
       "      <td>E001</td>\n",
       "      <td>Andreas</td>\n",
       "      <td>Clemens</td>\n",
       "      <td>left</td>\n",
       "      <td>L01</td>\n",
       "      <td>19896</td>\n",
       "      <td>000000000000</td>\n",
       "      <td>212</td>\n",
       "      <td>213</td>\n",
       "      <td>...</td>\n",
       "      <td>-84.5625</td>\n",
       "      <td>False</td>\n",
       "      <td>False</td>\n",
       "      <td>P101</td>\n",
       "      <td>1</td>\n",
       "      <td>M151</td>\n",
       "      <td>False</td>\n",
       "      <td>NaN</td>\n",
       "      <td>NaN</td>\n",
       "      <td>NaN</td>\n",
       "    </tr>\n",
       "    <tr>\n",
       "      <th>2</th>\n",
       "      <td>_TRAINSET14022017094616</td>\n",
       "      <td>E001</td>\n",
       "      <td>Andreas</td>\n",
       "      <td>Clemens</td>\n",
       "      <td>right</td>\n",
       "      <td>R01</td>\n",
       "      <td>29001</td>\n",
       "      <td>000000000000</td>\n",
       "      <td>782</td>\n",
       "      <td>0</td>\n",
       "      <td>...</td>\n",
       "      <td>-81.9375</td>\n",
       "      <td>False</td>\n",
       "      <td>True</td>\n",
       "      <td>P101</td>\n",
       "      <td>1</td>\n",
       "      <td>M151</td>\n",
       "      <td>True</td>\n",
       "      <td>H008</td>\n",
       "      <td>NaN</td>\n",
       "      <td>G15</td>\n",
       "    </tr>\n",
       "    <tr>\n",
       "      <th>3</th>\n",
       "      <td>_TRAINSET14022017094616</td>\n",
       "      <td>E001</td>\n",
       "      <td>Andreas</td>\n",
       "      <td>Clemens</td>\n",
       "      <td>left</td>\n",
       "      <td>L01</td>\n",
       "      <td>29823</td>\n",
       "      <td>000000000000</td>\n",
       "      <td>179</td>\n",
       "      <td>185</td>\n",
       "      <td>...</td>\n",
       "      <td>-84.5625</td>\n",
       "      <td>False</td>\n",
       "      <td>False</td>\n",
       "      <td>P101</td>\n",
       "      <td>1</td>\n",
       "      <td>M151</td>\n",
       "      <td>False</td>\n",
       "      <td>NaN</td>\n",
       "      <td>NaN</td>\n",
       "      <td>NaN</td>\n",
       "    </tr>\n",
       "    <tr>\n",
       "      <th>4</th>\n",
       "      <td>_TRAINSET14022017094616</td>\n",
       "      <td>E001</td>\n",
       "      <td>Andreas</td>\n",
       "      <td>Clemens</td>\n",
       "      <td>right</td>\n",
       "      <td>R01</td>\n",
       "      <td>46136</td>\n",
       "      <td>000000000000</td>\n",
       "      <td>782</td>\n",
       "      <td>6</td>\n",
       "      <td>...</td>\n",
       "      <td>-81.8750</td>\n",
       "      <td>False</td>\n",
       "      <td>True</td>\n",
       "      <td>P101</td>\n",
       "      <td>1</td>\n",
       "      <td>M151</td>\n",
       "      <td>True</td>\n",
       "      <td>H008</td>\n",
       "      <td>NaN</td>\n",
       "      <td>G15</td>\n",
       "    </tr>\n",
       "  </tbody>\n",
       "</table>\n",
       "<p>5 rows × 26 columns</p>\n",
       "</div>"
      ],
      "text/plain": [
       "               Trainset-ID Experiment-ID Subject-ID Observer-ID  \\\n",
       "0  _TRAINSET14022017094616          E001    Andreas     Clemens   \n",
       "1  _TRAINSET14022017094616          E001    Andreas     Clemens   \n",
       "2  _TRAINSET14022017094616          E001    Andreas     Clemens   \n",
       "3  _TRAINSET14022017094616          E001    Andreas     Clemens   \n",
       "4  _TRAINSET14022017094616          E001    Andreas     Clemens   \n",
       "\n",
       "  collectedByHand Collector-ID  TimeStamp       RFID-ID  GRASP-A  GRASP-B  \\\n",
       "0           right          R01          0  000000000000      781        8   \n",
       "1            left          L01      19896  000000000000      212      213   \n",
       "2           right          R01      29001  000000000000      782        0   \n",
       "3            left          L01      29823  000000000000      179      185   \n",
       "4           right          R01      46136  000000000000      782        6   \n",
       "\n",
       "     ...           EZ  USERINPUT  HANDINGLOVE   Parcours-ID  Parcours-Step  \\\n",
       "0    ...     -81.9375      False         True          P101              1   \n",
       "1    ...     -84.5625      False        False          P101              1   \n",
       "2    ...     -81.9375      False         True          P101              1   \n",
       "3    ...     -84.5625      False        False          P101              1   \n",
       "4    ...     -81.8750      False         True          P101              1   \n",
       "\n",
       "   Mutation-ID   Mutation/HandIsActive Host-ID Host/Spot-ID Gesture-ID  \n",
       "0         M151                    True    H008          NaN        G15  \n",
       "1         M151                   False     NaN          NaN        NaN  \n",
       "2         M151                    True    H008          NaN        G15  \n",
       "3         M151                   False     NaN          NaN        NaN  \n",
       "4         M151                    True    H008          NaN        G15  \n",
       "\n",
       "[5 rows x 26 columns]"
      ]
     },
     "execution_count": 4,
     "metadata": {},
     "output_type": "execute_result"
    }
   ],
   "source": [
    "data.head()"
   ]
  },
  {
   "cell_type": "markdown",
   "metadata": {},
   "source": [
    "## Some Data Stats"
   ]
  },
  {
   "cell_type": "code",
   "execution_count": 7,
   "metadata": {
    "collapsed": false
   },
   "outputs": [
    {
     "data": {
      "text/plain": [
       "['Andreas', 'Alfred', 'Claudia', 'Dominik']"
      ]
     },
     "execution_count": 7,
     "metadata": {},
     "output_type": "execute_result"
    }
   ],
   "source": [
    "# how many subjects\n",
    "data['Subject-ID'].unique().tolist()"
   ]
  },
  {
   "cell_type": "code",
   "execution_count": 8,
   "metadata": {
    "collapsed": false
   },
   "outputs": [
    {
     "data": {
      "text/plain": [
       "['Clemens']"
      ]
     },
     "execution_count": 8,
     "metadata": {},
     "output_type": "execute_result"
    }
   ],
   "source": [
    "# how many observers\n",
    "data['Observer-ID'].unique().tolist()"
   ]
  },
  {
   "cell_type": "code",
   "execution_count": 10,
   "metadata": {
    "collapsed": false
   },
   "outputs": [
    {
     "data": {
      "text/plain": [
       "['R01', 'L01']"
      ]
     },
     "execution_count": 10,
     "metadata": {},
     "output_type": "execute_result"
    }
   ],
   "source": [
    "# how many hands\n",
    "data['Collector-ID'].unique().tolist()"
   ]
  },
  {
   "cell_type": "code",
   "execution_count": 11,
   "metadata": {
    "collapsed": false
   },
   "outputs": [
    {
     "data": {
      "text/plain": [
       "['000000000000',\n",
       " '09006734114B',\n",
       " 0,\n",
       " '05003DD5CD20',\n",
       " '760057911BAB',\n",
       " '13005E4BB7B1',\n",
       " '1400135B8AD6',\n",
       " '14001486BE38',\n",
       " '7600577D0D51',\n",
       " '140014CD1AD7',\n",
       " '280015E55981',\n",
       " '05008C2F993F']"
      ]
     },
     "execution_count": 11,
     "metadata": {},
     "output_type": "execute_result"
    }
   ],
   "source": [
    "# how many RFID ids\n",
    "data['RFID-ID'].unique().tolist()"
   ]
  },
  {
   "cell_type": "code",
   "execution_count": 9,
   "metadata": {
    "collapsed": false
   },
   "outputs": [
    {
     "data": {
      "text/plain": [
       "['E001', 'E002', 'E003', 'E004', 'E005', 'E006', 'E007', 'E008']"
      ]
     },
     "execution_count": 9,
     "metadata": {},
     "output_type": "execute_result"
    }
   ],
   "source": [
    "# how many experiments\n",
    "data['Experiment-ID'].unique().tolist()"
   ]
  },
  {
   "cell_type": "code",
   "execution_count": 24,
   "metadata": {
    "collapsed": false
   },
   "outputs": [
    {
     "data": {
      "text/plain": [
       "539"
      ]
     },
     "execution_count": 24,
     "metadata": {},
     "output_type": "execute_result"
    }
   ],
   "source": [
    "# how many training sets\n",
    "len(data['Trainset-ID'].unique().tolist())"
   ]
  },
  {
   "cell_type": "code",
   "execution_count": 17,
   "metadata": {
    "collapsed": false
   },
   "outputs": [
    {
     "data": {
      "text/plain": [
       "116"
      ]
     },
     "execution_count": 17,
     "metadata": {},
     "output_type": "execute_result"
    }
   ],
   "source": [
    "# how many parcours\n",
    "len(data[' Parcours-ID'].unique())"
   ]
  },
  {
   "cell_type": "code",
   "execution_count": 19,
   "metadata": {
    "collapsed": false
   },
   "outputs": [
    {
     "data": {
      "text/plain": [
       "array([ 1,  2,  3,  4,  5,  6,  7,  8,  9, 10, 11, 12])"
      ]
     },
     "execution_count": 19,
     "metadata": {},
     "output_type": "execute_result"
    }
   ],
   "source": [
    "# how many parcours steps\n",
    "data['Parcours-Step'].unique()"
   ]
  },
  {
   "cell_type": "code",
   "execution_count": 20,
   "metadata": {
    "collapsed": false
   },
   "outputs": [
    {
     "data": {
      "text/plain": [
       "177"
      ]
     },
     "execution_count": 20,
     "metadata": {},
     "output_type": "execute_result"
    }
   ],
   "source": [
    "# how many mutations\n",
    "len(data['Mutation-ID'].unique())"
   ]
  },
  {
   "cell_type": "code",
   "execution_count": 21,
   "metadata": {
    "collapsed": false
   },
   "outputs": [
    {
     "data": {
      "text/plain": [
       "19"
      ]
     },
     "execution_count": 21,
     "metadata": {},
     "output_type": "execute_result"
    }
   ],
   "source": [
    "# how many gestures\n",
    "len(data['Gesture-ID'].unique())"
   ]
  },
  {
   "cell_type": "code",
   "execution_count": 22,
   "metadata": {
    "collapsed": false
   },
   "outputs": [
    {
     "data": {
      "text/plain": [
       "10"
      ]
     },
     "execution_count": 22,
     "metadata": {},
     "output_type": "execute_result"
    }
   ],
   "source": [
    "# how many hosts\n",
    "len(data['Host-ID'].unique())"
   ]
  },
  {
   "cell_type": "markdown",
   "metadata": {},
   "source": [
    "## Data Preprocessing"
   ]
  },
  {
   "cell_type": "code",
   "execution_count": null,
   "metadata": {
    "collapsed": true
   },
   "outputs": [],
   "source": [
    "# rename some columns as the - in the column name does not allow for data.query()) to be used\n",
    "# cut off the \"-ID\" suffix and replace - by _\n",
    "\n",
    "for col in data.columns:\n",
    "    if col.endswith('-ID'):\n",
    "        data.rename(columns={col: col[:-3]}, inplace=True)\n",
    "        print \"Renamed\", col, \"->\", col[:-3]\n",
    "    elif '-' in col:\n",
    "        new_col = col.replace('-','_')\n",
    "        data.rename(columns={col: new_col}, inplace=True)\n",
    "        print \"Renamed\", col, \"->\", new_col"
   ]
  },
  {
   "cell_type": "code",
   "execution_count": 82,
   "metadata": {
    "collapsed": true
   },
   "outputs": [],
   "source": [
    "data.rename(columns={'Experiment-ID': 'Experiment'}, inplace=True)  "
   ]
  },
  {
   "cell_type": "code",
   "execution_count": 53,
   "metadata": {
    "collapsed": true
   },
   "outputs": [],
   "source": [
    "# remove rows that are not needed:\n",
    "# all where Gesture-ID is NaN  (implies 'Mutation/HandIsActive' == False and Host is NaN)\n",
    "\n",
    "data.dropna(axis=0, subset=['Gesture-ID'], inplace=True)"
   ]
  },
  {
   "cell_type": "code",
   "execution_count": 67,
   "metadata": {
    "collapsed": true
   },
   "outputs": [],
   "source": [
    "# remove columns that we don#t need\n",
    "# to be ignored as communicated by MOM\n",
    "cols_to_remove = ['Trainset-ID','USERINPUT', 'HANDINGLOVE', 'Observer-ID','Collector-ID','Host/Spot-ID','RFID-ID',\n",
    "                 ' Mutation/HandIsActive']\n",
    "#TODO check Host/Spot-ID, Mutation\n",
    "data.drop(cols_to_remove,inplace=True,axis=1)"
   ]
  },
  {
   "cell_type": "code",
   "execution_count": 68,
   "metadata": {
    "collapsed": false
   },
   "outputs": [
    {
     "data": {
      "text/plain": [
       "(780299, 18)"
      ]
     },
     "execution_count": 68,
     "metadata": {},
     "output_type": "execute_result"
    }
   ],
   "source": [
    "data.shape"
   ]
  },
  {
   "cell_type": "code",
   "execution_count": 58,
   "metadata": {
    "collapsed": false
   },
   "outputs": [
    {
     "data": {
      "text/plain": [
       "['right', 'left']"
      ]
     },
     "execution_count": 58,
     "metadata": {},
     "output_type": "execute_result"
    }
   ],
   "source": [
    "# also in this evaluation, we use only one-hand devices and only people who are right-handers\n",
    "data['collectedByHand'].unique().tolist()"
   ]
  },
  {
   "cell_type": "code",
   "execution_count": 64,
   "metadata": {
    "collapsed": false
   },
   "outputs": [
    {
     "data": {
      "text/plain": [
       "[True, False]"
      ]
     },
     "execution_count": 64,
     "metadata": {},
     "output_type": "execute_result"
    }
   ],
   "source": [
    "data['HANDINGLOVE'].unique().tolist()"
   ]
  },
  {
   "cell_type": "code",
   "execution_count": 60,
   "metadata": {
    "collapsed": false
   },
   "outputs": [
    {
     "data": {
      "text/plain": [
       "711360"
      ]
     },
     "execution_count": 60,
     "metadata": {},
     "output_type": "execute_result"
    }
   ],
   "source": [
    "sum(data['collectedByHand']=='right')"
   ]
  },
  {
   "cell_type": "code",
   "execution_count": 59,
   "metadata": {
    "collapsed": false
   },
   "outputs": [
    {
     "data": {
      "text/plain": [
       "68939"
      ]
     },
     "execution_count": 59,
     "metadata": {},
     "output_type": "execute_result"
    }
   ],
   "source": [
    "# Q: keep left hand data or not?\n",
    "sum(data['collectedByHand']=='left')\n",
    "# TODO remove?"
   ]
  },
  {
   "cell_type": "code",
   "execution_count": null,
   "metadata": {
    "collapsed": true
   },
   "outputs": [],
   "source": [
    "# filter right hand, throw away left hand\n"
   ]
  },
  {
   "cell_type": "code",
   "execution_count": null,
   "metadata": {
    "collapsed": true
   },
   "outputs": [],
   "source": [
    "# TODO check Mutation/HandIsActive -> filter out False!"
   ]
  },
  {
   "cell_type": "markdown",
   "metadata": {},
   "source": [
    "## Look into the Data"
   ]
  },
  {
   "cell_type": "code",
   "execution_count": 76,
   "metadata": {
    "collapsed": false,
    "scrolled": true
   },
   "outputs": [
    {
     "data": {
      "text/html": [
       "<div>\n",
       "<table border=\"1\" class=\"dataframe\">\n",
       "  <thead>\n",
       "    <tr style=\"text-align: right;\">\n",
       "      <th></th>\n",
       "      <th>Experiment-ID</th>\n",
       "      <th>Subject</th>\n",
       "      <th>collectedByHand</th>\n",
       "      <th>TimeStamp</th>\n",
       "      <th>GRASP-A</th>\n",
       "      <th>GRASP-B</th>\n",
       "      <th>GRASP-C</th>\n",
       "      <th>AX</th>\n",
       "      <th>AY</th>\n",
       "      <th>AZ</th>\n",
       "      <th>EX</th>\n",
       "      <th>EY</th>\n",
       "      <th>EZ</th>\n",
       "      <th>Parcours-ID</th>\n",
       "      <th>Parcours-Step</th>\n",
       "      <th>Mutation-ID</th>\n",
       "      <th>Host-ID</th>\n",
       "      <th>Gesture-ID</th>\n",
       "    </tr>\n",
       "  </thead>\n",
       "  <tbody>\n",
       "    <tr>\n",
       "      <th>0</th>\n",
       "      <td>E001</td>\n",
       "      <td>Andreas</td>\n",
       "      <td>right</td>\n",
       "      <td>0</td>\n",
       "      <td>781</td>\n",
       "      <td>8</td>\n",
       "      <td>797</td>\n",
       "      <td>0.06</td>\n",
       "      <td>-0.02</td>\n",
       "      <td>-0.10</td>\n",
       "      <td>216.8125</td>\n",
       "      <td>9.0625</td>\n",
       "      <td>-81.9375</td>\n",
       "      <td>P101</td>\n",
       "      <td>1</td>\n",
       "      <td>M151</td>\n",
       "      <td>H008</td>\n",
       "      <td>G15</td>\n",
       "    </tr>\n",
       "    <tr>\n",
       "      <th>2</th>\n",
       "      <td>E001</td>\n",
       "      <td>Andreas</td>\n",
       "      <td>right</td>\n",
       "      <td>29001</td>\n",
       "      <td>782</td>\n",
       "      <td>0</td>\n",
       "      <td>799</td>\n",
       "      <td>0.09</td>\n",
       "      <td>-0.04</td>\n",
       "      <td>-0.11</td>\n",
       "      <td>217.0625</td>\n",
       "      <td>9.0625</td>\n",
       "      <td>-81.9375</td>\n",
       "      <td>P101</td>\n",
       "      <td>1</td>\n",
       "      <td>M151</td>\n",
       "      <td>H008</td>\n",
       "      <td>G15</td>\n",
       "    </tr>\n",
       "    <tr>\n",
       "      <th>4</th>\n",
       "      <td>E001</td>\n",
       "      <td>Andreas</td>\n",
       "      <td>right</td>\n",
       "      <td>46136</td>\n",
       "      <td>782</td>\n",
       "      <td>6</td>\n",
       "      <td>798</td>\n",
       "      <td>0.12</td>\n",
       "      <td>-0.09</td>\n",
       "      <td>0.09</td>\n",
       "      <td>217.4375</td>\n",
       "      <td>9.1250</td>\n",
       "      <td>-81.8750</td>\n",
       "      <td>P101</td>\n",
       "      <td>1</td>\n",
       "      <td>M151</td>\n",
       "      <td>H008</td>\n",
       "      <td>G15</td>\n",
       "    </tr>\n",
       "    <tr>\n",
       "      <th>6</th>\n",
       "      <td>E001</td>\n",
       "      <td>Andreas</td>\n",
       "      <td>right</td>\n",
       "      <td>74902</td>\n",
       "      <td>784</td>\n",
       "      <td>7</td>\n",
       "      <td>798</td>\n",
       "      <td>0.08</td>\n",
       "      <td>-0.08</td>\n",
       "      <td>0.03</td>\n",
       "      <td>217.6250</td>\n",
       "      <td>9.1250</td>\n",
       "      <td>-81.8125</td>\n",
       "      <td>P101</td>\n",
       "      <td>1</td>\n",
       "      <td>M151</td>\n",
       "      <td>H008</td>\n",
       "      <td>G15</td>\n",
       "    </tr>\n",
       "    <tr>\n",
       "      <th>8</th>\n",
       "      <td>E001</td>\n",
       "      <td>Andreas</td>\n",
       "      <td>right</td>\n",
       "      <td>97663</td>\n",
       "      <td>781</td>\n",
       "      <td>0</td>\n",
       "      <td>798</td>\n",
       "      <td>0.07</td>\n",
       "      <td>-0.09</td>\n",
       "      <td>0.04</td>\n",
       "      <td>217.9375</td>\n",
       "      <td>9.1875</td>\n",
       "      <td>-81.7500</td>\n",
       "      <td>P101</td>\n",
       "      <td>1</td>\n",
       "      <td>M151</td>\n",
       "      <td>H008</td>\n",
       "      <td>G15</td>\n",
       "    </tr>\n",
       "  </tbody>\n",
       "</table>\n",
       "</div>"
      ],
      "text/plain": [
       "  Experiment-ID  Subject collectedByHand  TimeStamp  GRASP-A  GRASP-B  \\\n",
       "0          E001  Andreas           right          0      781        8   \n",
       "2          E001  Andreas           right      29001      782        0   \n",
       "4          E001  Andreas           right      46136      782        6   \n",
       "6          E001  Andreas           right      74902      784        7   \n",
       "8          E001  Andreas           right      97663      781        0   \n",
       "\n",
       "   GRASP-C    AX    AY    AZ        EX      EY       EZ  Parcours-ID  \\\n",
       "0      797  0.06 -0.02 -0.10  216.8125  9.0625 -81.9375         P101   \n",
       "2      799  0.09 -0.04 -0.11  217.0625  9.0625 -81.9375         P101   \n",
       "4      798  0.12 -0.09  0.09  217.4375  9.1250 -81.8750         P101   \n",
       "6      798  0.08 -0.08  0.03  217.6250  9.1250 -81.8125         P101   \n",
       "8      798  0.07 -0.09  0.04  217.9375  9.1875 -81.7500         P101   \n",
       "\n",
       "   Parcours-Step Mutation-ID Host-ID Gesture-ID  \n",
       "0              1        M151    H008        G15  \n",
       "2              1        M151    H008        G15  \n",
       "4              1        M151    H008        G15  \n",
       "6              1        M151    H008        G15  \n",
       "8              1        M151    H008        G15  "
      ]
     },
     "execution_count": 76,
     "metadata": {},
     "output_type": "execute_result"
    }
   ],
   "source": [
    "data.head()"
   ]
  },
  {
   "cell_type": "code",
   "execution_count": 92,
   "metadata": {
    "collapsed": false
   },
   "outputs": [
    {
     "data": {
      "text/plain": [
       "(17493, 18)"
      ]
     },
     "execution_count": 92,
     "metadata": {},
     "output_type": "execute_result"
    }
   ],
   "source": [
    "exp = 'E001'\n",
    "subject = 'Andreas'\n",
    "gesture = 'G15'\n",
    "mydata = data.query('Experiment==@exp and Subject==@subject and Gesture==@gesture')\n",
    "mydata.shape"
   ]
  },
  {
   "cell_type": "markdown",
   "metadata": {
    "collapsed": true
   },
   "source": [
    "### Visualize timeline of sensor data"
   ]
  },
  {
   "cell_type": "code",
   "execution_count": 107,
   "metadata": {
    "collapsed": false
   },
   "outputs": [],
   "source": [
    "def myplot(var):\n",
    "    y = mydata[var]\n",
    "    x = range(len(y))\n",
    "    plt.plot(x, y)\n",
    "    title = \"%s %s %s %s %s\" % (exp,subject,gesture,gesture_name(gesture),var)\n",
    "    plt.title(title)\n",
    "    #plt.show()"
   ]
  },
  {
   "cell_type": "code",
   "execution_count": 108,
   "metadata": {
    "collapsed": false
   },
   "outputs": [
    {
     "data": {
      "image/png": "[encoded data removed]",
      "text/plain": [
       "<matplotlib.figure.Figure at 0x7f3c0c92f790>"
      ]
     },
     "metadata": {},
     "output_type": "display_data"
    }
   ],
   "source": [
    "var = 'EX'\n",
    "myplot(var)"
   ]
  },
  {
   "cell_type": "code",
   "execution_count": null,
   "metadata": {
    "collapsed": true
   },
   "outputs": [],
   "source": [
    "mydata"
   ]
  },
  {
   "cell_type": "code",
   "execution_count": null,
   "metadata": {
    "collapsed": true
   },
   "outputs": [],
   "source": [
    "# Standardize"
   ]
  },
  {
   "cell_type": "code",
   "execution_count": null,
   "metadata": {
    "collapsed": true
   },
   "outputs": [],
   "source": [
    "# Make groupings by Subject, Experiment, "
   ]
  },
  {
   "cell_type": "code",
   "execution_count": null,
   "metadata": {
    "collapsed": true
   },
   "outputs": [],
   "source": [
    "# Calc derivatives"
   ]
  },
  {
   "cell_type": "code",
   "execution_count": null,
   "metadata": {
    "collapsed": true
   },
   "outputs": [],
   "source": [
    "# Time Normalize?"
   ]
  },
  {
   "cell_type": "markdown",
   "metadata": {},
   "source": [
    "## Tasks"
   ]
  },
  {
   "cell_type": "markdown",
   "metadata": {},
   "source": [
    "### 1) Recognize Host + Gesture\n",
    "\n",
    "(maybe also Subject)"
   ]
  },
  {
   "cell_type": "markdown",
   "metadata": {},
   "source": [
    "### 2) Recognize Gesture independent of host"
   ]
  },
  {
   "cell_type": "code",
   "execution_count": null,
   "metadata": {
    "collapsed": true
   },
   "outputs": [],
   "source": []
  }
 ],
 "metadata": {
  "kernelspec": {
   "display_name": "Python 2",
   "language": "python",
   "name": "python2"
  },
  "language_info": {
   "codemirror_mode": {
    "name": "ipython",
    "version": 2
   },
   "file_extension": ".py",
   "mimetype": "text/x-python",
   "name": "python",
   "nbconvert_exporter": "python",
   "pygments_lexer": "ipython2",
   "version": "2.7.12"
  }
 },
 "nbformat": 4,
 "nbformat_minor": 0
}
