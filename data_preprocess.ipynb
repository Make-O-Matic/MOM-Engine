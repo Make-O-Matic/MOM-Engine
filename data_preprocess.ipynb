{
 "cells": [
  {
   "cell_type": "code",
   "execution_count": 27,
   "metadata": {
    "collapsed": true
   },
   "outputs": [],
   "source": [
    "import pandas as pd\n",
    "import json"
   ]
  },
  {
   "cell_type": "markdown",
   "metadata": {},
   "source": [
    "## Read Data"
   ]
  },
  {
   "cell_type": "code",
   "execution_count": 28,
   "metadata": {
    "collapsed": true
   },
   "outputs": [],
   "source": [
    "csv_file = 'data/EXPORT_09042017173622.csv'\n",
    "json_file = 'data/gestures.json'"
   ]
  },
  {
   "cell_type": "code",
   "execution_count": 38,
   "metadata": {
    "collapsed": false
   },
   "outputs": [
    {
     "data": {
      "text/plain": [
       "{u'gestures': [{u'$oid': u'58a23a22d826756404709446',\n",
       "   u'id': u'G01',\n",
       "   u'name': u'Single Rotation klein rechtsrum',\n",
       "   u'slug': u'rssr'},\n",
       "  {u'$oid': u'58a23a22d826756404709447',\n",
       "   u'id': u'G02',\n",
       "   u'name': u'Single Rotation klein linksrum',\n",
       "   u'slug': u'rssl'},\n",
       "  {u'$oid': u'58a23a22d826756404709448',\n",
       "   u'id': u'G03',\n",
       "   u'name': u'Oszillierende Rotation klein rechtsrum',\n",
       "   u'slug': u'rosr'},\n",
       "  {u'$oid': u'58a23a22d826756404709449',\n",
       "   u'id': u'G04',\n",
       "   u'name': u'Oszillierende Rotation klein linksrum',\n",
       "   u'slug': u'rosl'},\n",
       "  {u'$oid': u'58a23a22d82675640470944a',\n",
       "   u'id': u'G05',\n",
       "   u'name': u'Single Rotation gro\\xdf rechtsrum',\n",
       "   u'slug': u'rsbr'},\n",
       "  {u'$oid': u'58a23a22d82675640470944b',\n",
       "   u'id': u'G06',\n",
       "   u'name': u'Single Rotation gro\\xdf linksrum',\n",
       "   u'slug': u'rsbl'},\n",
       "  {u'$oid': u'58a23a22d82675640470944c',\n",
       "   u'id': u'G07',\n",
       "   u'name': u'Oszillierende Rotation gro\\xdf rechtsrum',\n",
       "   u'slug': u'robr'},\n",
       "  {u'$oid': u'58a23a22d82675640470944d',\n",
       "   u'id': u'G08',\n",
       "   u'name': u'Oszillierende Rotation gro\\xdf linksrum',\n",
       "   u'slug': u'robl'},\n",
       "  {u'$oid': u'58a23a22d82675640470944e',\n",
       "   u'id': u'G09',\n",
       "   u'name': u'Kontinuierliche Rotation gro\\xdf rechtsrum',\n",
       "   u'slug': u'rcbr'},\n",
       "  {u'$oid': u'58a23a22d82675640470944f',\n",
       "   u'id': u'G10',\n",
       "   u'name': u'Kontinuierliche Rotation gro\\xdf linksrum',\n",
       "   u'slug': u'rcbl'},\n",
       "  {u'$oid': u'58a23a22d826756404709450',\n",
       "   u'id': u'G11',\n",
       "   u'name': u'LinearMovement Single',\n",
       "   u'slug': u'lms'},\n",
       "  {u'$oid': u'58a23a22d826756404709451',\n",
       "   u'id': u'G12',\n",
       "   u'name': u'LinearMovement Oszillierend',\n",
       "   u'slug': u'lmo'},\n",
       "  {u'$oid': u'58a23a22d826756404709452',\n",
       "   u'id': u'G13',\n",
       "   u'name': u'Dr\\xfccken',\n",
       "   u'slug': u'pb'},\n",
       "  {u'$oid': u'58a23a22d826756404709453',\n",
       "   u'id': u'G14',\n",
       "   u'isGarbage': True,\n",
       "   u'isNesture': True,\n",
       "   u'name': u'Rest',\n",
       "   u'slug': u'rest'},\n",
       "  {u'$oid': u'58a23a22d826756404709454',\n",
       "   u'id': u'G15',\n",
       "   u'isNesture': True,\n",
       "   u'name': u'Greifen',\n",
       "   u'slug': u'grasp'},\n",
       "  {u'$oid': u'58a23a22d826756404709455',\n",
       "   u'id': u'G16',\n",
       "   u'isNesture': True,\n",
       "   u'name': u'Positionieren',\n",
       "   u'slug': u'pos'},\n",
       "  {u'$oid': u'58a23a22d826756404709456',\n",
       "   u'id': u'G17',\n",
       "   u'isNesture': True,\n",
       "   u'name': u'Umgreifen',\n",
       "   u'slug': u'regr'},\n",
       "  {u'$oid': u'58a23a22d826756404709457',\n",
       "   u'id': u'G18',\n",
       "   u'isNesture': True,\n",
       "   u'name': u'Ablegen',\n",
       "   u'slug': u'release'}]}"
      ]
     },
     "execution_count": 38,
     "metadata": {},
     "output_type": "execute_result"
    }
   ],
   "source": [
    "# Gesture List with names\n",
    "with open(json_file) as data_file:    \n",
    "    gestures = json.load(data_file)\n",
    "    # j = json.loads(input_file.read().decode(\"utf-8-sig\"))\n",
    "\n",
    "gestures"
   ]
  },
  {
   "cell_type": "code",
   "execution_count": 45,
   "metadata": {
    "collapsed": false
   },
   "outputs": [
    {
     "data": {
      "text/html": [
       "<div>\n",
       "<table border=\"1\" class=\"dataframe\">\n",
       "  <thead>\n",
       "    <tr style=\"text-align: right;\">\n",
       "      <th></th>\n",
       "      <th>$oid</th>\n",
       "      <th>isGarbage</th>\n",
       "      <th>isNesture</th>\n",
       "      <th>name</th>\n",
       "      <th>slug</th>\n",
       "    </tr>\n",
       "    <tr>\n",
       "      <th>id</th>\n",
       "      <th></th>\n",
       "      <th></th>\n",
       "      <th></th>\n",
       "      <th></th>\n",
       "      <th></th>\n",
       "    </tr>\n",
       "  </thead>\n",
       "  <tbody>\n",
       "    <tr>\n",
       "      <th>G01</th>\n",
       "      <td>58a23a22d826756404709446</td>\n",
       "      <td>NaN</td>\n",
       "      <td>NaN</td>\n",
       "      <td>Single Rotation klein rechtsrum</td>\n",
       "      <td>rssr</td>\n",
       "    </tr>\n",
       "    <tr>\n",
       "      <th>G02</th>\n",
       "      <td>58a23a22d826756404709447</td>\n",
       "      <td>NaN</td>\n",
       "      <td>NaN</td>\n",
       "      <td>Single Rotation klein linksrum</td>\n",
       "      <td>rssl</td>\n",
       "    </tr>\n",
       "    <tr>\n",
       "      <th>G03</th>\n",
       "      <td>58a23a22d826756404709448</td>\n",
       "      <td>NaN</td>\n",
       "      <td>NaN</td>\n",
       "      <td>Oszillierende Rotation klein rechtsrum</td>\n",
       "      <td>rosr</td>\n",
       "    </tr>\n",
       "    <tr>\n",
       "      <th>G04</th>\n",
       "      <td>58a23a22d826756404709449</td>\n",
       "      <td>NaN</td>\n",
       "      <td>NaN</td>\n",
       "      <td>Oszillierende Rotation klein linksrum</td>\n",
       "      <td>rosl</td>\n",
       "    </tr>\n",
       "    <tr>\n",
       "      <th>G05</th>\n",
       "      <td>58a23a22d82675640470944a</td>\n",
       "      <td>NaN</td>\n",
       "      <td>NaN</td>\n",
       "      <td>Single Rotation groß rechtsrum</td>\n",
       "      <td>rsbr</td>\n",
       "    </tr>\n",
       "    <tr>\n",
       "      <th>G06</th>\n",
       "      <td>58a23a22d82675640470944b</td>\n",
       "      <td>NaN</td>\n",
       "      <td>NaN</td>\n",
       "      <td>Single Rotation groß linksrum</td>\n",
       "      <td>rsbl</td>\n",
       "    </tr>\n",
       "    <tr>\n",
       "      <th>G07</th>\n",
       "      <td>58a23a22d82675640470944c</td>\n",
       "      <td>NaN</td>\n",
       "      <td>NaN</td>\n",
       "      <td>Oszillierende Rotation groß rechtsrum</td>\n",
       "      <td>robr</td>\n",
       "    </tr>\n",
       "    <tr>\n",
       "      <th>G08</th>\n",
       "      <td>58a23a22d82675640470944d</td>\n",
       "      <td>NaN</td>\n",
       "      <td>NaN</td>\n",
       "      <td>Oszillierende Rotation groß linksrum</td>\n",
       "      <td>robl</td>\n",
       "    </tr>\n",
       "    <tr>\n",
       "      <th>G09</th>\n",
       "      <td>58a23a22d82675640470944e</td>\n",
       "      <td>NaN</td>\n",
       "      <td>NaN</td>\n",
       "      <td>Kontinuierliche Rotation groß rechtsrum</td>\n",
       "      <td>rcbr</td>\n",
       "    </tr>\n",
       "    <tr>\n",
       "      <th>G10</th>\n",
       "      <td>58a23a22d82675640470944f</td>\n",
       "      <td>NaN</td>\n",
       "      <td>NaN</td>\n",
       "      <td>Kontinuierliche Rotation groß linksrum</td>\n",
       "      <td>rcbl</td>\n",
       "    </tr>\n",
       "    <tr>\n",
       "      <th>G11</th>\n",
       "      <td>58a23a22d826756404709450</td>\n",
       "      <td>NaN</td>\n",
       "      <td>NaN</td>\n",
       "      <td>LinearMovement Single</td>\n",
       "      <td>lms</td>\n",
       "    </tr>\n",
       "    <tr>\n",
       "      <th>G12</th>\n",
       "      <td>58a23a22d826756404709451</td>\n",
       "      <td>NaN</td>\n",
       "      <td>NaN</td>\n",
       "      <td>LinearMovement Oszillierend</td>\n",
       "      <td>lmo</td>\n",
       "    </tr>\n",
       "    <tr>\n",
       "      <th>G13</th>\n",
       "      <td>58a23a22d826756404709452</td>\n",
       "      <td>NaN</td>\n",
       "      <td>NaN</td>\n",
       "      <td>Drücken</td>\n",
       "      <td>pb</td>\n",
       "    </tr>\n",
       "    <tr>\n",
       "      <th>G14</th>\n",
       "      <td>58a23a22d826756404709453</td>\n",
       "      <td>True</td>\n",
       "      <td>True</td>\n",
       "      <td>Rest</td>\n",
       "      <td>rest</td>\n",
       "    </tr>\n",
       "    <tr>\n",
       "      <th>G15</th>\n",
       "      <td>58a23a22d826756404709454</td>\n",
       "      <td>NaN</td>\n",
       "      <td>True</td>\n",
       "      <td>Greifen</td>\n",
       "      <td>grasp</td>\n",
       "    </tr>\n",
       "    <tr>\n",
       "      <th>G16</th>\n",
       "      <td>58a23a22d826756404709455</td>\n",
       "      <td>NaN</td>\n",
       "      <td>True</td>\n",
       "      <td>Positionieren</td>\n",
       "      <td>pos</td>\n",
       "    </tr>\n",
       "    <tr>\n",
       "      <th>G17</th>\n",
       "      <td>58a23a22d826756404709456</td>\n",
       "      <td>NaN</td>\n",
       "      <td>True</td>\n",
       "      <td>Umgreifen</td>\n",
       "      <td>regr</td>\n",
       "    </tr>\n",
       "    <tr>\n",
       "      <th>G18</th>\n",
       "      <td>58a23a22d826756404709457</td>\n",
       "      <td>NaN</td>\n",
       "      <td>True</td>\n",
       "      <td>Ablegen</td>\n",
       "      <td>release</td>\n",
       "    </tr>\n",
       "  </tbody>\n",
       "</table>\n",
       "</div>"
      ],
      "text/plain": [
       "                         $oid isGarbage isNesture  \\\n",
       "id                                                  \n",
       "G01  58a23a22d826756404709446       NaN       NaN   \n",
       "G02  58a23a22d826756404709447       NaN       NaN   \n",
       "G03  58a23a22d826756404709448       NaN       NaN   \n",
       "G04  58a23a22d826756404709449       NaN       NaN   \n",
       "G05  58a23a22d82675640470944a       NaN       NaN   \n",
       "G06  58a23a22d82675640470944b       NaN       NaN   \n",
       "G07  58a23a22d82675640470944c       NaN       NaN   \n",
       "G08  58a23a22d82675640470944d       NaN       NaN   \n",
       "G09  58a23a22d82675640470944e       NaN       NaN   \n",
       "G10  58a23a22d82675640470944f       NaN       NaN   \n",
       "G11  58a23a22d826756404709450       NaN       NaN   \n",
       "G12  58a23a22d826756404709451       NaN       NaN   \n",
       "G13  58a23a22d826756404709452       NaN       NaN   \n",
       "G14  58a23a22d826756404709453      True      True   \n",
       "G15  58a23a22d826756404709454       NaN      True   \n",
       "G16  58a23a22d826756404709455       NaN      True   \n",
       "G17  58a23a22d826756404709456       NaN      True   \n",
       "G18  58a23a22d826756404709457       NaN      True   \n",
       "\n",
       "                                        name     slug  \n",
       "id                                                     \n",
       "G01          Single Rotation klein rechtsrum     rssr  \n",
       "G02           Single Rotation klein linksrum     rssl  \n",
       "G03   Oszillierende Rotation klein rechtsrum     rosr  \n",
       "G04    Oszillierende Rotation klein linksrum     rosl  \n",
       "G05           Single Rotation groß rechtsrum     rsbr  \n",
       "G06            Single Rotation groß linksrum     rsbl  \n",
       "G07    Oszillierende Rotation groß rechtsrum     robr  \n",
       "G08     Oszillierende Rotation groß linksrum     robl  \n",
       "G09  Kontinuierliche Rotation groß rechtsrum     rcbr  \n",
       "G10   Kontinuierliche Rotation groß linksrum     rcbl  \n",
       "G11                    LinearMovement Single      lms  \n",
       "G12              LinearMovement Oszillierend      lmo  \n",
       "G13                                  Drücken       pb  \n",
       "G14                                     Rest     rest  \n",
       "G15                                  Greifen    grasp  \n",
       "G16                            Positionieren      pos  \n",
       "G17                                Umgreifen     regr  \n",
       "G18                                  Ablegen  release  "
      ]
     },
     "execution_count": 45,
     "metadata": {},
     "output_type": "execute_result"
    }
   ],
   "source": [
    "gestures_df = pd.DataFrame.from_dict(gestures['gestures'])\n",
    "gestures_df.set_index('id', inplace=True)\n",
    "gestures_df"
   ]
  },
  {
   "cell_type": "code",
   "execution_count": 2,
   "metadata": {
    "collapsed": false
   },
   "outputs": [
    {
     "name": "stderr",
     "output_type": "stream",
     "text": [
      "/usr/local/lib/python2.7/dist-packages/IPython/core/interactiveshell.py:2871: DtypeWarning: Columns (7) have mixed types. Specify dtype option on import or set low_memory=False.\n",
      "  interactivity=interactivity, compiler=compiler, result=result)\n"
     ]
    }
   ],
   "source": [
    "# Experiment Data\n",
    "data = pd.read_csv(csv_file)\n",
    "data.shape"
   ]
  },
  {
   "cell_type": "code",
   "execution_count": 4,
   "metadata": {
    "collapsed": false
   },
   "outputs": [
    {
     "data": {
      "text/html": [
       "<div>\n",
       "<table border=\"1\" class=\"dataframe\">\n",
       "  <thead>\n",
       "    <tr style=\"text-align: right;\">\n",
       "      <th></th>\n",
       "      <th>Trainset-ID</th>\n",
       "      <th>Experiment-ID</th>\n",
       "      <th>Subject-ID</th>\n",
       "      <th>Observer-ID</th>\n",
       "      <th>collectedByHand</th>\n",
       "      <th>Collector-ID</th>\n",
       "      <th>TimeStamp</th>\n",
       "      <th>RFID-ID</th>\n",
       "      <th>GRASP-A</th>\n",
       "      <th>GRASP-B</th>\n",
       "      <th>...</th>\n",
       "      <th>EZ</th>\n",
       "      <th>USERINPUT</th>\n",
       "      <th>HANDINGLOVE</th>\n",
       "      <th>Parcours-ID</th>\n",
       "      <th>Parcours-Step</th>\n",
       "      <th>Mutation-ID</th>\n",
       "      <th>Mutation/HandIsActive</th>\n",
       "      <th>Host-ID</th>\n",
       "      <th>Host/Spot-ID</th>\n",
       "      <th>Gesture-ID</th>\n",
       "    </tr>\n",
       "  </thead>\n",
       "  <tbody>\n",
       "    <tr>\n",
       "      <th>0</th>\n",
       "      <td>_TRAINSET14022017094616</td>\n",
       "      <td>E001</td>\n",
       "      <td>Andreas</td>\n",
       "      <td>Clemens</td>\n",
       "      <td>right</td>\n",
       "      <td>R01</td>\n",
       "      <td>0</td>\n",
       "      <td>000000000000</td>\n",
       "      <td>781</td>\n",
       "      <td>8</td>\n",
       "      <td>...</td>\n",
       "      <td>-81.9375</td>\n",
       "      <td>False</td>\n",
       "      <td>True</td>\n",
       "      <td>P101</td>\n",
       "      <td>1</td>\n",
       "      <td>M151</td>\n",
       "      <td>True</td>\n",
       "      <td>H008</td>\n",
       "      <td>NaN</td>\n",
       "      <td>G15</td>\n",
       "    </tr>\n",
       "    <tr>\n",
       "      <th>1</th>\n",
       "      <td>_TRAINSET14022017094616</td>\n",
       "      <td>E001</td>\n",
       "      <td>Andreas</td>\n",
       "      <td>Clemens</td>\n",
       "      <td>left</td>\n",
       "      <td>L01</td>\n",
       "      <td>19896</td>\n",
       "      <td>000000000000</td>\n",
       "      <td>212</td>\n",
       "      <td>213</td>\n",
       "      <td>...</td>\n",
       "      <td>-84.5625</td>\n",
       "      <td>False</td>\n",
       "      <td>False</td>\n",
       "      <td>P101</td>\n",
       "      <td>1</td>\n",
       "      <td>M151</td>\n",
       "      <td>False</td>\n",
       "      <td>NaN</td>\n",
       "      <td>NaN</td>\n",
       "      <td>NaN</td>\n",
       "    </tr>\n",
       "    <tr>\n",
       "      <th>2</th>\n",
       "      <td>_TRAINSET14022017094616</td>\n",
       "      <td>E001</td>\n",
       "      <td>Andreas</td>\n",
       "      <td>Clemens</td>\n",
       "      <td>right</td>\n",
       "      <td>R01</td>\n",
       "      <td>29001</td>\n",
       "      <td>000000000000</td>\n",
       "      <td>782</td>\n",
       "      <td>0</td>\n",
       "      <td>...</td>\n",
       "      <td>-81.9375</td>\n",
       "      <td>False</td>\n",
       "      <td>True</td>\n",
       "      <td>P101</td>\n",
       "      <td>1</td>\n",
       "      <td>M151</td>\n",
       "      <td>True</td>\n",
       "      <td>H008</td>\n",
       "      <td>NaN</td>\n",
       "      <td>G15</td>\n",
       "    </tr>\n",
       "    <tr>\n",
       "      <th>3</th>\n",
       "      <td>_TRAINSET14022017094616</td>\n",
       "      <td>E001</td>\n",
       "      <td>Andreas</td>\n",
       "      <td>Clemens</td>\n",
       "      <td>left</td>\n",
       "      <td>L01</td>\n",
       "      <td>29823</td>\n",
       "      <td>000000000000</td>\n",
       "      <td>179</td>\n",
       "      <td>185</td>\n",
       "      <td>...</td>\n",
       "      <td>-84.5625</td>\n",
       "      <td>False</td>\n",
       "      <td>False</td>\n",
       "      <td>P101</td>\n",
       "      <td>1</td>\n",
       "      <td>M151</td>\n",
       "      <td>False</td>\n",
       "      <td>NaN</td>\n",
       "      <td>NaN</td>\n",
       "      <td>NaN</td>\n",
       "    </tr>\n",
       "    <tr>\n",
       "      <th>4</th>\n",
       "      <td>_TRAINSET14022017094616</td>\n",
       "      <td>E001</td>\n",
       "      <td>Andreas</td>\n",
       "      <td>Clemens</td>\n",
       "      <td>right</td>\n",
       "      <td>R01</td>\n",
       "      <td>46136</td>\n",
       "      <td>000000000000</td>\n",
       "      <td>782</td>\n",
       "      <td>6</td>\n",
       "      <td>...</td>\n",
       "      <td>-81.8750</td>\n",
       "      <td>False</td>\n",
       "      <td>True</td>\n",
       "      <td>P101</td>\n",
       "      <td>1</td>\n",
       "      <td>M151</td>\n",
       "      <td>True</td>\n",
       "      <td>H008</td>\n",
       "      <td>NaN</td>\n",
       "      <td>G15</td>\n",
       "    </tr>\n",
       "  </tbody>\n",
       "</table>\n",
       "<p>5 rows × 26 columns</p>\n",
       "</div>"
      ],
      "text/plain": [
       "               Trainset-ID Experiment-ID Subject-ID Observer-ID  \\\n",
       "0  _TRAINSET14022017094616          E001    Andreas     Clemens   \n",
       "1  _TRAINSET14022017094616          E001    Andreas     Clemens   \n",
       "2  _TRAINSET14022017094616          E001    Andreas     Clemens   \n",
       "3  _TRAINSET14022017094616          E001    Andreas     Clemens   \n",
       "4  _TRAINSET14022017094616          E001    Andreas     Clemens   \n",
       "\n",
       "  collectedByHand Collector-ID  TimeStamp       RFID-ID  GRASP-A  GRASP-B  \\\n",
       "0           right          R01          0  000000000000      781        8   \n",
       "1            left          L01      19896  000000000000      212      213   \n",
       "2           right          R01      29001  000000000000      782        0   \n",
       "3            left          L01      29823  000000000000      179      185   \n",
       "4           right          R01      46136  000000000000      782        6   \n",
       "\n",
       "     ...           EZ  USERINPUT  HANDINGLOVE   Parcours-ID  Parcours-Step  \\\n",
       "0    ...     -81.9375      False         True          P101              1   \n",
       "1    ...     -84.5625      False        False          P101              1   \n",
       "2    ...     -81.9375      False         True          P101              1   \n",
       "3    ...     -84.5625      False        False          P101              1   \n",
       "4    ...     -81.8750      False         True          P101              1   \n",
       "\n",
       "   Mutation-ID   Mutation/HandIsActive Host-ID Host/Spot-ID Gesture-ID  \n",
       "0         M151                    True    H008          NaN        G15  \n",
       "1         M151                   False     NaN          NaN        NaN  \n",
       "2         M151                    True    H008          NaN        G15  \n",
       "3         M151                   False     NaN          NaN        NaN  \n",
       "4         M151                    True    H008          NaN        G15  \n",
       "\n",
       "[5 rows x 26 columns]"
      ]
     },
     "execution_count": 4,
     "metadata": {},
     "output_type": "execute_result"
    }
   ],
   "source": [
    "data.head()"
   ]
  },
  {
   "cell_type": "markdown",
   "metadata": {},
   "source": [
    "## Some Data Stats"
   ]
  },
  {
   "cell_type": "code",
   "execution_count": 7,
   "metadata": {
    "collapsed": false
   },
   "outputs": [
    {
     "data": {
      "text/plain": [
       "['Andreas', 'Alfred', 'Claudia', 'Dominik']"
      ]
     },
     "execution_count": 7,
     "metadata": {},
     "output_type": "execute_result"
    }
   ],
   "source": [
    "# how many subjects\n",
    "data['Subject-ID'].unique().tolist()"
   ]
  },
  {
   "cell_type": "code",
   "execution_count": 8,
   "metadata": {
    "collapsed": false
   },
   "outputs": [
    {
     "data": {
      "text/plain": [
       "['Clemens']"
      ]
     },
     "execution_count": 8,
     "metadata": {},
     "output_type": "execute_result"
    }
   ],
   "source": [
    "# how many observers\n",
    "data['Observer-ID'].unique().tolist()"
   ]
  },
  {
   "cell_type": "code",
   "execution_count": 10,
   "metadata": {
    "collapsed": false
   },
   "outputs": [
    {
     "data": {
      "text/plain": [
       "['R01', 'L01']"
      ]
     },
     "execution_count": 10,
     "metadata": {},
     "output_type": "execute_result"
    }
   ],
   "source": [
    "# how many hands\n",
    "data['Collector-ID'].unique().tolist()"
   ]
  },
  {
   "cell_type": "code",
   "execution_count": 11,
   "metadata": {
    "collapsed": false
   },
   "outputs": [
    {
     "data": {
      "text/plain": [
       "['000000000000',\n",
       " '09006734114B',\n",
       " 0,\n",
       " '05003DD5CD20',\n",
       " '760057911BAB',\n",
       " '13005E4BB7B1',\n",
       " '1400135B8AD6',\n",
       " '14001486BE38',\n",
       " '7600577D0D51',\n",
       " '140014CD1AD7',\n",
       " '280015E55981',\n",
       " '05008C2F993F']"
      ]
     },
     "execution_count": 11,
     "metadata": {},
     "output_type": "execute_result"
    }
   ],
   "source": [
    "# how many RFID ids\n",
    "data['RFID-ID'].unique().tolist()"
   ]
  },
  {
   "cell_type": "code",
   "execution_count": 9,
   "metadata": {
    "collapsed": false
   },
   "outputs": [
    {
     "data": {
      "text/plain": [
       "['E001', 'E002', 'E003', 'E004', 'E005', 'E006', 'E007', 'E008']"
      ]
     },
     "execution_count": 9,
     "metadata": {},
     "output_type": "execute_result"
    }
   ],
   "source": [
    "# how many experiments\n",
    "data['Experiment-ID'].unique().tolist()"
   ]
  },
  {
   "cell_type": "code",
   "execution_count": 24,
   "metadata": {
    "collapsed": false
   },
   "outputs": [
    {
     "data": {
      "text/plain": [
       "539"
      ]
     },
     "execution_count": 24,
     "metadata": {},
     "output_type": "execute_result"
    }
   ],
   "source": [
    "# how many training sets\n",
    "len(data['Trainset-ID'].unique().tolist())"
   ]
  },
  {
   "cell_type": "code",
   "execution_count": 17,
   "metadata": {
    "collapsed": false
   },
   "outputs": [
    {
     "data": {
      "text/plain": [
       "116"
      ]
     },
     "execution_count": 17,
     "metadata": {},
     "output_type": "execute_result"
    }
   ],
   "source": [
    "# how many parcours\n",
    "len(data[' Parcours-ID'].unique())"
   ]
  },
  {
   "cell_type": "code",
   "execution_count": 19,
   "metadata": {
    "collapsed": false
   },
   "outputs": [
    {
     "data": {
      "text/plain": [
       "array([ 1,  2,  3,  4,  5,  6,  7,  8,  9, 10, 11, 12])"
      ]
     },
     "execution_count": 19,
     "metadata": {},
     "output_type": "execute_result"
    }
   ],
   "source": [
    "# how many parcours steps\n",
    "data['Parcours-Step'].unique()"
   ]
  },
  {
   "cell_type": "code",
   "execution_count": 20,
   "metadata": {
    "collapsed": false
   },
   "outputs": [
    {
     "data": {
      "text/plain": [
       "177"
      ]
     },
     "execution_count": 20,
     "metadata": {},
     "output_type": "execute_result"
    }
   ],
   "source": [
    "# how many mutations\n",
    "len(data['Mutation-ID'].unique())"
   ]
  },
  {
   "cell_type": "code",
   "execution_count": 21,
   "metadata": {
    "collapsed": false
   },
   "outputs": [
    {
     "data": {
      "text/plain": [
       "19"
      ]
     },
     "execution_count": 21,
     "metadata": {},
     "output_type": "execute_result"
    }
   ],
   "source": [
    "# how many gestures\n",
    "len(data['Gesture-ID'].unique())"
   ]
  },
  {
   "cell_type": "code",
   "execution_count": 22,
   "metadata": {
    "collapsed": false
   },
   "outputs": [
    {
     "data": {
      "text/plain": [
       "10"
      ]
     },
     "execution_count": 22,
     "metadata": {},
     "output_type": "execute_result"
    }
   ],
   "source": [
    "# how many hosts\n",
    "len(data['Host-ID'].unique())"
   ]
  },
  {
   "cell_type": "markdown",
   "metadata": {},
   "source": [
    "## Data Preprocessing"
   ]
  },
  {
   "cell_type": "code",
   "execution_count": null,
   "metadata": {
    "collapsed": true
   },
   "outputs": [],
   "source": [
    "# remove columns that we dont need"
   ]
  },
  {
   "cell_type": "code",
   "execution_count": null,
   "metadata": {
    "collapsed": true
   },
   "outputs": [],
   "source": [
    "# filter right hand, throw away left hand\n",
    "# in this evaluation, we use only one-hand devices and only people who are right-handers\n",
    "\n"
   ]
  },
  {
   "cell_type": "code",
   "execution_count": null,
   "metadata": {
    "collapsed": true
   },
   "outputs": [],
   "source": [
    "# check Mutation/HandIsActive"
   ]
  },
  {
   "cell_type": "code",
   "execution_count": null,
   "metadata": {
    "collapsed": true
   },
   "outputs": [],
   "source": [
    "# TODO visualize timeline of sensor data"
   ]
  },
  {
   "cell_type": "code",
   "execution_count": null,
   "metadata": {
    "collapsed": true
   },
   "outputs": [],
   "source": [
    "# Standardize"
   ]
  },
  {
   "cell_type": "code",
   "execution_count": null,
   "metadata": {
    "collapsed": true
   },
   "outputs": [],
   "source": [
    "# Make groupings by Subject, Experiment, "
   ]
  },
  {
   "cell_type": "code",
   "execution_count": null,
   "metadata": {
    "collapsed": true
   },
   "outputs": [],
   "source": [
    "# Calc derivatives"
   ]
  },
  {
   "cell_type": "code",
   "execution_count": null,
   "metadata": {
    "collapsed": true
   },
   "outputs": [],
   "source": [
    "# Time Normalize?"
   ]
  }
 ],
 "metadata": {
  "kernelspec": {
   "display_name": "Python 2",
   "language": "python",
   "name": "python2"
  },
  "language_info": {
   "codemirror_mode": {
    "name": "ipython",
    "version": 2
   },
   "file_extension": ".py",
   "mimetype": "text/x-python",
   "name": "python",
   "nbconvert_exporter": "python",
   "pygments_lexer": "ipython2",
   "version": "2.7.12"
  }
 },
 "nbformat": 4,
 "nbformat_minor": 0
}
