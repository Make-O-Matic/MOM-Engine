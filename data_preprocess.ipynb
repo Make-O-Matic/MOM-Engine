{
 "cells": [
  {
   "cell_type": "code",
   "execution_count": 1,
   "metadata": {
    "collapsed": true
   },
   "outputs": [],
   "source": [
    "import pandas as pd"
   ]
  },
  {
   "cell_type": "code",
   "execution_count": 3,
   "metadata": {
    "collapsed": false
   },
   "outputs": [],
   "source": [
    "csv_file = 'data/EXPORT_09042017173622.csv'\n",
    "data = pd.read_csv(csv_file)"
   ]
  },
  {
   "cell_type": "code",
   "execution_count": 5,
   "metadata": {
    "collapsed": false
   },
   "outputs": [
    {
     "data": {
      "text/plain": [
       "(1435576, 26)"
      ]
     },
     "execution_count": 5,
     "metadata": {},
     "output_type": "execute_result"
    }
   ],
   "source": [
    "data.shape"
   ]
  },
  {
   "cell_type": "code",
   "execution_count": 4,
   "metadata": {
    "collapsed": false
   },
   "outputs": [
    {
     "data": {
      "text/html": [
       "<div>\n",
       "<table border=\"1\" class=\"dataframe\">\n",
       "  <thead>\n",
       "    <tr style=\"text-align: right;\">\n",
       "      <th></th>\n",
       "      <th>Trainset-ID</th>\n",
       "      <th>Experiment-ID</th>\n",
       "      <th>Subject-ID</th>\n",
       "      <th>Observer-ID</th>\n",
       "      <th>collectedByHand</th>\n",
       "      <th>Collector-ID</th>\n",
       "      <th>TimeStamp</th>\n",
       "      <th>RFID-ID</th>\n",
       "      <th>GRASP-A</th>\n",
       "      <th>GRASP-B</th>\n",
       "      <th>...</th>\n",
       "      <th>EZ</th>\n",
       "      <th>USERINPUT</th>\n",
       "      <th>HANDINGLOVE</th>\n",
       "      <th>Parcours-ID</th>\n",
       "      <th>Parcours-Step</th>\n",
       "      <th>Mutation-ID</th>\n",
       "      <th>Mutation/HandIsActive</th>\n",
       "      <th>Host-ID</th>\n",
       "      <th>Host/Spot-ID</th>\n",
       "      <th>Gesture-ID</th>\n",
       "    </tr>\n",
       "  </thead>\n",
       "  <tbody>\n",
       "    <tr>\n",
       "      <th>0</th>\n",
       "      <td>_TRAINSET14022017094616</td>\n",
       "      <td>E001</td>\n",
       "      <td>Andreas</td>\n",
       "      <td>Clemens</td>\n",
       "      <td>right</td>\n",
       "      <td>R01</td>\n",
       "      <td>0</td>\n",
       "      <td>000000000000</td>\n",
       "      <td>781</td>\n",
       "      <td>8</td>\n",
       "      <td>...</td>\n",
       "      <td>-81.9375</td>\n",
       "      <td>False</td>\n",
       "      <td>True</td>\n",
       "      <td>P101</td>\n",
       "      <td>1</td>\n",
       "      <td>M151</td>\n",
       "      <td>True</td>\n",
       "      <td>H008</td>\n",
       "      <td>NaN</td>\n",
       "      <td>G15</td>\n",
       "    </tr>\n",
       "    <tr>\n",
       "      <th>1</th>\n",
       "      <td>_TRAINSET14022017094616</td>\n",
       "      <td>E001</td>\n",
       "      <td>Andreas</td>\n",
       "      <td>Clemens</td>\n",
       "      <td>left</td>\n",
       "      <td>L01</td>\n",
       "      <td>19896</td>\n",
       "      <td>000000000000</td>\n",
       "      <td>212</td>\n",
       "      <td>213</td>\n",
       "      <td>...</td>\n",
       "      <td>-84.5625</td>\n",
       "      <td>False</td>\n",
       "      <td>False</td>\n",
       "      <td>P101</td>\n",
       "      <td>1</td>\n",
       "      <td>M151</td>\n",
       "      <td>False</td>\n",
       "      <td>NaN</td>\n",
       "      <td>NaN</td>\n",
       "      <td>NaN</td>\n",
       "    </tr>\n",
       "    <tr>\n",
       "      <th>2</th>\n",
       "      <td>_TRAINSET14022017094616</td>\n",
       "      <td>E001</td>\n",
       "      <td>Andreas</td>\n",
       "      <td>Clemens</td>\n",
       "      <td>right</td>\n",
       "      <td>R01</td>\n",
       "      <td>29001</td>\n",
       "      <td>000000000000</td>\n",
       "      <td>782</td>\n",
       "      <td>0</td>\n",
       "      <td>...</td>\n",
       "      <td>-81.9375</td>\n",
       "      <td>False</td>\n",
       "      <td>True</td>\n",
       "      <td>P101</td>\n",
       "      <td>1</td>\n",
       "      <td>M151</td>\n",
       "      <td>True</td>\n",
       "      <td>H008</td>\n",
       "      <td>NaN</td>\n",
       "      <td>G15</td>\n",
       "    </tr>\n",
       "    <tr>\n",
       "      <th>3</th>\n",
       "      <td>_TRAINSET14022017094616</td>\n",
       "      <td>E001</td>\n",
       "      <td>Andreas</td>\n",
       "      <td>Clemens</td>\n",
       "      <td>left</td>\n",
       "      <td>L01</td>\n",
       "      <td>29823</td>\n",
       "      <td>000000000000</td>\n",
       "      <td>179</td>\n",
       "      <td>185</td>\n",
       "      <td>...</td>\n",
       "      <td>-84.5625</td>\n",
       "      <td>False</td>\n",
       "      <td>False</td>\n",
       "      <td>P101</td>\n",
       "      <td>1</td>\n",
       "      <td>M151</td>\n",
       "      <td>False</td>\n",
       "      <td>NaN</td>\n",
       "      <td>NaN</td>\n",
       "      <td>NaN</td>\n",
       "    </tr>\n",
       "    <tr>\n",
       "      <th>4</th>\n",
       "      <td>_TRAINSET14022017094616</td>\n",
       "      <td>E001</td>\n",
       "      <td>Andreas</td>\n",
       "      <td>Clemens</td>\n",
       "      <td>right</td>\n",
       "      <td>R01</td>\n",
       "      <td>46136</td>\n",
       "      <td>000000000000</td>\n",
       "      <td>782</td>\n",
       "      <td>6</td>\n",
       "      <td>...</td>\n",
       "      <td>-81.8750</td>\n",
       "      <td>False</td>\n",
       "      <td>True</td>\n",
       "      <td>P101</td>\n",
       "      <td>1</td>\n",
       "      <td>M151</td>\n",
       "      <td>True</td>\n",
       "      <td>H008</td>\n",
       "      <td>NaN</td>\n",
       "      <td>G15</td>\n",
       "    </tr>\n",
       "  </tbody>\n",
       "</table>\n",
       "<p>5 rows × 26 columns</p>\n",
       "</div>"
      ],
      "text/plain": [
       "               Trainset-ID Experiment-ID Subject-ID Observer-ID  \\\n",
       "0  _TRAINSET14022017094616          E001    Andreas     Clemens   \n",
       "1  _TRAINSET14022017094616          E001    Andreas     Clemens   \n",
       "2  _TRAINSET14022017094616          E001    Andreas     Clemens   \n",
       "3  _TRAINSET14022017094616          E001    Andreas     Clemens   \n",
       "4  _TRAINSET14022017094616          E001    Andreas     Clemens   \n",
       "\n",
       "  collectedByHand Collector-ID  TimeStamp       RFID-ID  GRASP-A  GRASP-B  \\\n",
       "0           right          R01          0  000000000000      781        8   \n",
       "1            left          L01      19896  000000000000      212      213   \n",
       "2           right          R01      29001  000000000000      782        0   \n",
       "3            left          L01      29823  000000000000      179      185   \n",
       "4           right          R01      46136  000000000000      782        6   \n",
       "\n",
       "     ...           EZ  USERINPUT  HANDINGLOVE   Parcours-ID  Parcours-Step  \\\n",
       "0    ...     -81.9375      False         True          P101              1   \n",
       "1    ...     -84.5625      False        False          P101              1   \n",
       "2    ...     -81.9375      False         True          P101              1   \n",
       "3    ...     -84.5625      False        False          P101              1   \n",
       "4    ...     -81.8750      False         True          P101              1   \n",
       "\n",
       "   Mutation-ID   Mutation/HandIsActive Host-ID Host/Spot-ID Gesture-ID  \n",
       "0         M151                    True    H008          NaN        G15  \n",
       "1         M151                   False     NaN          NaN        NaN  \n",
       "2         M151                    True    H008          NaN        G15  \n",
       "3         M151                   False     NaN          NaN        NaN  \n",
       "4         M151                    True    H008          NaN        G15  \n",
       "\n",
       "[5 rows x 26 columns]"
      ]
     },
     "execution_count": 4,
     "metadata": {},
     "output_type": "execute_result"
    }
   ],
   "source": [
    "data.head()"
   ]
  },
  {
   "cell_type": "code",
   "execution_count": null,
   "metadata": {
    "collapsed": true
   },
   "outputs": [],
   "source": [
    "# remove columns that we dont need"
   ]
  },
  {
   "cell_type": "code",
   "execution_count": null,
   "metadata": {
    "collapsed": true
   },
   "outputs": [],
   "source": [
    "# filter right hand, throw away left hand\n",
    "# in this evaluation, we use only one-hand devices and only people who are right-handers\n",
    "\n"
   ]
  },
  {
   "cell_type": "code",
   "execution_count": null,
   "metadata": {
    "collapsed": true
   },
   "outputs": [],
   "source": [
    "# check Mutation/HandIsActive"
   ]
  },
  {
   "cell_type": "code",
   "execution_count": null,
   "metadata": {
    "collapsed": true
   },
   "outputs": [],
   "source": [
    "# TODO visualize timeline of sensor data"
   ]
  },
  {
   "cell_type": "code",
   "execution_count": null,
   "metadata": {
    "collapsed": true
   },
   "outputs": [],
   "source": [
    "# Standardize"
   ]
  },
  {
   "cell_type": "code",
   "execution_count": null,
   "metadata": {
    "collapsed": true
   },
   "outputs": [],
   "source": [
    "# Make groupings by Subject, Experiment, "
   ]
  }
 ],
 "metadata": {
  "kernelspec": {
   "display_name": "Python 2",
   "language": "python",
   "name": "python2"
  },
  "language_info": {
   "codemirror_mode": {
    "name": "ipython",
    "version": 2
   },
   "file_extension": ".py",
   "mimetype": "text/x-python",
   "name": "python",
   "nbconvert_exporter": "python",
   "pygments_lexer": "ipython2",
   "version": "2.7.12"
  }
 },
 "nbformat": 4,
 "nbformat_minor": 0
}
