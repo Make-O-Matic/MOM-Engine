{
 "cells": [
  {
   "cell_type": "code",
   "execution_count": 1,
   "metadata": {
    "collapsed": true
   },
   "outputs": [],
   "source": [
    "import numpy as np\n",
    "import pandas as pd\n",
    "import json\n",
    "\n",
    "# plotting\n",
    "import matplotlib\n",
    "import matplotlib.pyplot as plt\n",
    "%matplotlib inline  "
   ]
  },
  {
   "cell_type": "markdown",
   "metadata": {},
   "source": [
    "## Read Data"
   ]
  },
  {
   "cell_type": "code",
   "execution_count": 2,
   "metadata": {
    "collapsed": false
   },
   "outputs": [],
   "source": [
    "# main data\n",
    "csv_file = 'data/EXPORT_09042017173622.csv'\n",
    "\n",
    "# json files to translate gestures, parcours into long text\n",
    "#gestures_file = 'data/gestures.json' # this is the file edited manually by us to conform to json\n",
    "gestures_file = 'data/gestures.json.orig' # this is the file edited manually by us to conform to json\n",
    "parcours_file = 'data/parcours.json'\n",
    "mutations_file = 'data/mutations.json'\n",
    "\n",
    "files = (gestures_file, parcours_file, mutations_file)\n",
    "dataframes = []\n",
    "\n",
    "# NOTE THAT THESE JSON FILES ARE NOT JSON CONFORM\n",
    "# each line is a json string on its own, so we need to process the json line by line and combine THEN into a list"
   ]
  },
  {
   "cell_type": "code",
   "execution_count": 3,
   "metadata": {
    "collapsed": true
   },
   "outputs": [],
   "source": [
    "def get_oid(oid_dict):\n",
    "    # get from the original representation {u'$oid': u'589c8ed31337b5ab1e1be121'} just the oid\n",
    "    return oid_dict['$oid']"
   ]
  },
  {
   "cell_type": "code",
   "execution_count": 4,
   "metadata": {
    "collapsed": false
   },
   "outputs": [],
   "source": [
    "for filename in files:\n",
    "    with open(filename) as f:\n",
    "        lines = [line.rstrip('\\n') for line in f]   # .decode(\"utf-8\")\n",
    "\n",
    "    lines = [json.loads(line) for line in lines]\n",
    "    \n",
    "    # convert list of json lines into Dataframe\n",
    "    df = pd.DataFrame.from_dict(lines)\n",
    "    # convert long $oid to short\n",
    "    df['_id'] = df['_id'].apply(get_oid)\n",
    "    \n",
    "    # set the real id\n",
    "    df.set_index('id', inplace=True)\n",
    "    \n",
    "    dataframes.append(df)"
   ]
  },
  {
   "cell_type": "code",
   "execution_count": 5,
   "metadata": {
    "collapsed": false
   },
   "outputs": [],
   "source": [
    "(gestures_df, parcours_df, mutations_df) = tuple(dataframes)"
   ]
  },
  {
   "cell_type": "code",
   "execution_count": 6,
   "metadata": {
    "collapsed": false
   },
   "outputs": [
    {
     "data": {
      "text/html": [
       "<div>\n",
       "<table border=\"1\" class=\"dataframe\">\n",
       "  <thead>\n",
       "    <tr style=\"text-align: right;\">\n",
       "      <th></th>\n",
       "      <th>_id</th>\n",
       "      <th>isGarbage</th>\n",
       "      <th>isNesture</th>\n",
       "      <th>name</th>\n",
       "      <th>slug</th>\n",
       "    </tr>\n",
       "    <tr>\n",
       "      <th>id</th>\n",
       "      <th></th>\n",
       "      <th></th>\n",
       "      <th></th>\n",
       "      <th></th>\n",
       "      <th></th>\n",
       "    </tr>\n",
       "  </thead>\n",
       "  <tbody>\n",
       "    <tr>\n",
       "      <th>G01</th>\n",
       "      <td>58a23a22d826756404709446</td>\n",
       "      <td>NaN</td>\n",
       "      <td>NaN</td>\n",
       "      <td>Single Rotation klein rechtsrum</td>\n",
       "      <td>rssr</td>\n",
       "    </tr>\n",
       "    <tr>\n",
       "      <th>G02</th>\n",
       "      <td>58a23a22d826756404709447</td>\n",
       "      <td>NaN</td>\n",
       "      <td>NaN</td>\n",
       "      <td>Single Rotation klein linksrum</td>\n",
       "      <td>rssl</td>\n",
       "    </tr>\n",
       "    <tr>\n",
       "      <th>G03</th>\n",
       "      <td>58a23a22d826756404709448</td>\n",
       "      <td>NaN</td>\n",
       "      <td>NaN</td>\n",
       "      <td>Oszillierende Rotation klein rechtsrum</td>\n",
       "      <td>rosr</td>\n",
       "    </tr>\n",
       "    <tr>\n",
       "      <th>G04</th>\n",
       "      <td>58a23a22d826756404709449</td>\n",
       "      <td>NaN</td>\n",
       "      <td>NaN</td>\n",
       "      <td>Oszillierende Rotation klein linksrum</td>\n",
       "      <td>rosl</td>\n",
       "    </tr>\n",
       "    <tr>\n",
       "      <th>G05</th>\n",
       "      <td>58a23a22d82675640470944a</td>\n",
       "      <td>NaN</td>\n",
       "      <td>NaN</td>\n",
       "      <td>Single Rotation groß rechtsrum</td>\n",
       "      <td>rsbr</td>\n",
       "    </tr>\n",
       "    <tr>\n",
       "      <th>G06</th>\n",
       "      <td>58a23a22d82675640470944b</td>\n",
       "      <td>NaN</td>\n",
       "      <td>NaN</td>\n",
       "      <td>Single Rotation groß linksrum</td>\n",
       "      <td>rsbl</td>\n",
       "    </tr>\n",
       "    <tr>\n",
       "      <th>G07</th>\n",
       "      <td>58a23a22d82675640470944c</td>\n",
       "      <td>NaN</td>\n",
       "      <td>NaN</td>\n",
       "      <td>Oszillierende Rotation groß rechtsrum</td>\n",
       "      <td>robr</td>\n",
       "    </tr>\n",
       "    <tr>\n",
       "      <th>G08</th>\n",
       "      <td>58a23a22d82675640470944d</td>\n",
       "      <td>NaN</td>\n",
       "      <td>NaN</td>\n",
       "      <td>Oszillierende Rotation groß linksrum</td>\n",
       "      <td>robl</td>\n",
       "    </tr>\n",
       "    <tr>\n",
       "      <th>G09</th>\n",
       "      <td>58a23a22d82675640470944e</td>\n",
       "      <td>NaN</td>\n",
       "      <td>NaN</td>\n",
       "      <td>Kontinuierliche Rotation groß rechtsrum</td>\n",
       "      <td>rcbr</td>\n",
       "    </tr>\n",
       "    <tr>\n",
       "      <th>G10</th>\n",
       "      <td>58a23a22d82675640470944f</td>\n",
       "      <td>NaN</td>\n",
       "      <td>NaN</td>\n",
       "      <td>Kontinuierliche Rotation groß linksrum</td>\n",
       "      <td>rcbl</td>\n",
       "    </tr>\n",
       "    <tr>\n",
       "      <th>G11</th>\n",
       "      <td>58a23a22d826756404709450</td>\n",
       "      <td>NaN</td>\n",
       "      <td>NaN</td>\n",
       "      <td>LinearMovement Single</td>\n",
       "      <td>lms</td>\n",
       "    </tr>\n",
       "    <tr>\n",
       "      <th>G12</th>\n",
       "      <td>58a23a22d826756404709451</td>\n",
       "      <td>NaN</td>\n",
       "      <td>NaN</td>\n",
       "      <td>LinearMovement Oszillierend</td>\n",
       "      <td>lmo</td>\n",
       "    </tr>\n",
       "    <tr>\n",
       "      <th>G13</th>\n",
       "      <td>58a23a22d826756404709452</td>\n",
       "      <td>NaN</td>\n",
       "      <td>NaN</td>\n",
       "      <td>Drücken</td>\n",
       "      <td>pb</td>\n",
       "    </tr>\n",
       "    <tr>\n",
       "      <th>G14</th>\n",
       "      <td>58a23a22d826756404709453</td>\n",
       "      <td>True</td>\n",
       "      <td>True</td>\n",
       "      <td>Rest</td>\n",
       "      <td>rest</td>\n",
       "    </tr>\n",
       "    <tr>\n",
       "      <th>G15</th>\n",
       "      <td>58a23a22d826756404709454</td>\n",
       "      <td>NaN</td>\n",
       "      <td>True</td>\n",
       "      <td>Greifen</td>\n",
       "      <td>grasp</td>\n",
       "    </tr>\n",
       "    <tr>\n",
       "      <th>G16</th>\n",
       "      <td>58a23a22d826756404709455</td>\n",
       "      <td>NaN</td>\n",
       "      <td>True</td>\n",
       "      <td>Positionieren</td>\n",
       "      <td>pos</td>\n",
       "    </tr>\n",
       "    <tr>\n",
       "      <th>G17</th>\n",
       "      <td>58a23a22d826756404709456</td>\n",
       "      <td>NaN</td>\n",
       "      <td>True</td>\n",
       "      <td>Umgreifen</td>\n",
       "      <td>regr</td>\n",
       "    </tr>\n",
       "    <tr>\n",
       "      <th>G18</th>\n",
       "      <td>58a23a22d826756404709457</td>\n",
       "      <td>NaN</td>\n",
       "      <td>True</td>\n",
       "      <td>Ablegen</td>\n",
       "      <td>release</td>\n",
       "    </tr>\n",
       "  </tbody>\n",
       "</table>\n",
       "</div>"
      ],
      "text/plain": [
       "                          _id isGarbage isNesture  \\\n",
       "id                                                  \n",
       "G01  58a23a22d826756404709446       NaN       NaN   \n",
       "G02  58a23a22d826756404709447       NaN       NaN   \n",
       "G03  58a23a22d826756404709448       NaN       NaN   \n",
       "G04  58a23a22d826756404709449       NaN       NaN   \n",
       "G05  58a23a22d82675640470944a       NaN       NaN   \n",
       "G06  58a23a22d82675640470944b       NaN       NaN   \n",
       "G07  58a23a22d82675640470944c       NaN       NaN   \n",
       "G08  58a23a22d82675640470944d       NaN       NaN   \n",
       "G09  58a23a22d82675640470944e       NaN       NaN   \n",
       "G10  58a23a22d82675640470944f       NaN       NaN   \n",
       "G11  58a23a22d826756404709450       NaN       NaN   \n",
       "G12  58a23a22d826756404709451       NaN       NaN   \n",
       "G13  58a23a22d826756404709452       NaN       NaN   \n",
       "G14  58a23a22d826756404709453      True      True   \n",
       "G15  58a23a22d826756404709454       NaN      True   \n",
       "G16  58a23a22d826756404709455       NaN      True   \n",
       "G17  58a23a22d826756404709456       NaN      True   \n",
       "G18  58a23a22d826756404709457       NaN      True   \n",
       "\n",
       "                                        name     slug  \n",
       "id                                                     \n",
       "G01          Single Rotation klein rechtsrum     rssr  \n",
       "G02           Single Rotation klein linksrum     rssl  \n",
       "G03   Oszillierende Rotation klein rechtsrum     rosr  \n",
       "G04    Oszillierende Rotation klein linksrum     rosl  \n",
       "G05           Single Rotation groß rechtsrum     rsbr  \n",
       "G06            Single Rotation groß linksrum     rsbl  \n",
       "G07    Oszillierende Rotation groß rechtsrum     robr  \n",
       "G08     Oszillierende Rotation groß linksrum     robl  \n",
       "G09  Kontinuierliche Rotation groß rechtsrum     rcbr  \n",
       "G10   Kontinuierliche Rotation groß linksrum     rcbl  \n",
       "G11                    LinearMovement Single      lms  \n",
       "G12              LinearMovement Oszillierend      lmo  \n",
       "G13                                  Drücken       pb  \n",
       "G14                                     Rest     rest  \n",
       "G15                                  Greifen    grasp  \n",
       "G16                            Positionieren      pos  \n",
       "G17                                Umgreifen     regr  \n",
       "G18                                  Ablegen  release  "
      ]
     },
     "execution_count": 6,
     "metadata": {},
     "output_type": "execute_result"
    }
   ],
   "source": [
    "gestures_df"
   ]
  },
  {
   "cell_type": "code",
   "execution_count": 7,
   "metadata": {
    "collapsed": false
   },
   "outputs": [],
   "source": [
    "gestures_df.to_csv('data/gestures.csv', sep=';', encoding='utf-8')"
   ]
  },
  {
   "cell_type": "code",
   "execution_count": 8,
   "metadata": {
    "collapsed": false
   },
   "outputs": [],
   "source": [
    "# \"positive\" gestures to recognize (not nestures)\n",
    "gestures_pos = gestures_df[gestures_df['isNesture'] != True].index.tolist()"
   ]
  },
  {
   "cell_type": "code",
   "execution_count": 9,
   "metadata": {
    "collapsed": false
   },
   "outputs": [
    {
     "data": {
      "text/html": [
       "<div>\n",
       "<table border=\"1\" class=\"dataframe\">\n",
       "  <thead>\n",
       "    <tr style=\"text-align: right;\">\n",
       "      <th></th>\n",
       "      <th>_id</th>\n",
       "      <th>comment</th>\n",
       "      <th>exercises</th>\n",
       "      <th>pose</th>\n",
       "    </tr>\n",
       "    <tr>\n",
       "      <th>id</th>\n",
       "      <th></th>\n",
       "      <th></th>\n",
       "      <th></th>\n",
       "      <th></th>\n",
       "    </tr>\n",
       "  </thead>\n",
       "  <tbody>\n",
       "    <tr>\n",
       "      <th>P101</th>\n",
       "      <td>589c897d1337b5ab1e1be118</td>\n",
       "      <td>Zwinge X locker rechtsdrehen einzeln 5x</td>\n",
       "      <td>[{u'signal': {u'beep': True}, u'mutation': {u'...</td>\n",
       "      <td>{u'start': u'Host 008 ist auf Werkbank fixiert...</td>\n",
       "    </tr>\n",
       "    <tr>\n",
       "      <th>P102</th>\n",
       "      <td>589c8ba71337b5ab1e1be11c</td>\n",
       "      <td>Zwinge X locker linksdrehen einzeln 5x</td>\n",
       "      <td>[{u'signal': {u'beep': True}, u'mutation': {u'...</td>\n",
       "      <td>{u'start': u'Host 008 ist auf Werkbank fixiert...</td>\n",
       "    </tr>\n",
       "    <tr>\n",
       "      <th>P103</th>\n",
       "      <td>589c8dbd1337b5ab1e1be11f</td>\n",
       "      <td>Zwinge X locker rechts- und linksdrehen einzel...</td>\n",
       "      <td>[{u'signal': {u'beep': True}, u'mutation': {u'...</td>\n",
       "      <td>{u'start': u'Host 008 ist auf Werkbank fixiert...</td>\n",
       "    </tr>\n",
       "    <tr>\n",
       "      <th>P104</th>\n",
       "      <td>589c8ed31337b5ab1e1be121</td>\n",
       "      <td>Zwinge X fest links- und rechtsdrehen einzeln 5x</td>\n",
       "      <td>[{u'signal': {u'beep': True}, u'mutation': {u'...</td>\n",
       "      <td>{u'start': u'Host 008 ist auf Werkbank fixiert...</td>\n",
       "    </tr>\n",
       "    <tr>\n",
       "      <th>P105</th>\n",
       "      <td>589c8fcc1337b5ab1e1be125</td>\n",
       "      <td>Zwinge X oszilierend linksdrehen</td>\n",
       "      <td>[{u'signal': {u'beep': True}, u'mutation': {u'...</td>\n",
       "      <td>{u'start': u'Host 008 ist auf Werkbank fixiert...</td>\n",
       "    </tr>\n",
       "    <tr>\n",
       "      <th>P106</th>\n",
       "      <td>589c901a1337b5ab1e1be127</td>\n",
       "      <td>Zwinge X oszilierend rechtsdrehen</td>\n",
       "      <td>[{u'signal': {u'beep': True}, u'mutation': {u'...</td>\n",
       "      <td>{u'start': u'Host 008 ist auf Werkbank fixiert...</td>\n",
       "    </tr>\n",
       "    <tr>\n",
       "      <th>P107</th>\n",
       "      <td>589c90e31337b5ab1e1be12c</td>\n",
       "      <td>Zwinge Y locker rechtsdrehen einzeln 5x</td>\n",
       "      <td>[{u'signal': {u'beep': True}, u'mutation': {u'...</td>\n",
       "      <td>{u'start': u'Host 008 ist auf Werkbank fixiert...</td>\n",
       "    </tr>\n",
       "    <tr>\n",
       "      <th>P108</th>\n",
       "      <td>589c911c1337b5ab1e1be12e</td>\n",
       "      <td>Zwinge Y locker linksdrehen einzeln 5x</td>\n",
       "      <td>[{u'signal': {u'beep': True}, u'mutation': {u'...</td>\n",
       "      <td>{u'start': u'Host 008 ist auf Werkbank fixiert...</td>\n",
       "    </tr>\n",
       "    <tr>\n",
       "      <th>P109</th>\n",
       "      <td>589c91961337b5ab1e1be132</td>\n",
       "      <td>Zwinge Y locker rechts- und linksdrehen einzel...</td>\n",
       "      <td>[{u'signal': {u'beep': True}, u'mutation': {u'...</td>\n",
       "      <td>{u'start': u'Host 008 ist auf Werkbank fixiert...</td>\n",
       "    </tr>\n",
       "    <tr>\n",
       "      <th>P110</th>\n",
       "      <td>589c92351337b5ab1e1be134</td>\n",
       "      <td>Zwinge Y fest links- und rechtsdrehen einzeln 5x</td>\n",
       "      <td>[{u'signal': {u'beep': True}, u'mutation': {u'...</td>\n",
       "      <td>{u'start': u'Host 008 ist auf Werkbank fixiert...</td>\n",
       "    </tr>\n",
       "    <tr>\n",
       "      <th>P111</th>\n",
       "      <td>589c92851337b5ab1e1be135</td>\n",
       "      <td>Zwinge Y oszilierend linksdrehen</td>\n",
       "      <td>[{u'signal': {u'beep': True}, u'mutation': {u'...</td>\n",
       "      <td>{u'start': u'Host 008 ist auf Werkbank fixiert...</td>\n",
       "    </tr>\n",
       "    <tr>\n",
       "      <th>P112</th>\n",
       "      <td>589c92e01337b5ab1e1be136</td>\n",
       "      <td>Zwinge Y oszilierend rechtsdrehen</td>\n",
       "      <td>[{u'signal': {u'beep': True}, u'mutation': {u'...</td>\n",
       "      <td>{u'start': u'Host 008 ist auf Werkbank fixiert...</td>\n",
       "    </tr>\n",
       "    <tr>\n",
       "      <th>P113</th>\n",
       "      <td>589c93581337b5ab1e1be13a</td>\n",
       "      <td>Zwinge Z locker rechtsdrehen einzeln 5x</td>\n",
       "      <td>[{u'signal': {u'beep': True}, u'mutation': {u'...</td>\n",
       "      <td>{u'start': u'Host 008 ist auf Werkbank fixiert...</td>\n",
       "    </tr>\n",
       "    <tr>\n",
       "      <th>P114</th>\n",
       "      <td>589c939e1337b5ab1e1be13c</td>\n",
       "      <td>Zwinge Z locker linksdrehen einzeln 5x</td>\n",
       "      <td>[{u'signal': {u'beep': True}, u'mutation': {u'...</td>\n",
       "      <td>{u'start': u'Host 008 ist auf Werkbank fixiert...</td>\n",
       "    </tr>\n",
       "    <tr>\n",
       "      <th>P115</th>\n",
       "      <td>589c94141337b5ab1e1be13d</td>\n",
       "      <td>Zwinge Z locker rechts- und linksdrehen einzel...</td>\n",
       "      <td>[{u'signal': {u'beep': True}, u'mutation': {u'...</td>\n",
       "      <td>{u'start': u'Host 008 ist auf Werkbank fixiert...</td>\n",
       "    </tr>\n",
       "    <tr>\n",
       "      <th>P116</th>\n",
       "      <td>589c947a1337b5ab1e1be145</td>\n",
       "      <td>Zwinge Z fest links- und rechtsdrehen einzeln 5x</td>\n",
       "      <td>[{u'signal': {u'beep': True}, u'mutation': {u'...</td>\n",
       "      <td>{u'start': u'Host 008 ist auf Werkbank fixiert...</td>\n",
       "    </tr>\n",
       "    <tr>\n",
       "      <th>P117</th>\n",
       "      <td>589c952a1337b5ab1e1be146</td>\n",
       "      <td>Zwinge Z oszilierend linksdrehen</td>\n",
       "      <td>[{u'signal': {u'beep': True}, u'mutation': {u'...</td>\n",
       "      <td>{u'start': u'Host 008 ist auf Werkbank fixiert...</td>\n",
       "    </tr>\n",
       "    <tr>\n",
       "      <th>P118</th>\n",
       "      <td>589c95701337b5ab1e1be147</td>\n",
       "      <td>Zwinge Z oszilierend rechtsdrehen</td>\n",
       "      <td>[{u'signal': {u'beep': True}, u'mutation': {u'...</td>\n",
       "      <td>{u'start': u'Host 008 ist auf Werkbank fixiert...</td>\n",
       "    </tr>\n",
       "    <tr>\n",
       "      <th>P401</th>\n",
       "      <td>589c97a31337b5ab1e1be148</td>\n",
       "      <td>Bohrm vorne runterdrehen 120° 5x</td>\n",
       "      <td>[{u'signal': {u'beep': True}, u'mutation': {u'...</td>\n",
       "      <td>{u'start': u'Host 036 steht auf Werkbank. Verf...</td>\n",
       "    </tr>\n",
       "    <tr>\n",
       "      <th>P402</th>\n",
       "      <td>589c98351337b5ab1e1be14a</td>\n",
       "      <td>Bohrm hinten runterdrehen 120° 5x</td>\n",
       "      <td>[{u'signal': {u'beep': True}, u'mutation': {u'...</td>\n",
       "      <td>{u'start': u'Host 036 steht auf Werkbank. Verf...</td>\n",
       "    </tr>\n",
       "    <tr>\n",
       "      <th>P403</th>\n",
       "      <td>589c98ae1337b5ab1e1be14b</td>\n",
       "      <td>Bohrm hinten runterdrehen 240° 5x</td>\n",
       "      <td>[{u'signal': {u'beep': True}, u'mutation': {u'...</td>\n",
       "      <td>{u'start': u'Host 036 steht auf Werkbank. Verf...</td>\n",
       "    </tr>\n",
       "    <tr>\n",
       "      <th>P201</th>\n",
       "      <td>58a182881337b5ab1e1be415</td>\n",
       "      <td>T-Griff X Faust rechtsdrehen einzeln 5x</td>\n",
       "      <td>[{u'signal': {u'beep': True}, u'mutation': {u'...</td>\n",
       "      <td>{u'start': u'Host 122 liegt auf Werkbank, Scha...</td>\n",
       "    </tr>\n",
       "    <tr>\n",
       "      <th>P202</th>\n",
       "      <td>58a182dd1337b5ab1e1be416</td>\n",
       "      <td>T-Griff X Faust linksdrehen einzeln 5x</td>\n",
       "      <td>[{u'signal': {u'beep': True}, u'mutation': {u'...</td>\n",
       "      <td>{u'start': u'Host 122 liegt auf Werkbank, Scha...</td>\n",
       "    </tr>\n",
       "    <tr>\n",
       "      <th>P203</th>\n",
       "      <td>58a1844f1337b5ab1e1be417</td>\n",
       "      <td>T-Griff X Faust rechts- und linksdrehen einzel...</td>\n",
       "      <td>[{u'signal': {u'beep': True}, u'mutation': {u'...</td>\n",
       "      <td>{u'start': u'Host 122 liegt auf Werkbank, Scha...</td>\n",
       "    </tr>\n",
       "    <tr>\n",
       "      <th>P204</th>\n",
       "      <td>58a185461337b5ab1e1be418</td>\n",
       "      <td>T-Griff X Faust rechtsdrehen oszillierend</td>\n",
       "      <td>[{u'signal': {u'beep': True}, u'mutation': {u'...</td>\n",
       "      <td>{u'start': u'Host 122 liegt auf Werkbank, Scha...</td>\n",
       "    </tr>\n",
       "    <tr>\n",
       "      <th>P205</th>\n",
       "      <td>58a185811337b5ab1e1be419</td>\n",
       "      <td>T-Griff X Faust linksdrehen oszillierend</td>\n",
       "      <td>[{u'signal': {u'beep': True}, u'mutation': {u'...</td>\n",
       "      <td>{u'start': u'Host 122 liegt auf Werkbank, Scha...</td>\n",
       "    </tr>\n",
       "    <tr>\n",
       "      <th>P206</th>\n",
       "      <td>58a187ad1337b5ab1e1be41a</td>\n",
       "      <td>T-Griff X Fingerspitzen rechtsdrehen einzeln 5x</td>\n",
       "      <td>[{u'signal': {u'beep': True}, u'mutation': {u'...</td>\n",
       "      <td>{u'start': u'Host 122 liegt auf Werkbank, Scha...</td>\n",
       "    </tr>\n",
       "    <tr>\n",
       "      <th>P207</th>\n",
       "      <td>58a188471337b5ab1e1be41b</td>\n",
       "      <td>T-Griff X Fingerspitzen linksdrehen einzeln 5x</td>\n",
       "      <td>[{u'signal': {u'beep': True}, u'mutation': {u'...</td>\n",
       "      <td>{u'start': u'Host 122 liegt auf Werkbank, Scha...</td>\n",
       "    </tr>\n",
       "    <tr>\n",
       "      <th>P208</th>\n",
       "      <td>58a188fd1337b5ab1e1be41c</td>\n",
       "      <td>T-Griff X Fingerspitzen rechts- und linksdrehe...</td>\n",
       "      <td>[{u'signal': {u'beep': True}, u'mutation': {u'...</td>\n",
       "      <td>{u'start': u'Host 122 liegt auf Werkbank, Scha...</td>\n",
       "    </tr>\n",
       "    <tr>\n",
       "      <th>P209</th>\n",
       "      <td>58a189791337b5ab1e1be41d</td>\n",
       "      <td>T-Griff X Fingerspitzen rechtsdrehen oszillierend</td>\n",
       "      <td>[{u'signal': {u'beep': True}, u'mutation': {u'...</td>\n",
       "      <td>{u'start': u'Host 122 liegt auf Werkbank, Scha...</td>\n",
       "    </tr>\n",
       "    <tr>\n",
       "      <th>...</th>\n",
       "      <td>...</td>\n",
       "      <td>...</td>\n",
       "      <td>...</td>\n",
       "      <td>...</td>\n",
       "    </tr>\n",
       "    <tr>\n",
       "      <th>P717</th>\n",
       "      <td>58a5907c8385660128cb91a5</td>\n",
       "      <td>Säge einhändig oszillierend kurz normal 5x</td>\n",
       "      <td>[{u'signal': {u'beep': True}, u'mutation': {u'...</td>\n",
       "      <td>{u'start': u'Host 011 liegt auf Werkbank recht...</td>\n",
       "    </tr>\n",
       "    <tr>\n",
       "      <th>P718</th>\n",
       "      <td>58a590c58385660128cb91a6</td>\n",
       "      <td>Säge beidhändig oszillierend kurz normal 5x</td>\n",
       "      <td>[{u'signal': {u'beep': True}, u'mutation': {u'...</td>\n",
       "      <td>{u'start': u'Host 011 liegt auf Werkbank recht...</td>\n",
       "    </tr>\n",
       "    <tr>\n",
       "      <th>P719</th>\n",
       "      <td>58a591178385660128cb91a7</td>\n",
       "      <td>Säge einhändig oszillierend lang normal 5x</td>\n",
       "      <td>[{u'signal': {u'beep': True}, u'mutation': {u'...</td>\n",
       "      <td>{u'start': u'Host 011 liegt auf Werkbank recht...</td>\n",
       "    </tr>\n",
       "    <tr>\n",
       "      <th>P720</th>\n",
       "      <td>58a591598385660128cb91a8</td>\n",
       "      <td>Säge beidhändig oszillierend lang normal 5x</td>\n",
       "      <td>[{u'signal': {u'beep': True}, u'mutation': {u'...</td>\n",
       "      <td>{u'start': u'Host 011 liegt auf Werkbank recht...</td>\n",
       "    </tr>\n",
       "    <tr>\n",
       "      <th>P721</th>\n",
       "      <td>58a591a98385660128cb91a9</td>\n",
       "      <td>Säge einhändig oszillierend kurz verkehrt 5x</td>\n",
       "      <td>[{u'signal': {u'beep': True}, u'mutation': {u'...</td>\n",
       "      <td>{u'start': u'Host 011 liegt auf Werkbank recht...</td>\n",
       "    </tr>\n",
       "    <tr>\n",
       "      <th>P722</th>\n",
       "      <td>58a591ef8385660128cb91aa</td>\n",
       "      <td>Säge beidhändig oszillierend kurz verkehrt 5x</td>\n",
       "      <td>[{u'signal': {u'beep': True}, u'mutation': {u'...</td>\n",
       "      <td>{u'start': u'Host 011 liegt auf Werkbank recht...</td>\n",
       "    </tr>\n",
       "    <tr>\n",
       "      <th>P723</th>\n",
       "      <td>58a5928d8385660128cb91ab</td>\n",
       "      <td>Säge einhändig oszillierend lang verkehrt 5x</td>\n",
       "      <td>[{u'signal': {u'beep': True}, u'mutation': {u'...</td>\n",
       "      <td>{u'start': u'Host 011 liegt auf Werkbank recht...</td>\n",
       "    </tr>\n",
       "    <tr>\n",
       "      <th>P724</th>\n",
       "      <td>58a592cb8385660128cb91ac</td>\n",
       "      <td>Säge beidhändig oszillierend lang verkehrt 5x</td>\n",
       "      <td>[{u'signal': {u'beep': True}, u'mutation': {u'...</td>\n",
       "      <td>{u'start': u'Host 011 liegt auf Werkbank recht...</td>\n",
       "    </tr>\n",
       "    <tr>\n",
       "      <th>P626</th>\n",
       "      <td>58a593828385660128cb91ad</td>\n",
       "      <td>Ringschl X Faustdreh 60° rechts &amp; links oszill...</td>\n",
       "      <td>[{u'signal': {u'beep': True}, u'mutation': {u'...</td>\n",
       "      <td>{u'start': u'Host 070 liegt auf Werkbank, Läng...</td>\n",
       "    </tr>\n",
       "    <tr>\n",
       "      <th>P627</th>\n",
       "      <td>58a5940a8385660128cb91ae</td>\n",
       "      <td>Ringschl X Faustdreh 120° rechts &amp; links oszil...</td>\n",
       "      <td>[{u'signal': {u'beep': True}, u'mutation': {u'...</td>\n",
       "      <td>{u'start': u'Host 070 liegt auf Werkbank, Läng...</td>\n",
       "    </tr>\n",
       "    <tr>\n",
       "      <th>P628</th>\n",
       "      <td>58a5946f8385660128cb91af</td>\n",
       "      <td>Ringschl -Z Faustdreh 60° rechts &amp; links oszil...</td>\n",
       "      <td>[{u'signal': {u'beep': True}, u'mutation': {u'...</td>\n",
       "      <td>{u'start': u'Host 070 liegt auf Werkbank, Läng...</td>\n",
       "    </tr>\n",
       "    <tr>\n",
       "      <th>P629</th>\n",
       "      <td>58a594c58385660128cb91b0</td>\n",
       "      <td>Ringschl -Z Faustdreh 120° rechts &amp; links oszi...</td>\n",
       "      <td>[{u'signal': {u'beep': True}, u'mutation': {u'...</td>\n",
       "      <td>{u'start': u'Host 070 liegt auf Werkbank, Läng...</td>\n",
       "    </tr>\n",
       "    <tr>\n",
       "      <th>P630</th>\n",
       "      <td>58a595268385660128cb91b1</td>\n",
       "      <td>Ringschl -Z Fingerdreh 60° rechts &amp; links oszi...</td>\n",
       "      <td>[{u'signal': {u'beep': True}, u'mutation': {u'...</td>\n",
       "      <td>{u'start': u'Host 070 liegt auf Werkbank, Läng...</td>\n",
       "    </tr>\n",
       "    <tr>\n",
       "      <th>P631</th>\n",
       "      <td>58a595788385660128cb91b2</td>\n",
       "      <td>Ringschl X Faustdreh 60° rechts &amp; links oszill...</td>\n",
       "      <td>[{u'signal': {u'beep': True}, u'mutation': {u'...</td>\n",
       "      <td>{u'start': u'Host 070 liegt auf Werkbank, Läng...</td>\n",
       "    </tr>\n",
       "    <tr>\n",
       "      <th>P632</th>\n",
       "      <td>58a595b08385660128cb91b3</td>\n",
       "      <td>Ringschl X Faustdreh 120° rechts &amp; links oszil...</td>\n",
       "      <td>[{u'signal': {u'beep': True}, u'mutation': {u'...</td>\n",
       "      <td>{u'start': u'Host 070 liegt auf Werkbank, Läng...</td>\n",
       "    </tr>\n",
       "    <tr>\n",
       "      <th>P633</th>\n",
       "      <td>58a595ed8385660128cb91b4</td>\n",
       "      <td>Ringschl -Z Faustdreh 60° rechts &amp; links oszil...</td>\n",
       "      <td>[{u'signal': {u'beep': True}, u'mutation': {u'...</td>\n",
       "      <td>{u'start': u'Host 070 liegt auf Werkbank, Läng...</td>\n",
       "    </tr>\n",
       "    <tr>\n",
       "      <th>P634</th>\n",
       "      <td>58a596338385660128cb91b5</td>\n",
       "      <td>Ringschl -Z Faustdreh 120° rechts &amp; links oszi...</td>\n",
       "      <td>[{u'signal': {u'beep': True}, u'mutation': {u'...</td>\n",
       "      <td>{u'start': u'Host 070 liegt auf Werkbank, Läng...</td>\n",
       "    </tr>\n",
       "    <tr>\n",
       "      <th>P635</th>\n",
       "      <td>58a5968f8385660128cb91b6</td>\n",
       "      <td>Ringschl -Z Fingerdreh 60° rechts &amp; links oszi...</td>\n",
       "      <td>[{u'signal': {u'beep': True}, u'mutation': {u'...</td>\n",
       "      <td>{u'start': u'Host 070 liegt auf Werkbank, Läng...</td>\n",
       "    </tr>\n",
       "    <tr>\n",
       "      <th>P331</th>\n",
       "      <td>58a597328385660128cb91b7</td>\n",
       "      <td>Schraubz X Fingerdreher rechts &amp; links oszilli...</td>\n",
       "      <td>[{u'signal': {u'beep': True}, u'mutation': {u'...</td>\n",
       "      <td>{u'start': u'Host 121 liegt auf Werkbank, Scha...</td>\n",
       "    </tr>\n",
       "    <tr>\n",
       "      <th>P332</th>\n",
       "      <td>58a597a28385660128cb91b8</td>\n",
       "      <td>Schraubz X Handdreher rechts &amp; links oszillier...</td>\n",
       "      <td>[{u'signal': {u'beep': True}, u'mutation': {u'...</td>\n",
       "      <td>{u'start': u'Host 121 liegt auf Werkbank, Scha...</td>\n",
       "    </tr>\n",
       "    <tr>\n",
       "      <th>P333</th>\n",
       "      <td>58a598458385660128cb91b9</td>\n",
       "      <td>Schraubz Y Fingerdreher rechts &amp; links oszilli...</td>\n",
       "      <td>[{u'signal': {u'beep': True}, u'mutation': {u'...</td>\n",
       "      <td>{u'start': u'Host 121 liegt auf Werkbank, Scha...</td>\n",
       "    </tr>\n",
       "    <tr>\n",
       "      <th>P334</th>\n",
       "      <td>58a598838385660128cb91ba</td>\n",
       "      <td>Schraubz Y Handdreher rechts &amp; links oszillier...</td>\n",
       "      <td>[{u'signal': {u'beep': True}, u'mutation': {u'...</td>\n",
       "      <td>{u'start': u'Host 121 liegt auf Werkbank, Scha...</td>\n",
       "    </tr>\n",
       "    <tr>\n",
       "      <th>P335</th>\n",
       "      <td>58a598c58385660128cb91bb</td>\n",
       "      <td>Schraubz Z Fingerdreher rechts &amp; links oszilli...</td>\n",
       "      <td>[{u'signal': {u'beep': True}, u'mutation': {u'...</td>\n",
       "      <td>{u'start': u'Host 121 liegt auf Werkbank, Scha...</td>\n",
       "    </tr>\n",
       "    <tr>\n",
       "      <th>P336</th>\n",
       "      <td>58a599038385660128cb91bc</td>\n",
       "      <td>Schraubz Z Handdreher rechts &amp; links oszillier...</td>\n",
       "      <td>[{u'signal': {u'beep': True}, u'mutation': {u'...</td>\n",
       "      <td>{u'start': u'Host 121 liegt auf Werkbank, Scha...</td>\n",
       "    </tr>\n",
       "    <tr>\n",
       "      <th>P337</th>\n",
       "      <td>58a599568385660128cb91bd</td>\n",
       "      <td>Schraubz X Fingerdreher rechts &amp; links oszilli...</td>\n",
       "      <td>[{u'signal': {u'beep': True}, u'mutation': {u'...</td>\n",
       "      <td>{u'start': u'Host 121 liegt auf Werkbank, Scha...</td>\n",
       "    </tr>\n",
       "    <tr>\n",
       "      <th>P338</th>\n",
       "      <td>58a599808385660128cb91be</td>\n",
       "      <td>Schraubz X Handdreher rechts &amp; links oszillier...</td>\n",
       "      <td>[{u'signal': {u'beep': True}, u'mutation': {u'...</td>\n",
       "      <td>{u'start': u'Host 121 liegt auf Werkbank, Scha...</td>\n",
       "    </tr>\n",
       "    <tr>\n",
       "      <th>P339</th>\n",
       "      <td>58a599af8385660128cb91bf</td>\n",
       "      <td>Schraubz Y Fingerdreher rechts &amp; links oszilli...</td>\n",
       "      <td>[{u'signal': {u'beep': True}, u'mutation': {u'...</td>\n",
       "      <td>{u'start': u'Host 121 liegt auf Werkbank, Scha...</td>\n",
       "    </tr>\n",
       "    <tr>\n",
       "      <th>P340</th>\n",
       "      <td>58a599e98385660128cb91c0</td>\n",
       "      <td>Schraubz Y Handdreher rechts &amp; links oszillier...</td>\n",
       "      <td>[{u'signal': {u'beep': True}, u'mutation': {u'...</td>\n",
       "      <td>{u'start': u'Host 121 liegt auf Werkbank, Scha...</td>\n",
       "    </tr>\n",
       "    <tr>\n",
       "      <th>P341</th>\n",
       "      <td>58a59a168385660128cb91c1</td>\n",
       "      <td>Schraubz Z Fingerdreher rechts &amp; links oszilli...</td>\n",
       "      <td>[{u'signal': {u'beep': True}, u'mutation': {u'...</td>\n",
       "      <td>{u'start': u'Host 121 liegt auf Werkbank, Scha...</td>\n",
       "    </tr>\n",
       "    <tr>\n",
       "      <th>P342</th>\n",
       "      <td>58a59a598385660128cb91c2</td>\n",
       "      <td>Schraubz Z Handdreher rechts &amp; links oszillier...</td>\n",
       "      <td>[{u'signal': {u'beep': True}, u'mutation': {u'...</td>\n",
       "      <td>{u'start': u'Host 121 liegt auf Werkbank, Scha...</td>\n",
       "    </tr>\n",
       "  </tbody>\n",
       "</table>\n",
       "<p>176 rows × 4 columns</p>\n",
       "</div>"
      ],
      "text/plain": [
       "                           _id  \\\n",
       "id                               \n",
       "P101  589c897d1337b5ab1e1be118   \n",
       "P102  589c8ba71337b5ab1e1be11c   \n",
       "P103  589c8dbd1337b5ab1e1be11f   \n",
       "P104  589c8ed31337b5ab1e1be121   \n",
       "P105  589c8fcc1337b5ab1e1be125   \n",
       "P106  589c901a1337b5ab1e1be127   \n",
       "P107  589c90e31337b5ab1e1be12c   \n",
       "P108  589c911c1337b5ab1e1be12e   \n",
       "P109  589c91961337b5ab1e1be132   \n",
       "P110  589c92351337b5ab1e1be134   \n",
       "P111  589c92851337b5ab1e1be135   \n",
       "P112  589c92e01337b5ab1e1be136   \n",
       "P113  589c93581337b5ab1e1be13a   \n",
       "P114  589c939e1337b5ab1e1be13c   \n",
       "P115  589c94141337b5ab1e1be13d   \n",
       "P116  589c947a1337b5ab1e1be145   \n",
       "P117  589c952a1337b5ab1e1be146   \n",
       "P118  589c95701337b5ab1e1be147   \n",
       "P401  589c97a31337b5ab1e1be148   \n",
       "P402  589c98351337b5ab1e1be14a   \n",
       "P403  589c98ae1337b5ab1e1be14b   \n",
       "P201  58a182881337b5ab1e1be415   \n",
       "P202  58a182dd1337b5ab1e1be416   \n",
       "P203  58a1844f1337b5ab1e1be417   \n",
       "P204  58a185461337b5ab1e1be418   \n",
       "P205  58a185811337b5ab1e1be419   \n",
       "P206  58a187ad1337b5ab1e1be41a   \n",
       "P207  58a188471337b5ab1e1be41b   \n",
       "P208  58a188fd1337b5ab1e1be41c   \n",
       "P209  58a189791337b5ab1e1be41d   \n",
       "...                        ...   \n",
       "P717  58a5907c8385660128cb91a5   \n",
       "P718  58a590c58385660128cb91a6   \n",
       "P719  58a591178385660128cb91a7   \n",
       "P720  58a591598385660128cb91a8   \n",
       "P721  58a591a98385660128cb91a9   \n",
       "P722  58a591ef8385660128cb91aa   \n",
       "P723  58a5928d8385660128cb91ab   \n",
       "P724  58a592cb8385660128cb91ac   \n",
       "P626  58a593828385660128cb91ad   \n",
       "P627  58a5940a8385660128cb91ae   \n",
       "P628  58a5946f8385660128cb91af   \n",
       "P629  58a594c58385660128cb91b0   \n",
       "P630  58a595268385660128cb91b1   \n",
       "P631  58a595788385660128cb91b2   \n",
       "P632  58a595b08385660128cb91b3   \n",
       "P633  58a595ed8385660128cb91b4   \n",
       "P634  58a596338385660128cb91b5   \n",
       "P635  58a5968f8385660128cb91b6   \n",
       "P331  58a597328385660128cb91b7   \n",
       "P332  58a597a28385660128cb91b8   \n",
       "P333  58a598458385660128cb91b9   \n",
       "P334  58a598838385660128cb91ba   \n",
       "P335  58a598c58385660128cb91bb   \n",
       "P336  58a599038385660128cb91bc   \n",
       "P337  58a599568385660128cb91bd   \n",
       "P338  58a599808385660128cb91be   \n",
       "P339  58a599af8385660128cb91bf   \n",
       "P340  58a599e98385660128cb91c0   \n",
       "P341  58a59a168385660128cb91c1   \n",
       "P342  58a59a598385660128cb91c2   \n",
       "\n",
       "                                                comment  \\\n",
       "id                                                        \n",
       "P101            Zwinge X locker rechtsdrehen einzeln 5x   \n",
       "P102             Zwinge X locker linksdrehen einzeln 5x   \n",
       "P103  Zwinge X locker rechts- und linksdrehen einzel...   \n",
       "P104   Zwinge X fest links- und rechtsdrehen einzeln 5x   \n",
       "P105                   Zwinge X oszilierend linksdrehen   \n",
       "P106                  Zwinge X oszilierend rechtsdrehen   \n",
       "P107            Zwinge Y locker rechtsdrehen einzeln 5x   \n",
       "P108             Zwinge Y locker linksdrehen einzeln 5x   \n",
       "P109  Zwinge Y locker rechts- und linksdrehen einzel...   \n",
       "P110   Zwinge Y fest links- und rechtsdrehen einzeln 5x   \n",
       "P111                   Zwinge Y oszilierend linksdrehen   \n",
       "P112                  Zwinge Y oszilierend rechtsdrehen   \n",
       "P113            Zwinge Z locker rechtsdrehen einzeln 5x   \n",
       "P114             Zwinge Z locker linksdrehen einzeln 5x   \n",
       "P115  Zwinge Z locker rechts- und linksdrehen einzel...   \n",
       "P116   Zwinge Z fest links- und rechtsdrehen einzeln 5x   \n",
       "P117                   Zwinge Z oszilierend linksdrehen   \n",
       "P118                  Zwinge Z oszilierend rechtsdrehen   \n",
       "P401                   Bohrm vorne runterdrehen 120° 5x   \n",
       "P402                  Bohrm hinten runterdrehen 120° 5x   \n",
       "P403                  Bohrm hinten runterdrehen 240° 5x   \n",
       "P201            T-Griff X Faust rechtsdrehen einzeln 5x   \n",
       "P202             T-Griff X Faust linksdrehen einzeln 5x   \n",
       "P203  T-Griff X Faust rechts- und linksdrehen einzel...   \n",
       "P204          T-Griff X Faust rechtsdrehen oszillierend   \n",
       "P205           T-Griff X Faust linksdrehen oszillierend   \n",
       "P206    T-Griff X Fingerspitzen rechtsdrehen einzeln 5x   \n",
       "P207     T-Griff X Fingerspitzen linksdrehen einzeln 5x   \n",
       "P208  T-Griff X Fingerspitzen rechts- und linksdrehe...   \n",
       "P209  T-Griff X Fingerspitzen rechtsdrehen oszillierend   \n",
       "...                                                 ...   \n",
       "P717         Säge einhändig oszillierend kurz normal 5x   \n",
       "P718        Säge beidhändig oszillierend kurz normal 5x   \n",
       "P719         Säge einhändig oszillierend lang normal 5x   \n",
       "P720        Säge beidhändig oszillierend lang normal 5x   \n",
       "P721       Säge einhändig oszillierend kurz verkehrt 5x   \n",
       "P722      Säge beidhändig oszillierend kurz verkehrt 5x   \n",
       "P723       Säge einhändig oszillierend lang verkehrt 5x   \n",
       "P724      Säge beidhändig oszillierend lang verkehrt 5x   \n",
       "P626  Ringschl X Faustdreh 60° rechts & links oszill...   \n",
       "P627  Ringschl X Faustdreh 120° rechts & links oszil...   \n",
       "P628  Ringschl -Z Faustdreh 60° rechts & links oszil...   \n",
       "P629  Ringschl -Z Faustdreh 120° rechts & links oszi...   \n",
       "P630  Ringschl -Z Fingerdreh 60° rechts & links oszi...   \n",
       "P631  Ringschl X Faustdreh 60° rechts & links oszill...   \n",
       "P632  Ringschl X Faustdreh 120° rechts & links oszil...   \n",
       "P633  Ringschl -Z Faustdreh 60° rechts & links oszil...   \n",
       "P634  Ringschl -Z Faustdreh 120° rechts & links oszi...   \n",
       "P635  Ringschl -Z Fingerdreh 60° rechts & links oszi...   \n",
       "P331  Schraubz X Fingerdreher rechts & links oszilli...   \n",
       "P332  Schraubz X Handdreher rechts & links oszillier...   \n",
       "P333  Schraubz Y Fingerdreher rechts & links oszilli...   \n",
       "P334  Schraubz Y Handdreher rechts & links oszillier...   \n",
       "P335  Schraubz Z Fingerdreher rechts & links oszilli...   \n",
       "P336  Schraubz Z Handdreher rechts & links oszillier...   \n",
       "P337  Schraubz X Fingerdreher rechts & links oszilli...   \n",
       "P338  Schraubz X Handdreher rechts & links oszillier...   \n",
       "P339  Schraubz Y Fingerdreher rechts & links oszilli...   \n",
       "P340  Schraubz Y Handdreher rechts & links oszillier...   \n",
       "P341  Schraubz Z Fingerdreher rechts & links oszilli...   \n",
       "P342  Schraubz Z Handdreher rechts & links oszillier...   \n",
       "\n",
       "                                              exercises  \\\n",
       "id                                                        \n",
       "P101  [{u'signal': {u'beep': True}, u'mutation': {u'...   \n",
       "P102  [{u'signal': {u'beep': True}, u'mutation': {u'...   \n",
       "P103  [{u'signal': {u'beep': True}, u'mutation': {u'...   \n",
       "P104  [{u'signal': {u'beep': True}, u'mutation': {u'...   \n",
       "P105  [{u'signal': {u'beep': True}, u'mutation': {u'...   \n",
       "P106  [{u'signal': {u'beep': True}, u'mutation': {u'...   \n",
       "P107  [{u'signal': {u'beep': True}, u'mutation': {u'...   \n",
       "P108  [{u'signal': {u'beep': True}, u'mutation': {u'...   \n",
       "P109  [{u'signal': {u'beep': True}, u'mutation': {u'...   \n",
       "P110  [{u'signal': {u'beep': True}, u'mutation': {u'...   \n",
       "P111  [{u'signal': {u'beep': True}, u'mutation': {u'...   \n",
       "P112  [{u'signal': {u'beep': True}, u'mutation': {u'...   \n",
       "P113  [{u'signal': {u'beep': True}, u'mutation': {u'...   \n",
       "P114  [{u'signal': {u'beep': True}, u'mutation': {u'...   \n",
       "P115  [{u'signal': {u'beep': True}, u'mutation': {u'...   \n",
       "P116  [{u'signal': {u'beep': True}, u'mutation': {u'...   \n",
       "P117  [{u'signal': {u'beep': True}, u'mutation': {u'...   \n",
       "P118  [{u'signal': {u'beep': True}, u'mutation': {u'...   \n",
       "P401  [{u'signal': {u'beep': True}, u'mutation': {u'...   \n",
       "P402  [{u'signal': {u'beep': True}, u'mutation': {u'...   \n",
       "P403  [{u'signal': {u'beep': True}, u'mutation': {u'...   \n",
       "P201  [{u'signal': {u'beep': True}, u'mutation': {u'...   \n",
       "P202  [{u'signal': {u'beep': True}, u'mutation': {u'...   \n",
       "P203  [{u'signal': {u'beep': True}, u'mutation': {u'...   \n",
       "P204  [{u'signal': {u'beep': True}, u'mutation': {u'...   \n",
       "P205  [{u'signal': {u'beep': True}, u'mutation': {u'...   \n",
       "P206  [{u'signal': {u'beep': True}, u'mutation': {u'...   \n",
       "P207  [{u'signal': {u'beep': True}, u'mutation': {u'...   \n",
       "P208  [{u'signal': {u'beep': True}, u'mutation': {u'...   \n",
       "P209  [{u'signal': {u'beep': True}, u'mutation': {u'...   \n",
       "...                                                 ...   \n",
       "P717  [{u'signal': {u'beep': True}, u'mutation': {u'...   \n",
       "P718  [{u'signal': {u'beep': True}, u'mutation': {u'...   \n",
       "P719  [{u'signal': {u'beep': True}, u'mutation': {u'...   \n",
       "P720  [{u'signal': {u'beep': True}, u'mutation': {u'...   \n",
       "P721  [{u'signal': {u'beep': True}, u'mutation': {u'...   \n",
       "P722  [{u'signal': {u'beep': True}, u'mutation': {u'...   \n",
       "P723  [{u'signal': {u'beep': True}, u'mutation': {u'...   \n",
       "P724  [{u'signal': {u'beep': True}, u'mutation': {u'...   \n",
       "P626  [{u'signal': {u'beep': True}, u'mutation': {u'...   \n",
       "P627  [{u'signal': {u'beep': True}, u'mutation': {u'...   \n",
       "P628  [{u'signal': {u'beep': True}, u'mutation': {u'...   \n",
       "P629  [{u'signal': {u'beep': True}, u'mutation': {u'...   \n",
       "P630  [{u'signal': {u'beep': True}, u'mutation': {u'...   \n",
       "P631  [{u'signal': {u'beep': True}, u'mutation': {u'...   \n",
       "P632  [{u'signal': {u'beep': True}, u'mutation': {u'...   \n",
       "P633  [{u'signal': {u'beep': True}, u'mutation': {u'...   \n",
       "P634  [{u'signal': {u'beep': True}, u'mutation': {u'...   \n",
       "P635  [{u'signal': {u'beep': True}, u'mutation': {u'...   \n",
       "P331  [{u'signal': {u'beep': True}, u'mutation': {u'...   \n",
       "P332  [{u'signal': {u'beep': True}, u'mutation': {u'...   \n",
       "P333  [{u'signal': {u'beep': True}, u'mutation': {u'...   \n",
       "P334  [{u'signal': {u'beep': True}, u'mutation': {u'...   \n",
       "P335  [{u'signal': {u'beep': True}, u'mutation': {u'...   \n",
       "P336  [{u'signal': {u'beep': True}, u'mutation': {u'...   \n",
       "P337  [{u'signal': {u'beep': True}, u'mutation': {u'...   \n",
       "P338  [{u'signal': {u'beep': True}, u'mutation': {u'...   \n",
       "P339  [{u'signal': {u'beep': True}, u'mutation': {u'...   \n",
       "P340  [{u'signal': {u'beep': True}, u'mutation': {u'...   \n",
       "P341  [{u'signal': {u'beep': True}, u'mutation': {u'...   \n",
       "P342  [{u'signal': {u'beep': True}, u'mutation': {u'...   \n",
       "\n",
       "                                                   pose  \n",
       "id                                                       \n",
       "P101  {u'start': u'Host 008 ist auf Werkbank fixiert...  \n",
       "P102  {u'start': u'Host 008 ist auf Werkbank fixiert...  \n",
       "P103  {u'start': u'Host 008 ist auf Werkbank fixiert...  \n",
       "P104  {u'start': u'Host 008 ist auf Werkbank fixiert...  \n",
       "P105  {u'start': u'Host 008 ist auf Werkbank fixiert...  \n",
       "P106  {u'start': u'Host 008 ist auf Werkbank fixiert...  \n",
       "P107  {u'start': u'Host 008 ist auf Werkbank fixiert...  \n",
       "P108  {u'start': u'Host 008 ist auf Werkbank fixiert...  \n",
       "P109  {u'start': u'Host 008 ist auf Werkbank fixiert...  \n",
       "P110  {u'start': u'Host 008 ist auf Werkbank fixiert...  \n",
       "P111  {u'start': u'Host 008 ist auf Werkbank fixiert...  \n",
       "P112  {u'start': u'Host 008 ist auf Werkbank fixiert...  \n",
       "P113  {u'start': u'Host 008 ist auf Werkbank fixiert...  \n",
       "P114  {u'start': u'Host 008 ist auf Werkbank fixiert...  \n",
       "P115  {u'start': u'Host 008 ist auf Werkbank fixiert...  \n",
       "P116  {u'start': u'Host 008 ist auf Werkbank fixiert...  \n",
       "P117  {u'start': u'Host 008 ist auf Werkbank fixiert...  \n",
       "P118  {u'start': u'Host 008 ist auf Werkbank fixiert...  \n",
       "P401  {u'start': u'Host 036 steht auf Werkbank. Verf...  \n",
       "P402  {u'start': u'Host 036 steht auf Werkbank. Verf...  \n",
       "P403  {u'start': u'Host 036 steht auf Werkbank. Verf...  \n",
       "P201  {u'start': u'Host 122 liegt auf Werkbank, Scha...  \n",
       "P202  {u'start': u'Host 122 liegt auf Werkbank, Scha...  \n",
       "P203  {u'start': u'Host 122 liegt auf Werkbank, Scha...  \n",
       "P204  {u'start': u'Host 122 liegt auf Werkbank, Scha...  \n",
       "P205  {u'start': u'Host 122 liegt auf Werkbank, Scha...  \n",
       "P206  {u'start': u'Host 122 liegt auf Werkbank, Scha...  \n",
       "P207  {u'start': u'Host 122 liegt auf Werkbank, Scha...  \n",
       "P208  {u'start': u'Host 122 liegt auf Werkbank, Scha...  \n",
       "P209  {u'start': u'Host 122 liegt auf Werkbank, Scha...  \n",
       "...                                                 ...  \n",
       "P717  {u'start': u'Host 011 liegt auf Werkbank recht...  \n",
       "P718  {u'start': u'Host 011 liegt auf Werkbank recht...  \n",
       "P719  {u'start': u'Host 011 liegt auf Werkbank recht...  \n",
       "P720  {u'start': u'Host 011 liegt auf Werkbank recht...  \n",
       "P721  {u'start': u'Host 011 liegt auf Werkbank recht...  \n",
       "P722  {u'start': u'Host 011 liegt auf Werkbank recht...  \n",
       "P723  {u'start': u'Host 011 liegt auf Werkbank recht...  \n",
       "P724  {u'start': u'Host 011 liegt auf Werkbank recht...  \n",
       "P626  {u'start': u'Host 070 liegt auf Werkbank, Läng...  \n",
       "P627  {u'start': u'Host 070 liegt auf Werkbank, Läng...  \n",
       "P628  {u'start': u'Host 070 liegt auf Werkbank, Läng...  \n",
       "P629  {u'start': u'Host 070 liegt auf Werkbank, Läng...  \n",
       "P630  {u'start': u'Host 070 liegt auf Werkbank, Läng...  \n",
       "P631  {u'start': u'Host 070 liegt auf Werkbank, Läng...  \n",
       "P632  {u'start': u'Host 070 liegt auf Werkbank, Läng...  \n",
       "P633  {u'start': u'Host 070 liegt auf Werkbank, Läng...  \n",
       "P634  {u'start': u'Host 070 liegt auf Werkbank, Läng...  \n",
       "P635  {u'start': u'Host 070 liegt auf Werkbank, Läng...  \n",
       "P331  {u'start': u'Host 121 liegt auf Werkbank, Scha...  \n",
       "P332  {u'start': u'Host 121 liegt auf Werkbank, Scha...  \n",
       "P333  {u'start': u'Host 121 liegt auf Werkbank, Scha...  \n",
       "P334  {u'start': u'Host 121 liegt auf Werkbank, Scha...  \n",
       "P335  {u'start': u'Host 121 liegt auf Werkbank, Scha...  \n",
       "P336  {u'start': u'Host 121 liegt auf Werkbank, Scha...  \n",
       "P337  {u'start': u'Host 121 liegt auf Werkbank, Scha...  \n",
       "P338  {u'start': u'Host 121 liegt auf Werkbank, Scha...  \n",
       "P339  {u'start': u'Host 121 liegt auf Werkbank, Scha...  \n",
       "P340  {u'start': u'Host 121 liegt auf Werkbank, Scha...  \n",
       "P341  {u'start': u'Host 121 liegt auf Werkbank, Scha...  \n",
       "P342  {u'start': u'Host 121 liegt auf Werkbank, Scha...  \n",
       "\n",
       "[176 rows x 4 columns]"
      ]
     },
     "execution_count": 9,
     "metadata": {},
     "output_type": "execute_result"
    }
   ],
   "source": [
    "parcours_df"
   ]
  },
  {
   "cell_type": "code",
   "execution_count": 10,
   "metadata": {
    "collapsed": false
   },
   "outputs": [
    {
     "data": {
      "text/plain": [
       "[{u'mutation': {u'id': u'M151'}, u'signal': {u'beep': True}},\n",
       " {u'mutation': {u'id': u'M101'}, u'signal': {u'beep': True}},\n",
       " {u'mutation': {u'id': u'M152'}, u'signal': {u'beep': True}},\n",
       " {u'mutation': {u'id': u'M101'}, u'signal': {u'beep': True}},\n",
       " {u'mutation': {u'id': u'M152'}, u'signal': {u'beep': True}},\n",
       " {u'mutation': {u'id': u'M101'}, u'signal': {u'beep': True}},\n",
       " {u'mutation': {u'id': u'M152'}, u'signal': {u'beep': True}},\n",
       " {u'mutation': {u'id': u'M101'}, u'signal': {u'beep': True}},\n",
       " {u'mutation': {u'id': u'M152'}, u'signal': {u'beep': True}},\n",
       " {u'mutation': {u'id': u'M101'}, u'signal': {u'beep': True}}]"
      ]
     },
     "execution_count": 10,
     "metadata": {},
     "output_type": "execute_result"
    }
   ],
   "source": [
    "parcours_df.ix[0,'exercises']"
   ]
  },
  {
   "cell_type": "code",
   "execution_count": 11,
   "metadata": {
    "collapsed": false
   },
   "outputs": [
    {
     "data": {
      "text/plain": [
       "{u'start': u'Host 008 ist auf Werkbank fixiert, Griffachse X, untere Spannbacke fixiert (Xcm), Gewinde genau in Mitte. Subject steht frontal vor Werkbank, etwas links von Host, F\\xfc\\xdfe in Schulterbreite, Arme h\\xe4ngen locker hinunter.'}"
      ]
     },
     "execution_count": 11,
     "metadata": {},
     "output_type": "execute_result"
    }
   ],
   "source": [
    "parcours_df.ix[0,'pose']"
   ]
  },
  {
   "cell_type": "code",
   "execution_count": 12,
   "metadata": {
    "collapsed": false
   },
   "outputs": [
    {
     "data": {
      "text/html": [
       "<div>\n",
       "<table border=\"1\" class=\"dataframe\">\n",
       "  <thead>\n",
       "    <tr style=\"text-align: right;\">\n",
       "      <th></th>\n",
       "      <th>_id</th>\n",
       "      <th>hands</th>\n",
       "      <th>params</th>\n",
       "      <th>slug</th>\n",
       "    </tr>\n",
       "    <tr>\n",
       "      <th>id</th>\n",
       "      <th></th>\n",
       "      <th></th>\n",
       "      <th></th>\n",
       "      <th></th>\n",
       "    </tr>\n",
       "  </thead>\n",
       "  <tbody>\n",
       "    <tr>\n",
       "      <th>M101</th>\n",
       "      <td>58a24ffa5097dc5998d3c5d0</td>\n",
       "      <td>{u'right': {u'host': {u'spot': {u'id': u'A', u...</td>\n",
       "      <td>[{u'slug': u'm0', u'value': u'stehend', u'labe...</td>\n",
       "      <td>aaaaaaabaaaba</td>\n",
       "    </tr>\n",
       "    <tr>\n",
       "      <th>M102</th>\n",
       "      <td>58a24ffa5097dc5998d3c5d1</td>\n",
       "      <td>{u'right': {u'host': {u'spot': {u'id': u'A', u...</td>\n",
       "      <td>[{u'slug': u'm0', u'value': u'stehend', u'labe...</td>\n",
       "      <td>aaaaaaabababa</td>\n",
       "    </tr>\n",
       "    <tr>\n",
       "      <th>M103</th>\n",
       "      <td>58a24ffa5097dc5998d3c5d2</td>\n",
       "      <td>{u'right': {u'host': {u'spot': {u'id': u'A', u...</td>\n",
       "      <td>[{u'slug': u'm0', u'value': u'stehend', u'labe...</td>\n",
       "      <td>aaaaaabbaaaba</td>\n",
       "    </tr>\n",
       "    <tr>\n",
       "      <th>M104</th>\n",
       "      <td>58a24ffa5097dc5998d3c5d3</td>\n",
       "      <td>{u'right': {u'host': {u'spot': {u'id': u'A', u...</td>\n",
       "      <td>[{u'slug': u'm0', u'value': u'stehend', u'labe...</td>\n",
       "      <td>aaaaaabbababa</td>\n",
       "    </tr>\n",
       "    <tr>\n",
       "      <th>M105</th>\n",
       "      <td>58a24ffa5097dc5998d3c5d4</td>\n",
       "      <td>{u'right': {u'host': {u'spot': {u'id': u'A', u...</td>\n",
       "      <td>[{u'slug': u'm0', u'value': u'stehend', u'labe...</td>\n",
       "      <td>aaaaaacbaabba</td>\n",
       "    </tr>\n",
       "    <tr>\n",
       "      <th>M106</th>\n",
       "      <td>58a24ffa5097dc5998d3c5d5</td>\n",
       "      <td>{u'right': {u'host': {u'spot': {u'id': u'A', u...</td>\n",
       "      <td>[{u'slug': u'm0', u'value': u'stehend', u'labe...</td>\n",
       "      <td>aaaaaadbabbba</td>\n",
       "    </tr>\n",
       "    <tr>\n",
       "      <th>M107</th>\n",
       "      <td>58a24ffa5097dc5998d3c5d6</td>\n",
       "      <td>{u'right': {u'host': {u'spot': {u'id': u'A', u...</td>\n",
       "      <td>[{u'slug': u'm0', u'value': u'stehend', u'labe...</td>\n",
       "      <td>aaabaaabaaaba</td>\n",
       "    </tr>\n",
       "    <tr>\n",
       "      <th>M108</th>\n",
       "      <td>58a24ffa5097dc5998d3c5d7</td>\n",
       "      <td>{u'right': {u'host': {u'spot': {u'id': u'A', u...</td>\n",
       "      <td>[{u'slug': u'm0', u'value': u'stehend', u'labe...</td>\n",
       "      <td>aaabaaabababa</td>\n",
       "    </tr>\n",
       "    <tr>\n",
       "      <th>M109</th>\n",
       "      <td>58a24ffa5097dc5998d3c5d8</td>\n",
       "      <td>{u'right': {u'host': {u'spot': {u'id': u'A', u...</td>\n",
       "      <td>[{u'slug': u'm0', u'value': u'stehend', u'labe...</td>\n",
       "      <td>aaabaabbaaaba</td>\n",
       "    </tr>\n",
       "    <tr>\n",
       "      <th>M110</th>\n",
       "      <td>58a24ffa5097dc5998d3c5d9</td>\n",
       "      <td>{u'right': {u'host': {u'spot': {u'id': u'A', u...</td>\n",
       "      <td>[{u'slug': u'm0', u'value': u'stehend', u'labe...</td>\n",
       "      <td>aaabaabbababa</td>\n",
       "    </tr>\n",
       "    <tr>\n",
       "      <th>M111</th>\n",
       "      <td>58a24ffa5097dc5998d3c5da</td>\n",
       "      <td>{u'right': {u'host': {u'spot': {u'id': u'A', u...</td>\n",
       "      <td>[{u'slug': u'm0', u'value': u'stehend', u'labe...</td>\n",
       "      <td>aaabaacbaabba</td>\n",
       "    </tr>\n",
       "    <tr>\n",
       "      <th>M112</th>\n",
       "      <td>58a24ffa5097dc5998d3c5db</td>\n",
       "      <td>{u'right': {u'host': {u'spot': {u'id': u'A', u...</td>\n",
       "      <td>[{u'slug': u'm0', u'value': u'stehend', u'labe...</td>\n",
       "      <td>aaabaadbabbba</td>\n",
       "    </tr>\n",
       "    <tr>\n",
       "      <th>M113</th>\n",
       "      <td>58a24ffa5097dc5998d3c5dc</td>\n",
       "      <td>{u'right': {u'host': {u'spot': {u'id': u'A', u...</td>\n",
       "      <td>[{u'slug': u'm0', u'value': u'stehend', u'labe...</td>\n",
       "      <td>aaacaaabaaaba</td>\n",
       "    </tr>\n",
       "    <tr>\n",
       "      <th>M114</th>\n",
       "      <td>58a24ffa5097dc5998d3c5dd</td>\n",
       "      <td>{u'right': {u'host': {u'spot': {u'id': u'A', u...</td>\n",
       "      <td>[{u'slug': u'm0', u'value': u'stehend', u'labe...</td>\n",
       "      <td>aaacaaabababa</td>\n",
       "    </tr>\n",
       "    <tr>\n",
       "      <th>M115</th>\n",
       "      <td>58a24ffa5097dc5998d3c5de</td>\n",
       "      <td>{u'right': {u'host': {u'spot': {u'id': u'A', u...</td>\n",
       "      <td>[{u'slug': u'm0', u'value': u'stehend', u'labe...</td>\n",
       "      <td>aaacaabbaaaba</td>\n",
       "    </tr>\n",
       "    <tr>\n",
       "      <th>M116</th>\n",
       "      <td>58a24ffa5097dc5998d3c5df</td>\n",
       "      <td>{u'right': {u'host': {u'spot': {u'id': u'A', u...</td>\n",
       "      <td>[{u'slug': u'm0', u'value': u'stehend', u'labe...</td>\n",
       "      <td>aaacaabbababa</td>\n",
       "    </tr>\n",
       "    <tr>\n",
       "      <th>M117</th>\n",
       "      <td>58a24ffa5097dc5998d3c5e0</td>\n",
       "      <td>{u'right': {u'host': {u'spot': {u'id': u'A', u...</td>\n",
       "      <td>[{u'slug': u'm0', u'value': u'stehend', u'labe...</td>\n",
       "      <td>aaacaacbaabba</td>\n",
       "    </tr>\n",
       "    <tr>\n",
       "      <th>M118</th>\n",
       "      <td>58a24ffa5097dc5998d3c5e1</td>\n",
       "      <td>{u'right': {u'host': {u'spot': {u'id': u'A', u...</td>\n",
       "      <td>[{u'slug': u'm0', u'value': u'stehend', u'labe...</td>\n",
       "      <td>aaacaadbabbba</td>\n",
       "    </tr>\n",
       "    <tr>\n",
       "      <th>M701</th>\n",
       "      <td>58a24ffa5097dc5998d3c5e2</td>\n",
       "      <td>{u'right': {u'host': {u'spot': {u'id': u'A', u...</td>\n",
       "      <td>[{u'slug': u'm0', u'value': u'stehend', u'labe...</td>\n",
       "      <td>aaaaaaaaaaaab</td>\n",
       "    </tr>\n",
       "    <tr>\n",
       "      <th>M702</th>\n",
       "      <td>58a24ffa5097dc5998d3c5e3</td>\n",
       "      <td>{u'right': {u'host': {u'spot': {u'id': u'A', u...</td>\n",
       "      <td>[{u'slug': u'm0', u'value': u'stehend', u'labe...</td>\n",
       "      <td>aaaaaaabaaaab</td>\n",
       "    </tr>\n",
       "    <tr>\n",
       "      <th>M703</th>\n",
       "      <td>58a24ffa5097dc5998d3c5e4</td>\n",
       "      <td>{u'right': {u'host': {u'spot': {u'id': u'A', u...</td>\n",
       "      <td>[{u'slug': u'm0', u'value': u'stehend', u'labe...</td>\n",
       "      <td>aaaaaaaabaaab</td>\n",
       "    </tr>\n",
       "    <tr>\n",
       "      <th>M704</th>\n",
       "      <td>58a24ffa5097dc5998d3c5e5</td>\n",
       "      <td>{u'right': {u'host': {u'spot': {u'id': u'A', u...</td>\n",
       "      <td>[{u'slug': u'm0', u'value': u'stehend', u'labe...</td>\n",
       "      <td>aaaaaaabbaaab</td>\n",
       "    </tr>\n",
       "    <tr>\n",
       "      <th>M705</th>\n",
       "      <td>58a24ffa5097dc5998d3c5e6</td>\n",
       "      <td>{u'right': {u'host': {u'spot': {u'id': u'A', u...</td>\n",
       "      <td>[{u'slug': u'm0', u'value': u'stehend', u'labe...</td>\n",
       "      <td>aaaaaaaaaaabb</td>\n",
       "    </tr>\n",
       "    <tr>\n",
       "      <th>M706</th>\n",
       "      <td>58a24ffa5097dc5998d3c5e7</td>\n",
       "      <td>{u'right': {u'host': {u'spot': {u'id': u'A', u...</td>\n",
       "      <td>[{u'slug': u'm0', u'value': u'stehend', u'labe...</td>\n",
       "      <td>aaaaaaabaaabb</td>\n",
       "    </tr>\n",
       "    <tr>\n",
       "      <th>M707</th>\n",
       "      <td>58a24ffa5097dc5998d3c5e8</td>\n",
       "      <td>{u'right': {u'host': {u'spot': {u'id': u'A', u...</td>\n",
       "      <td>[{u'slug': u'm0', u'value': u'stehend', u'labe...</td>\n",
       "      <td>aaaaaaaabaabb</td>\n",
       "    </tr>\n",
       "    <tr>\n",
       "      <th>M708</th>\n",
       "      <td>58a24ffa5097dc5998d3c5e9</td>\n",
       "      <td>{u'right': {u'host': {u'spot': {u'id': u'A', u...</td>\n",
       "      <td>[{u'slug': u'm0', u'value': u'stehend', u'labe...</td>\n",
       "      <td>aaaaaaabbaabb</td>\n",
       "    </tr>\n",
       "    <tr>\n",
       "      <th>M709</th>\n",
       "      <td>58a24ffa5097dc5998d3c5ea</td>\n",
       "      <td>{u'right': {u'host': {u'spot': {u'id': u'A', u...</td>\n",
       "      <td>[{u'slug': u'm0', u'value': u'stehend', u'labe...</td>\n",
       "      <td>aaaaaabaaaaab</td>\n",
       "    </tr>\n",
       "    <tr>\n",
       "      <th>M710</th>\n",
       "      <td>58a24ffa5097dc5998d3c5eb</td>\n",
       "      <td>{u'right': {u'host': {u'spot': {u'id': u'A', u...</td>\n",
       "      <td>[{u'slug': u'm0', u'value': u'stehend', u'labe...</td>\n",
       "      <td>aaaaaabbaaaab</td>\n",
       "    </tr>\n",
       "    <tr>\n",
       "      <th>M711</th>\n",
       "      <td>58a24ffa5097dc5998d3c5ec</td>\n",
       "      <td>{u'right': {u'host': {u'spot': {u'id': u'A', u...</td>\n",
       "      <td>[{u'slug': u'm0', u'value': u'stehend', u'labe...</td>\n",
       "      <td>aaaaaababaaab</td>\n",
       "    </tr>\n",
       "    <tr>\n",
       "      <th>M712</th>\n",
       "      <td>58a24ffa5097dc5998d3c5ed</td>\n",
       "      <td>{u'right': {u'host': {u'spot': {u'id': u'A', u...</td>\n",
       "      <td>[{u'slug': u'm0', u'value': u'stehend', u'labe...</td>\n",
       "      <td>aaaaaabbbaaab</td>\n",
       "    </tr>\n",
       "    <tr>\n",
       "      <th>...</th>\n",
       "      <td>...</td>\n",
       "      <td>...</td>\n",
       "      <td>...</td>\n",
       "      <td>...</td>\n",
       "    </tr>\n",
       "    <tr>\n",
       "      <th>M354</th>\n",
       "      <td>58a250245097dc5998d3c664</td>\n",
       "      <td>{u'right': {u'host': {u'id': u'H121', u'name':...</td>\n",
       "      <td>NaN</td>\n",
       "      <td>Umgreifen rechts Finger</td>\n",
       "    </tr>\n",
       "    <tr>\n",
       "      <th>M355</th>\n",
       "      <td>58a250245097dc5998d3c665</td>\n",
       "      <td>{u'right': {u'host': {u'id': u'H121', u'name':...</td>\n",
       "      <td>NaN</td>\n",
       "      <td>Umgreifen links Hand</td>\n",
       "    </tr>\n",
       "    <tr>\n",
       "      <th>M356</th>\n",
       "      <td>58a250245097dc5998d3c666</td>\n",
       "      <td>{u'right': {u'host': {u'id': u'H121', u'name':...</td>\n",
       "      <td>NaN</td>\n",
       "      <td>Umgreifen rechts Hand</td>\n",
       "    </tr>\n",
       "    <tr>\n",
       "      <th>M451</th>\n",
       "      <td>58a250245097dc5998d3c667</td>\n",
       "      <td>{u'right': {u'host': {u'id': u'H036', u'name':...</td>\n",
       "      <td>NaN</td>\n",
       "      <td>Start - Greifen 1</td>\n",
       "    </tr>\n",
       "    <tr>\n",
       "      <th>M452</th>\n",
       "      <td>58a250245097dc5998d3c668</td>\n",
       "      <td>{u'right': {u'host': {u'id': u'H036', u'name':...</td>\n",
       "      <td>NaN</td>\n",
       "      <td>Start - Greifen 2</td>\n",
       "    </tr>\n",
       "    <tr>\n",
       "      <th>M551</th>\n",
       "      <td>58a250245097dc5998d3c669</td>\n",
       "      <td>{u'right': {u'host': {u'id': u'H127', u'name':...</td>\n",
       "      <td>NaN</td>\n",
       "      <td>Start - Greifen Faust</td>\n",
       "    </tr>\n",
       "    <tr>\n",
       "      <th>M552</th>\n",
       "      <td>58a250245097dc5998d3c66a</td>\n",
       "      <td>{u'right': {u'host': {u'id': u'H127', u'name':...</td>\n",
       "      <td>NaN</td>\n",
       "      <td>Start - Positionieren Finger oben</td>\n",
       "    </tr>\n",
       "    <tr>\n",
       "      <th>M553</th>\n",
       "      <td>58a250245097dc5998d3c66b</td>\n",
       "      <td>{u'right': {u'host': {u'id': u'H127', u'name':...</td>\n",
       "      <td>NaN</td>\n",
       "      <td>Start - Positionieren Finger unten</td>\n",
       "    </tr>\n",
       "    <tr>\n",
       "      <th>M651</th>\n",
       "      <td>58a250245097dc5998d3c66c</td>\n",
       "      <td>{u'right': {u'host': {u'id': u'H070', u'name':...</td>\n",
       "      <td>NaN</td>\n",
       "      <td>Start - Greifen Faust</td>\n",
       "    </tr>\n",
       "    <tr>\n",
       "      <th>M652</th>\n",
       "      <td>58a250245097dc5998d3c66d</td>\n",
       "      <td>{u'right': {u'host': {u'id': u'H070', u'name':...</td>\n",
       "      <td>NaN</td>\n",
       "      <td>Start - Positionieren 90°</td>\n",
       "    </tr>\n",
       "    <tr>\n",
       "      <th>M653</th>\n",
       "      <td>58a250245097dc5998d3c66e</td>\n",
       "      <td>{u'right': {u'host': {u'id': u'H070', u'name':...</td>\n",
       "      <td>NaN</td>\n",
       "      <td>Start - Positionieren 150°</td>\n",
       "    </tr>\n",
       "    <tr>\n",
       "      <th>M654</th>\n",
       "      <td>58a250245097dc5998d3c66f</td>\n",
       "      <td>{u'right': {u'host': {u'id': u'H070', u'name':...</td>\n",
       "      <td>NaN</td>\n",
       "      <td>Start - Positionieren 60°</td>\n",
       "    </tr>\n",
       "    <tr>\n",
       "      <th>M655</th>\n",
       "      <td>58a250245097dc5998d3c670</td>\n",
       "      <td>{u'right': {u'host': {u'id': u'H070', u'name':...</td>\n",
       "      <td>NaN</td>\n",
       "      <td>Start - Positionieren 180°</td>\n",
       "    </tr>\n",
       "    <tr>\n",
       "      <th>M656</th>\n",
       "      <td>58a250245097dc5998d3c671</td>\n",
       "      <td>{u'right': {u'host': {u'id': u'H070', u'name':...</td>\n",
       "      <td>NaN</td>\n",
       "      <td>Start - Greifen Finger</td>\n",
       "    </tr>\n",
       "    <tr>\n",
       "      <th>M657</th>\n",
       "      <td>58a250245097dc5998d3c672</td>\n",
       "      <td>{u'right': {u'host': {u'id': u'H070', u'name':...</td>\n",
       "      <td>NaN</td>\n",
       "      <td>Umgreifen links 60°</td>\n",
       "    </tr>\n",
       "    <tr>\n",
       "      <th>M658</th>\n",
       "      <td>58a250245097dc5998d3c673</td>\n",
       "      <td>{u'right': {u'host': {u'id': u'H070', u'name':...</td>\n",
       "      <td>NaN</td>\n",
       "      <td>Umgreifen rechts 60°</td>\n",
       "    </tr>\n",
       "    <tr>\n",
       "      <th>M659</th>\n",
       "      <td>58a250245097dc5998d3c674</td>\n",
       "      <td>{u'right': {u'host': {u'id': u'H070', u'name':...</td>\n",
       "      <td>NaN</td>\n",
       "      <td>Umgreifen links 120°</td>\n",
       "    </tr>\n",
       "    <tr>\n",
       "      <th>M660</th>\n",
       "      <td>58a250245097dc5998d3c675</td>\n",
       "      <td>{u'right': {u'host': {u'id': u'H070', u'name':...</td>\n",
       "      <td>NaN</td>\n",
       "      <td>Umgreifen rechts 120°</td>\n",
       "    </tr>\n",
       "    <tr>\n",
       "      <th>M751</th>\n",
       "      <td>58a250245097dc5998d3c676</td>\n",
       "      <td>{u'right': {u'host': {u'id': u'H011', u'name':...</td>\n",
       "      <td>NaN</td>\n",
       "      <td>Start - Greifen einhändig</td>\n",
       "    </tr>\n",
       "    <tr>\n",
       "      <th>M752</th>\n",
       "      <td>58a250245097dc5998d3c677</td>\n",
       "      <td>{u'right': {u'host': {u'id': u'H011', u'name':...</td>\n",
       "      <td>NaN</td>\n",
       "      <td>Start - Greifen beidhändig</td>\n",
       "    </tr>\n",
       "    <tr>\n",
       "      <th>M753</th>\n",
       "      <td>58a250245097dc5998d3c678</td>\n",
       "      <td>{u'right': {u'host': {u'id': u'H011', u'name':...</td>\n",
       "      <td>NaN</td>\n",
       "      <td>Start - Positionieren</td>\n",
       "    </tr>\n",
       "    <tr>\n",
       "      <th>M851</th>\n",
       "      <td>58a250245097dc5998d3c679</td>\n",
       "      <td>{u'right': {u'host': {u'id': u'H038', u'name':...</td>\n",
       "      <td>NaN</td>\n",
       "      <td>Start - Greifen</td>\n",
       "    </tr>\n",
       "    <tr>\n",
       "      <th>M852</th>\n",
       "      <td>58a250245097dc5998d3c67a</td>\n",
       "      <td>{u'right': {u'host': {u'id': u'H038', u'name':...</td>\n",
       "      <td>NaN</td>\n",
       "      <td>Start - Positionieren</td>\n",
       "    </tr>\n",
       "    <tr>\n",
       "      <th>M853</th>\n",
       "      <td>58a250245097dc5998d3c67b</td>\n",
       "      <td>{u'right': {u'host': {u'id': u'H038', u'name':...</td>\n",
       "      <td>NaN</td>\n",
       "      <td>Umsetzen</td>\n",
       "    </tr>\n",
       "    <tr>\n",
       "      <th>M951</th>\n",
       "      <td>58a250245097dc5998d3c67c</td>\n",
       "      <td>{u'right': {u'host': {u'id': u'H001', u'name':...</td>\n",
       "      <td>NaN</td>\n",
       "      <td>Start - Greifen</td>\n",
       "    </tr>\n",
       "    <tr>\n",
       "      <th>M952</th>\n",
       "      <td>58a250245097dc5998d3c67d</td>\n",
       "      <td>{u'left': {u'host': {u'id': u'H001', u'name': ...</td>\n",
       "      <td>NaN</td>\n",
       "      <td>Loslassen links</td>\n",
       "    </tr>\n",
       "    <tr>\n",
       "      <th>M953</th>\n",
       "      <td>58a250245097dc5998d3c67e</td>\n",
       "      <td>{u'right': {u'host': {u'id': u'H001', u'name':...</td>\n",
       "      <td>NaN</td>\n",
       "      <td>Einfahren rechts</td>\n",
       "    </tr>\n",
       "    <tr>\n",
       "      <th>M954</th>\n",
       "      <td>58a250245097dc5998d3c67f</td>\n",
       "      <td>{u'right': {u'host': {u'id': u'H001', u'name':...</td>\n",
       "      <td>NaN</td>\n",
       "      <td>Einfahren beidhändig</td>\n",
       "    </tr>\n",
       "    <tr>\n",
       "      <th>M955</th>\n",
       "      <td>58a61a68fc05575e80de547a</td>\n",
       "      <td>{u'right': {u'host': {u'id': u'H001', u'name':...</td>\n",
       "      <td>NaN</td>\n",
       "      <td>Umschwenken Y-X</td>\n",
       "    </tr>\n",
       "    <tr>\n",
       "      <th>M956</th>\n",
       "      <td>58a61a68fc05575e80de547b</td>\n",
       "      <td>{u'right': {u'host': {u'id': u'H001', u'name':...</td>\n",
       "      <td>NaN</td>\n",
       "      <td>Umschwenken X-Z</td>\n",
       "    </tr>\n",
       "  </tbody>\n",
       "</table>\n",
       "<p>178 rows × 4 columns</p>\n",
       "</div>"
      ],
      "text/plain": [
       "                           _id  \\\n",
       "id                               \n",
       "M101  58a24ffa5097dc5998d3c5d0   \n",
       "M102  58a24ffa5097dc5998d3c5d1   \n",
       "M103  58a24ffa5097dc5998d3c5d2   \n",
       "M104  58a24ffa5097dc5998d3c5d3   \n",
       "M105  58a24ffa5097dc5998d3c5d4   \n",
       "M106  58a24ffa5097dc5998d3c5d5   \n",
       "M107  58a24ffa5097dc5998d3c5d6   \n",
       "M108  58a24ffa5097dc5998d3c5d7   \n",
       "M109  58a24ffa5097dc5998d3c5d8   \n",
       "M110  58a24ffa5097dc5998d3c5d9   \n",
       "M111  58a24ffa5097dc5998d3c5da   \n",
       "M112  58a24ffa5097dc5998d3c5db   \n",
       "M113  58a24ffa5097dc5998d3c5dc   \n",
       "M114  58a24ffa5097dc5998d3c5dd   \n",
       "M115  58a24ffa5097dc5998d3c5de   \n",
       "M116  58a24ffa5097dc5998d3c5df   \n",
       "M117  58a24ffa5097dc5998d3c5e0   \n",
       "M118  58a24ffa5097dc5998d3c5e1   \n",
       "M701  58a24ffa5097dc5998d3c5e2   \n",
       "M702  58a24ffa5097dc5998d3c5e3   \n",
       "M703  58a24ffa5097dc5998d3c5e4   \n",
       "M704  58a24ffa5097dc5998d3c5e5   \n",
       "M705  58a24ffa5097dc5998d3c5e6   \n",
       "M706  58a24ffa5097dc5998d3c5e7   \n",
       "M707  58a24ffa5097dc5998d3c5e8   \n",
       "M708  58a24ffa5097dc5998d3c5e9   \n",
       "M709  58a24ffa5097dc5998d3c5ea   \n",
       "M710  58a24ffa5097dc5998d3c5eb   \n",
       "M711  58a24ffa5097dc5998d3c5ec   \n",
       "M712  58a24ffa5097dc5998d3c5ed   \n",
       "...                        ...   \n",
       "M354  58a250245097dc5998d3c664   \n",
       "M355  58a250245097dc5998d3c665   \n",
       "M356  58a250245097dc5998d3c666   \n",
       "M451  58a250245097dc5998d3c667   \n",
       "M452  58a250245097dc5998d3c668   \n",
       "M551  58a250245097dc5998d3c669   \n",
       "M552  58a250245097dc5998d3c66a   \n",
       "M553  58a250245097dc5998d3c66b   \n",
       "M651  58a250245097dc5998d3c66c   \n",
       "M652  58a250245097dc5998d3c66d   \n",
       "M653  58a250245097dc5998d3c66e   \n",
       "M654  58a250245097dc5998d3c66f   \n",
       "M655  58a250245097dc5998d3c670   \n",
       "M656  58a250245097dc5998d3c671   \n",
       "M657  58a250245097dc5998d3c672   \n",
       "M658  58a250245097dc5998d3c673   \n",
       "M659  58a250245097dc5998d3c674   \n",
       "M660  58a250245097dc5998d3c675   \n",
       "M751  58a250245097dc5998d3c676   \n",
       "M752  58a250245097dc5998d3c677   \n",
       "M753  58a250245097dc5998d3c678   \n",
       "M851  58a250245097dc5998d3c679   \n",
       "M852  58a250245097dc5998d3c67a   \n",
       "M853  58a250245097dc5998d3c67b   \n",
       "M951  58a250245097dc5998d3c67c   \n",
       "M952  58a250245097dc5998d3c67d   \n",
       "M953  58a250245097dc5998d3c67e   \n",
       "M954  58a250245097dc5998d3c67f   \n",
       "M955  58a61a68fc05575e80de547a   \n",
       "M956  58a61a68fc05575e80de547b   \n",
       "\n",
       "                                                  hands  \\\n",
       "id                                                        \n",
       "M101  {u'right': {u'host': {u'spot': {u'id': u'A', u...   \n",
       "M102  {u'right': {u'host': {u'spot': {u'id': u'A', u...   \n",
       "M103  {u'right': {u'host': {u'spot': {u'id': u'A', u...   \n",
       "M104  {u'right': {u'host': {u'spot': {u'id': u'A', u...   \n",
       "M105  {u'right': {u'host': {u'spot': {u'id': u'A', u...   \n",
       "M106  {u'right': {u'host': {u'spot': {u'id': u'A', u...   \n",
       "M107  {u'right': {u'host': {u'spot': {u'id': u'A', u...   \n",
       "M108  {u'right': {u'host': {u'spot': {u'id': u'A', u...   \n",
       "M109  {u'right': {u'host': {u'spot': {u'id': u'A', u...   \n",
       "M110  {u'right': {u'host': {u'spot': {u'id': u'A', u...   \n",
       "M111  {u'right': {u'host': {u'spot': {u'id': u'A', u...   \n",
       "M112  {u'right': {u'host': {u'spot': {u'id': u'A', u...   \n",
       "M113  {u'right': {u'host': {u'spot': {u'id': u'A', u...   \n",
       "M114  {u'right': {u'host': {u'spot': {u'id': u'A', u...   \n",
       "M115  {u'right': {u'host': {u'spot': {u'id': u'A', u...   \n",
       "M116  {u'right': {u'host': {u'spot': {u'id': u'A', u...   \n",
       "M117  {u'right': {u'host': {u'spot': {u'id': u'A', u...   \n",
       "M118  {u'right': {u'host': {u'spot': {u'id': u'A', u...   \n",
       "M701  {u'right': {u'host': {u'spot': {u'id': u'A', u...   \n",
       "M702  {u'right': {u'host': {u'spot': {u'id': u'A', u...   \n",
       "M703  {u'right': {u'host': {u'spot': {u'id': u'A', u...   \n",
       "M704  {u'right': {u'host': {u'spot': {u'id': u'A', u...   \n",
       "M705  {u'right': {u'host': {u'spot': {u'id': u'A', u...   \n",
       "M706  {u'right': {u'host': {u'spot': {u'id': u'A', u...   \n",
       "M707  {u'right': {u'host': {u'spot': {u'id': u'A', u...   \n",
       "M708  {u'right': {u'host': {u'spot': {u'id': u'A', u...   \n",
       "M709  {u'right': {u'host': {u'spot': {u'id': u'A', u...   \n",
       "M710  {u'right': {u'host': {u'spot': {u'id': u'A', u...   \n",
       "M711  {u'right': {u'host': {u'spot': {u'id': u'A', u...   \n",
       "M712  {u'right': {u'host': {u'spot': {u'id': u'A', u...   \n",
       "...                                                 ...   \n",
       "M354  {u'right': {u'host': {u'id': u'H121', u'name':...   \n",
       "M355  {u'right': {u'host': {u'id': u'H121', u'name':...   \n",
       "M356  {u'right': {u'host': {u'id': u'H121', u'name':...   \n",
       "M451  {u'right': {u'host': {u'id': u'H036', u'name':...   \n",
       "M452  {u'right': {u'host': {u'id': u'H036', u'name':...   \n",
       "M551  {u'right': {u'host': {u'id': u'H127', u'name':...   \n",
       "M552  {u'right': {u'host': {u'id': u'H127', u'name':...   \n",
       "M553  {u'right': {u'host': {u'id': u'H127', u'name':...   \n",
       "M651  {u'right': {u'host': {u'id': u'H070', u'name':...   \n",
       "M652  {u'right': {u'host': {u'id': u'H070', u'name':...   \n",
       "M653  {u'right': {u'host': {u'id': u'H070', u'name':...   \n",
       "M654  {u'right': {u'host': {u'id': u'H070', u'name':...   \n",
       "M655  {u'right': {u'host': {u'id': u'H070', u'name':...   \n",
       "M656  {u'right': {u'host': {u'id': u'H070', u'name':...   \n",
       "M657  {u'right': {u'host': {u'id': u'H070', u'name':...   \n",
       "M658  {u'right': {u'host': {u'id': u'H070', u'name':...   \n",
       "M659  {u'right': {u'host': {u'id': u'H070', u'name':...   \n",
       "M660  {u'right': {u'host': {u'id': u'H070', u'name':...   \n",
       "M751  {u'right': {u'host': {u'id': u'H011', u'name':...   \n",
       "M752  {u'right': {u'host': {u'id': u'H011', u'name':...   \n",
       "M753  {u'right': {u'host': {u'id': u'H011', u'name':...   \n",
       "M851  {u'right': {u'host': {u'id': u'H038', u'name':...   \n",
       "M852  {u'right': {u'host': {u'id': u'H038', u'name':...   \n",
       "M853  {u'right': {u'host': {u'id': u'H038', u'name':...   \n",
       "M951  {u'right': {u'host': {u'id': u'H001', u'name':...   \n",
       "M952  {u'left': {u'host': {u'id': u'H001', u'name': ...   \n",
       "M953  {u'right': {u'host': {u'id': u'H001', u'name':...   \n",
       "M954  {u'right': {u'host': {u'id': u'H001', u'name':...   \n",
       "M955  {u'right': {u'host': {u'id': u'H001', u'name':...   \n",
       "M956  {u'right': {u'host': {u'id': u'H001', u'name':...   \n",
       "\n",
       "                                                 params  \\\n",
       "id                                                        \n",
       "M101  [{u'slug': u'm0', u'value': u'stehend', u'labe...   \n",
       "M102  [{u'slug': u'm0', u'value': u'stehend', u'labe...   \n",
       "M103  [{u'slug': u'm0', u'value': u'stehend', u'labe...   \n",
       "M104  [{u'slug': u'm0', u'value': u'stehend', u'labe...   \n",
       "M105  [{u'slug': u'm0', u'value': u'stehend', u'labe...   \n",
       "M106  [{u'slug': u'm0', u'value': u'stehend', u'labe...   \n",
       "M107  [{u'slug': u'm0', u'value': u'stehend', u'labe...   \n",
       "M108  [{u'slug': u'm0', u'value': u'stehend', u'labe...   \n",
       "M109  [{u'slug': u'm0', u'value': u'stehend', u'labe...   \n",
       "M110  [{u'slug': u'm0', u'value': u'stehend', u'labe...   \n",
       "M111  [{u'slug': u'm0', u'value': u'stehend', u'labe...   \n",
       "M112  [{u'slug': u'm0', u'value': u'stehend', u'labe...   \n",
       "M113  [{u'slug': u'm0', u'value': u'stehend', u'labe...   \n",
       "M114  [{u'slug': u'm0', u'value': u'stehend', u'labe...   \n",
       "M115  [{u'slug': u'm0', u'value': u'stehend', u'labe...   \n",
       "M116  [{u'slug': u'm0', u'value': u'stehend', u'labe...   \n",
       "M117  [{u'slug': u'm0', u'value': u'stehend', u'labe...   \n",
       "M118  [{u'slug': u'm0', u'value': u'stehend', u'labe...   \n",
       "M701  [{u'slug': u'm0', u'value': u'stehend', u'labe...   \n",
       "M702  [{u'slug': u'm0', u'value': u'stehend', u'labe...   \n",
       "M703  [{u'slug': u'm0', u'value': u'stehend', u'labe...   \n",
       "M704  [{u'slug': u'm0', u'value': u'stehend', u'labe...   \n",
       "M705  [{u'slug': u'm0', u'value': u'stehend', u'labe...   \n",
       "M706  [{u'slug': u'm0', u'value': u'stehend', u'labe...   \n",
       "M707  [{u'slug': u'm0', u'value': u'stehend', u'labe...   \n",
       "M708  [{u'slug': u'm0', u'value': u'stehend', u'labe...   \n",
       "M709  [{u'slug': u'm0', u'value': u'stehend', u'labe...   \n",
       "M710  [{u'slug': u'm0', u'value': u'stehend', u'labe...   \n",
       "M711  [{u'slug': u'm0', u'value': u'stehend', u'labe...   \n",
       "M712  [{u'slug': u'm0', u'value': u'stehend', u'labe...   \n",
       "...                                                 ...   \n",
       "M354                                                NaN   \n",
       "M355                                                NaN   \n",
       "M356                                                NaN   \n",
       "M451                                                NaN   \n",
       "M452                                                NaN   \n",
       "M551                                                NaN   \n",
       "M552                                                NaN   \n",
       "M553                                                NaN   \n",
       "M651                                                NaN   \n",
       "M652                                                NaN   \n",
       "M653                                                NaN   \n",
       "M654                                                NaN   \n",
       "M655                                                NaN   \n",
       "M656                                                NaN   \n",
       "M657                                                NaN   \n",
       "M658                                                NaN   \n",
       "M659                                                NaN   \n",
       "M660                                                NaN   \n",
       "M751                                                NaN   \n",
       "M752                                                NaN   \n",
       "M753                                                NaN   \n",
       "M851                                                NaN   \n",
       "M852                                                NaN   \n",
       "M853                                                NaN   \n",
       "M951                                                NaN   \n",
       "M952                                                NaN   \n",
       "M953                                                NaN   \n",
       "M954                                                NaN   \n",
       "M955                                                NaN   \n",
       "M956                                                NaN   \n",
       "\n",
       "                                    slug  \n",
       "id                                        \n",
       "M101                       aaaaaaabaaaba  \n",
       "M102                       aaaaaaabababa  \n",
       "M103                       aaaaaabbaaaba  \n",
       "M104                       aaaaaabbababa  \n",
       "M105                       aaaaaacbaabba  \n",
       "M106                       aaaaaadbabbba  \n",
       "M107                       aaabaaabaaaba  \n",
       "M108                       aaabaaabababa  \n",
       "M109                       aaabaabbaaaba  \n",
       "M110                       aaabaabbababa  \n",
       "M111                       aaabaacbaabba  \n",
       "M112                       aaabaadbabbba  \n",
       "M113                       aaacaaabaaaba  \n",
       "M114                       aaacaaabababa  \n",
       "M115                       aaacaabbaaaba  \n",
       "M116                       aaacaabbababa  \n",
       "M117                       aaacaacbaabba  \n",
       "M118                       aaacaadbabbba  \n",
       "M701                       aaaaaaaaaaaab  \n",
       "M702                       aaaaaaabaaaab  \n",
       "M703                       aaaaaaaabaaab  \n",
       "M704                       aaaaaaabbaaab  \n",
       "M705                       aaaaaaaaaaabb  \n",
       "M706                       aaaaaaabaaabb  \n",
       "M707                       aaaaaaaabaabb  \n",
       "M708                       aaaaaaabbaabb  \n",
       "M709                       aaaaaabaaaaab  \n",
       "M710                       aaaaaabbaaaab  \n",
       "M711                       aaaaaababaaab  \n",
       "M712                       aaaaaabbbaaab  \n",
       "...                                  ...  \n",
       "M354             Umgreifen rechts Finger  \n",
       "M355                Umgreifen links Hand  \n",
       "M356               Umgreifen rechts Hand  \n",
       "M451                   Start - Greifen 1  \n",
       "M452                   Start - Greifen 2  \n",
       "M551               Start - Greifen Faust  \n",
       "M552   Start - Positionieren Finger oben  \n",
       "M553  Start - Positionieren Finger unten  \n",
       "M651               Start - Greifen Faust  \n",
       "M652           Start - Positionieren 90°  \n",
       "M653          Start - Positionieren 150°  \n",
       "M654           Start - Positionieren 60°  \n",
       "M655          Start - Positionieren 180°  \n",
       "M656              Start - Greifen Finger  \n",
       "M657                 Umgreifen links 60°  \n",
       "M658                Umgreifen rechts 60°  \n",
       "M659                Umgreifen links 120°  \n",
       "M660               Umgreifen rechts 120°  \n",
       "M751           Start - Greifen einhändig  \n",
       "M752          Start - Greifen beidhändig  \n",
       "M753               Start - Positionieren  \n",
       "M851                     Start - Greifen  \n",
       "M852               Start - Positionieren  \n",
       "M853                            Umsetzen  \n",
       "M951                     Start - Greifen  \n",
       "M952                     Loslassen links  \n",
       "M953                    Einfahren rechts  \n",
       "M954                Einfahren beidhändig  \n",
       "M955                     Umschwenken Y-X  \n",
       "M956                     Umschwenken X-Z  \n",
       "\n",
       "[178 rows x 4 columns]"
      ]
     },
     "execution_count": 12,
     "metadata": {},
     "output_type": "execute_result"
    }
   ],
   "source": [
    "mutations_df"
   ]
  },
  {
   "cell_type": "code",
   "execution_count": 15,
   "metadata": {
    "collapsed": false
   },
   "outputs": [
    {
     "data": {
      "text/plain": [
       "{u'right': {u'gesture': {u'id': u'G01'},\n",
       "  u'host': {u'id': u'H008',\n",
       "   u'name': u'Schraubzwinge klein',\n",
       "   u'spot': {u'id': u'A', u'name': u'Drehgriff'}},\n",
       "  u'instruction': u'Zwinge X locker rechtsdrehen einzeln'}}"
      ]
     },
     "execution_count": 15,
     "metadata": {},
     "output_type": "execute_result"
    }
   ],
   "source": [
    "mutations_df.ix['M101','hands']"
   ]
  },
  {
   "cell_type": "code",
   "execution_count": 16,
   "metadata": {
    "collapsed": false
   },
   "outputs": [
    {
     "data": {
      "text/plain": [
       "[{u'label': u'K\\xf6rperhaltung', u'slug': u'm0', u'value': u'stehend'},\n",
       " {u'label': u'Spot', u'slug': u'm1', u'value': u'Drehgriff'},\n",
       " {u'label': u'Position Spot', u'slug': u'm2', u'value': u'mittig vor Subject'},\n",
       " {u'label': u'Orientierung Spot', u'slug': u'm3', u'value': u'Griffachse X'},\n",
       " {u'label': u'ausf\\xfchrende Hand', u'slug': u'm4', u'value': u'Rechte'},\n",
       " {u'label': u'Handhaltung', u'slug': u'm5', u'value': u'Faust'},\n",
       " {u'label': u'Widerstand', u'slug': u'm6', u'value': u'Anziehphase'},\n",
       " {u'label': u'Drehweise',\n",
       "  u'slug': u'm7',\n",
       "  u'value': u'ganze Hand mitbewegen, ganze Hand umgreifen'},\n",
       " {u'label': u'Drehwinkel', u'slug': u'm8', u'value': u'90\\xb0'},\n",
       " {u'label': u'Drehrichtung',\n",
       "  u'slug': u'm9',\n",
       "  u'value': u'rechtsrum (schlie\\xdfen)'},\n",
       " {u'label': u'Bewegungsablauf', u'slug': u'm10', u'value': u'einzeln'},\n",
       " {u'label': u'2. Hand', u'slug': u'm11', u'value': u'ruht woanders'}]"
      ]
     },
     "execution_count": 16,
     "metadata": {},
     "output_type": "execute_result"
    }
   ],
   "source": [
    "mutations_df.ix['M103','params']"
   ]
  },
  {
   "cell_type": "code",
   "execution_count": 17,
   "metadata": {
    "collapsed": false
   },
   "outputs": [
    {
     "data": {
      "text/plain": [
       "u'G01'"
      ]
     },
     "execution_count": 17,
     "metadata": {},
     "output_type": "execute_result"
    }
   ],
   "source": [
    "mutations_df.ix['M101','hands']['right']['gesture']['id']"
   ]
  },
  {
   "cell_type": "markdown",
   "metadata": {},
   "source": [
    "### Define handy function shortcuts"
   ]
  },
  {
   "cell_type": "code",
   "execution_count": 18,
   "metadata": {
    "collapsed": true
   },
   "outputs": [],
   "source": [
    "def gesture_name(gesture_id):\n",
    "    if gesture_id is None: return None\n",
    "    return gestures_df.loc[gesture_id,'name']"
   ]
  },
  {
   "cell_type": "code",
   "execution_count": 19,
   "metadata": {
    "collapsed": true
   },
   "outputs": [],
   "source": [
    "def get_mutation_gesture(mutation_id):\n",
    "    return mutations_df.ix[mutation_id,'hands']['right']['gesture']['id']"
   ]
  },
  {
   "cell_type": "markdown",
   "metadata": {},
   "source": [
    "## Read Experiment Data"
   ]
  },
  {
   "cell_type": "code",
   "execution_count": 20,
   "metadata": {
    "collapsed": false
   },
   "outputs": [
    {
     "name": "stderr",
     "output_type": "stream",
     "text": [
      "/usr/local/lib/python2.7/dist-packages/IPython/core/interactiveshell.py:2871: DtypeWarning: Columns (7) have mixed types. Specify dtype option on import or set low_memory=False.\n",
      "  interactivity=interactivity, compiler=compiler, result=result)\n"
     ]
    },
    {
     "data": {
      "text/plain": [
       "(1435576, 26)"
      ]
     },
     "execution_count": 20,
     "metadata": {},
     "output_type": "execute_result"
    }
   ],
   "source": [
    "# Experiment Data\n",
    "data = pd.read_csv(csv_file)\n",
    "data.shape"
   ]
  },
  {
   "cell_type": "code",
   "execution_count": 21,
   "metadata": {
    "collapsed": false
   },
   "outputs": [
    {
     "data": {
      "text/plain": [
       "(1435576, 26)"
      ]
     },
     "execution_count": 21,
     "metadata": {},
     "output_type": "execute_result"
    }
   ],
   "source": [
    "data.shape"
   ]
  },
  {
   "cell_type": "code",
   "execution_count": 22,
   "metadata": {
    "collapsed": false
   },
   "outputs": [
    {
     "data": {
      "text/plain": [
       "Index([u'Trainset-ID', u'Experiment-ID', u'Subject-ID', u'Observer-ID',\n",
       "       u'collectedByHand', u'Collector-ID', u'TimeStamp', u'RFID-ID',\n",
       "       u'GRASP-A', u'GRASP-B', u'GRASP-C', u'AX', u'AY', u'AZ', u'EX', u'EY',\n",
       "       u'EZ', u'USERINPUT', u'HANDINGLOVE', u' Parcours-ID', u'Parcours-Step',\n",
       "       u'Mutation-ID', u' Mutation/HandIsActive', u'Host-ID', u'Host/Spot-ID',\n",
       "       u'Gesture-ID'],\n",
       "      dtype='object')"
      ]
     },
     "execution_count": 22,
     "metadata": {},
     "output_type": "execute_result"
    }
   ],
   "source": [
    "data.columns"
   ]
  },
  {
   "cell_type": "code",
   "execution_count": 23,
   "metadata": {
    "collapsed": false
   },
   "outputs": [
    {
     "data": {
      "text/plain": [
       "Trainset-ID                object\n",
       "Experiment-ID              object\n",
       "Subject-ID                 object\n",
       "Observer-ID                object\n",
       "collectedByHand            object\n",
       "Collector-ID               object\n",
       "TimeStamp                   int64\n",
       "RFID-ID                    object\n",
       "GRASP-A                     int64\n",
       "GRASP-B                     int64\n",
       "GRASP-C                     int64\n",
       "AX                        float64\n",
       "AY                        float64\n",
       "AZ                        float64\n",
       "EX                        float64\n",
       "EY                        float64\n",
       "EZ                        float64\n",
       "USERINPUT                    bool\n",
       "HANDINGLOVE                  bool\n",
       " Parcours-ID               object\n",
       "Parcours-Step               int64\n",
       "Mutation-ID                object\n",
       " Mutation/HandIsActive       bool\n",
       "Host-ID                    object\n",
       "Host/Spot-ID               object\n",
       "Gesture-ID                 object\n",
       "dtype: object"
      ]
     },
     "execution_count": 23,
     "metadata": {},
     "output_type": "execute_result"
    }
   ],
   "source": [
    "data.dtypes"
   ]
  },
  {
   "cell_type": "code",
   "execution_count": 24,
   "metadata": {
    "collapsed": false
   },
   "outputs": [
    {
     "data": {
      "text/html": [
       "<div>\n",
       "<table border=\"1\" class=\"dataframe\">\n",
       "  <thead>\n",
       "    <tr style=\"text-align: right;\">\n",
       "      <th></th>\n",
       "      <th>Trainset-ID</th>\n",
       "      <th>Experiment-ID</th>\n",
       "      <th>Subject-ID</th>\n",
       "      <th>Observer-ID</th>\n",
       "      <th>collectedByHand</th>\n",
       "      <th>Collector-ID</th>\n",
       "      <th>TimeStamp</th>\n",
       "      <th>RFID-ID</th>\n",
       "      <th>GRASP-A</th>\n",
       "      <th>GRASP-B</th>\n",
       "      <th>...</th>\n",
       "      <th>EZ</th>\n",
       "      <th>USERINPUT</th>\n",
       "      <th>HANDINGLOVE</th>\n",
       "      <th>Parcours-ID</th>\n",
       "      <th>Parcours-Step</th>\n",
       "      <th>Mutation-ID</th>\n",
       "      <th>Mutation/HandIsActive</th>\n",
       "      <th>Host-ID</th>\n",
       "      <th>Host/Spot-ID</th>\n",
       "      <th>Gesture-ID</th>\n",
       "    </tr>\n",
       "  </thead>\n",
       "  <tbody>\n",
       "    <tr>\n",
       "      <th>0</th>\n",
       "      <td>_TRAINSET14022017094616</td>\n",
       "      <td>E001</td>\n",
       "      <td>Andreas</td>\n",
       "      <td>Clemens</td>\n",
       "      <td>right</td>\n",
       "      <td>R01</td>\n",
       "      <td>0</td>\n",
       "      <td>000000000000</td>\n",
       "      <td>781</td>\n",
       "      <td>8</td>\n",
       "      <td>...</td>\n",
       "      <td>-81.9375</td>\n",
       "      <td>False</td>\n",
       "      <td>True</td>\n",
       "      <td>P101</td>\n",
       "      <td>1</td>\n",
       "      <td>M151</td>\n",
       "      <td>True</td>\n",
       "      <td>H008</td>\n",
       "      <td>NaN</td>\n",
       "      <td>G15</td>\n",
       "    </tr>\n",
       "    <tr>\n",
       "      <th>1</th>\n",
       "      <td>_TRAINSET14022017094616</td>\n",
       "      <td>E001</td>\n",
       "      <td>Andreas</td>\n",
       "      <td>Clemens</td>\n",
       "      <td>left</td>\n",
       "      <td>L01</td>\n",
       "      <td>19896</td>\n",
       "      <td>000000000000</td>\n",
       "      <td>212</td>\n",
       "      <td>213</td>\n",
       "      <td>...</td>\n",
       "      <td>-84.5625</td>\n",
       "      <td>False</td>\n",
       "      <td>False</td>\n",
       "      <td>P101</td>\n",
       "      <td>1</td>\n",
       "      <td>M151</td>\n",
       "      <td>False</td>\n",
       "      <td>NaN</td>\n",
       "      <td>NaN</td>\n",
       "      <td>NaN</td>\n",
       "    </tr>\n",
       "    <tr>\n",
       "      <th>2</th>\n",
       "      <td>_TRAINSET14022017094616</td>\n",
       "      <td>E001</td>\n",
       "      <td>Andreas</td>\n",
       "      <td>Clemens</td>\n",
       "      <td>right</td>\n",
       "      <td>R01</td>\n",
       "      <td>29001</td>\n",
       "      <td>000000000000</td>\n",
       "      <td>782</td>\n",
       "      <td>0</td>\n",
       "      <td>...</td>\n",
       "      <td>-81.9375</td>\n",
       "      <td>False</td>\n",
       "      <td>True</td>\n",
       "      <td>P101</td>\n",
       "      <td>1</td>\n",
       "      <td>M151</td>\n",
       "      <td>True</td>\n",
       "      <td>H008</td>\n",
       "      <td>NaN</td>\n",
       "      <td>G15</td>\n",
       "    </tr>\n",
       "    <tr>\n",
       "      <th>3</th>\n",
       "      <td>_TRAINSET14022017094616</td>\n",
       "      <td>E001</td>\n",
       "      <td>Andreas</td>\n",
       "      <td>Clemens</td>\n",
       "      <td>left</td>\n",
       "      <td>L01</td>\n",
       "      <td>29823</td>\n",
       "      <td>000000000000</td>\n",
       "      <td>179</td>\n",
       "      <td>185</td>\n",
       "      <td>...</td>\n",
       "      <td>-84.5625</td>\n",
       "      <td>False</td>\n",
       "      <td>False</td>\n",
       "      <td>P101</td>\n",
       "      <td>1</td>\n",
       "      <td>M151</td>\n",
       "      <td>False</td>\n",
       "      <td>NaN</td>\n",
       "      <td>NaN</td>\n",
       "      <td>NaN</td>\n",
       "    </tr>\n",
       "    <tr>\n",
       "      <th>4</th>\n",
       "      <td>_TRAINSET14022017094616</td>\n",
       "      <td>E001</td>\n",
       "      <td>Andreas</td>\n",
       "      <td>Clemens</td>\n",
       "      <td>right</td>\n",
       "      <td>R01</td>\n",
       "      <td>46136</td>\n",
       "      <td>000000000000</td>\n",
       "      <td>782</td>\n",
       "      <td>6</td>\n",
       "      <td>...</td>\n",
       "      <td>-81.8750</td>\n",
       "      <td>False</td>\n",
       "      <td>True</td>\n",
       "      <td>P101</td>\n",
       "      <td>1</td>\n",
       "      <td>M151</td>\n",
       "      <td>True</td>\n",
       "      <td>H008</td>\n",
       "      <td>NaN</td>\n",
       "      <td>G15</td>\n",
       "    </tr>\n",
       "  </tbody>\n",
       "</table>\n",
       "<p>5 rows × 26 columns</p>\n",
       "</div>"
      ],
      "text/plain": [
       "               Trainset-ID Experiment-ID Subject-ID Observer-ID  \\\n",
       "0  _TRAINSET14022017094616          E001    Andreas     Clemens   \n",
       "1  _TRAINSET14022017094616          E001    Andreas     Clemens   \n",
       "2  _TRAINSET14022017094616          E001    Andreas     Clemens   \n",
       "3  _TRAINSET14022017094616          E001    Andreas     Clemens   \n",
       "4  _TRAINSET14022017094616          E001    Andreas     Clemens   \n",
       "\n",
       "  collectedByHand Collector-ID  TimeStamp       RFID-ID  GRASP-A  GRASP-B  \\\n",
       "0           right          R01          0  000000000000      781        8   \n",
       "1            left          L01      19896  000000000000      212      213   \n",
       "2           right          R01      29001  000000000000      782        0   \n",
       "3            left          L01      29823  000000000000      179      185   \n",
       "4           right          R01      46136  000000000000      782        6   \n",
       "\n",
       "     ...           EZ  USERINPUT  HANDINGLOVE   Parcours-ID  Parcours-Step  \\\n",
       "0    ...     -81.9375      False         True          P101              1   \n",
       "1    ...     -84.5625      False        False          P101              1   \n",
       "2    ...     -81.9375      False         True          P101              1   \n",
       "3    ...     -84.5625      False        False          P101              1   \n",
       "4    ...     -81.8750      False         True          P101              1   \n",
       "\n",
       "   Mutation-ID   Mutation/HandIsActive Host-ID Host/Spot-ID Gesture-ID  \n",
       "0         M151                    True    H008          NaN        G15  \n",
       "1         M151                   False     NaN          NaN        NaN  \n",
       "2         M151                    True    H008          NaN        G15  \n",
       "3         M151                   False     NaN          NaN        NaN  \n",
       "4         M151                    True    H008          NaN        G15  \n",
       "\n",
       "[5 rows x 26 columns]"
      ]
     },
     "execution_count": 24,
     "metadata": {},
     "output_type": "execute_result"
    }
   ],
   "source": [
    "data.head()"
   ]
  },
  {
   "cell_type": "markdown",
   "metadata": {},
   "source": [
    "## Some Data Stats"
   ]
  },
  {
   "cell_type": "code",
   "execution_count": 25,
   "metadata": {
    "collapsed": false
   },
   "outputs": [
    {
     "data": {
      "text/plain": [
       "['Andreas', 'Alfred', 'Claudia', 'Dominik']"
      ]
     },
     "execution_count": 25,
     "metadata": {},
     "output_type": "execute_result"
    }
   ],
   "source": [
    "# how many subjects\n",
    "subjects = data['Subject-ID'].unique().tolist()\n",
    "subjects "
   ]
  },
  {
   "cell_type": "code",
   "execution_count": 26,
   "metadata": {
    "collapsed": false
   },
   "outputs": [
    {
     "data": {
      "text/plain": [
       "['Clemens']"
      ]
     },
     "execution_count": 26,
     "metadata": {},
     "output_type": "execute_result"
    }
   ],
   "source": [
    "# how many observers\n",
    "data['Observer-ID'].unique().tolist()"
   ]
  },
  {
   "cell_type": "code",
   "execution_count": 27,
   "metadata": {
    "collapsed": false
   },
   "outputs": [
    {
     "data": {
      "text/plain": [
       "['R01', 'L01']"
      ]
     },
     "execution_count": 27,
     "metadata": {},
     "output_type": "execute_result"
    }
   ],
   "source": [
    "# how many hands\n",
    "data['Collector-ID'].unique().tolist()"
   ]
  },
  {
   "cell_type": "code",
   "execution_count": 28,
   "metadata": {
    "collapsed": false
   },
   "outputs": [
    {
     "data": {
      "text/plain": [
       "['000000000000',\n",
       " '09006734114B',\n",
       " 0,\n",
       " '05003DD5CD20',\n",
       " '760057911BAB',\n",
       " '13005E4BB7B1',\n",
       " '1400135B8AD6',\n",
       " '14001486BE38',\n",
       " '7600577D0D51',\n",
       " '140014CD1AD7',\n",
       " '280015E55981',\n",
       " '05008C2F993F']"
      ]
     },
     "execution_count": 28,
     "metadata": {},
     "output_type": "execute_result"
    }
   ],
   "source": [
    "# how many RFID ids\n",
    "data['RFID-ID'].unique().tolist()"
   ]
  },
  {
   "cell_type": "code",
   "execution_count": 29,
   "metadata": {
    "collapsed": false
   },
   "outputs": [
    {
     "data": {
      "text/plain": [
       "['E001', 'E002', 'E003', 'E004', 'E005', 'E006', 'E007', 'E008']"
      ]
     },
     "execution_count": 29,
     "metadata": {},
     "output_type": "execute_result"
    }
   ],
   "source": [
    "# how many experiments\n",
    "experiments = data['Experiment-ID'].unique().tolist()\n",
    "experiments"
   ]
  },
  {
   "cell_type": "code",
   "execution_count": 30,
   "metadata": {
    "collapsed": false
   },
   "outputs": [
    {
     "data": {
      "text/plain": [
       "539"
      ]
     },
     "execution_count": 30,
     "metadata": {},
     "output_type": "execute_result"
    }
   ],
   "source": [
    "# how many training sets\n",
    "len(data['Trainset-ID'].unique().tolist())"
   ]
  },
  {
   "cell_type": "code",
   "execution_count": 31,
   "metadata": {
    "collapsed": false
   },
   "outputs": [
    {
     "data": {
      "text/plain": [
       "116"
      ]
     },
     "execution_count": 31,
     "metadata": {},
     "output_type": "execute_result"
    }
   ],
   "source": [
    "# how many parcours\n",
    "len(data[' Parcours-ID'].unique())"
   ]
  },
  {
   "cell_type": "code",
   "execution_count": 32,
   "metadata": {
    "collapsed": false
   },
   "outputs": [
    {
     "data": {
      "text/plain": [
       "array(['P101', 'P102', 'P103', 'P104', 'P105', 'P106', 'P107', 'P108',\n",
       "       'P109', 'P110', 'P111', 'P112', 'P113', 'P114', 'P115', 'P116',\n",
       "       'P117', 'P118', 'P401', 'P402', 'P403', 'P201', 'P202', 'P203',\n",
       "       'P204', 'P205', 'P206', 'P207', 'P208', 'P211', 'P212', 'P213',\n",
       "       'P216', 'P217', 'P218', 'P221', 'P222', 'P223', 'P226', 'P227',\n",
       "       'P228', 'P701', 'P702', 'P705', 'P706', 'P709', 'P710', 'P713',\n",
       "       'P714', 'P801', 'P802', 'P601', 'P602', 'P603', 'P606', 'P607',\n",
       "       'P608', 'P611', 'P612', 'P613', 'P616', 'P617', 'P618', 'P621',\n",
       "       'P622', 'P623', 'P501', 'P502', 'P504', 'P503', 'P301', 'P302',\n",
       "       'P306', 'P307', 'P308', 'P311', 'P312', 'P316', 'P317', 'P318',\n",
       "       'P321', 'P322', 'P326', 'P327', 'P328', 'P119', 'P120', 'P121',\n",
       "       'P231', 'P232', 'P234', 'P233', 'P236', 'P235', 'P717', 'P718',\n",
       "       'P719', 'P720', 'P721', 'P722', 'P723', 'P724', 'P626', 'P627',\n",
       "       'P628', 'P629', 'P630', 'P331', 'P332', 'P333', 'P334', 'P335',\n",
       "       'P336', 'P901', 'P902', 'P903'], dtype=object)"
      ]
     },
     "execution_count": 32,
     "metadata": {},
     "output_type": "execute_result"
    }
   ],
   "source": [
    "data[' Parcours-ID'].unique()"
   ]
  },
  {
   "cell_type": "code",
   "execution_count": 33,
   "metadata": {
    "collapsed": false
   },
   "outputs": [
    {
     "data": {
      "text/plain": [
       "array([ 1,  2,  3,  4,  5,  6,  7,  8,  9, 10, 11, 12])"
      ]
     },
     "execution_count": 33,
     "metadata": {},
     "output_type": "execute_result"
    }
   ],
   "source": [
    "# how many parcours steps\n",
    "data['Parcours-Step'].unique()"
   ]
  },
  {
   "cell_type": "code",
   "execution_count": 34,
   "metadata": {
    "collapsed": false
   },
   "outputs": [
    {
     "data": {
      "text/plain": [
       "177"
      ]
     },
     "execution_count": 34,
     "metadata": {},
     "output_type": "execute_result"
    }
   ],
   "source": [
    "# how many mutations\n",
    "len(data['Mutation-ID'].unique())"
   ]
  },
  {
   "cell_type": "code",
   "execution_count": 35,
   "metadata": {
    "collapsed": false
   },
   "outputs": [
    {
     "data": {
      "text/plain": [
       "19"
      ]
     },
     "execution_count": 35,
     "metadata": {},
     "output_type": "execute_result"
    }
   ],
   "source": [
    "# how many gestures\n",
    "len(data['Gesture-ID'].unique())"
   ]
  },
  {
   "cell_type": "code",
   "execution_count": 36,
   "metadata": {
    "collapsed": false
   },
   "outputs": [
    {
     "data": {
      "text/plain": [
       "[nan,\n",
       " 'G01',\n",
       " 'G02',\n",
       " 'G03',\n",
       " 'G04',\n",
       " 'G05',\n",
       " 'G06',\n",
       " 'G07',\n",
       " 'G08',\n",
       " 'G09',\n",
       " 'G10',\n",
       " 'G11',\n",
       " 'G12',\n",
       " 'G13',\n",
       " 'G14',\n",
       " 'G15',\n",
       " 'G16',\n",
       " 'G17',\n",
       " 'G18']"
      ]
     },
     "execution_count": 36,
     "metadata": {},
     "output_type": "execute_result"
    }
   ],
   "source": [
    "# which gestures exist\n",
    "sorted(data['Gesture-ID'].unique())"
   ]
  },
  {
   "cell_type": "code",
   "execution_count": 37,
   "metadata": {
    "collapsed": false
   },
   "outputs": [
    {
     "data": {
      "text/plain": [
       "10"
      ]
     },
     "execution_count": 37,
     "metadata": {},
     "output_type": "execute_result"
    }
   ],
   "source": [
    "# how many hosts\n",
    "len(data['Host-ID'].unique())"
   ]
  },
  {
   "cell_type": "code",
   "execution_count": 38,
   "metadata": {
    "collapsed": false
   },
   "outputs": [
    {
     "data": {
      "text/plain": [
       "[nan, 'A', 'B', 'F']"
      ]
     },
     "execution_count": 38,
     "metadata": {},
     "output_type": "execute_result"
    }
   ],
   "source": [
    "# which Host Spots\n",
    "data['Host/Spot-ID'].unique().tolist()"
   ]
  },
  {
   "cell_type": "markdown",
   "metadata": {},
   "source": [
    "## Data Preprocessing"
   ]
  },
  {
   "cell_type": "code",
   "execution_count": 39,
   "metadata": {
    "collapsed": false
   },
   "outputs": [
    {
     "name": "stdout",
     "output_type": "stream",
     "text": [
      "Renamed Trainset-ID -> Trainset\n",
      "Renamed Experiment-ID -> Experiment\n",
      "Renamed Subject-ID -> Subject\n",
      "Renamed Observer-ID -> Observer\n",
      "Renamed Collector-ID -> Collector\n",
      "Renamed RFID-ID -> RFID\n",
      "Renamed GRASP-A -> GRASP_A\n",
      "Renamed GRASP-B -> GRASP_B\n",
      "Renamed GRASP-C -> GRASP_C\n",
      "Renamed  Parcours-ID ->  Parcours\n",
      "Renamed  Parcours -> Parcours\n",
      "Renamed Parcours-Step -> Parcours_Step\n",
      "Renamed Mutation-ID -> Mutation\n",
      "Renamed  Mutation/HandIsActive -> Mutation/HandIsActive\n",
      "Renamed Host-ID -> Host\n",
      "Renamed Host/Spot-ID -> Host/Spot\n",
      "Renamed Gesture-ID -> Gesture\n"
     ]
    }
   ],
   "source": [
    "# rename some columns as the - in the column name does not allow for data.query()) to be used\n",
    "# cut off the \"-ID\" suffix, remove a leading space and replace - by _\n",
    "\n",
    "for col in data.columns:\n",
    "    if col.endswith('-ID'):\n",
    "        data.rename(columns={col: col[:-3]}, inplace=True)\n",
    "        print \"Renamed\", col, \"->\", col[:-3]\n",
    "        col = col[:-3]\n",
    "    if col.startswith(' '):\n",
    "        data.rename(columns={col: col[1:]}, inplace=True)\n",
    "        print \"Renamed\", col, \"->\", col[1:]\n",
    "        col = col[1:]\n",
    "    if '-' in col:\n",
    "        new_col = col.replace('-','_')\n",
    "        data.rename(columns={col: new_col}, inplace=True)\n",
    "        print \"Renamed\", col, \"->\", new_col"
   ]
  },
  {
   "cell_type": "code",
   "execution_count": 40,
   "metadata": {
    "collapsed": false
   },
   "outputs": [],
   "source": [
    "# remove rows that are not needed:\n",
    "# all where Gesture-ID is NaN  (implies 'Mutation/HandIsActive' == False and Host is NaN)\n",
    "\n",
    "data.dropna(axis=0, subset=['Gesture'], inplace=True)"
   ]
  },
  {
   "cell_type": "code",
   "execution_count": 41,
   "metadata": {
    "collapsed": false
   },
   "outputs": [],
   "source": [
    "# remove columns that we don't need\n",
    "# to be ignored as communicated by MOM\n",
    "cols_to_remove = ['Trainset','USERINPUT', 'HANDINGLOVE', 'Observer','Collector','RFID','Parcours_Step',\n",
    "                  'Mutation/HandIsActive']\n",
    "\n",
    "data.drop(cols_to_remove,inplace=True,axis=1)"
   ]
  },
  {
   "cell_type": "code",
   "execution_count": 42,
   "metadata": {
    "collapsed": false
   },
   "outputs": [
    {
     "data": {
      "text/plain": [
       "(780299, 18)"
      ]
     },
     "execution_count": 42,
     "metadata": {},
     "output_type": "execute_result"
    }
   ],
   "source": [
    "data.shape"
   ]
  },
  {
   "cell_type": "code",
   "execution_count": 43,
   "metadata": {
    "collapsed": false
   },
   "outputs": [
    {
     "data": {
      "text/html": [
       "<div>\n",
       "<table border=\"1\" class=\"dataframe\">\n",
       "  <thead>\n",
       "    <tr style=\"text-align: right;\">\n",
       "      <th></th>\n",
       "      <th>Experiment</th>\n",
       "      <th>Subject</th>\n",
       "      <th>collectedByHand</th>\n",
       "      <th>TimeStamp</th>\n",
       "      <th>GRASP_A</th>\n",
       "      <th>GRASP_B</th>\n",
       "      <th>GRASP_C</th>\n",
       "      <th>AX</th>\n",
       "      <th>AY</th>\n",
       "      <th>AZ</th>\n",
       "      <th>EX</th>\n",
       "      <th>EY</th>\n",
       "      <th>EZ</th>\n",
       "      <th>Parcours</th>\n",
       "      <th>Mutation</th>\n",
       "      <th>Host</th>\n",
       "      <th>Host/Spot</th>\n",
       "      <th>Gesture</th>\n",
       "    </tr>\n",
       "  </thead>\n",
       "  <tbody>\n",
       "    <tr>\n",
       "      <th>0</th>\n",
       "      <td>E001</td>\n",
       "      <td>Andreas</td>\n",
       "      <td>right</td>\n",
       "      <td>0</td>\n",
       "      <td>781</td>\n",
       "      <td>8</td>\n",
       "      <td>797</td>\n",
       "      <td>0.06</td>\n",
       "      <td>-0.02</td>\n",
       "      <td>-0.10</td>\n",
       "      <td>216.8125</td>\n",
       "      <td>9.0625</td>\n",
       "      <td>-81.9375</td>\n",
       "      <td>P101</td>\n",
       "      <td>M151</td>\n",
       "      <td>H008</td>\n",
       "      <td>NaN</td>\n",
       "      <td>G15</td>\n",
       "    </tr>\n",
       "    <tr>\n",
       "      <th>2</th>\n",
       "      <td>E001</td>\n",
       "      <td>Andreas</td>\n",
       "      <td>right</td>\n",
       "      <td>29001</td>\n",
       "      <td>782</td>\n",
       "      <td>0</td>\n",
       "      <td>799</td>\n",
       "      <td>0.09</td>\n",
       "      <td>-0.04</td>\n",
       "      <td>-0.11</td>\n",
       "      <td>217.0625</td>\n",
       "      <td>9.0625</td>\n",
       "      <td>-81.9375</td>\n",
       "      <td>P101</td>\n",
       "      <td>M151</td>\n",
       "      <td>H008</td>\n",
       "      <td>NaN</td>\n",
       "      <td>G15</td>\n",
       "    </tr>\n",
       "    <tr>\n",
       "      <th>4</th>\n",
       "      <td>E001</td>\n",
       "      <td>Andreas</td>\n",
       "      <td>right</td>\n",
       "      <td>46136</td>\n",
       "      <td>782</td>\n",
       "      <td>6</td>\n",
       "      <td>798</td>\n",
       "      <td>0.12</td>\n",
       "      <td>-0.09</td>\n",
       "      <td>0.09</td>\n",
       "      <td>217.4375</td>\n",
       "      <td>9.1250</td>\n",
       "      <td>-81.8750</td>\n",
       "      <td>P101</td>\n",
       "      <td>M151</td>\n",
       "      <td>H008</td>\n",
       "      <td>NaN</td>\n",
       "      <td>G15</td>\n",
       "    </tr>\n",
       "    <tr>\n",
       "      <th>6</th>\n",
       "      <td>E001</td>\n",
       "      <td>Andreas</td>\n",
       "      <td>right</td>\n",
       "      <td>74902</td>\n",
       "      <td>784</td>\n",
       "      <td>7</td>\n",
       "      <td>798</td>\n",
       "      <td>0.08</td>\n",
       "      <td>-0.08</td>\n",
       "      <td>0.03</td>\n",
       "      <td>217.6250</td>\n",
       "      <td>9.1250</td>\n",
       "      <td>-81.8125</td>\n",
       "      <td>P101</td>\n",
       "      <td>M151</td>\n",
       "      <td>H008</td>\n",
       "      <td>NaN</td>\n",
       "      <td>G15</td>\n",
       "    </tr>\n",
       "    <tr>\n",
       "      <th>8</th>\n",
       "      <td>E001</td>\n",
       "      <td>Andreas</td>\n",
       "      <td>right</td>\n",
       "      <td>97663</td>\n",
       "      <td>781</td>\n",
       "      <td>0</td>\n",
       "      <td>798</td>\n",
       "      <td>0.07</td>\n",
       "      <td>-0.09</td>\n",
       "      <td>0.04</td>\n",
       "      <td>217.9375</td>\n",
       "      <td>9.1875</td>\n",
       "      <td>-81.7500</td>\n",
       "      <td>P101</td>\n",
       "      <td>M151</td>\n",
       "      <td>H008</td>\n",
       "      <td>NaN</td>\n",
       "      <td>G15</td>\n",
       "    </tr>\n",
       "  </tbody>\n",
       "</table>\n",
       "</div>"
      ],
      "text/plain": [
       "  Experiment  Subject collectedByHand  TimeStamp  GRASP_A  GRASP_B  GRASP_C  \\\n",
       "0       E001  Andreas           right          0      781        8      797   \n",
       "2       E001  Andreas           right      29001      782        0      799   \n",
       "4       E001  Andreas           right      46136      782        6      798   \n",
       "6       E001  Andreas           right      74902      784        7      798   \n",
       "8       E001  Andreas           right      97663      781        0      798   \n",
       "\n",
       "     AX    AY    AZ        EX      EY       EZ Parcours Mutation  Host  \\\n",
       "0  0.06 -0.02 -0.10  216.8125  9.0625 -81.9375     P101     M151  H008   \n",
       "2  0.09 -0.04 -0.11  217.0625  9.0625 -81.9375     P101     M151  H008   \n",
       "4  0.12 -0.09  0.09  217.4375  9.1250 -81.8750     P101     M151  H008   \n",
       "6  0.08 -0.08  0.03  217.6250  9.1250 -81.8125     P101     M151  H008   \n",
       "8  0.07 -0.09  0.04  217.9375  9.1875 -81.7500     P101     M151  H008   \n",
       "\n",
       "  Host/Spot Gesture  \n",
       "0       NaN     G15  \n",
       "2       NaN     G15  \n",
       "4       NaN     G15  \n",
       "6       NaN     G15  \n",
       "8       NaN     G15  "
      ]
     },
     "execution_count": 43,
     "metadata": {},
     "output_type": "execute_result"
    }
   ],
   "source": [
    "data.head()"
   ]
  },
  {
   "cell_type": "code",
   "execution_count": 44,
   "metadata": {
    "collapsed": false
   },
   "outputs": [
    {
     "data": {
      "text/plain": [
       "['right', 'left']"
      ]
     },
     "execution_count": 44,
     "metadata": {},
     "output_type": "execute_result"
    }
   ],
   "source": [
    "# also in this evaluation, we use only one-hand devices and only people who are right-handers\n",
    "data['collectedByHand'].unique().tolist()"
   ]
  },
  {
   "cell_type": "code",
   "execution_count": 45,
   "metadata": {
    "collapsed": false
   },
   "outputs": [
    {
     "data": {
      "text/plain": [
       "711360"
      ]
     },
     "execution_count": 45,
     "metadata": {},
     "output_type": "execute_result"
    }
   ],
   "source": [
    "# right hand data rows\n",
    "sum(data['collectedByHand']=='right')"
   ]
  },
  {
   "cell_type": "code",
   "execution_count": 46,
   "metadata": {
    "collapsed": false
   },
   "outputs": [
    {
     "data": {
      "text/plain": [
       "68939"
      ]
     },
     "execution_count": 46,
     "metadata": {},
     "output_type": "execute_result"
    }
   ],
   "source": [
    "# left hand data rows\n",
    "sum(data['collectedByHand']=='left')"
   ]
  },
  {
   "cell_type": "code",
   "execution_count": 48,
   "metadata": {
    "collapsed": false
   },
   "outputs": [
    {
     "data": {
      "text/plain": [
       "(711360, 18)"
      ]
     },
     "execution_count": 48,
     "metadata": {},
     "output_type": "execute_result"
    }
   ],
   "source": [
    "# REMOVE left hand data, keep only left hand\n",
    "data = data[data['collectedByHand']=='right']\n",
    "data.shape"
   ]
  },
  {
   "cell_type": "markdown",
   "metadata": {},
   "source": [
    "### Convert Columns with String IDs to numbers, for later improved efficiency"
   ]
  },
  {
   "cell_type": "code",
   "execution_count": 57,
   "metadata": {
    "collapsed": true
   },
   "outputs": [],
   "source": [
    "def str_to_int(string):\n",
    "    '''cut away first character and convert to int'''\n",
    "    return int(string[1:])"
   ]
  },
  {
   "cell_type": "code",
   "execution_count": 61,
   "metadata": {
    "collapsed": false
   },
   "outputs": [],
   "source": [
    "cols_to_convert = ['Experiment','Parcours','Mutation','Host','Gesture']\n",
    "\n",
    "for c in cols_to_convert:\n",
    "    data[c] = data[c].apply(str_to_int)"
   ]
  },
  {
   "cell_type": "code",
   "execution_count": 62,
   "metadata": {
    "collapsed": false
   },
   "outputs": [
    {
     "data": {
      "text/html": [
       "<div>\n",
       "<table border=\"1\" class=\"dataframe\">\n",
       "  <thead>\n",
       "    <tr style=\"text-align: right;\">\n",
       "      <th></th>\n",
       "      <th>Experiment</th>\n",
       "      <th>Subject</th>\n",
       "      <th>collectedByHand</th>\n",
       "      <th>TimeStamp</th>\n",
       "      <th>GRASP_A</th>\n",
       "      <th>GRASP_B</th>\n",
       "      <th>GRASP_C</th>\n",
       "      <th>AX</th>\n",
       "      <th>AY</th>\n",
       "      <th>AZ</th>\n",
       "      <th>EX</th>\n",
       "      <th>EY</th>\n",
       "      <th>EZ</th>\n",
       "      <th>Parcours</th>\n",
       "      <th>Mutation</th>\n",
       "      <th>Host</th>\n",
       "      <th>Host/Spot</th>\n",
       "      <th>Gesture</th>\n",
       "    </tr>\n",
       "  </thead>\n",
       "  <tbody>\n",
       "    <tr>\n",
       "      <th>0</th>\n",
       "      <td>1</td>\n",
       "      <td>Andreas</td>\n",
       "      <td>right</td>\n",
       "      <td>0</td>\n",
       "      <td>781</td>\n",
       "      <td>8</td>\n",
       "      <td>797</td>\n",
       "      <td>0.06</td>\n",
       "      <td>-0.02</td>\n",
       "      <td>-0.10</td>\n",
       "      <td>216.8125</td>\n",
       "      <td>9.0625</td>\n",
       "      <td>-81.9375</td>\n",
       "      <td>101</td>\n",
       "      <td>151</td>\n",
       "      <td>8</td>\n",
       "      <td>NaN</td>\n",
       "      <td>15</td>\n",
       "    </tr>\n",
       "    <tr>\n",
       "      <th>2</th>\n",
       "      <td>1</td>\n",
       "      <td>Andreas</td>\n",
       "      <td>right</td>\n",
       "      <td>29001</td>\n",
       "      <td>782</td>\n",
       "      <td>0</td>\n",
       "      <td>799</td>\n",
       "      <td>0.09</td>\n",
       "      <td>-0.04</td>\n",
       "      <td>-0.11</td>\n",
       "      <td>217.0625</td>\n",
       "      <td>9.0625</td>\n",
       "      <td>-81.9375</td>\n",
       "      <td>101</td>\n",
       "      <td>151</td>\n",
       "      <td>8</td>\n",
       "      <td>NaN</td>\n",
       "      <td>15</td>\n",
       "    </tr>\n",
       "    <tr>\n",
       "      <th>4</th>\n",
       "      <td>1</td>\n",
       "      <td>Andreas</td>\n",
       "      <td>right</td>\n",
       "      <td>46136</td>\n",
       "      <td>782</td>\n",
       "      <td>6</td>\n",
       "      <td>798</td>\n",
       "      <td>0.12</td>\n",
       "      <td>-0.09</td>\n",
       "      <td>0.09</td>\n",
       "      <td>217.4375</td>\n",
       "      <td>9.1250</td>\n",
       "      <td>-81.8750</td>\n",
       "      <td>101</td>\n",
       "      <td>151</td>\n",
       "      <td>8</td>\n",
       "      <td>NaN</td>\n",
       "      <td>15</td>\n",
       "    </tr>\n",
       "    <tr>\n",
       "      <th>6</th>\n",
       "      <td>1</td>\n",
       "      <td>Andreas</td>\n",
       "      <td>right</td>\n",
       "      <td>74902</td>\n",
       "      <td>784</td>\n",
       "      <td>7</td>\n",
       "      <td>798</td>\n",
       "      <td>0.08</td>\n",
       "      <td>-0.08</td>\n",
       "      <td>0.03</td>\n",
       "      <td>217.6250</td>\n",
       "      <td>9.1250</td>\n",
       "      <td>-81.8125</td>\n",
       "      <td>101</td>\n",
       "      <td>151</td>\n",
       "      <td>8</td>\n",
       "      <td>NaN</td>\n",
       "      <td>15</td>\n",
       "    </tr>\n",
       "    <tr>\n",
       "      <th>8</th>\n",
       "      <td>1</td>\n",
       "      <td>Andreas</td>\n",
       "      <td>right</td>\n",
       "      <td>97663</td>\n",
       "      <td>781</td>\n",
       "      <td>0</td>\n",
       "      <td>798</td>\n",
       "      <td>0.07</td>\n",
       "      <td>-0.09</td>\n",
       "      <td>0.04</td>\n",
       "      <td>217.9375</td>\n",
       "      <td>9.1875</td>\n",
       "      <td>-81.7500</td>\n",
       "      <td>101</td>\n",
       "      <td>151</td>\n",
       "      <td>8</td>\n",
       "      <td>NaN</td>\n",
       "      <td>15</td>\n",
       "    </tr>\n",
       "  </tbody>\n",
       "</table>\n",
       "</div>"
      ],
      "text/plain": [
       "   Experiment  Subject collectedByHand  TimeStamp  GRASP_A  GRASP_B  GRASP_C  \\\n",
       "0           1  Andreas           right          0      781        8      797   \n",
       "2           1  Andreas           right      29001      782        0      799   \n",
       "4           1  Andreas           right      46136      782        6      798   \n",
       "6           1  Andreas           right      74902      784        7      798   \n",
       "8           1  Andreas           right      97663      781        0      798   \n",
       "\n",
       "     AX    AY    AZ        EX      EY       EZ  Parcours  Mutation  Host  \\\n",
       "0  0.06 -0.02 -0.10  216.8125  9.0625 -81.9375       101       151     8   \n",
       "2  0.09 -0.04 -0.11  217.0625  9.0625 -81.9375       101       151     8   \n",
       "4  0.12 -0.09  0.09  217.4375  9.1250 -81.8750       101       151     8   \n",
       "6  0.08 -0.08  0.03  217.6250  9.1250 -81.8125       101       151     8   \n",
       "8  0.07 -0.09  0.04  217.9375  9.1875 -81.7500       101       151     8   \n",
       "\n",
       "  Host/Spot  Gesture  \n",
       "0       NaN       15  \n",
       "2       NaN       15  \n",
       "4       NaN       15  \n",
       "6       NaN       15  \n",
       "8       NaN       15  "
      ]
     },
     "execution_count": 62,
     "metadata": {},
     "output_type": "execute_result"
    }
   ],
   "source": [
    "data.head()"
   ]
  },
  {
   "cell_type": "markdown",
   "metadata": {},
   "source": [
    "## Look into the Data"
   ]
  },
  {
   "cell_type": "code",
   "execution_count": 40,
   "metadata": {
    "collapsed": false,
    "scrolled": true
   },
   "outputs": [
    {
     "data": {
      "text/html": [
       "<div>\n",
       "<table border=\"1\" class=\"dataframe\">\n",
       "  <thead>\n",
       "    <tr style=\"text-align: right;\">\n",
       "      <th></th>\n",
       "      <th>Experiment</th>\n",
       "      <th>Subject</th>\n",
       "      <th>collectedByHand</th>\n",
       "      <th>TimeStamp</th>\n",
       "      <th>GRASP_A</th>\n",
       "      <th>GRASP_B</th>\n",
       "      <th>GRASP_C</th>\n",
       "      <th>AX</th>\n",
       "      <th>AY</th>\n",
       "      <th>AZ</th>\n",
       "      <th>EX</th>\n",
       "      <th>EY</th>\n",
       "      <th>EZ</th>\n",
       "      <th>Parcours</th>\n",
       "      <th>Mutation</th>\n",
       "      <th>Host</th>\n",
       "      <th>Host/Spot</th>\n",
       "      <th>Gesture</th>\n",
       "    </tr>\n",
       "  </thead>\n",
       "  <tbody>\n",
       "    <tr>\n",
       "      <th>0</th>\n",
       "      <td>E001</td>\n",
       "      <td>Andreas</td>\n",
       "      <td>right</td>\n",
       "      <td>0</td>\n",
       "      <td>781</td>\n",
       "      <td>8</td>\n",
       "      <td>797</td>\n",
       "      <td>0.06</td>\n",
       "      <td>-0.02</td>\n",
       "      <td>-0.10</td>\n",
       "      <td>216.8125</td>\n",
       "      <td>9.0625</td>\n",
       "      <td>-81.9375</td>\n",
       "      <td>P101</td>\n",
       "      <td>M151</td>\n",
       "      <td>H008</td>\n",
       "      <td>NaN</td>\n",
       "      <td>G15</td>\n",
       "    </tr>\n",
       "    <tr>\n",
       "      <th>2</th>\n",
       "      <td>E001</td>\n",
       "      <td>Andreas</td>\n",
       "      <td>right</td>\n",
       "      <td>29001</td>\n",
       "      <td>782</td>\n",
       "      <td>0</td>\n",
       "      <td>799</td>\n",
       "      <td>0.09</td>\n",
       "      <td>-0.04</td>\n",
       "      <td>-0.11</td>\n",
       "      <td>217.0625</td>\n",
       "      <td>9.0625</td>\n",
       "      <td>-81.9375</td>\n",
       "      <td>P101</td>\n",
       "      <td>M151</td>\n",
       "      <td>H008</td>\n",
       "      <td>NaN</td>\n",
       "      <td>G15</td>\n",
       "    </tr>\n",
       "    <tr>\n",
       "      <th>4</th>\n",
       "      <td>E001</td>\n",
       "      <td>Andreas</td>\n",
       "      <td>right</td>\n",
       "      <td>46136</td>\n",
       "      <td>782</td>\n",
       "      <td>6</td>\n",
       "      <td>798</td>\n",
       "      <td>0.12</td>\n",
       "      <td>-0.09</td>\n",
       "      <td>0.09</td>\n",
       "      <td>217.4375</td>\n",
       "      <td>9.1250</td>\n",
       "      <td>-81.8750</td>\n",
       "      <td>P101</td>\n",
       "      <td>M151</td>\n",
       "      <td>H008</td>\n",
       "      <td>NaN</td>\n",
       "      <td>G15</td>\n",
       "    </tr>\n",
       "    <tr>\n",
       "      <th>6</th>\n",
       "      <td>E001</td>\n",
       "      <td>Andreas</td>\n",
       "      <td>right</td>\n",
       "      <td>74902</td>\n",
       "      <td>784</td>\n",
       "      <td>7</td>\n",
       "      <td>798</td>\n",
       "      <td>0.08</td>\n",
       "      <td>-0.08</td>\n",
       "      <td>0.03</td>\n",
       "      <td>217.6250</td>\n",
       "      <td>9.1250</td>\n",
       "      <td>-81.8125</td>\n",
       "      <td>P101</td>\n",
       "      <td>M151</td>\n",
       "      <td>H008</td>\n",
       "      <td>NaN</td>\n",
       "      <td>G15</td>\n",
       "    </tr>\n",
       "    <tr>\n",
       "      <th>8</th>\n",
       "      <td>E001</td>\n",
       "      <td>Andreas</td>\n",
       "      <td>right</td>\n",
       "      <td>97663</td>\n",
       "      <td>781</td>\n",
       "      <td>0</td>\n",
       "      <td>798</td>\n",
       "      <td>0.07</td>\n",
       "      <td>-0.09</td>\n",
       "      <td>0.04</td>\n",
       "      <td>217.9375</td>\n",
       "      <td>9.1875</td>\n",
       "      <td>-81.7500</td>\n",
       "      <td>P101</td>\n",
       "      <td>M151</td>\n",
       "      <td>H008</td>\n",
       "      <td>NaN</td>\n",
       "      <td>G15</td>\n",
       "    </tr>\n",
       "  </tbody>\n",
       "</table>\n",
       "</div>"
      ],
      "text/plain": [
       "  Experiment  Subject collectedByHand  TimeStamp  GRASP_A  GRASP_B  GRASP_C  \\\n",
       "0       E001  Andreas           right          0      781        8      797   \n",
       "2       E001  Andreas           right      29001      782        0      799   \n",
       "4       E001  Andreas           right      46136      782        6      798   \n",
       "6       E001  Andreas           right      74902      784        7      798   \n",
       "8       E001  Andreas           right      97663      781        0      798   \n",
       "\n",
       "     AX    AY    AZ        EX      EY       EZ Parcours Mutation  Host  \\\n",
       "0  0.06 -0.02 -0.10  216.8125  9.0625 -81.9375     P101     M151  H008   \n",
       "2  0.09 -0.04 -0.11  217.0625  9.0625 -81.9375     P101     M151  H008   \n",
       "4  0.12 -0.09  0.09  217.4375  9.1250 -81.8750     P101     M151  H008   \n",
       "6  0.08 -0.08  0.03  217.6250  9.1250 -81.8125     P101     M151  H008   \n",
       "8  0.07 -0.09  0.04  217.9375  9.1875 -81.7500     P101     M151  H008   \n",
       "\n",
       "  Host/Spot Gesture  \n",
       "0       NaN     G15  \n",
       "2       NaN     G15  \n",
       "4       NaN     G15  \n",
       "6       NaN     G15  \n",
       "8       NaN     G15  "
      ]
     },
     "execution_count": 40,
     "metadata": {},
     "output_type": "execute_result"
    }
   ],
   "source": [
    "data.head()"
   ]
  },
  {
   "cell_type": "code",
   "execution_count": 41,
   "metadata": {
    "collapsed": false
   },
   "outputs": [
    {
     "data": {
      "text/plain": [
       "Index([u'Experiment', u'Subject', u'collectedByHand', u'TimeStamp', u'GRASP_A',\n",
       "       u'GRASP_B', u'GRASP_C', u'AX', u'AY', u'AZ', u'EX', u'EY', u'EZ',\n",
       "       u'Parcours', u'Mutation', u'Host', u'Host/Spot', u'Gesture'],\n",
       "      dtype='object')"
      ]
     },
     "execution_count": 41,
     "metadata": {},
     "output_type": "execute_result"
    }
   ],
   "source": [
    "data.columns"
   ]
  },
  {
   "cell_type": "markdown",
   "metadata": {},
   "source": [
    "### Get Experiment data: Filter for one experiment of one subject"
   ]
  },
  {
   "cell_type": "code",
   "execution_count": 335,
   "metadata": {
    "collapsed": false
   },
   "outputs": [],
   "source": [
    "def get_experiment(data,experiment,subject,parcours,mutation,gesture):\n",
    "    query = []\n",
    "    # by passing None, some parts of these can be omitted (returning more data)\n",
    "    if experiment: query.append('Experiment==@exp')\n",
    "    if subject: query.append('Subject==@subject')\n",
    "    if parcours: query.append('Parcours==@parcours')\n",
    "    if mutation: query.append('Mutation==@mutation')\n",
    "    if gesture: query.append('Gesture==@gesture')\n",
    "    # TODO filter by Parcours_Step u/o Host\n",
    "    \n",
    "    query = \" and \".join(query)\n",
    "    #print query\n",
    "    return data.query(query)\n"
   ]
  },
  {
   "cell_type": "code",
   "execution_count": 323,
   "metadata": {
    "collapsed": false
   },
   "outputs": [
    {
     "name": "stdout",
     "output_type": "stream",
     "text": [
      "Experiment==@exp and Subject==@subject and Parcours==@parcours\n"
     ]
    },
    {
     "data": {
      "text/plain": [
       "(0, 18)"
      ]
     },
     "execution_count": 323,
     "metadata": {},
     "output_type": "execute_result"
    }
   ],
   "source": [
    "# get experiment data (setting one to None does not filter by it)\n",
    "exp = 'E001'\n",
    "subject = 'Andreas'\n",
    "parcours = 'P102'\n",
    "mutation = None\n",
    "gesture = None #'G02' #'G01'\n",
    "\n",
    "mydata = get_experiment(data,exp,subject,parcours,mutation,gesture)\n",
    "mydata.shape"
   ]
  },
  {
   "cell_type": "code",
   "execution_count": 320,
   "metadata": {
    "collapsed": false,
    "scrolled": true
   },
   "outputs": [
    {
     "data": {
      "text/plain": [
       "['P102']"
      ]
     },
     "execution_count": 320,
     "metadata": {},
     "output_type": "execute_result"
    }
   ],
   "source": [
    "# if we queried without Parcours, use this to get all the Parcours\n",
    "mydata['Parcours'].unique().tolist()"
   ]
  },
  {
   "cell_type": "code",
   "execution_count": 321,
   "metadata": {
    "collapsed": false,
    "scrolled": true
   },
   "outputs": [
    {
     "data": {
      "text/plain": [
       "['M151', 'M102', 'M153']"
      ]
     },
     "execution_count": 321,
     "metadata": {},
     "output_type": "execute_result"
    }
   ],
   "source": [
    "mut_list = mydata['Mutation'].unique().tolist()\n",
    "mut_list"
   ]
  },
  {
   "cell_type": "code",
   "execution_count": 322,
   "metadata": {
    "collapsed": false
   },
   "outputs": [
    {
     "data": {
      "text/plain": [
       "['G15', 'G02', 'G17']"
      ]
     },
     "execution_count": 322,
     "metadata": {},
     "output_type": "execute_result"
    }
   ],
   "source": [
    "gest_list = mydata['Gesture'].unique().tolist()\n",
    "gest_list"
   ]
  },
  {
   "cell_type": "code",
   "execution_count": 300,
   "metadata": {
    "collapsed": false
   },
   "outputs": [
    {
     "name": "stdout",
     "output_type": "stream",
     "text": [
      "M102 : G02 Single Rotation klein linksrum\n"
     ]
    }
   ],
   "source": [
    "for mut in mut_list:\n",
    "    gest = get_mutation_gesture(mut)\n",
    "    print mut, \":\", gest, gesture_name(gest)"
   ]
  },
  {
   "cell_type": "code",
   "execution_count": 301,
   "metadata": {
    "collapsed": false,
    "scrolled": true
   },
   "outputs": [
    {
     "name": "stdout",
     "output_type": "stream",
     "text": [
      "Experiment==@exp and Subject==@subject and Parcours==@parcours and Gesture==@gesture\n"
     ]
    },
    {
     "data": {
      "text/html": [
       "<div>\n",
       "<table border=\"1\" class=\"dataframe\">\n",
       "  <thead>\n",
       "    <tr style=\"text-align: right;\">\n",
       "      <th></th>\n",
       "      <th>Experiment</th>\n",
       "      <th>Subject</th>\n",
       "      <th>collectedByHand</th>\n",
       "      <th>TimeStamp</th>\n",
       "      <th>GRASP_A</th>\n",
       "      <th>GRASP_B</th>\n",
       "      <th>GRASP_C</th>\n",
       "      <th>AX</th>\n",
       "      <th>AY</th>\n",
       "      <th>AZ</th>\n",
       "      <th>EX</th>\n",
       "      <th>EY</th>\n",
       "      <th>EZ</th>\n",
       "      <th>Parcours</th>\n",
       "      <th>Mutation</th>\n",
       "      <th>Host</th>\n",
       "      <th>Host/Spot</th>\n",
       "      <th>Gesture</th>\n",
       "    </tr>\n",
       "  </thead>\n",
       "  <tbody>\n",
       "    <tr>\n",
       "      <th>2477</th>\n",
       "      <td>E001</td>\n",
       "      <td>Andreas</td>\n",
       "      <td>right</td>\n",
       "      <td>0</td>\n",
       "      <td>790</td>\n",
       "      <td>10</td>\n",
       "      <td>809</td>\n",
       "      <td>1.29</td>\n",
       "      <td>0.15</td>\n",
       "      <td>-0.24</td>\n",
       "      <td>236.0000</td>\n",
       "      <td>4.1250</td>\n",
       "      <td>-82.5000</td>\n",
       "      <td>P102</td>\n",
       "      <td>M151</td>\n",
       "      <td>H008</td>\n",
       "      <td>NaN</td>\n",
       "      <td>G15</td>\n",
       "    </tr>\n",
       "    <tr>\n",
       "      <th>2480</th>\n",
       "      <td>E001</td>\n",
       "      <td>Andreas</td>\n",
       "      <td>right</td>\n",
       "      <td>31090</td>\n",
       "      <td>789</td>\n",
       "      <td>0</td>\n",
       "      <td>807</td>\n",
       "      <td>1.53</td>\n",
       "      <td>0.39</td>\n",
       "      <td>0.19</td>\n",
       "      <td>236.0625</td>\n",
       "      <td>3.7500</td>\n",
       "      <td>-83.0625</td>\n",
       "      <td>P102</td>\n",
       "      <td>M151</td>\n",
       "      <td>H008</td>\n",
       "      <td>NaN</td>\n",
       "      <td>G15</td>\n",
       "    </tr>\n",
       "    <tr>\n",
       "      <th>2482</th>\n",
       "      <td>E001</td>\n",
       "      <td>Andreas</td>\n",
       "      <td>right</td>\n",
       "      <td>55174</td>\n",
       "      <td>789</td>\n",
       "      <td>0</td>\n",
       "      <td>808</td>\n",
       "      <td>1.14</td>\n",
       "      <td>0.62</td>\n",
       "      <td>0.64</td>\n",
       "      <td>235.9375</td>\n",
       "      <td>3.5625</td>\n",
       "      <td>-83.7500</td>\n",
       "      <td>P102</td>\n",
       "      <td>M151</td>\n",
       "      <td>H008</td>\n",
       "      <td>NaN</td>\n",
       "      <td>G15</td>\n",
       "    </tr>\n",
       "    <tr>\n",
       "      <th>2484</th>\n",
       "      <td>E001</td>\n",
       "      <td>Andreas</td>\n",
       "      <td>right</td>\n",
       "      <td>77280</td>\n",
       "      <td>788</td>\n",
       "      <td>12</td>\n",
       "      <td>808</td>\n",
       "      <td>1.07</td>\n",
       "      <td>0.44</td>\n",
       "      <td>0.63</td>\n",
       "      <td>235.8125</td>\n",
       "      <td>3.6250</td>\n",
       "      <td>-83.8750</td>\n",
       "      <td>P102</td>\n",
       "      <td>M151</td>\n",
       "      <td>H008</td>\n",
       "      <td>NaN</td>\n",
       "      <td>G15</td>\n",
       "    </tr>\n",
       "    <tr>\n",
       "      <th>2485</th>\n",
       "      <td>E001</td>\n",
       "      <td>Andreas</td>\n",
       "      <td>right</td>\n",
       "      <td>97476</td>\n",
       "      <td>789</td>\n",
       "      <td>9</td>\n",
       "      <td>808</td>\n",
       "      <td>1.02</td>\n",
       "      <td>0.30</td>\n",
       "      <td>0.53</td>\n",
       "      <td>235.5625</td>\n",
       "      <td>3.8125</td>\n",
       "      <td>-83.8125</td>\n",
       "      <td>P102</td>\n",
       "      <td>M151</td>\n",
       "      <td>H008</td>\n",
       "      <td>NaN</td>\n",
       "      <td>G15</td>\n",
       "    </tr>\n",
       "    <tr>\n",
       "      <th>2486</th>\n",
       "      <td>E001</td>\n",
       "      <td>Andreas</td>\n",
       "      <td>right</td>\n",
       "      <td>113645</td>\n",
       "      <td>791</td>\n",
       "      <td>0</td>\n",
       "      <td>809</td>\n",
       "      <td>0.54</td>\n",
       "      <td>0.00</td>\n",
       "      <td>0.17</td>\n",
       "      <td>235.1250</td>\n",
       "      <td>4.0000</td>\n",
       "      <td>-83.5625</td>\n",
       "      <td>P102</td>\n",
       "      <td>M151</td>\n",
       "      <td>H008</td>\n",
       "      <td>NaN</td>\n",
       "      <td>G15</td>\n",
       "    </tr>\n",
       "    <tr>\n",
       "      <th>2489</th>\n",
       "      <td>E001</td>\n",
       "      <td>Andreas</td>\n",
       "      <td>right</td>\n",
       "      <td>135236</td>\n",
       "      <td>791</td>\n",
       "      <td>5</td>\n",
       "      <td>809</td>\n",
       "      <td>0.25</td>\n",
       "      <td>-0.15</td>\n",
       "      <td>0.10</td>\n",
       "      <td>234.6250</td>\n",
       "      <td>4.1250</td>\n",
       "      <td>-83.3125</td>\n",
       "      <td>P102</td>\n",
       "      <td>M151</td>\n",
       "      <td>H008</td>\n",
       "      <td>NaN</td>\n",
       "      <td>G15</td>\n",
       "    </tr>\n",
       "    <tr>\n",
       "      <th>2491</th>\n",
       "      <td>E001</td>\n",
       "      <td>Andreas</td>\n",
       "      <td>right</td>\n",
       "      <td>166211</td>\n",
       "      <td>788</td>\n",
       "      <td>0</td>\n",
       "      <td>809</td>\n",
       "      <td>-0.19</td>\n",
       "      <td>-0.06</td>\n",
       "      <td>0.21</td>\n",
       "      <td>234.0000</td>\n",
       "      <td>4.1875</td>\n",
       "      <td>-83.1875</td>\n",
       "      <td>P102</td>\n",
       "      <td>M151</td>\n",
       "      <td>H008</td>\n",
       "      <td>NaN</td>\n",
       "      <td>G15</td>\n",
       "    </tr>\n",
       "    <tr>\n",
       "      <th>2493</th>\n",
       "      <td>E001</td>\n",
       "      <td>Andreas</td>\n",
       "      <td>right</td>\n",
       "      <td>183683</td>\n",
       "      <td>789</td>\n",
       "      <td>0</td>\n",
       "      <td>809</td>\n",
       "      <td>-0.41</td>\n",
       "      <td>0.01</td>\n",
       "      <td>0.40</td>\n",
       "      <td>233.3125</td>\n",
       "      <td>4.1875</td>\n",
       "      <td>-83.0000</td>\n",
       "      <td>P102</td>\n",
       "      <td>M151</td>\n",
       "      <td>H008</td>\n",
       "      <td>NaN</td>\n",
       "      <td>G15</td>\n",
       "    </tr>\n",
       "    <tr>\n",
       "      <th>2496</th>\n",
       "      <td>E001</td>\n",
       "      <td>Andreas</td>\n",
       "      <td>right</td>\n",
       "      <td>224902</td>\n",
       "      <td>790</td>\n",
       "      <td>9</td>\n",
       "      <td>809</td>\n",
       "      <td>-0.40</td>\n",
       "      <td>0.14</td>\n",
       "      <td>0.44</td>\n",
       "      <td>232.6875</td>\n",
       "      <td>4.1875</td>\n",
       "      <td>-82.9375</td>\n",
       "      <td>P102</td>\n",
       "      <td>M151</td>\n",
       "      <td>H008</td>\n",
       "      <td>NaN</td>\n",
       "      <td>G15</td>\n",
       "    </tr>\n",
       "    <tr>\n",
       "      <th>2497</th>\n",
       "      <td>E001</td>\n",
       "      <td>Andreas</td>\n",
       "      <td>right</td>\n",
       "      <td>232482</td>\n",
       "      <td>789</td>\n",
       "      <td>6</td>\n",
       "      <td>809</td>\n",
       "      <td>-0.65</td>\n",
       "      <td>0.21</td>\n",
       "      <td>0.47</td>\n",
       "      <td>231.7500</td>\n",
       "      <td>4.1250</td>\n",
       "      <td>-82.7500</td>\n",
       "      <td>P102</td>\n",
       "      <td>M151</td>\n",
       "      <td>H008</td>\n",
       "      <td>NaN</td>\n",
       "      <td>G15</td>\n",
       "    </tr>\n",
       "    <tr>\n",
       "      <th>2499</th>\n",
       "      <td>E001</td>\n",
       "      <td>Andreas</td>\n",
       "      <td>right</td>\n",
       "      <td>257430</td>\n",
       "      <td>790</td>\n",
       "      <td>1</td>\n",
       "      <td>809</td>\n",
       "      <td>-0.14</td>\n",
       "      <td>0.21</td>\n",
       "      <td>0.51</td>\n",
       "      <td>231.3125</td>\n",
       "      <td>4.1875</td>\n",
       "      <td>-82.5000</td>\n",
       "      <td>P102</td>\n",
       "      <td>M151</td>\n",
       "      <td>H008</td>\n",
       "      <td>NaN</td>\n",
       "      <td>G15</td>\n",
       "    </tr>\n",
       "    <tr>\n",
       "      <th>2502</th>\n",
       "      <td>E001</td>\n",
       "      <td>Andreas</td>\n",
       "      <td>right</td>\n",
       "      <td>282613</td>\n",
       "      <td>791</td>\n",
       "      <td>10</td>\n",
       "      <td>810</td>\n",
       "      <td>0.07</td>\n",
       "      <td>0.00</td>\n",
       "      <td>0.18</td>\n",
       "      <td>231.0625</td>\n",
       "      <td>4.4375</td>\n",
       "      <td>-82.1875</td>\n",
       "      <td>P102</td>\n",
       "      <td>M151</td>\n",
       "      <td>H008</td>\n",
       "      <td>NaN</td>\n",
       "      <td>G15</td>\n",
       "    </tr>\n",
       "    <tr>\n",
       "      <th>2504</th>\n",
       "      <td>E001</td>\n",
       "      <td>Andreas</td>\n",
       "      <td>right</td>\n",
       "      <td>307497</td>\n",
       "      <td>790</td>\n",
       "      <td>3</td>\n",
       "      <td>809</td>\n",
       "      <td>0.16</td>\n",
       "      <td>0.03</td>\n",
       "      <td>-0.37</td>\n",
       "      <td>230.6250</td>\n",
       "      <td>4.9375</td>\n",
       "      <td>-81.9375</td>\n",
       "      <td>P102</td>\n",
       "      <td>M151</td>\n",
       "      <td>H008</td>\n",
       "      <td>NaN</td>\n",
       "      <td>G15</td>\n",
       "    </tr>\n",
       "    <tr>\n",
       "      <th>2506</th>\n",
       "      <td>E001</td>\n",
       "      <td>Andreas</td>\n",
       "      <td>right</td>\n",
       "      <td>333592</td>\n",
       "      <td>791</td>\n",
       "      <td>0</td>\n",
       "      <td>810</td>\n",
       "      <td>-0.03</td>\n",
       "      <td>0.09</td>\n",
       "      <td>-0.26</td>\n",
       "      <td>230.1250</td>\n",
       "      <td>5.2500</td>\n",
       "      <td>-81.8750</td>\n",
       "      <td>P102</td>\n",
       "      <td>M151</td>\n",
       "      <td>H008</td>\n",
       "      <td>NaN</td>\n",
       "      <td>G15</td>\n",
       "    </tr>\n",
       "    <tr>\n",
       "      <th>2507</th>\n",
       "      <td>E001</td>\n",
       "      <td>Andreas</td>\n",
       "      <td>right</td>\n",
       "      <td>353620</td>\n",
       "      <td>791</td>\n",
       "      <td>0</td>\n",
       "      <td>810</td>\n",
       "      <td>-0.24</td>\n",
       "      <td>0.10</td>\n",
       "      <td>-0.49</td>\n",
       "      <td>229.5000</td>\n",
       "      <td>5.4375</td>\n",
       "      <td>-81.7500</td>\n",
       "      <td>P102</td>\n",
       "      <td>M151</td>\n",
       "      <td>H008</td>\n",
       "      <td>NaN</td>\n",
       "      <td>G15</td>\n",
       "    </tr>\n",
       "    <tr>\n",
       "      <th>2508</th>\n",
       "      <td>E001</td>\n",
       "      <td>Andreas</td>\n",
       "      <td>right</td>\n",
       "      <td>364904</td>\n",
       "      <td>790</td>\n",
       "      <td>10</td>\n",
       "      <td>810</td>\n",
       "      <td>-0.80</td>\n",
       "      <td>-0.08</td>\n",
       "      <td>-0.40</td>\n",
       "      <td>228.3750</td>\n",
       "      <td>5.6875</td>\n",
       "      <td>-81.5625</td>\n",
       "      <td>P102</td>\n",
       "      <td>M151</td>\n",
       "      <td>H008</td>\n",
       "      <td>NaN</td>\n",
       "      <td>G15</td>\n",
       "    </tr>\n",
       "    <tr>\n",
       "      <th>2511</th>\n",
       "      <td>E001</td>\n",
       "      <td>Andreas</td>\n",
       "      <td>right</td>\n",
       "      <td>416372</td>\n",
       "      <td>790</td>\n",
       "      <td>1</td>\n",
       "      <td>810</td>\n",
       "      <td>-1.04</td>\n",
       "      <td>-0.19</td>\n",
       "      <td>-0.07</td>\n",
       "      <td>227.5625</td>\n",
       "      <td>5.8750</td>\n",
       "      <td>-81.4375</td>\n",
       "      <td>P102</td>\n",
       "      <td>M151</td>\n",
       "      <td>H008</td>\n",
       "      <td>NaN</td>\n",
       "      <td>G15</td>\n",
       "    </tr>\n",
       "    <tr>\n",
       "      <th>2513</th>\n",
       "      <td>E001</td>\n",
       "      <td>Andreas</td>\n",
       "      <td>right</td>\n",
       "      <td>424882</td>\n",
       "      <td>792</td>\n",
       "      <td>0</td>\n",
       "      <td>808</td>\n",
       "      <td>-1.35</td>\n",
       "      <td>-0.10</td>\n",
       "      <td>0.09</td>\n",
       "      <td>226.8750</td>\n",
       "      <td>6.0625</td>\n",
       "      <td>-81.3125</td>\n",
       "      <td>P102</td>\n",
       "      <td>M151</td>\n",
       "      <td>H008</td>\n",
       "      <td>NaN</td>\n",
       "      <td>G15</td>\n",
       "    </tr>\n",
       "    <tr>\n",
       "      <th>2515</th>\n",
       "      <td>E001</td>\n",
       "      <td>Andreas</td>\n",
       "      <td>right</td>\n",
       "      <td>447389</td>\n",
       "      <td>791</td>\n",
       "      <td>0</td>\n",
       "      <td>808</td>\n",
       "      <td>-0.98</td>\n",
       "      <td>-0.01</td>\n",
       "      <td>-0.15</td>\n",
       "      <td>226.3750</td>\n",
       "      <td>6.2500</td>\n",
       "      <td>-81.1875</td>\n",
       "      <td>P102</td>\n",
       "      <td>M151</td>\n",
       "      <td>H008</td>\n",
       "      <td>NaN</td>\n",
       "      <td>G15</td>\n",
       "    </tr>\n",
       "    <tr>\n",
       "      <th>2517</th>\n",
       "      <td>E001</td>\n",
       "      <td>Andreas</td>\n",
       "      <td>right</td>\n",
       "      <td>469921</td>\n",
       "      <td>793</td>\n",
       "      <td>8</td>\n",
       "      <td>810</td>\n",
       "      <td>-0.87</td>\n",
       "      <td>-0.07</td>\n",
       "      <td>-0.10</td>\n",
       "      <td>226.3125</td>\n",
       "      <td>6.3750</td>\n",
       "      <td>-81.1875</td>\n",
       "      <td>P102</td>\n",
       "      <td>M151</td>\n",
       "      <td>H008</td>\n",
       "      <td>NaN</td>\n",
       "      <td>G15</td>\n",
       "    </tr>\n",
       "    <tr>\n",
       "      <th>2520</th>\n",
       "      <td>E001</td>\n",
       "      <td>Andreas</td>\n",
       "      <td>right</td>\n",
       "      <td>508595</td>\n",
       "      <td>790</td>\n",
       "      <td>0</td>\n",
       "      <td>808</td>\n",
       "      <td>-0.70</td>\n",
       "      <td>-0.15</td>\n",
       "      <td>-0.32</td>\n",
       "      <td>226.3125</td>\n",
       "      <td>6.4375</td>\n",
       "      <td>-81.1875</td>\n",
       "      <td>P102</td>\n",
       "      <td>M151</td>\n",
       "      <td>H008</td>\n",
       "      <td>NaN</td>\n",
       "      <td>G15</td>\n",
       "    </tr>\n",
       "    <tr>\n",
       "      <th>2522</th>\n",
       "      <td>E001</td>\n",
       "      <td>Andreas</td>\n",
       "      <td>right</td>\n",
       "      <td>527695</td>\n",
       "      <td>793</td>\n",
       "      <td>0</td>\n",
       "      <td>810</td>\n",
       "      <td>-1.10</td>\n",
       "      <td>-0.14</td>\n",
       "      <td>-0.11</td>\n",
       "      <td>226.0000</td>\n",
       "      <td>6.5000</td>\n",
       "      <td>-81.3125</td>\n",
       "      <td>P102</td>\n",
       "      <td>M151</td>\n",
       "      <td>H008</td>\n",
       "      <td>NaN</td>\n",
       "      <td>G15</td>\n",
       "    </tr>\n",
       "    <tr>\n",
       "      <th>2523</th>\n",
       "      <td>E001</td>\n",
       "      <td>Andreas</td>\n",
       "      <td>right</td>\n",
       "      <td>542475</td>\n",
       "      <td>789</td>\n",
       "      <td>0</td>\n",
       "      <td>809</td>\n",
       "      <td>-0.97</td>\n",
       "      <td>-0.17</td>\n",
       "      <td>-0.03</td>\n",
       "      <td>226.0625</td>\n",
       "      <td>6.1250</td>\n",
       "      <td>-81.3750</td>\n",
       "      <td>P102</td>\n",
       "      <td>M151</td>\n",
       "      <td>H008</td>\n",
       "      <td>NaN</td>\n",
       "      <td>G15</td>\n",
       "    </tr>\n",
       "    <tr>\n",
       "      <th>2525</th>\n",
       "      <td>E001</td>\n",
       "      <td>Andreas</td>\n",
       "      <td>right</td>\n",
       "      <td>573690</td>\n",
       "      <td>791</td>\n",
       "      <td>11</td>\n",
       "      <td>808</td>\n",
       "      <td>-1.00</td>\n",
       "      <td>-0.15</td>\n",
       "      <td>-0.05</td>\n",
       "      <td>226.0625</td>\n",
       "      <td>5.6875</td>\n",
       "      <td>-81.3750</td>\n",
       "      <td>P102</td>\n",
       "      <td>M151</td>\n",
       "      <td>H008</td>\n",
       "      <td>NaN</td>\n",
       "      <td>G15</td>\n",
       "    </tr>\n",
       "    <tr>\n",
       "      <th>2527</th>\n",
       "      <td>E001</td>\n",
       "      <td>Andreas</td>\n",
       "      <td>right</td>\n",
       "      <td>584714</td>\n",
       "      <td>792</td>\n",
       "      <td>1</td>\n",
       "      <td>808</td>\n",
       "      <td>-0.77</td>\n",
       "      <td>-0.15</td>\n",
       "      <td>-0.07</td>\n",
       "      <td>226.0625</td>\n",
       "      <td>5.0625</td>\n",
       "      <td>-81.2500</td>\n",
       "      <td>P102</td>\n",
       "      <td>M151</td>\n",
       "      <td>H008</td>\n",
       "      <td>NaN</td>\n",
       "      <td>G15</td>\n",
       "    </tr>\n",
       "    <tr>\n",
       "      <th>2529</th>\n",
       "      <td>E001</td>\n",
       "      <td>Andreas</td>\n",
       "      <td>right</td>\n",
       "      <td>613696</td>\n",
       "      <td>792</td>\n",
       "      <td>3</td>\n",
       "      <td>809</td>\n",
       "      <td>-0.58</td>\n",
       "      <td>-0.10</td>\n",
       "      <td>-0.03</td>\n",
       "      <td>226.1250</td>\n",
       "      <td>4.7500</td>\n",
       "      <td>-81.1875</td>\n",
       "      <td>P102</td>\n",
       "      <td>M151</td>\n",
       "      <td>H008</td>\n",
       "      <td>NaN</td>\n",
       "      <td>G15</td>\n",
       "    </tr>\n",
       "    <tr>\n",
       "      <th>2531</th>\n",
       "      <td>E001</td>\n",
       "      <td>Andreas</td>\n",
       "      <td>right</td>\n",
       "      <td>638681</td>\n",
       "      <td>789</td>\n",
       "      <td>6</td>\n",
       "      <td>810</td>\n",
       "      <td>-0.24</td>\n",
       "      <td>-0.11</td>\n",
       "      <td>0.13</td>\n",
       "      <td>226.0625</td>\n",
       "      <td>4.5625</td>\n",
       "      <td>-81.0625</td>\n",
       "      <td>P102</td>\n",
       "      <td>M151</td>\n",
       "      <td>H008</td>\n",
       "      <td>NaN</td>\n",
       "      <td>G15</td>\n",
       "    </tr>\n",
       "    <tr>\n",
       "      <th>2533</th>\n",
       "      <td>E001</td>\n",
       "      <td>Andreas</td>\n",
       "      <td>right</td>\n",
       "      <td>659946</td>\n",
       "      <td>789</td>\n",
       "      <td>0</td>\n",
       "      <td>809</td>\n",
       "      <td>-0.10</td>\n",
       "      <td>-0.11</td>\n",
       "      <td>0.06</td>\n",
       "      <td>226.1250</td>\n",
       "      <td>4.5000</td>\n",
       "      <td>-81.0000</td>\n",
       "      <td>P102</td>\n",
       "      <td>M151</td>\n",
       "      <td>H008</td>\n",
       "      <td>NaN</td>\n",
       "      <td>G15</td>\n",
       "    </tr>\n",
       "    <tr>\n",
       "      <th>2535</th>\n",
       "      <td>E001</td>\n",
       "      <td>Andreas</td>\n",
       "      <td>right</td>\n",
       "      <td>694943</td>\n",
       "      <td>792</td>\n",
       "      <td>7</td>\n",
       "      <td>809</td>\n",
       "      <td>-0.01</td>\n",
       "      <td>-0.06</td>\n",
       "      <td>0.08</td>\n",
       "      <td>226.1250</td>\n",
       "      <td>4.4375</td>\n",
       "      <td>-80.9375</td>\n",
       "      <td>P102</td>\n",
       "      <td>M151</td>\n",
       "      <td>H008</td>\n",
       "      <td>NaN</td>\n",
       "      <td>G15</td>\n",
       "    </tr>\n",
       "    <tr>\n",
       "      <th>...</th>\n",
       "      <td>...</td>\n",
       "      <td>...</td>\n",
       "      <td>...</td>\n",
       "      <td>...</td>\n",
       "      <td>...</td>\n",
       "      <td>...</td>\n",
       "      <td>...</td>\n",
       "      <td>...</td>\n",
       "      <td>...</td>\n",
       "      <td>...</td>\n",
       "      <td>...</td>\n",
       "      <td>...</td>\n",
       "      <td>...</td>\n",
       "      <td>...</td>\n",
       "      <td>...</td>\n",
       "      <td>...</td>\n",
       "      <td>...</td>\n",
       "      <td>...</td>\n",
       "    </tr>\n",
       "    <tr>\n",
       "      <th>3638</th>\n",
       "      <td>E001</td>\n",
       "      <td>Andreas</td>\n",
       "      <td>right</td>\n",
       "      <td>16062570</td>\n",
       "      <td>840</td>\n",
       "      <td>13</td>\n",
       "      <td>834</td>\n",
       "      <td>0.54</td>\n",
       "      <td>-0.73</td>\n",
       "      <td>-2.33</td>\n",
       "      <td>212.3750</td>\n",
       "      <td>36.4375</td>\n",
       "      <td>-71.0625</td>\n",
       "      <td>P102</td>\n",
       "      <td>M151</td>\n",
       "      <td>H008</td>\n",
       "      <td>NaN</td>\n",
       "      <td>G15</td>\n",
       "    </tr>\n",
       "    <tr>\n",
       "      <th>3640</th>\n",
       "      <td>E001</td>\n",
       "      <td>Andreas</td>\n",
       "      <td>right</td>\n",
       "      <td>16084972</td>\n",
       "      <td>843</td>\n",
       "      <td>0</td>\n",
       "      <td>832</td>\n",
       "      <td>-0.16</td>\n",
       "      <td>-0.15</td>\n",
       "      <td>-1.66</td>\n",
       "      <td>212.0000</td>\n",
       "      <td>37.6250</td>\n",
       "      <td>-74.0000</td>\n",
       "      <td>P102</td>\n",
       "      <td>M151</td>\n",
       "      <td>H008</td>\n",
       "      <td>NaN</td>\n",
       "      <td>G15</td>\n",
       "    </tr>\n",
       "    <tr>\n",
       "      <th>3642</th>\n",
       "      <td>E001</td>\n",
       "      <td>Andreas</td>\n",
       "      <td>right</td>\n",
       "      <td>16109866</td>\n",
       "      <td>847</td>\n",
       "      <td>8</td>\n",
       "      <td>835</td>\n",
       "      <td>1.10</td>\n",
       "      <td>-0.53</td>\n",
       "      <td>-1.75</td>\n",
       "      <td>212.4375</td>\n",
       "      <td>38.7500</td>\n",
       "      <td>-79.3750</td>\n",
       "      <td>P102</td>\n",
       "      <td>M151</td>\n",
       "      <td>H008</td>\n",
       "      <td>NaN</td>\n",
       "      <td>G15</td>\n",
       "    </tr>\n",
       "    <tr>\n",
       "      <th>3644</th>\n",
       "      <td>E001</td>\n",
       "      <td>Andreas</td>\n",
       "      <td>right</td>\n",
       "      <td>16133876</td>\n",
       "      <td>847</td>\n",
       "      <td>15</td>\n",
       "      <td>836</td>\n",
       "      <td>1.57</td>\n",
       "      <td>-0.89</td>\n",
       "      <td>-1.76</td>\n",
       "      <td>212.6875</td>\n",
       "      <td>39.0625</td>\n",
       "      <td>-82.9375</td>\n",
       "      <td>P102</td>\n",
       "      <td>M151</td>\n",
       "      <td>H008</td>\n",
       "      <td>NaN</td>\n",
       "      <td>G15</td>\n",
       "    </tr>\n",
       "    <tr>\n",
       "      <th>3646</th>\n",
       "      <td>E001</td>\n",
       "      <td>Andreas</td>\n",
       "      <td>right</td>\n",
       "      <td>16161356</td>\n",
       "      <td>847</td>\n",
       "      <td>0</td>\n",
       "      <td>838</td>\n",
       "      <td>0.54</td>\n",
       "      <td>-0.55</td>\n",
       "      <td>-1.79</td>\n",
       "      <td>212.3750</td>\n",
       "      <td>39.6250</td>\n",
       "      <td>-86.3125</td>\n",
       "      <td>P102</td>\n",
       "      <td>M151</td>\n",
       "      <td>H008</td>\n",
       "      <td>NaN</td>\n",
       "      <td>G15</td>\n",
       "    </tr>\n",
       "    <tr>\n",
       "      <th>3648</th>\n",
       "      <td>E001</td>\n",
       "      <td>Andreas</td>\n",
       "      <td>right</td>\n",
       "      <td>16185318</td>\n",
       "      <td>850</td>\n",
       "      <td>0</td>\n",
       "      <td>838</td>\n",
       "      <td>-0.67</td>\n",
       "      <td>0.07</td>\n",
       "      <td>-1.10</td>\n",
       "      <td>211.1875</td>\n",
       "      <td>40.6250</td>\n",
       "      <td>-91.7500</td>\n",
       "      <td>P102</td>\n",
       "      <td>M151</td>\n",
       "      <td>H008</td>\n",
       "      <td>NaN</td>\n",
       "      <td>G15</td>\n",
       "    </tr>\n",
       "    <tr>\n",
       "      <th>3649</th>\n",
       "      <td>E001</td>\n",
       "      <td>Andreas</td>\n",
       "      <td>right</td>\n",
       "      <td>16196647</td>\n",
       "      <td>850</td>\n",
       "      <td>1</td>\n",
       "      <td>838</td>\n",
       "      <td>0.65</td>\n",
       "      <td>-0.03</td>\n",
       "      <td>-0.83</td>\n",
       "      <td>211.3125</td>\n",
       "      <td>40.7500</td>\n",
       "      <td>-95.5000</td>\n",
       "      <td>P102</td>\n",
       "      <td>M151</td>\n",
       "      <td>H008</td>\n",
       "      <td>NaN</td>\n",
       "      <td>G15</td>\n",
       "    </tr>\n",
       "    <tr>\n",
       "      <th>3653</th>\n",
       "      <td>E001</td>\n",
       "      <td>Andreas</td>\n",
       "      <td>right</td>\n",
       "      <td>16240052</td>\n",
       "      <td>852</td>\n",
       "      <td>0</td>\n",
       "      <td>839</td>\n",
       "      <td>1.76</td>\n",
       "      <td>0.34</td>\n",
       "      <td>-0.23</td>\n",
       "      <td>211.5625</td>\n",
       "      <td>40.3125</td>\n",
       "      <td>-100.4375</td>\n",
       "      <td>P102</td>\n",
       "      <td>M151</td>\n",
       "      <td>H008</td>\n",
       "      <td>NaN</td>\n",
       "      <td>G15</td>\n",
       "    </tr>\n",
       "    <tr>\n",
       "      <th>3654</th>\n",
       "      <td>E001</td>\n",
       "      <td>Andreas</td>\n",
       "      <td>right</td>\n",
       "      <td>16242912</td>\n",
       "      <td>853</td>\n",
       "      <td>5</td>\n",
       "      <td>839</td>\n",
       "      <td>-0.22</td>\n",
       "      <td>0.10</td>\n",
       "      <td>-0.22</td>\n",
       "      <td>211.1875</td>\n",
       "      <td>40.2500</td>\n",
       "      <td>-102.8125</td>\n",
       "      <td>P102</td>\n",
       "      <td>M151</td>\n",
       "      <td>H008</td>\n",
       "      <td>NaN</td>\n",
       "      <td>G15</td>\n",
       "    </tr>\n",
       "    <tr>\n",
       "      <th>3657</th>\n",
       "      <td>E001</td>\n",
       "      <td>Andreas</td>\n",
       "      <td>right</td>\n",
       "      <td>16294160</td>\n",
       "      <td>855</td>\n",
       "      <td>13</td>\n",
       "      <td>843</td>\n",
       "      <td>-0.05</td>\n",
       "      <td>0.32</td>\n",
       "      <td>-0.07</td>\n",
       "      <td>210.9375</td>\n",
       "      <td>40.1875</td>\n",
       "      <td>-104.8750</td>\n",
       "      <td>P102</td>\n",
       "      <td>M151</td>\n",
       "      <td>H008</td>\n",
       "      <td>NaN</td>\n",
       "      <td>G15</td>\n",
       "    </tr>\n",
       "    <tr>\n",
       "      <th>3658</th>\n",
       "      <td>E001</td>\n",
       "      <td>Andreas</td>\n",
       "      <td>right</td>\n",
       "      <td>16296404</td>\n",
       "      <td>854</td>\n",
       "      <td>8</td>\n",
       "      <td>841</td>\n",
       "      <td>0.54</td>\n",
       "      <td>0.43</td>\n",
       "      <td>-0.27</td>\n",
       "      <td>211.5625</td>\n",
       "      <td>39.5000</td>\n",
       "      <td>-107.3125</td>\n",
       "      <td>P102</td>\n",
       "      <td>M151</td>\n",
       "      <td>H008</td>\n",
       "      <td>NaN</td>\n",
       "      <td>G15</td>\n",
       "    </tr>\n",
       "    <tr>\n",
       "      <th>3660</th>\n",
       "      <td>E001</td>\n",
       "      <td>Andreas</td>\n",
       "      <td>right</td>\n",
       "      <td>16321050</td>\n",
       "      <td>857</td>\n",
       "      <td>8</td>\n",
       "      <td>844</td>\n",
       "      <td>0.78</td>\n",
       "      <td>0.14</td>\n",
       "      <td>-0.45</td>\n",
       "      <td>212.0000</td>\n",
       "      <td>39.0625</td>\n",
       "      <td>-108.4375</td>\n",
       "      <td>P102</td>\n",
       "      <td>M151</td>\n",
       "      <td>H008</td>\n",
       "      <td>NaN</td>\n",
       "      <td>G15</td>\n",
       "    </tr>\n",
       "    <tr>\n",
       "      <th>3662</th>\n",
       "      <td>E001</td>\n",
       "      <td>Andreas</td>\n",
       "      <td>right</td>\n",
       "      <td>16350403</td>\n",
       "      <td>857</td>\n",
       "      <td>6</td>\n",
       "      <td>845</td>\n",
       "      <td>-0.82</td>\n",
       "      <td>0.39</td>\n",
       "      <td>0.14</td>\n",
       "      <td>212.1875</td>\n",
       "      <td>38.6250</td>\n",
       "      <td>-109.5000</td>\n",
       "      <td>P102</td>\n",
       "      <td>M151</td>\n",
       "      <td>H008</td>\n",
       "      <td>NaN</td>\n",
       "      <td>G15</td>\n",
       "    </tr>\n",
       "    <tr>\n",
       "      <th>3664</th>\n",
       "      <td>E001</td>\n",
       "      <td>Andreas</td>\n",
       "      <td>right</td>\n",
       "      <td>16375154</td>\n",
       "      <td>858</td>\n",
       "      <td>3</td>\n",
       "      <td>846</td>\n",
       "      <td>-0.16</td>\n",
       "      <td>0.56</td>\n",
       "      <td>-0.23</td>\n",
       "      <td>212.5000</td>\n",
       "      <td>38.1250</td>\n",
       "      <td>-110.0625</td>\n",
       "      <td>P102</td>\n",
       "      <td>M151</td>\n",
       "      <td>H008</td>\n",
       "      <td>NaN</td>\n",
       "      <td>G15</td>\n",
       "    </tr>\n",
       "    <tr>\n",
       "      <th>3667</th>\n",
       "      <td>E001</td>\n",
       "      <td>Andreas</td>\n",
       "      <td>right</td>\n",
       "      <td>16398858</td>\n",
       "      <td>858</td>\n",
       "      <td>8</td>\n",
       "      <td>846</td>\n",
       "      <td>0.66</td>\n",
       "      <td>1.38</td>\n",
       "      <td>0.59</td>\n",
       "      <td>213.0000</td>\n",
       "      <td>37.5625</td>\n",
       "      <td>-110.6250</td>\n",
       "      <td>P102</td>\n",
       "      <td>M151</td>\n",
       "      <td>H008</td>\n",
       "      <td>NaN</td>\n",
       "      <td>G15</td>\n",
       "    </tr>\n",
       "    <tr>\n",
       "      <th>3668</th>\n",
       "      <td>E001</td>\n",
       "      <td>Andreas</td>\n",
       "      <td>right</td>\n",
       "      <td>16411684</td>\n",
       "      <td>861</td>\n",
       "      <td>2</td>\n",
       "      <td>847</td>\n",
       "      <td>0.36</td>\n",
       "      <td>0.77</td>\n",
       "      <td>0.57</td>\n",
       "      <td>213.5625</td>\n",
       "      <td>36.8750</td>\n",
       "      <td>-110.9375</td>\n",
       "      <td>P102</td>\n",
       "      <td>M151</td>\n",
       "      <td>H008</td>\n",
       "      <td>NaN</td>\n",
       "      <td>G15</td>\n",
       "    </tr>\n",
       "    <tr>\n",
       "      <th>3670</th>\n",
       "      <td>E001</td>\n",
       "      <td>Andreas</td>\n",
       "      <td>right</td>\n",
       "      <td>16435014</td>\n",
       "      <td>863</td>\n",
       "      <td>0</td>\n",
       "      <td>848</td>\n",
       "      <td>-0.69</td>\n",
       "      <td>-0.12</td>\n",
       "      <td>-0.42</td>\n",
       "      <td>213.7500</td>\n",
       "      <td>36.6875</td>\n",
       "      <td>-110.5625</td>\n",
       "      <td>P102</td>\n",
       "      <td>M151</td>\n",
       "      <td>H008</td>\n",
       "      <td>NaN</td>\n",
       "      <td>G15</td>\n",
       "    </tr>\n",
       "    <tr>\n",
       "      <th>3672</th>\n",
       "      <td>E001</td>\n",
       "      <td>Andreas</td>\n",
       "      <td>right</td>\n",
       "      <td>16467681</td>\n",
       "      <td>863</td>\n",
       "      <td>0</td>\n",
       "      <td>849</td>\n",
       "      <td>0.07</td>\n",
       "      <td>-0.18</td>\n",
       "      <td>-0.80</td>\n",
       "      <td>213.8125</td>\n",
       "      <td>36.4375</td>\n",
       "      <td>-110.3125</td>\n",
       "      <td>P102</td>\n",
       "      <td>M151</td>\n",
       "      <td>H008</td>\n",
       "      <td>NaN</td>\n",
       "      <td>G15</td>\n",
       "    </tr>\n",
       "    <tr>\n",
       "      <th>3674</th>\n",
       "      <td>E001</td>\n",
       "      <td>Andreas</td>\n",
       "      <td>right</td>\n",
       "      <td>16487596</td>\n",
       "      <td>864</td>\n",
       "      <td>6</td>\n",
       "      <td>850</td>\n",
       "      <td>0.33</td>\n",
       "      <td>-0.41</td>\n",
       "      <td>-0.91</td>\n",
       "      <td>213.9375</td>\n",
       "      <td>36.1250</td>\n",
       "      <td>-110.3125</td>\n",
       "      <td>P102</td>\n",
       "      <td>M151</td>\n",
       "      <td>H008</td>\n",
       "      <td>NaN</td>\n",
       "      <td>G15</td>\n",
       "    </tr>\n",
       "    <tr>\n",
       "      <th>3677</th>\n",
       "      <td>E001</td>\n",
       "      <td>Andreas</td>\n",
       "      <td>right</td>\n",
       "      <td>16525131</td>\n",
       "      <td>864</td>\n",
       "      <td>0</td>\n",
       "      <td>849</td>\n",
       "      <td>0.71</td>\n",
       "      <td>-0.52</td>\n",
       "      <td>-0.92</td>\n",
       "      <td>213.6250</td>\n",
       "      <td>36.0000</td>\n",
       "      <td>-110.4375</td>\n",
       "      <td>P102</td>\n",
       "      <td>M151</td>\n",
       "      <td>H008</td>\n",
       "      <td>NaN</td>\n",
       "      <td>G15</td>\n",
       "    </tr>\n",
       "    <tr>\n",
       "      <th>3678</th>\n",
       "      <td>E001</td>\n",
       "      <td>Andreas</td>\n",
       "      <td>right</td>\n",
       "      <td>16537663</td>\n",
       "      <td>863</td>\n",
       "      <td>14</td>\n",
       "      <td>849</td>\n",
       "      <td>0.06</td>\n",
       "      <td>-0.47</td>\n",
       "      <td>-0.81</td>\n",
       "      <td>212.8750</td>\n",
       "      <td>36.0000</td>\n",
       "      <td>-110.6250</td>\n",
       "      <td>P102</td>\n",
       "      <td>M151</td>\n",
       "      <td>H008</td>\n",
       "      <td>NaN</td>\n",
       "      <td>G15</td>\n",
       "    </tr>\n",
       "    <tr>\n",
       "      <th>3680</th>\n",
       "      <td>E001</td>\n",
       "      <td>Andreas</td>\n",
       "      <td>right</td>\n",
       "      <td>16562591</td>\n",
       "      <td>864</td>\n",
       "      <td>0</td>\n",
       "      <td>848</td>\n",
       "      <td>0.54</td>\n",
       "      <td>1.36</td>\n",
       "      <td>1.11</td>\n",
       "      <td>211.4375</td>\n",
       "      <td>36.1250</td>\n",
       "      <td>-111.1250</td>\n",
       "      <td>P102</td>\n",
       "      <td>M151</td>\n",
       "      <td>H008</td>\n",
       "      <td>NaN</td>\n",
       "      <td>G15</td>\n",
       "    </tr>\n",
       "    <tr>\n",
       "      <th>3683</th>\n",
       "      <td>E001</td>\n",
       "      <td>Andreas</td>\n",
       "      <td>right</td>\n",
       "      <td>16597591</td>\n",
       "      <td>866</td>\n",
       "      <td>0</td>\n",
       "      <td>850</td>\n",
       "      <td>0.95</td>\n",
       "      <td>0.50</td>\n",
       "      <td>-0.04</td>\n",
       "      <td>211.0000</td>\n",
       "      <td>36.1250</td>\n",
       "      <td>-111.2500</td>\n",
       "      <td>P102</td>\n",
       "      <td>M151</td>\n",
       "      <td>H008</td>\n",
       "      <td>NaN</td>\n",
       "      <td>G15</td>\n",
       "    </tr>\n",
       "    <tr>\n",
       "      <th>3684</th>\n",
       "      <td>E001</td>\n",
       "      <td>Andreas</td>\n",
       "      <td>right</td>\n",
       "      <td>16611568</td>\n",
       "      <td>867</td>\n",
       "      <td>0</td>\n",
       "      <td>849</td>\n",
       "      <td>0.34</td>\n",
       "      <td>0.00</td>\n",
       "      <td>-0.07</td>\n",
       "      <td>210.4375</td>\n",
       "      <td>36.2500</td>\n",
       "      <td>-111.1875</td>\n",
       "      <td>P102</td>\n",
       "      <td>M151</td>\n",
       "      <td>H008</td>\n",
       "      <td>NaN</td>\n",
       "      <td>G15</td>\n",
       "    </tr>\n",
       "    <tr>\n",
       "      <th>3686</th>\n",
       "      <td>E001</td>\n",
       "      <td>Andreas</td>\n",
       "      <td>right</td>\n",
       "      <td>16627578</td>\n",
       "      <td>866</td>\n",
       "      <td>10</td>\n",
       "      <td>850</td>\n",
       "      <td>-0.95</td>\n",
       "      <td>-0.51</td>\n",
       "      <td>-0.23</td>\n",
       "      <td>209.0625</td>\n",
       "      <td>36.5000</td>\n",
       "      <td>-111.3125</td>\n",
       "      <td>P102</td>\n",
       "      <td>M151</td>\n",
       "      <td>H008</td>\n",
       "      <td>NaN</td>\n",
       "      <td>G15</td>\n",
       "    </tr>\n",
       "    <tr>\n",
       "      <th>3688</th>\n",
       "      <td>E001</td>\n",
       "      <td>Andreas</td>\n",
       "      <td>right</td>\n",
       "      <td>16656344</td>\n",
       "      <td>868</td>\n",
       "      <td>10</td>\n",
       "      <td>850</td>\n",
       "      <td>-0.24</td>\n",
       "      <td>-0.12</td>\n",
       "      <td>-0.25</td>\n",
       "      <td>208.3750</td>\n",
       "      <td>36.6250</td>\n",
       "      <td>-111.7500</td>\n",
       "      <td>P102</td>\n",
       "      <td>M151</td>\n",
       "      <td>H008</td>\n",
       "      <td>NaN</td>\n",
       "      <td>G15</td>\n",
       "    </tr>\n",
       "    <tr>\n",
       "      <th>3690</th>\n",
       "      <td>E001</td>\n",
       "      <td>Andreas</td>\n",
       "      <td>right</td>\n",
       "      <td>16676350</td>\n",
       "      <td>870</td>\n",
       "      <td>2</td>\n",
       "      <td>847</td>\n",
       "      <td>0.54</td>\n",
       "      <td>0.21</td>\n",
       "      <td>-0.34</td>\n",
       "      <td>207.9375</td>\n",
       "      <td>36.6250</td>\n",
       "      <td>-112.3750</td>\n",
       "      <td>P102</td>\n",
       "      <td>M151</td>\n",
       "      <td>H008</td>\n",
       "      <td>NaN</td>\n",
       "      <td>G15</td>\n",
       "    </tr>\n",
       "    <tr>\n",
       "      <th>3692</th>\n",
       "      <td>E001</td>\n",
       "      <td>Andreas</td>\n",
       "      <td>right</td>\n",
       "      <td>16702533</td>\n",
       "      <td>867</td>\n",
       "      <td>8</td>\n",
       "      <td>849</td>\n",
       "      <td>0.28</td>\n",
       "      <td>0.19</td>\n",
       "      <td>-0.29</td>\n",
       "      <td>207.2500</td>\n",
       "      <td>36.6875</td>\n",
       "      <td>-112.8125</td>\n",
       "      <td>P102</td>\n",
       "      <td>M151</td>\n",
       "      <td>H008</td>\n",
       "      <td>NaN</td>\n",
       "      <td>G15</td>\n",
       "    </tr>\n",
       "    <tr>\n",
       "      <th>3695</th>\n",
       "      <td>E001</td>\n",
       "      <td>Andreas</td>\n",
       "      <td>right</td>\n",
       "      <td>16736580</td>\n",
       "      <td>868</td>\n",
       "      <td>11</td>\n",
       "      <td>849</td>\n",
       "      <td>-0.54</td>\n",
       "      <td>0.14</td>\n",
       "      <td>-0.24</td>\n",
       "      <td>206.7500</td>\n",
       "      <td>36.8750</td>\n",
       "      <td>-112.9375</td>\n",
       "      <td>P102</td>\n",
       "      <td>M151</td>\n",
       "      <td>H008</td>\n",
       "      <td>NaN</td>\n",
       "      <td>G15</td>\n",
       "    </tr>\n",
       "    <tr>\n",
       "      <th>3696</th>\n",
       "      <td>E001</td>\n",
       "      <td>Andreas</td>\n",
       "      <td>right</td>\n",
       "      <td>16750193</td>\n",
       "      <td>868</td>\n",
       "      <td>3</td>\n",
       "      <td>845</td>\n",
       "      <td>-0.20</td>\n",
       "      <td>-0.08</td>\n",
       "      <td>-0.25</td>\n",
       "      <td>206.2500</td>\n",
       "      <td>37.0000</td>\n",
       "      <td>-113.0625</td>\n",
       "      <td>P102</td>\n",
       "      <td>M151</td>\n",
       "      <td>H008</td>\n",
       "      <td>NaN</td>\n",
       "      <td>G15</td>\n",
       "    </tr>\n",
       "  </tbody>\n",
       "</table>\n",
       "<p>195 rows × 18 columns</p>\n",
       "</div>"
      ],
      "text/plain": [
       "     Experiment  Subject collectedByHand  TimeStamp  GRASP_A  GRASP_B  \\\n",
       "2477       E001  Andreas           right          0      790       10   \n",
       "2480       E001  Andreas           right      31090      789        0   \n",
       "2482       E001  Andreas           right      55174      789        0   \n",
       "2484       E001  Andreas           right      77280      788       12   \n",
       "2485       E001  Andreas           right      97476      789        9   \n",
       "2486       E001  Andreas           right     113645      791        0   \n",
       "2489       E001  Andreas           right     135236      791        5   \n",
       "2491       E001  Andreas           right     166211      788        0   \n",
       "2493       E001  Andreas           right     183683      789        0   \n",
       "2496       E001  Andreas           right     224902      790        9   \n",
       "2497       E001  Andreas           right     232482      789        6   \n",
       "2499       E001  Andreas           right     257430      790        1   \n",
       "2502       E001  Andreas           right     282613      791       10   \n",
       "2504       E001  Andreas           right     307497      790        3   \n",
       "2506       E001  Andreas           right     333592      791        0   \n",
       "2507       E001  Andreas           right     353620      791        0   \n",
       "2508       E001  Andreas           right     364904      790       10   \n",
       "2511       E001  Andreas           right     416372      790        1   \n",
       "2513       E001  Andreas           right     424882      792        0   \n",
       "2515       E001  Andreas           right     447389      791        0   \n",
       "2517       E001  Andreas           right     469921      793        8   \n",
       "2520       E001  Andreas           right     508595      790        0   \n",
       "2522       E001  Andreas           right     527695      793        0   \n",
       "2523       E001  Andreas           right     542475      789        0   \n",
       "2525       E001  Andreas           right     573690      791       11   \n",
       "2527       E001  Andreas           right     584714      792        1   \n",
       "2529       E001  Andreas           right     613696      792        3   \n",
       "2531       E001  Andreas           right     638681      789        6   \n",
       "2533       E001  Andreas           right     659946      789        0   \n",
       "2535       E001  Andreas           right     694943      792        7   \n",
       "...         ...      ...             ...        ...      ...      ...   \n",
       "3638       E001  Andreas           right   16062570      840       13   \n",
       "3640       E001  Andreas           right   16084972      843        0   \n",
       "3642       E001  Andreas           right   16109866      847        8   \n",
       "3644       E001  Andreas           right   16133876      847       15   \n",
       "3646       E001  Andreas           right   16161356      847        0   \n",
       "3648       E001  Andreas           right   16185318      850        0   \n",
       "3649       E001  Andreas           right   16196647      850        1   \n",
       "3653       E001  Andreas           right   16240052      852        0   \n",
       "3654       E001  Andreas           right   16242912      853        5   \n",
       "3657       E001  Andreas           right   16294160      855       13   \n",
       "3658       E001  Andreas           right   16296404      854        8   \n",
       "3660       E001  Andreas           right   16321050      857        8   \n",
       "3662       E001  Andreas           right   16350403      857        6   \n",
       "3664       E001  Andreas           right   16375154      858        3   \n",
       "3667       E001  Andreas           right   16398858      858        8   \n",
       "3668       E001  Andreas           right   16411684      861        2   \n",
       "3670       E001  Andreas           right   16435014      863        0   \n",
       "3672       E001  Andreas           right   16467681      863        0   \n",
       "3674       E001  Andreas           right   16487596      864        6   \n",
       "3677       E001  Andreas           right   16525131      864        0   \n",
       "3678       E001  Andreas           right   16537663      863       14   \n",
       "3680       E001  Andreas           right   16562591      864        0   \n",
       "3683       E001  Andreas           right   16597591      866        0   \n",
       "3684       E001  Andreas           right   16611568      867        0   \n",
       "3686       E001  Andreas           right   16627578      866       10   \n",
       "3688       E001  Andreas           right   16656344      868       10   \n",
       "3690       E001  Andreas           right   16676350      870        2   \n",
       "3692       E001  Andreas           right   16702533      867        8   \n",
       "3695       E001  Andreas           right   16736580      868       11   \n",
       "3696       E001  Andreas           right   16750193      868        3   \n",
       "\n",
       "      GRASP_C    AX    AY    AZ        EX       EY        EZ Parcours  \\\n",
       "2477      809  1.29  0.15 -0.24  236.0000   4.1250  -82.5000     P102   \n",
       "2480      807  1.53  0.39  0.19  236.0625   3.7500  -83.0625     P102   \n",
       "2482      808  1.14  0.62  0.64  235.9375   3.5625  -83.7500     P102   \n",
       "2484      808  1.07  0.44  0.63  235.8125   3.6250  -83.8750     P102   \n",
       "2485      808  1.02  0.30  0.53  235.5625   3.8125  -83.8125     P102   \n",
       "2486      809  0.54  0.00  0.17  235.1250   4.0000  -83.5625     P102   \n",
       "2489      809  0.25 -0.15  0.10  234.6250   4.1250  -83.3125     P102   \n",
       "2491      809 -0.19 -0.06  0.21  234.0000   4.1875  -83.1875     P102   \n",
       "2493      809 -0.41  0.01  0.40  233.3125   4.1875  -83.0000     P102   \n",
       "2496      809 -0.40  0.14  0.44  232.6875   4.1875  -82.9375     P102   \n",
       "2497      809 -0.65  0.21  0.47  231.7500   4.1250  -82.7500     P102   \n",
       "2499      809 -0.14  0.21  0.51  231.3125   4.1875  -82.5000     P102   \n",
       "2502      810  0.07  0.00  0.18  231.0625   4.4375  -82.1875     P102   \n",
       "2504      809  0.16  0.03 -0.37  230.6250   4.9375  -81.9375     P102   \n",
       "2506      810 -0.03  0.09 -0.26  230.1250   5.2500  -81.8750     P102   \n",
       "2507      810 -0.24  0.10 -0.49  229.5000   5.4375  -81.7500     P102   \n",
       "2508      810 -0.80 -0.08 -0.40  228.3750   5.6875  -81.5625     P102   \n",
       "2511      810 -1.04 -0.19 -0.07  227.5625   5.8750  -81.4375     P102   \n",
       "2513      808 -1.35 -0.10  0.09  226.8750   6.0625  -81.3125     P102   \n",
       "2515      808 -0.98 -0.01 -0.15  226.3750   6.2500  -81.1875     P102   \n",
       "2517      810 -0.87 -0.07 -0.10  226.3125   6.3750  -81.1875     P102   \n",
       "2520      808 -0.70 -0.15 -0.32  226.3125   6.4375  -81.1875     P102   \n",
       "2522      810 -1.10 -0.14 -0.11  226.0000   6.5000  -81.3125     P102   \n",
       "2523      809 -0.97 -0.17 -0.03  226.0625   6.1250  -81.3750     P102   \n",
       "2525      808 -1.00 -0.15 -0.05  226.0625   5.6875  -81.3750     P102   \n",
       "2527      808 -0.77 -0.15 -0.07  226.0625   5.0625  -81.2500     P102   \n",
       "2529      809 -0.58 -0.10 -0.03  226.1250   4.7500  -81.1875     P102   \n",
       "2531      810 -0.24 -0.11  0.13  226.0625   4.5625  -81.0625     P102   \n",
       "2533      809 -0.10 -0.11  0.06  226.1250   4.5000  -81.0000     P102   \n",
       "2535      809 -0.01 -0.06  0.08  226.1250   4.4375  -80.9375     P102   \n",
       "...       ...   ...   ...   ...       ...      ...       ...      ...   \n",
       "3638      834  0.54 -0.73 -2.33  212.3750  36.4375  -71.0625     P102   \n",
       "3640      832 -0.16 -0.15 -1.66  212.0000  37.6250  -74.0000     P102   \n",
       "3642      835  1.10 -0.53 -1.75  212.4375  38.7500  -79.3750     P102   \n",
       "3644      836  1.57 -0.89 -1.76  212.6875  39.0625  -82.9375     P102   \n",
       "3646      838  0.54 -0.55 -1.79  212.3750  39.6250  -86.3125     P102   \n",
       "3648      838 -0.67  0.07 -1.10  211.1875  40.6250  -91.7500     P102   \n",
       "3649      838  0.65 -0.03 -0.83  211.3125  40.7500  -95.5000     P102   \n",
       "3653      839  1.76  0.34 -0.23  211.5625  40.3125 -100.4375     P102   \n",
       "3654      839 -0.22  0.10 -0.22  211.1875  40.2500 -102.8125     P102   \n",
       "3657      843 -0.05  0.32 -0.07  210.9375  40.1875 -104.8750     P102   \n",
       "3658      841  0.54  0.43 -0.27  211.5625  39.5000 -107.3125     P102   \n",
       "3660      844  0.78  0.14 -0.45  212.0000  39.0625 -108.4375     P102   \n",
       "3662      845 -0.82  0.39  0.14  212.1875  38.6250 -109.5000     P102   \n",
       "3664      846 -0.16  0.56 -0.23  212.5000  38.1250 -110.0625     P102   \n",
       "3667      846  0.66  1.38  0.59  213.0000  37.5625 -110.6250     P102   \n",
       "3668      847  0.36  0.77  0.57  213.5625  36.8750 -110.9375     P102   \n",
       "3670      848 -0.69 -0.12 -0.42  213.7500  36.6875 -110.5625     P102   \n",
       "3672      849  0.07 -0.18 -0.80  213.8125  36.4375 -110.3125     P102   \n",
       "3674      850  0.33 -0.41 -0.91  213.9375  36.1250 -110.3125     P102   \n",
       "3677      849  0.71 -0.52 -0.92  213.6250  36.0000 -110.4375     P102   \n",
       "3678      849  0.06 -0.47 -0.81  212.8750  36.0000 -110.6250     P102   \n",
       "3680      848  0.54  1.36  1.11  211.4375  36.1250 -111.1250     P102   \n",
       "3683      850  0.95  0.50 -0.04  211.0000  36.1250 -111.2500     P102   \n",
       "3684      849  0.34  0.00 -0.07  210.4375  36.2500 -111.1875     P102   \n",
       "3686      850 -0.95 -0.51 -0.23  209.0625  36.5000 -111.3125     P102   \n",
       "3688      850 -0.24 -0.12 -0.25  208.3750  36.6250 -111.7500     P102   \n",
       "3690      847  0.54  0.21 -0.34  207.9375  36.6250 -112.3750     P102   \n",
       "3692      849  0.28  0.19 -0.29  207.2500  36.6875 -112.8125     P102   \n",
       "3695      849 -0.54  0.14 -0.24  206.7500  36.8750 -112.9375     P102   \n",
       "3696      845 -0.20 -0.08 -0.25  206.2500  37.0000 -113.0625     P102   \n",
       "\n",
       "     Mutation  Host Host/Spot Gesture  \n",
       "2477     M151  H008       NaN     G15  \n",
       "2480     M151  H008       NaN     G15  \n",
       "2482     M151  H008       NaN     G15  \n",
       "2484     M151  H008       NaN     G15  \n",
       "2485     M151  H008       NaN     G15  \n",
       "2486     M151  H008       NaN     G15  \n",
       "2489     M151  H008       NaN     G15  \n",
       "2491     M151  H008       NaN     G15  \n",
       "2493     M151  H008       NaN     G15  \n",
       "2496     M151  H008       NaN     G15  \n",
       "2497     M151  H008       NaN     G15  \n",
       "2499     M151  H008       NaN     G15  \n",
       "2502     M151  H008       NaN     G15  \n",
       "2504     M151  H008       NaN     G15  \n",
       "2506     M151  H008       NaN     G15  \n",
       "2507     M151  H008       NaN     G15  \n",
       "2508     M151  H008       NaN     G15  \n",
       "2511     M151  H008       NaN     G15  \n",
       "2513     M151  H008       NaN     G15  \n",
       "2515     M151  H008       NaN     G15  \n",
       "2517     M151  H008       NaN     G15  \n",
       "2520     M151  H008       NaN     G15  \n",
       "2522     M151  H008       NaN     G15  \n",
       "2523     M151  H008       NaN     G15  \n",
       "2525     M151  H008       NaN     G15  \n",
       "2527     M151  H008       NaN     G15  \n",
       "2529     M151  H008       NaN     G15  \n",
       "2531     M151  H008       NaN     G15  \n",
       "2533     M151  H008       NaN     G15  \n",
       "2535     M151  H008       NaN     G15  \n",
       "...       ...   ...       ...     ...  \n",
       "3638     M151  H008       NaN     G15  \n",
       "3640     M151  H008       NaN     G15  \n",
       "3642     M151  H008       NaN     G15  \n",
       "3644     M151  H008       NaN     G15  \n",
       "3646     M151  H008       NaN     G15  \n",
       "3648     M151  H008       NaN     G15  \n",
       "3649     M151  H008       NaN     G15  \n",
       "3653     M151  H008       NaN     G15  \n",
       "3654     M151  H008       NaN     G15  \n",
       "3657     M151  H008       NaN     G15  \n",
       "3658     M151  H008       NaN     G15  \n",
       "3660     M151  H008       NaN     G15  \n",
       "3662     M151  H008       NaN     G15  \n",
       "3664     M151  H008       NaN     G15  \n",
       "3667     M151  H008       NaN     G15  \n",
       "3668     M151  H008       NaN     G15  \n",
       "3670     M151  H008       NaN     G15  \n",
       "3672     M151  H008       NaN     G15  \n",
       "3674     M151  H008       NaN     G15  \n",
       "3677     M151  H008       NaN     G15  \n",
       "3678     M151  H008       NaN     G15  \n",
       "3680     M151  H008       NaN     G15  \n",
       "3683     M151  H008       NaN     G15  \n",
       "3684     M151  H008       NaN     G15  \n",
       "3686     M151  H008       NaN     G15  \n",
       "3688     M151  H008       NaN     G15  \n",
       "3690     M151  H008       NaN     G15  \n",
       "3692     M151  H008       NaN     G15  \n",
       "3695     M151  H008       NaN     G15  \n",
       "3696     M151  H008       NaN     G15  \n",
       "\n",
       "[195 rows x 18 columns]"
      ]
     },
     "execution_count": 301,
     "metadata": {},
     "output_type": "execute_result"
    }
   ],
   "source": [
    "get_experiment(data,exp,subject,parcours,mutation=None,gesture='G15')\n",
    "\n"
   ]
  },
  {
   "cell_type": "markdown",
   "metadata": {},
   "source": [
    "### Check TimeStep deltas"
   ]
  },
  {
   "cell_type": "code",
   "execution_count": 289,
   "metadata": {
    "collapsed": false
   },
   "outputs": [],
   "source": [
    "def one_plot(mydata,var):\n",
    "    y = mydata[var]\n",
    "    x = range(len(y))\n",
    "    #x = mydata['TimeStamp']\n",
    "    plt.plot(x, y)\n",
    "    title = \"%s %s %s %s %s %s\" % (exp,subject,parcours,mutation,gesture,gesture_name(gesture)) \n",
    "    plt.title(title)\n",
    "    #plt.show()"
   ]
  },
  {
   "cell_type": "code",
   "execution_count": 290,
   "metadata": {
    "collapsed": false
   },
   "outputs": [
    {
     "data": {
      "text/plain": [
       "count       663.000000\n",
       "mean      27686.944193\n",
       "std       35440.604695\n",
       "min         957.000000\n",
       "25%       17415.500000\n",
       "50%       24060.000000\n",
       "75%       28759.000000\n",
       "max      333752.000000\n",
       "Name: TimeStamp, dtype: float64"
      ]
     },
     "execution_count": 290,
     "metadata": {},
     "output_type": "execute_result"
    }
   ],
   "source": [
    "# investigate time stamp mean and variance\n",
    "mydata['TimeStamp'].diff().describe()"
   ]
  },
  {
   "cell_type": "code",
   "execution_count": 295,
   "metadata": {
    "collapsed": false
   },
   "outputs": [
    {
     "data": {
      "image/png": "[encoded data removed]",
      "text/plain": [
       "<matplotlib.figure.Figure at 0x7f059cc6e490>"
      ]
     },
     "metadata": {},
     "output_type": "display_data"
    }
   ],
   "source": [
    "var = 'TimeStamp'\n",
    "one_plot(mydata,var)"
   ]
  },
  {
   "cell_type": "markdown",
   "metadata": {},
   "source": [
    "#### TODO: Should we interpolate by event timestamps?\n"
   ]
  },
  {
   "cell_type": "markdown",
   "metadata": {
    "collapsed": true
   },
   "source": [
    "### Visualize timeline of sensor data of an experiment"
   ]
  },
  {
   "cell_type": "code",
   "execution_count": 307,
   "metadata": {
    "collapsed": true
   },
   "outputs": [],
   "source": [
    "# TODO GRASP_A B C\n",
    "params = ['AX', 'AY', 'AZ', 'EX', 'EY', 'EZ']"
   ]
  },
  {
   "cell_type": "code",
   "execution_count": 355,
   "metadata": {
    "collapsed": false
   },
   "outputs": [],
   "source": [
    "def grid_plot(mydata, title=True):\n",
    "    rows = 3\n",
    "    cols = 2\n",
    "    fig, axes = plt.subplots(rows, cols, figsize=(16, 10)) #, sharex=True, sharey=True)\n",
    "    if title is True:\n",
    "        titlestr = \"%s %s %s %s %s %s\" % (exp,subject,parcours,mutation,gesture,gesture_name(gesture))\n",
    "        fig.suptitle(titlestr, fontsize=16)\n",
    "    elif title is not None:\n",
    "        fig.suptitle(title, fontsize=16)\n",
    "\n",
    "    axes_list = axes.reshape(-1)\n",
    "\n",
    "    for i, var in enumerate(params):\n",
    "\n",
    "        # data\n",
    "        y = mydata[var]\n",
    "        x = range(len(y))\n",
    "        #x = mydata['TimeStamp']\n",
    "\n",
    "        # subplot index\n",
    "        r = i % rows\n",
    "        c = int(i / rows)\n",
    "        axes[r,c].plot(x, y)\n",
    "        axes[r,c].set_title(var)\n",
    "    "
   ]
  },
  {
   "cell_type": "code",
   "execution_count": 296,
   "metadata": {
    "collapsed": false
   },
   "outputs": [
    {
     "data": {
      "image/png": "[encoded data removed]",
      "text/plain": [
       "<matplotlib.figure.Figure at 0x7f059c6c8550>"
      ]
     },
     "metadata": {},
     "output_type": "display_data"
    }
   ],
   "source": [
    "grid_plot(mydata)"
   ]
  },
  {
   "cell_type": "code",
   "execution_count": 302,
   "metadata": {
    "collapsed": false
   },
   "outputs": [
    {
     "data": {
      "image/png": "[encoded data removed]",
      "text/plain": [
       "<matplotlib.figure.Figure at 0x7f05a4530dd0>"
      ]
     },
     "metadata": {},
     "output_type": "display_data"
    }
   ],
   "source": [
    "grid_plot(mydata)"
   ]
  },
  {
   "cell_type": "code",
   "execution_count": 309,
   "metadata": {
    "collapsed": false
   },
   "outputs": [
    {
     "data": {
      "text/plain": [
       "[u'G01',\n",
       " u'G02',\n",
       " u'G03',\n",
       " u'G04',\n",
       " u'G05',\n",
       " u'G06',\n",
       " u'G07',\n",
       " u'G08',\n",
       " u'G09',\n",
       " u'G10',\n",
       " u'G11',\n",
       " u'G12',\n",
       " u'G13']"
      ]
     },
     "execution_count": 309,
     "metadata": {},
     "output_type": "execute_result"
    }
   ],
   "source": [
    "gestures_pos"
   ]
  },
  {
   "cell_type": "code",
   "execution_count": null,
   "metadata": {
    "collapsed": true
   },
   "outputs": [],
   "source": [
    "# Make groupings by Subject, Experiment, "
   ]
  },
  {
   "cell_type": "code",
   "execution_count": null,
   "metadata": {
    "collapsed": true
   },
   "outputs": [],
   "source": [
    "# Iterate over Experiments etc. to group data by gestures\n",
    "\n",
    "experiments = data['Experiment'].unique().tolist()\n",
    "\n"
   ]
  },
  {
   "cell_type": "code",
   "execution_count": 336,
   "metadata": {
    "collapsed": true
   },
   "outputs": [],
   "source": [
    "# dictionary containing a list of sub-datasets for each gesture, to train ML\n",
    "gesture_exp_dict = {}"
   ]
  },
  {
   "cell_type": "code",
   "execution_count": 344,
   "metadata": {
    "collapsed": false,
    "scrolled": false
   },
   "outputs": [
    {
     "name": "stdout",
     "output_type": "stream",
     "text": [
      "Andreas E001 : 57 parcours\n",
      "- P101 (1238, 18) 89 mutations 10 gestures\n",
      "(245, 18)\n",
      "(626, 18)\n",
      "(367, 18)\n",
      "- P102 (664, 18) 89 mutations 10 gestures\n",
      "(195, 18)\n",
      "(277, 18)\n",
      "(192, 18)\n",
      "- P103 (845, 18) 89 mutations 10 gestures\n",
      "(217, 18)\n",
      "(362, 18)\n",
      "(266, 18)\n",
      "- P104 (889, 18) 89 mutations 10 gestures\n",
      "(102, 18)\n",
      "(445, 18)\n",
      "(342, 18)\n",
      "- P105 (2368, 18) 89 mutations 10 gestures\n",
      "(495, 18)\n",
      "(1873, 18)\n",
      "Andreas E006 : 59 parcours\n",
      "- P611 (1205, 18) 111 mutations 17 gestures\n",
      "(146, 18)\n",
      "(150, 18)\n",
      "(417, 18)\n",
      "(492, 18)\n",
      "- P612 (816, 18) 111 mutations 17 gestures\n",
      "(128, 18)\n",
      "(81, 18)\n",
      "(286, 18)\n",
      "(321, 18)\n",
      "- P613 (889, 18) 111 mutations 17 gestures\n",
      "(111, 18)\n",
      "(95, 18)\n",
      "(381, 18)\n",
      "(302, 18)\n",
      "- P616 (1014, 18) 111 mutations 17 gestures\n",
      "(91, 18)\n",
      "(200, 18)\n",
      "(300, 18)\n",
      "(423, 18)\n",
      "- P617 (791, 18) 111 mutations 17 gestures\n",
      "(104, 18)\n",
      "(79, 18)\n",
      "(311, 18)\n",
      "(297, 18)\n",
      "Alfred E002 : 77 parcours\n",
      "- P101 (720, 18) 115 mutations 10 gestures\n",
      "(142, 18)\n",
      "(268, 18)\n",
      "(310, 18)\n",
      "- P102 (531, 18) 115 mutations 10 gestures\n",
      "(142, 18)\n",
      "(204, 18)\n",
      "(185, 18)\n",
      "- P103 (740, 18) 115 mutations 10 gestures\n",
      "(153, 18)\n",
      "(305, 18)\n",
      "(282, 18)\n",
      "- P104 (801, 18) 115 mutations 10 gestures\n",
      "(115, 18)\n",
      "(361, 18)\n",
      "(325, 18)\n",
      "- P107 (576, 18) 115 mutations 10 gestures\n",
      "(102, 18)\n",
      "(270, 18)\n",
      "(204, 18)\n",
      "Alfred E008 : 31 parcours\n",
      "- P119 (3140, 18) 74 mutations 10 gestures\n",
      "(107, 18)\n",
      "(1789, 18)\n",
      "(1244, 18)\n",
      "- P120 (2520, 18) 74 mutations 10 gestures\n",
      "(95, 18)\n",
      "(1199, 18)\n",
      "(1226, 18)\n",
      "- P121 (2964, 18) 74 mutations 10 gestures\n",
      "(93, 18)\n",
      "(1660, 18)\n",
      "(1211, 18)\n",
      "- P231 (3484, 18) 74 mutations 10 gestures\n",
      "(162, 18)\n",
      "(100, 18)\n",
      "(1687, 18)\n",
      "(1535, 18)\n",
      "- P232 (2517, 18) 74 mutations 10 gestures\n",
      "(64, 18)\n",
      "(106, 18)\n",
      "(1124, 18)\n",
      "(1223, 18)\n",
      "Claudia E003 : 77 parcours\n",
      "- P101 (757, 18) 115 mutations 10 gestures\n",
      "(104, 18)\n",
      "(290, 18)\n",
      "(363, 18)\n",
      "- P102 (633, 18) 115 mutations 10 gestures\n",
      "(146, 18)\n",
      "(265, 18)\n",
      "(222, 18)\n",
      "- P103 (514, 18) 115 mutations 10 gestures\n",
      "(102, 18)\n",
      "(203, 18)\n",
      "(209, 18)\n",
      "- P104 (574, 18) 115 mutations 10 gestures\n",
      "(102, 18)\n",
      "(231, 18)\n",
      "(241, 18)\n",
      "- P107 (556, 18) 115 mutations 10 gestures\n",
      "(87, 18)\n",
      "(235, 18)\n",
      "(234, 18)\n",
      "Claudia E005 : 31 parcours\n",
      "- P119 (8955, 18) 74 mutations 10 gestures\n",
      "(221, 18)\n",
      "(4442, 18)\n",
      "(4292, 18)\n",
      "- P120 (4089, 18) 74 mutations 10 gestures\n",
      "(175, 18)\n",
      "(1974, 18)\n",
      "(1940, 18)\n",
      "- P121 (4626, 18) 74 mutations 10 gestures\n",
      "(111, 18)\n",
      "(2748, 18)\n",
      "(1767, 18)\n",
      "- P231 (5066, 18) 74 mutations 10 gestures\n",
      "(177, 18)\n",
      "(108, 18)\n",
      "(2353, 18)\n",
      "(2428, 18)\n",
      "- P232 (3222, 18) 74 mutations 10 gestures\n",
      "(73, 18)\n",
      "(154, 18)\n",
      "(1397, 18)\n",
      "(1598, 18)\n",
      "Dominik E004 : 77 parcours\n",
      "- P101 (716, 18) 115 mutations 10 gestures\n",
      "(101, 18)\n",
      "(274, 18)\n",
      "(341, 18)\n",
      "- P102 (849, 18) 115 mutations 10 gestures\n",
      "(249, 18)\n",
      "(307, 18)\n",
      "(293, 18)\n",
      "- P103 (809, 18) 115 mutations 10 gestures\n",
      "(126, 18)\n",
      "(342, 18)\n",
      "(341, 18)\n",
      "- P104 (792, 18) 115 mutations 10 gestures\n",
      "(99, 18)\n",
      "(374, 18)\n",
      "(319, 18)\n",
      "- P107 (789, 18) 115 mutations 10 gestures\n",
      "(119, 18)\n",
      "(352, 18)\n",
      "(318, 18)\n",
      "Dominik E007 : 31 parcours\n",
      "- P119 (3215, 18) 74 mutations 10 gestures\n",
      "(103, 18)\n",
      "(1763, 18)\n",
      "(1349, 18)\n",
      "- P120 (3004, 18) 74 mutations 10 gestures\n",
      "(70, 18)\n",
      "(1694, 18)\n",
      "(1240, 18)\n",
      "- P121 (3450, 18) 74 mutations 10 gestures\n",
      "(95, 18)\n",
      "(1864, 18)\n",
      "(1491, 18)\n",
      "- P231 (4516, 18) 74 mutations 10 gestures\n",
      "(153, 18)\n",
      "(81, 18)\n",
      "(2049, 18)\n",
      "(2233, 18)\n",
      "- P232 (4116, 18) 74 mutations 10 gestures\n",
      "(117, 18)\n",
      "(161, 18)\n",
      "(2044, 18)\n",
      "(1794, 18)\n"
     ]
    }
   ],
   "source": [
    "for subject in subjects:\n",
    "    for exp in experiments:\n",
    "        \n",
    "        exp_data = get_experiment(data,exp,subject,parcours=None,mutation=None,gesture=None)\n",
    "        \n",
    "        if exp_data.shape[0] > 0:\n",
    "            # list of parcours in this experiment\n",
    "            parc_list = exp_data['Parcours'].unique().tolist()\n",
    "            \n",
    "            print subject, exp, \":\", len(parc_list), \"parcours\"\n",
    "\n",
    "#            for parc in parc_list:\n",
    "            for parc in parc_list[:5]:     # DEBUG: take only first 5 parcours per experiment\n",
    "                mydata = get_experiment(data,exp,subject,parc,mutation=None,gesture=None)\n",
    "                mutations = exp_data['Mutation'].unique().tolist()\n",
    "                gestures = exp_data['Gesture'].unique().tolist() \n",
    "                \n",
    "                print \"-\", parc, mydata.shape, len(mutations), \"mutations\", len(gestures), \"gestures\"\n",
    "                \n",
    "                for mut in mutations:\n",
    "                    mydata = get_experiment(data,exp,subject,parc,mut,gesture=None)\n",
    "                    gestures = mydata['Gesture'].unique().tolist() \n",
    "                    \n",
    "                    for gest in gestures:\n",
    "                        mydata = get_experiment(data,exp,subject,parc,mut,gest)\n",
    "                        print mydata.shape\n",
    "                        # add data to gesture dict\n",
    "                        if mydata.shape[0] > 0:\n",
    "                            if gest not in gesture_exp_dict.keys():\n",
    "                                gesture_exp_dict[gest] = [] # initalize empty list for this gesture\n",
    "                            # add data to gesture dict\n",
    "                            gesture_exp_dict[gest].append(mydata)"
   ]
  },
  {
   "cell_type": "code",
   "execution_count": 345,
   "metadata": {
    "collapsed": false
   },
   "outputs": [
    {
     "name": "stdout",
     "output_type": "stream",
     "text": [
      "G01 16 data blocks\n",
      "G02 12 data blocks\n",
      "G03 15 data blocks\n",
      "G04 16 data blocks\n",
      "G05 3 data blocks\n",
      "G06 3 data blocks\n",
      "G15 41 data blocks\n",
      "G16 11 data blocks\n",
      "G17 16 data blocks\n"
     ]
    }
   ],
   "source": [
    "for gest in sorted(gesture_exp_dict.keys()):\n",
    "    print gest, len(gesture_exp_dict[gest]), \"data blocks\""
   ]
  },
  {
   "cell_type": "code",
   "execution_count": 390,
   "metadata": {
    "collapsed": false
   },
   "outputs": [
    {
     "name": "stdout",
     "output_type": "stream",
     "text": [
      "G01: 626 626 362 342 268 305 325 204 290 203 241 234 274 342 319 318\n",
      "G02: 277 266 445 204 282 361 265 209 231 307 341 374\n",
      "G03: 1244 1226 1211 1687 1124 4292 1940 1767 2353 1397 1349 1240 1491 2049 2044\n",
      "G04: 1873 1789 1199 1660 1535 1223 4442 1974 2748 2428 1598 1763 1694 1864 2233 1794\n",
      "G05: 417 381 300\n",
      "G06: 286 302 311\n",
      "G15: 245 245 195 217 102 495 146 128 111 91 104 142 142 153 115 102 107 95 93 162 106 104 146 102 102 87 221 175 111 177 154 101 249 126 99 119 103 70 95 153 161\n",
      "G16: 150 81 95 200 79 100 64 108 73 81 117\n",
      "G17: 367 367 192 492 321 423 297 310 185 270 363 222 235 341 293 352\n"
     ]
    }
   ],
   "source": [
    "# how many data points does each data block have?\n",
    "data_sizes = [] # collect in list\n",
    "\n",
    "for gest in sorted(gesture_exp_dict.keys()):\n",
    "    print gest + ':', \n",
    "    for datablock in gesture_exp_dict[gest]:\n",
    "        size = datablock.shape[0]\n",
    "        print size,\n",
    "        data_sizes.append(size)\n",
    "    print"
   ]
  },
  {
   "cell_type": "code",
   "execution_count": 398,
   "metadata": {
    "collapsed": false
   },
   "outputs": [
    {
     "data": {
      "text/plain": [
       "610"
      ]
     },
     "execution_count": 398,
     "metadata": {},
     "output_type": "execute_result"
    }
   ],
   "source": [
    "# average data length (number of samples)\n",
    "avg_data_len = int(np.mean(data_sizes))\n",
    "avg_data_len"
   ]
  },
  {
   "cell_type": "code",
   "execution_count": 357,
   "metadata": {
    "collapsed": false
   },
   "outputs": [
    {
     "data": {
      "image/png": "[encoded data removed]",
      "text/plain": [
       "<matplotlib.figure.Figure at 0x7f05a436d390>"
      ]
     },
     "metadata": {},
     "output_type": "display_data"
    }
   ],
   "source": [
    "g = 'G03'\n",
    "i=3\n",
    "grid_plot(gesture_exp_dict[g][i], title = g + ' ' + str(i))"
   ]
  },
  {
   "cell_type": "code",
   "execution_count": 362,
   "metadata": {
    "collapsed": false
   },
   "outputs": [
    {
     "data": {
      "image/png": "[encoded data removed]",
      "text/plain": [
       "<matplotlib.figure.Figure at 0x7f059c86bbd0>"
      ]
     },
     "metadata": {},
     "output_type": "display_data"
    }
   ],
   "source": [
    "g = 'G04'\n",
    "i=2\n",
    "grid_plot(gesture_exp_dict[g][i], title = g + ' ' + str(i))"
   ]
  },
  {
   "cell_type": "code",
   "execution_count": 356,
   "metadata": {
    "collapsed": false
   },
   "outputs": [
    {
     "data": {
      "image/png": "[encoded data removed]",
      "text/plain": [
       "<matplotlib.figure.Figure at 0x7f05a44dee90>"
      ]
     },
     "metadata": {},
     "output_type": "display_data"
    }
   ],
   "source": [
    "one_plot(gesture_exp_dict[g][i],var='TimeStamp')"
   ]
  },
  {
   "cell_type": "markdown",
   "metadata": {},
   "source": [
    "### Resampling / Time Normalization"
   ]
  },
  {
   "cell_type": "code",
   "execution_count": 380,
   "metadata": {
    "collapsed": false
   },
   "outputs": [],
   "source": [
    "# Time Normalize / Interpolate time stamps\n",
    "\n",
    "signal_orig = gesture_exp_dict[g][i]['EZ']\n",
    "signal_orig_timestamps = gesture_exp_dict[g][i]['TimeStamp'].values"
   ]
  },
  {
   "cell_type": "code",
   "execution_count": 369,
   "metadata": {
    "collapsed": false
   },
   "outputs": [
    {
     "data": {
      "text/plain": [
       "[<matplotlib.lines.Line2D at 0x7f059ca1ea10>]"
      ]
     },
     "execution_count": 369,
     "metadata": {},
     "output_type": "execute_result"
    },
    {
     "data": {
      "image/png": "[encoded data removed]",
      "text/plain": [
       "<matplotlib.figure.Figure at 0x7f059c49ce90>"
      ]
     },
     "metadata": {},
     "output_type": "display_data"
    }
   ],
   "source": [
    "# plot\n",
    "y = signal_orig\n",
    "plt.plot(range(len(y)), y)"
   ]
  },
  {
   "cell_type": "code",
   "execution_count": 375,
   "metadata": {
    "collapsed": false
   },
   "outputs": [
    {
     "data": {
      "text/plain": [
       "[<matplotlib.lines.Line2D at 0x7f059c7edf90>]"
      ]
     },
     "execution_count": 375,
     "metadata": {},
     "output_type": "execute_result"
    },
    {
     "data": {
      "image/png": "[encoded data removed]",
      "text/plain": [
       "<matplotlib.figure.Figure at 0x7f05a582a790>"
      ]
     },
     "metadata": {},
     "output_type": "display_data"
    }
   ],
   "source": [
    "plt.plot(signal_orig_timestamps, signal_orig)"
   ]
  },
  {
   "cell_type": "code",
   "execution_count": 399,
   "metadata": {
    "collapsed": true
   },
   "outputs": [],
   "source": [
    "from scipy import stats\n",
    "from scipy.signal import resample\n",
    "\n",
    "samples = 500 # should relate to avg_data_len\n",
    "\n",
    "# If t is given, it is assumed to be the sample positions associated with the signal data in x.\n",
    "signal_resampled = resample(signal_orig, num=samples) # , t=None,"
   ]
  },
  {
   "cell_type": "code",
   "execution_count": 385,
   "metadata": {
    "collapsed": false
   },
   "outputs": [],
   "source": [
    "signal_resampled2, timestamps2 = resample(signal_orig, num=samples, t=signal_orig_timestamps)"
   ]
  },
  {
   "cell_type": "code",
   "execution_count": 371,
   "metadata": {
    "collapsed": false
   },
   "outputs": [
    {
     "data": {
      "text/plain": [
       "[<matplotlib.lines.Line2D at 0x7f05a57d7290>]"
      ]
     },
     "execution_count": 371,
     "metadata": {},
     "output_type": "execute_result"
    },
    {
     "data": {
      "image/png": "[encoded data removed]",
      "text/plain": [
       "<matplotlib.figure.Figure at 0x7f05c42a7b10>"
      ]
     },
     "metadata": {},
     "output_type": "display_data"
    }
   ],
   "source": [
    "# plot\n",
    "y = signal_resampled\n",
    "plt.plot(range(len(y)), y)"
   ]
  },
  {
   "cell_type": "code",
   "execution_count": 387,
   "metadata": {
    "collapsed": false
   },
   "outputs": [
    {
     "data": {
      "text/plain": [
       "[<matplotlib.lines.Line2D at 0x7f058b8ce350>]"
      ]
     },
     "execution_count": 387,
     "metadata": {},
     "output_type": "execute_result"
    },
    {
     "data": {
      "image/png": "[encoded data removed]",
      "text/plain": [
       "<matplotlib.figure.Figure at 0x7f059c9d5390>"
      ]
     },
     "metadata": {},
     "output_type": "display_data"
    }
   ],
   "source": [
    "# plot\n",
    "y = signal_resampled2\n",
    "plt.plot(timestamps2, y)"
   ]
  },
  {
   "cell_type": "code",
   "execution_count": 507,
   "metadata": {
    "collapsed": false
   },
   "outputs": [
    {
     "name": "stdout",
     "output_type": "stream",
     "text": [
      "G01: 626 626 362 342 268 305 325 204 290 203 241 234 274 342 319 318\n",
      "G02: 277 266 445 204 282 361 265 209 231 307 341 374\n",
      "G03: 1244 1226 1211 1687 1124 4292 1940 1767 2353 1397 1349 1240 1491 2049 2044\n",
      "G04: 1873 1789 1199 1660 1535 1223 4442 1974 2748 2428 1598 1763 1694 1864 2233 1794\n",
      "G05: 417 381 300\n",
      "G06: 286 302 311\n",
      "G15: 245 245 195 217 102 495 146 128 111 91 104 142 142 153 115 102 107 95 93 162 106 104 146 102 102 87 221 175 111 177 154 101 249 126 99 119 103 70 95 153 161\n",
      "G16: 150 81 95 200 79 100 64 108 73 81 117\n",
      "G17: 367 367 192 492 321 423 297 310 185 270 363 222 235 341 293 352\n"
     ]
    }
   ],
   "source": [
    "# Resample Loop over ALL data\n",
    "\n",
    "# build new gesture dictionary\n",
    "\n",
    "gesture_exp_dict_res = {}\n",
    "\n",
    "for gest in sorted(gesture_exp_dict.keys()):\n",
    "    print gest + ':', \n",
    "    for datablock in gesture_exp_dict[gest]:\n",
    "        print datablock.shape[0], \n",
    "        \n",
    "        # we can resample the whole block of in put signals\n",
    "        # transpose: 6 data rows with params, cols is time series\n",
    "        in_data = datablock[params].T\n",
    "        \n",
    "        # resample the whole block, along cols (axis = 1), to target num samples\n",
    "        signal_resampled = resample(in_data, num=samples, axis=1)\n",
    "        \n",
    "        if gest not in gesture_exp_dict_res.keys():\n",
    "            gesture_exp_dict_res[gest] = [] # initalize empty list for this gesture\n",
    "        # add data to gesture dict\n",
    "        gesture_exp_dict_res[gest].append(signal_resampled)\n",
    "    print\n",
    "\n"
   ]
  },
  {
   "cell_type": "code",
   "execution_count": 506,
   "metadata": {
    "collapsed": false,
    "scrolled": true
   },
   "outputs": [
    {
     "data": {
      "text/html": [
       "<div>\n",
       "<table border=\"1\" class=\"dataframe\">\n",
       "  <thead>\n",
       "    <tr style=\"text-align: right;\">\n",
       "      <th></th>\n",
       "      <th>421158</th>\n",
       "      <th>421160</th>\n",
       "      <th>421162</th>\n",
       "      <th>421164</th>\n",
       "      <th>421166</th>\n",
       "      <th>421168</th>\n",
       "      <th>421170</th>\n",
       "      <th>421172</th>\n",
       "      <th>421174</th>\n",
       "      <th>421176</th>\n",
       "      <th>...</th>\n",
       "      <th>422252</th>\n",
       "      <th>422255</th>\n",
       "      <th>422257</th>\n",
       "      <th>422259</th>\n",
       "      <th>422261</th>\n",
       "      <th>422263</th>\n",
       "      <th>422265</th>\n",
       "      <th>422267</th>\n",
       "      <th>422269</th>\n",
       "      <th>422270</th>\n",
       "    </tr>\n",
       "  </thead>\n",
       "  <tbody>\n",
       "    <tr>\n",
       "      <th>AX</th>\n",
       "      <td>-0.3500</td>\n",
       "      <td>0.0000</td>\n",
       "      <td>-0.1200</td>\n",
       "      <td>-0.250</td>\n",
       "      <td>-0.0400</td>\n",
       "      <td>0.0200</td>\n",
       "      <td>-0.2000</td>\n",
       "      <td>-0.0500</td>\n",
       "      <td>-0.1500</td>\n",
       "      <td>-0.2700</td>\n",
       "      <td>...</td>\n",
       "      <td>-0.5600</td>\n",
       "      <td>0.430</td>\n",
       "      <td>0.6400</td>\n",
       "      <td>-0.3600</td>\n",
       "      <td>0.0800</td>\n",
       "      <td>0.0500</td>\n",
       "      <td>0.0300</td>\n",
       "      <td>0.0100</td>\n",
       "      <td>-0.0300</td>\n",
       "      <td>-0.2000</td>\n",
       "    </tr>\n",
       "    <tr>\n",
       "      <th>AY</th>\n",
       "      <td>0.1000</td>\n",
       "      <td>-0.0400</td>\n",
       "      <td>-0.0200</td>\n",
       "      <td>-0.110</td>\n",
       "      <td>0.0600</td>\n",
       "      <td>0.0000</td>\n",
       "      <td>-0.0800</td>\n",
       "      <td>0.0800</td>\n",
       "      <td>0.0200</td>\n",
       "      <td>0.1200</td>\n",
       "      <td>...</td>\n",
       "      <td>0.0400</td>\n",
       "      <td>-0.100</td>\n",
       "      <td>-0.2800</td>\n",
       "      <td>0.1800</td>\n",
       "      <td>-0.1600</td>\n",
       "      <td>-0.0100</td>\n",
       "      <td>0.1900</td>\n",
       "      <td>-0.0100</td>\n",
       "      <td>0.1100</td>\n",
       "      <td>0.0000</td>\n",
       "    </tr>\n",
       "    <tr>\n",
       "      <th>AZ</th>\n",
       "      <td>0.0900</td>\n",
       "      <td>-0.0500</td>\n",
       "      <td>-0.0400</td>\n",
       "      <td>-0.070</td>\n",
       "      <td>-0.0200</td>\n",
       "      <td>0.0400</td>\n",
       "      <td>-0.1900</td>\n",
       "      <td>0.1400</td>\n",
       "      <td>0.0000</td>\n",
       "      <td>0.0500</td>\n",
       "      <td>...</td>\n",
       "      <td>-0.6600</td>\n",
       "      <td>0.000</td>\n",
       "      <td>0.0600</td>\n",
       "      <td>-0.2300</td>\n",
       "      <td>-0.3200</td>\n",
       "      <td>-0.0400</td>\n",
       "      <td>0.0600</td>\n",
       "      <td>0.0400</td>\n",
       "      <td>-0.0800</td>\n",
       "      <td>-0.0200</td>\n",
       "    </tr>\n",
       "    <tr>\n",
       "      <th>EX</th>\n",
       "      <td>144.7500</td>\n",
       "      <td>144.5625</td>\n",
       "      <td>144.5625</td>\n",
       "      <td>144.625</td>\n",
       "      <td>144.4375</td>\n",
       "      <td>144.5000</td>\n",
       "      <td>144.1250</td>\n",
       "      <td>144.1250</td>\n",
       "      <td>143.9375</td>\n",
       "      <td>143.9375</td>\n",
       "      <td>...</td>\n",
       "      <td>133.5000</td>\n",
       "      <td>133.375</td>\n",
       "      <td>133.1875</td>\n",
       "      <td>132.9375</td>\n",
       "      <td>132.7500</td>\n",
       "      <td>132.5625</td>\n",
       "      <td>132.4375</td>\n",
       "      <td>132.2500</td>\n",
       "      <td>132.1875</td>\n",
       "      <td>132.0625</td>\n",
       "    </tr>\n",
       "    <tr>\n",
       "      <th>EY</th>\n",
       "      <td>19.8125</td>\n",
       "      <td>19.8750</td>\n",
       "      <td>19.8750</td>\n",
       "      <td>19.875</td>\n",
       "      <td>19.8750</td>\n",
       "      <td>19.8750</td>\n",
       "      <td>19.9375</td>\n",
       "      <td>19.9375</td>\n",
       "      <td>19.8750</td>\n",
       "      <td>19.8750</td>\n",
       "      <td>...</td>\n",
       "      <td>-4.9375</td>\n",
       "      <td>-5.000</td>\n",
       "      <td>-5.1250</td>\n",
       "      <td>-5.1875</td>\n",
       "      <td>-5.1875</td>\n",
       "      <td>-5.3125</td>\n",
       "      <td>-5.3750</td>\n",
       "      <td>-5.4375</td>\n",
       "      <td>-5.5000</td>\n",
       "      <td>-5.5000</td>\n",
       "    </tr>\n",
       "    <tr>\n",
       "      <th>EZ</th>\n",
       "      <td>-104.7500</td>\n",
       "      <td>-104.6250</td>\n",
       "      <td>-104.5000</td>\n",
       "      <td>-104.375</td>\n",
       "      <td>-104.2500</td>\n",
       "      <td>-104.1875</td>\n",
       "      <td>-104.1250</td>\n",
       "      <td>-104.0000</td>\n",
       "      <td>-104.0000</td>\n",
       "      <td>-103.9375</td>\n",
       "      <td>...</td>\n",
       "      <td>27.8750</td>\n",
       "      <td>28.000</td>\n",
       "      <td>28.0625</td>\n",
       "      <td>28.0625</td>\n",
       "      <td>28.1250</td>\n",
       "      <td>28.1250</td>\n",
       "      <td>28.1250</td>\n",
       "      <td>28.0625</td>\n",
       "      <td>28.0625</td>\n",
       "      <td>28.0000</td>\n",
       "    </tr>\n",
       "  </tbody>\n",
       "</table>\n",
       "<p>6 rows × 352 columns</p>\n",
       "</div>"
      ],
      "text/plain": [
       "      421158    421160    421162   421164    421166    421168    421170  \\\n",
       "AX   -0.3500    0.0000   -0.1200   -0.250   -0.0400    0.0200   -0.2000   \n",
       "AY    0.1000   -0.0400   -0.0200   -0.110    0.0600    0.0000   -0.0800   \n",
       "AZ    0.0900   -0.0500   -0.0400   -0.070   -0.0200    0.0400   -0.1900   \n",
       "EX  144.7500  144.5625  144.5625  144.625  144.4375  144.5000  144.1250   \n",
       "EY   19.8125   19.8750   19.8750   19.875   19.8750   19.8750   19.9375   \n",
       "EZ -104.7500 -104.6250 -104.5000 -104.375 -104.2500 -104.1875 -104.1250   \n",
       "\n",
       "      421172    421174    421176    ...       422252   422255    422257  \\\n",
       "AX   -0.0500   -0.1500   -0.2700    ...      -0.5600    0.430    0.6400   \n",
       "AY    0.0800    0.0200    0.1200    ...       0.0400   -0.100   -0.2800   \n",
       "AZ    0.1400    0.0000    0.0500    ...      -0.6600    0.000    0.0600   \n",
       "EX  144.1250  143.9375  143.9375    ...     133.5000  133.375  133.1875   \n",
       "EY   19.9375   19.8750   19.8750    ...      -4.9375   -5.000   -5.1250   \n",
       "EZ -104.0000 -104.0000 -103.9375    ...      27.8750   28.000   28.0625   \n",
       "\n",
       "      422259    422261    422263    422265    422267    422269    422270  \n",
       "AX   -0.3600    0.0800    0.0500    0.0300    0.0100   -0.0300   -0.2000  \n",
       "AY    0.1800   -0.1600   -0.0100    0.1900   -0.0100    0.1100    0.0000  \n",
       "AZ   -0.2300   -0.3200   -0.0400    0.0600    0.0400   -0.0800   -0.0200  \n",
       "EX  132.9375  132.7500  132.5625  132.4375  132.2500  132.1875  132.0625  \n",
       "EY   -5.1875   -5.1875   -5.3125   -5.3750   -5.4375   -5.5000   -5.5000  \n",
       "EZ   28.0625   28.1250   28.1250   28.1250   28.0625   28.0625   28.0000  \n",
       "\n",
       "[6 rows x 352 columns]"
      ]
     },
     "execution_count": 506,
     "metadata": {},
     "output_type": "execute_result"
    }
   ],
   "source": [
    "in_data"
   ]
  },
  {
   "cell_type": "code",
   "execution_count": 492,
   "metadata": {
    "collapsed": false
   },
   "outputs": [
    {
     "data": {
      "text/plain": [
       "(6, 352)"
      ]
     },
     "execution_count": 492,
     "metadata": {},
     "output_type": "execute_result"
    }
   ],
   "source": [
    "in_data.shape"
   ]
  },
  {
   "cell_type": "code",
   "execution_count": 493,
   "metadata": {
    "collapsed": true
   },
   "outputs": [],
   "source": [
    "signal_resampled = resample(in_data, num=samples, axis=1)"
   ]
  },
  {
   "cell_type": "code",
   "execution_count": 498,
   "metadata": {
    "collapsed": false
   },
   "outputs": [
    {
     "data": {
      "text/plain": [
       "array([[ -3.49999994e-01,  -1.06680941e-02,  -7.35666606e-02, ...,\n",
       "         -6.74116135e-02,   1.79917411e-02,  -3.81142790e-01],\n",
       "       [  1.00000001e-01,   1.19799832e-02,  -6.09584501e-02, ...,\n",
       "          1.10971381e-01,   3.41295782e-02,   1.87729684e-02],\n",
       "       [  9.00000036e-02,  -2.09573511e-02,  -5.83111780e-02, ...,\n",
       "         -5.74946220e-02,  -1.07612209e-01,   5.48750805e-02],\n",
       "       [  1.44750000e+02,   1.45842260e+02,   1.43530266e+02, ...,\n",
       "          1.32595951e+02,   1.30325992e+02,   1.35447520e+02],\n",
       "       [  1.98125000e+01,   2.23371626e+01,   1.78608997e+01, ...,\n",
       "         -4.73872425e+00,  -8.95687315e+00,   1.18848115e+00],\n",
       "       [ -1.04750000e+02,  -1.17518025e+02,  -9.41388197e+01, ...,\n",
       "          2.40137039e+01,   4.63562788e+01,  -7.27237549e+00]])"
      ]
     },
     "execution_count": 498,
     "metadata": {},
     "output_type": "execute_result"
    }
   ],
   "source": [
    "signal_resampled"
   ]
  },
  {
   "cell_type": "code",
   "execution_count": 504,
   "metadata": {
    "collapsed": false
   },
   "outputs": [
    {
     "data": {
      "text/plain": [
       "[<matplotlib.lines.Line2D at 0x7f05da3e21d0>]"
      ]
     },
     "execution_count": 504,
     "metadata": {},
     "output_type": "execute_result"
    },
    {
     "data": {
      "image/png": "[encoded data removed]",
      "text/plain": [
       "<matplotlib.figure.Figure at 0x7f05da476fd0>"
      ]
     },
     "metadata": {},
     "output_type": "display_data"
    }
   ],
   "source": [
    "# before\n",
    "y = in_data.ix['EX']\n",
    "plt.plot(range(len(y)), y)"
   ]
  },
  {
   "cell_type": "code",
   "execution_count": 503,
   "metadata": {
    "collapsed": false
   },
   "outputs": [
    {
     "data": {
      "text/plain": [
       "[<matplotlib.lines.Line2D at 0x7f05da497f10>]"
      ]
     },
     "execution_count": 503,
     "metadata": {},
     "output_type": "execute_result"
    },
    {
     "data": {
      "image/png": "[encoded data removed]",
      "text/plain": [
       "<matplotlib.figure.Figure at 0x7f0588128890>"
      ]
     },
     "metadata": {},
     "output_type": "display_data"
    }
   ],
   "source": [
    "# after\n",
    "y = signal_resampled[3,:]\n",
    "plt.plot(range(len(y)), y)"
   ]
  },
  {
   "cell_type": "code",
   "execution_count": null,
   "metadata": {
    "collapsed": true
   },
   "outputs": [],
   "source": [
    "# optionally scale signal between 0 and 1\n",
    "\n",
    "# measure ZCR"
   ]
  },
  {
   "cell_type": "code",
   "execution_count": null,
   "metadata": {
    "collapsed": true
   },
   "outputs": [],
   "source": [
    "# Standardize?"
   ]
  },
  {
   "cell_type": "code",
   "execution_count": null,
   "metadata": {
    "collapsed": true
   },
   "outputs": [],
   "source": [
    "# TODO Calc derivatives "
   ]
  },
  {
   "cell_type": "markdown",
   "metadata": {},
   "source": [
    "### Feature Calculation"
   ]
  },
  {
   "cell_type": "code",
   "execution_count": 404,
   "metadata": {
    "collapsed": true
   },
   "outputs": [],
   "source": [
    "# Calc statistical features\n",
    "\n",
    "def calc_statistical_features(matrix):\n",
    "\n",
    "    result = np.zeros((matrix.shape[0],6))\n",
    "    \n",
    "    result[:,0] = np.mean(matrix, axis=1)\n",
    "    result[:,1] = np.var(matrix, axis=1, dtype=np.float64) \n",
    "    result[:,2] = stats.skew(matrix, axis=1)\n",
    "    result[:,3] = np.median(matrix, axis=1)\n",
    "    result[:,4] = np.min(matrix, axis=1)\n",
    "    result[:,5] = np.max(matrix, axis=1)\n",
    "#    result[:,3] = stats.kurtosis(matrix, axis=1, fisher=False) # Matlab calculates Pearson's Kurtosis\n",
    "\n",
    "    result[np.where(np.isnan(result))] = 0\n",
    "    return result"
   ]
  },
  {
   "cell_type": "code",
   "execution_count": 510,
   "metadata": {
    "collapsed": false
   },
   "outputs": [],
   "source": [
    "# LOOP over all gesture data to create features\n",
    "\n",
    "# initialize feature output for training data as a list\n",
    "train_list = []\n",
    "train_classes_str = []\n",
    "train_classes_num = []"
   ]
  },
  {
   "cell_type": "code",
   "execution_count": 511,
   "metadata": {
    "collapsed": false
   },
   "outputs": [
    {
     "name": "stdout",
     "output_type": "stream",
     "text": [
      "G01: 16 examples\n",
      "6 6 6 6 6 6 6 6 6 6 6 6 6 6 6 6\n",
      "G02: 12 examples\n",
      "6 6 6 6 6 6 6 6 6 6 6 6\n",
      "G03: 15 examples\n",
      "6 6 6 6 6 6 6 6 6 6 6 6 6 6 6\n",
      "G04: 16 examples\n",
      "6 6 6 6 6 6 6 6 6 6 6 6 6 6 6 6\n",
      "G05: 3 examples\n",
      "6 6 6\n",
      "G06: 3 examples\n",
      "6 6 6\n",
      "G15: 41 examples\n",
      "6 6 6 6 6 6 6 6 6 6 6 6 6 6 6 6 6 6 6 6 6 6 6 6 6 6 6 6 6 6 6 6 6 6 6 6 6 6 6 6 6\n",
      "G16: 11 examples\n",
      "6 6 6 6 6 6 6 6 6 6 6\n",
      "G17: 16 examples\n",
      "6 6 6 6 6 6 6 6 6 6 6 6 6 6 6 6\n"
     ]
    }
   ],
   "source": [
    "\n",
    "#input_dict = gesture_exp_dict # non resampled\n",
    "input_dict = gesture_exp_dict_res # resampled\n",
    "\n",
    "\n",
    "for gest in sorted(input_dict.keys()):\n",
    "    print gest + ':', len(input_dict[gest]), \"examples\"\n",
    "    for datablock in input_dict[gest]:\n",
    "        print datablock.shape[0], \n",
    "        \n",
    "        # 1) (non-resampled)\n",
    "        # get the relevant data columns \n",
    "        #in_data = datablock[params].T\n",
    "        \n",
    "        # 2) resampled\n",
    "        in_data = datablock\n",
    "        \n",
    "        # calc statistical features\n",
    "        features = calc_statistical_features(in_data)\n",
    "        #features.shape\n",
    "        \n",
    "        # vectorize\n",
    "        features = features.flatten()\n",
    "        \n",
    "        # append to output\n",
    "        train_list.append(features)\n",
    "        \n",
    "        # store class for these features\n",
    "        train_classes_str.append(gest)\n",
    "        \n",
    "        # instead of LabelEncoder, derive number of gesture from string\n",
    "        train_classes_num.append(int(gest[1:]))\n",
    "        \n",
    "    print"
   ]
  },
  {
   "cell_type": "code",
   "execution_count": 512,
   "metadata": {
    "collapsed": false
   },
   "outputs": [
    {
     "name": "stdout",
     "output_type": "stream",
     "text": [
      "Training data: 133 examples\n"
     ]
    }
   ],
   "source": [
    "print \"Training data:\", len(train_list), \"examples\""
   ]
  },
  {
   "cell_type": "code",
   "execution_count": 513,
   "metadata": {
    "collapsed": false
   },
   "outputs": [
    {
     "data": {
      "text/plain": [
       "(133, 36)"
      ]
     },
     "execution_count": 513,
     "metadata": {},
     "output_type": "execute_result"
    }
   ],
   "source": [
    "# make feature array from feature list (ALL training data)\n",
    "\n",
    "train_data = np.array(train_list)\n",
    "#del train_list\n",
    "train_data.shape"
   ]
  },
  {
   "cell_type": "code",
   "execution_count": 515,
   "metadata": {
    "collapsed": false
   },
   "outputs": [
    {
     "data": {
      "text/plain": [
       "(133, 133)"
      ]
     },
     "execution_count": 515,
     "metadata": {},
     "output_type": "execute_result"
    }
   ],
   "source": [
    "len(train_classes_str), len(train_classes_num)"
   ]
  },
  {
   "cell_type": "markdown",
   "metadata": {},
   "source": [
    "## Machine Learning"
   ]
  },
  {
   "cell_type": "code",
   "execution_count": 516,
   "metadata": {
    "collapsed": false
   },
   "outputs": [],
   "source": [
    "from sklearn import preprocessing, svm\n",
    "from sklearn.multiclass import OneVsRestClassifier\n",
    "from sklearn.svm import SVC\n",
    "\n",
    "from sklearn.model_selection import StratifiedShuffleSplit\n",
    "from sklearn.metrics import accuracy_score, precision_score, recall_score, f1_score, confusion_matrix"
   ]
  },
  {
   "cell_type": "code",
   "execution_count": 517,
   "metadata": {
    "collapsed": false,
    "scrolled": true
   },
   "outputs": [
    {
     "name": "stdout",
     "output_type": "stream",
     "text": [
      "TRAIN INDEX: [ 74  13 113  73  32  66  99  71   3 116 104  20 122  82  68  47 111  95\n",
      "  58 112 115 129  76  34  42  45  44   7  10  56  19  70  41 117 124  86\n",
      "  60  51  37  67  17  69  48 114 102  21  29  27   8  61  72 125  79  30\n",
      "  77  49  23   1  92  87 110  25  89 108  78  39  16  63 130  43  84  83\n",
      " 131  94  93 132   5  38 123  85  12  64  57 120  91  65  75  11   4   2\n",
      " 127 126  33  53  54   0  81  26  36]\n",
      "TEST INDEX: [ 80  59 105  98  88  35   6 119  14 121 118   9  22  96  15  28  52 109\n",
      "  62  55 100  50 101 128  46 103  90 107 106  18  31  97  24  40]\n"
     ]
    }
   ],
   "source": [
    "# split the data into train/test set\n",
    "\n",
    "testset_size = 0.25\n",
    "\n",
    "# sklearn >= 0.18\n",
    "splitter = StratifiedShuffleSplit(n_splits=1, test_size=testset_size) #, random_state=0)\n",
    "splits = splitter.split(train_data, train_classes_num)\n",
    "\n",
    "# Note: this for loop is only executed once, if n_splits==1\n",
    "for train_index, test_index in splits:\n",
    "    print \"TRAIN INDEX:\", train_index\n",
    "    print \"TEST INDEX:\", test_index\n",
    "    \n",
    "    # split the data\n",
    "    train_set = train_data[train_index]\n",
    "    test_set = train_data[test_index]\n",
    "    \n",
    "    # and the numeric classes (groundtruth)\n",
    "    train_classes = np.array(train_classes_num)[train_index]\n",
    "    test_classes = np.array(train_classes_num)[test_index]\n",
    "    "
   ]
  },
  {
   "cell_type": "markdown",
   "metadata": {},
   "source": [
    "## Tasks"
   ]
  },
  {
   "cell_type": "markdown",
   "metadata": {},
   "source": [
    "### 1) Recognize Host + Gesture\n",
    "\n",
    "(maybe also Subject)"
   ]
  },
  {
   "cell_type": "markdown",
   "metadata": {},
   "source": [
    "### 2) Recognize Gesture independent of host"
   ]
  },
  {
   "cell_type": "code",
   "execution_count": 518,
   "metadata": {
    "collapsed": false
   },
   "outputs": [
    {
     "data": {
      "text/plain": [
       "OneVsRestClassifier(estimator=SVC(C=1.0, cache_size=200, class_weight=None, coef0=0.0,\n",
       "  decision_function_shape=None, degree=3, gamma='auto', kernel='linear',\n",
       "  max_iter=-1, probability=False, random_state=None, shrinking=True,\n",
       "  tol=0.001, verbose=False),\n",
       "          n_jobs=-1)"
      ]
     },
     "execution_count": 518,
     "metadata": {},
     "output_type": "execute_result"
    }
   ],
   "source": [
    "# train \n",
    "\n",
    "model = OneVsRestClassifier(SVC(kernel='linear'), n_jobs=-1)  # n_jobs = n cpus, -1 = all\n",
    "# full set\n",
    "#model.fit(train_data, train_classes_num)\n",
    "# train set\n",
    "model.fit(train_set, train_classes)"
   ]
  },
  {
   "cell_type": "code",
   "execution_count": 519,
   "metadata": {
    "collapsed": false
   },
   "outputs": [
    {
     "data": {
      "text/plain": [
       "array([15,  1, 16, 15,  3, 15, 15, 15,  1, 16, 15,  2, 17, 15, 15,  4, 16,\n",
       "       15,  4, 16, 16, 17, 15,  3,  3,  4,  4,  1,  1,  4,  2, 15,  3, 17,\n",
       "       17, 15,  5,  4,  3, 15,  2, 15,  4, 16, 15,  2,  3,  2,  1,  5, 15,\n",
       "       17, 15,  3, 15,  4,  2,  1, 15, 15, 16,  2, 15, 16, 15,  3,  2,  6,\n",
       "       17,  4, 15, 15, 17, 15, 15, 17,  1,  3,  4, 15,  1,  6,  4, 17, 15,\n",
       "       15, 15,  1,  1,  1, 17, 17,  3,  4,  4,  1, 15,  2,  3])"
      ]
     },
     "execution_count": 519,
     "metadata": {},
     "output_type": "execute_result"
    }
   ],
   "source": [
    "# predict on train set\n",
    "\n",
    "pred_train = model.predict(train_set) #train_data)\n",
    "pred_train"
   ]
  },
  {
   "cell_type": "code",
   "execution_count": 520,
   "metadata": {
    "collapsed": false
   },
   "outputs": [
    {
     "data": {
      "text/plain": [
       "array([15,  1, 16, 15,  3, 15, 15, 15,  1, 16, 15,  2, 17, 15, 15,  4, 16,\n",
       "       15,  4, 16, 16, 17, 15,  3,  3,  4,  4,  1,  1,  4,  2, 15,  3, 17,\n",
       "       17, 15,  5,  4,  3, 15,  2, 15,  4, 16, 15,  2,  3,  2,  1,  5, 15,\n",
       "       17, 15,  3, 15,  4,  2,  1, 15, 15, 16,  2, 15, 16, 15,  3,  2,  6,\n",
       "       17,  4, 15, 15, 17, 15, 15, 17,  1,  3, 17, 15,  1,  6,  4, 17, 15,\n",
       "       15, 15,  1,  1,  1, 17, 17,  3,  4,  4,  1, 15,  2,  3])"
      ]
     },
     "execution_count": 520,
     "metadata": {},
     "output_type": "execute_result"
    }
   ],
   "source": [
    "train_classes"
   ]
  },
  {
   "cell_type": "code",
   "execution_count": 521,
   "metadata": {
    "collapsed": false
   },
   "outputs": [
    {
     "data": {
      "text/plain": [
       "0.98989898989898994"
      ]
     },
     "execution_count": 521,
     "metadata": {},
     "output_type": "execute_result"
    }
   ],
   "source": [
    "# Accuracy on train set\n",
    "np.sum(pred_train == train_classes) * 1.0 / len(train_classes)"
   ]
  },
  {
   "cell_type": "code",
   "execution_count": 522,
   "metadata": {
    "collapsed": false
   },
   "outputs": [
    {
     "data": {
      "text/plain": [
       "0.98989898989898994"
      ]
     },
     "execution_count": 522,
     "metadata": {},
     "output_type": "execute_result"
    }
   ],
   "source": [
    "accuracy_score(train_classes, pred_train)"
   ]
  },
  {
   "cell_type": "code",
   "execution_count": 523,
   "metadata": {
    "collapsed": false
   },
   "outputs": [
    {
     "data": {
      "text/plain": [
       "array([15,  5, 15, 15, 15,  1,  2, 15,  1, 17, 17,  1,  1, 15,  1,  4,  4,\n",
       "       16, 17,  4, 15,  3, 15,  2,  6, 15, 15, 16, 16,  2,  3,  2,  3,  3])"
      ]
     },
     "execution_count": 523,
     "metadata": {},
     "output_type": "execute_result"
    }
   ],
   "source": [
    "# predict on TEST set\n",
    "\n",
    "pred_test = model.predict(test_set) \n",
    "pred_test"
   ]
  },
  {
   "cell_type": "code",
   "execution_count": 524,
   "metadata": {
    "collapsed": false
   },
   "outputs": [
    {
     "data": {
      "text/plain": [
       "array([15,  5, 15, 15, 15,  3,  1, 17,  1, 17, 17,  1,  2, 15,  1,  3,  4,\n",
       "       16,  6,  4, 15,  4, 15, 17,  4, 15, 15, 16, 16,  2,  3, 15,  2,  3])"
      ]
     },
     "execution_count": 524,
     "metadata": {},
     "output_type": "execute_result"
    }
   ],
   "source": [
    "test_classes"
   ]
  },
  {
   "cell_type": "code",
   "execution_count": 525,
   "metadata": {
    "collapsed": false
   },
   "outputs": [
    {
     "data": {
      "text/plain": [
       "0.67647058823529416"
      ]
     },
     "execution_count": 525,
     "metadata": {},
     "output_type": "execute_result"
    }
   ],
   "source": [
    "# Accuracy on TEST set\n",
    "accuracy_score(test_classes, pred_test)"
   ]
  },
  {
   "cell_type": "code",
   "execution_count": 526,
   "metadata": {
    "collapsed": false
   },
   "outputs": [
    {
     "data": {
      "text/plain": [
       "0.67647058823529416"
      ]
     },
     "execution_count": 526,
     "metadata": {},
     "output_type": "execute_result"
    }
   ],
   "source": [
    "precision_score(test_classes, pred_test, average='micro')"
   ]
  },
  {
   "cell_type": "code",
   "execution_count": 527,
   "metadata": {
    "collapsed": false
   },
   "outputs": [
    {
     "data": {
      "text/plain": [
       "0.67647058823529416"
      ]
     },
     "execution_count": 527,
     "metadata": {},
     "output_type": "execute_result"
    }
   ],
   "source": [
    "recall_score(test_classes, pred_test, average='micro')"
   ]
  },
  {
   "cell_type": "code",
   "execution_count": 528,
   "metadata": {
    "collapsed": false
   },
   "outputs": [
    {
     "data": {
      "text/plain": [
       "array([ 0.6       ,  0.25      ,  0.5       ,  0.66666667,  1.        ,\n",
       "        0.        ,  0.9       ,  1.        ,  0.66666667])"
      ]
     },
     "execution_count": 528,
     "metadata": {},
     "output_type": "execute_result"
    }
   ],
   "source": [
    "precision_score(test_classes, pred_test, average=None)"
   ]
  },
  {
   "cell_type": "code",
   "execution_count": 529,
   "metadata": {
    "collapsed": false
   },
   "outputs": [
    {
     "data": {
      "text/plain": [
       "array([ 0.75      ,  0.33333333,  0.5       ,  0.5       ,  1.        ,\n",
       "        0.        ,  0.9       ,  1.        ,  0.5       ])"
      ]
     },
     "execution_count": 529,
     "metadata": {},
     "output_type": "execute_result"
    }
   ],
   "source": [
    "recall_score(test_classes, pred_test, average=None)"
   ]
  },
  {
   "cell_type": "code",
   "execution_count": 530,
   "metadata": {
    "collapsed": false
   },
   "outputs": [
    {
     "data": {
      "text/plain": [
       "array([ 0.66666667,  0.28571429,  0.5       ,  0.57142857,  1.        ,\n",
       "        0.        ,  0.9       ,  1.        ,  0.57142857])"
      ]
     },
     "execution_count": 530,
     "metadata": {},
     "output_type": "execute_result"
    }
   ],
   "source": [
    "f1_score(test_classes, pred_test, average=None)"
   ]
  },
  {
   "cell_type": "code",
   "execution_count": 531,
   "metadata": {
    "collapsed": false
   },
   "outputs": [
    {
     "data": {
      "text/plain": [
       "[1, 2, 3, 4, 5, 6, 15, 16, 17]"
      ]
     },
     "execution_count": 531,
     "metadata": {},
     "output_type": "execute_result"
    }
   ],
   "source": [
    "labels = sorted(np.unique(test_classes))\n",
    "labels"
   ]
  },
  {
   "cell_type": "code",
   "execution_count": 533,
   "metadata": {
    "collapsed": false
   },
   "outputs": [
    {
     "data": {
      "text/plain": [
       "array([[3, 1, 0, 0, 0, 0, 0, 0, 0],\n",
       "       [1, 1, 1, 0, 0, 0, 0, 0, 0],\n",
       "       [1, 0, 2, 1, 0, 0, 0, 0, 0],\n",
       "       [0, 0, 1, 2, 0, 1, 0, 0, 0],\n",
       "       [0, 0, 0, 0, 1, 0, 0, 0, 0],\n",
       "       [0, 0, 0, 0, 0, 0, 0, 0, 1],\n",
       "       [0, 1, 0, 0, 0, 0, 9, 0, 0],\n",
       "       [0, 0, 0, 0, 0, 0, 0, 3, 0],\n",
       "       [0, 1, 0, 0, 0, 0, 1, 0, 2]])"
      ]
     },
     "execution_count": 533,
     "metadata": {},
     "output_type": "execute_result"
    }
   ],
   "source": [
    "# Confusion Matrix\n",
    "confusion_matrix(test_classes, pred_test) #, labels=labels)"
   ]
  },
  {
   "cell_type": "code",
   "execution_count": 480,
   "metadata": {
    "collapsed": false
   },
   "outputs": [
    {
     "data": {
      "text/html": [
       "<div>\n",
       "<table border=\"1\" class=\"dataframe\">\n",
       "  <thead>\n",
       "    <tr style=\"text-align: right;\">\n",
       "      <th></th>\n",
       "      <th>_id</th>\n",
       "      <th>isGarbage</th>\n",
       "      <th>isNesture</th>\n",
       "      <th>name</th>\n",
       "      <th>slug</th>\n",
       "    </tr>\n",
       "    <tr>\n",
       "      <th>id</th>\n",
       "      <th></th>\n",
       "      <th></th>\n",
       "      <th></th>\n",
       "      <th></th>\n",
       "      <th></th>\n",
       "    </tr>\n",
       "  </thead>\n",
       "  <tbody>\n",
       "    <tr>\n",
       "      <th>G01</th>\n",
       "      <td>58a23a22d826756404709446</td>\n",
       "      <td>NaN</td>\n",
       "      <td>NaN</td>\n",
       "      <td>Single Rotation klein rechtsrum</td>\n",
       "      <td>rssr</td>\n",
       "    </tr>\n",
       "    <tr>\n",
       "      <th>G02</th>\n",
       "      <td>58a23a22d826756404709447</td>\n",
       "      <td>NaN</td>\n",
       "      <td>NaN</td>\n",
       "      <td>Single Rotation klein linksrum</td>\n",
       "      <td>rssl</td>\n",
       "    </tr>\n",
       "    <tr>\n",
       "      <th>G03</th>\n",
       "      <td>58a23a22d826756404709448</td>\n",
       "      <td>NaN</td>\n",
       "      <td>NaN</td>\n",
       "      <td>Oszillierende Rotation klein rechtsrum</td>\n",
       "      <td>rosr</td>\n",
       "    </tr>\n",
       "    <tr>\n",
       "      <th>G04</th>\n",
       "      <td>58a23a22d826756404709449</td>\n",
       "      <td>NaN</td>\n",
       "      <td>NaN</td>\n",
       "      <td>Oszillierende Rotation klein linksrum</td>\n",
       "      <td>rosl</td>\n",
       "    </tr>\n",
       "    <tr>\n",
       "      <th>G05</th>\n",
       "      <td>58a23a22d82675640470944a</td>\n",
       "      <td>NaN</td>\n",
       "      <td>NaN</td>\n",
       "      <td>Single Rotation groß rechtsrum</td>\n",
       "      <td>rsbr</td>\n",
       "    </tr>\n",
       "    <tr>\n",
       "      <th>G06</th>\n",
       "      <td>58a23a22d82675640470944b</td>\n",
       "      <td>NaN</td>\n",
       "      <td>NaN</td>\n",
       "      <td>Single Rotation groß linksrum</td>\n",
       "      <td>rsbl</td>\n",
       "    </tr>\n",
       "    <tr>\n",
       "      <th>G07</th>\n",
       "      <td>58a23a22d82675640470944c</td>\n",
       "      <td>NaN</td>\n",
       "      <td>NaN</td>\n",
       "      <td>Oszillierende Rotation groß rechtsrum</td>\n",
       "      <td>robr</td>\n",
       "    </tr>\n",
       "    <tr>\n",
       "      <th>G08</th>\n",
       "      <td>58a23a22d82675640470944d</td>\n",
       "      <td>NaN</td>\n",
       "      <td>NaN</td>\n",
       "      <td>Oszillierende Rotation groß linksrum</td>\n",
       "      <td>robl</td>\n",
       "    </tr>\n",
       "    <tr>\n",
       "      <th>G09</th>\n",
       "      <td>58a23a22d82675640470944e</td>\n",
       "      <td>NaN</td>\n",
       "      <td>NaN</td>\n",
       "      <td>Kontinuierliche Rotation groß rechtsrum</td>\n",
       "      <td>rcbr</td>\n",
       "    </tr>\n",
       "    <tr>\n",
       "      <th>G10</th>\n",
       "      <td>58a23a22d82675640470944f</td>\n",
       "      <td>NaN</td>\n",
       "      <td>NaN</td>\n",
       "      <td>Kontinuierliche Rotation groß linksrum</td>\n",
       "      <td>rcbl</td>\n",
       "    </tr>\n",
       "    <tr>\n",
       "      <th>G11</th>\n",
       "      <td>58a23a22d826756404709450</td>\n",
       "      <td>NaN</td>\n",
       "      <td>NaN</td>\n",
       "      <td>LinearMovement Single</td>\n",
       "      <td>lms</td>\n",
       "    </tr>\n",
       "    <tr>\n",
       "      <th>G12</th>\n",
       "      <td>58a23a22d826756404709451</td>\n",
       "      <td>NaN</td>\n",
       "      <td>NaN</td>\n",
       "      <td>LinearMovement Oszillierend</td>\n",
       "      <td>lmo</td>\n",
       "    </tr>\n",
       "    <tr>\n",
       "      <th>G13</th>\n",
       "      <td>58a23a22d826756404709452</td>\n",
       "      <td>NaN</td>\n",
       "      <td>NaN</td>\n",
       "      <td>Drücken</td>\n",
       "      <td>pb</td>\n",
       "    </tr>\n",
       "    <tr>\n",
       "      <th>G14</th>\n",
       "      <td>58a23a22d826756404709453</td>\n",
       "      <td>True</td>\n",
       "      <td>True</td>\n",
       "      <td>Rest</td>\n",
       "      <td>rest</td>\n",
       "    </tr>\n",
       "    <tr>\n",
       "      <th>G15</th>\n",
       "      <td>58a23a22d826756404709454</td>\n",
       "      <td>NaN</td>\n",
       "      <td>True</td>\n",
       "      <td>Greifen</td>\n",
       "      <td>grasp</td>\n",
       "    </tr>\n",
       "    <tr>\n",
       "      <th>G16</th>\n",
       "      <td>58a23a22d826756404709455</td>\n",
       "      <td>NaN</td>\n",
       "      <td>True</td>\n",
       "      <td>Positionieren</td>\n",
       "      <td>pos</td>\n",
       "    </tr>\n",
       "    <tr>\n",
       "      <th>G17</th>\n",
       "      <td>58a23a22d826756404709456</td>\n",
       "      <td>NaN</td>\n",
       "      <td>True</td>\n",
       "      <td>Umgreifen</td>\n",
       "      <td>regr</td>\n",
       "    </tr>\n",
       "    <tr>\n",
       "      <th>G18</th>\n",
       "      <td>58a23a22d826756404709457</td>\n",
       "      <td>NaN</td>\n",
       "      <td>True</td>\n",
       "      <td>Ablegen</td>\n",
       "      <td>release</td>\n",
       "    </tr>\n",
       "  </tbody>\n",
       "</table>\n",
       "</div>"
      ],
      "text/plain": [
       "                          _id isGarbage isNesture  \\\n",
       "id                                                  \n",
       "G01  58a23a22d826756404709446       NaN       NaN   \n",
       "G02  58a23a22d826756404709447       NaN       NaN   \n",
       "G03  58a23a22d826756404709448       NaN       NaN   \n",
       "G04  58a23a22d826756404709449       NaN       NaN   \n",
       "G05  58a23a22d82675640470944a       NaN       NaN   \n",
       "G06  58a23a22d82675640470944b       NaN       NaN   \n",
       "G07  58a23a22d82675640470944c       NaN       NaN   \n",
       "G08  58a23a22d82675640470944d       NaN       NaN   \n",
       "G09  58a23a22d82675640470944e       NaN       NaN   \n",
       "G10  58a23a22d82675640470944f       NaN       NaN   \n",
       "G11  58a23a22d826756404709450       NaN       NaN   \n",
       "G12  58a23a22d826756404709451       NaN       NaN   \n",
       "G13  58a23a22d826756404709452       NaN       NaN   \n",
       "G14  58a23a22d826756404709453      True      True   \n",
       "G15  58a23a22d826756404709454       NaN      True   \n",
       "G16  58a23a22d826756404709455       NaN      True   \n",
       "G17  58a23a22d826756404709456       NaN      True   \n",
       "G18  58a23a22d826756404709457       NaN      True   \n",
       "\n",
       "                                        name     slug  \n",
       "id                                                     \n",
       "G01          Single Rotation klein rechtsrum     rssr  \n",
       "G02           Single Rotation klein linksrum     rssl  \n",
       "G03   Oszillierende Rotation klein rechtsrum     rosr  \n",
       "G04    Oszillierende Rotation klein linksrum     rosl  \n",
       "G05           Single Rotation groß rechtsrum     rsbr  \n",
       "G06            Single Rotation groß linksrum     rsbl  \n",
       "G07    Oszillierende Rotation groß rechtsrum     robr  \n",
       "G08     Oszillierende Rotation groß linksrum     robl  \n",
       "G09  Kontinuierliche Rotation groß rechtsrum     rcbr  \n",
       "G10   Kontinuierliche Rotation groß linksrum     rcbl  \n",
       "G11                    LinearMovement Single      lms  \n",
       "G12              LinearMovement Oszillierend      lmo  \n",
       "G13                                  Drücken       pb  \n",
       "G14                                     Rest     rest  \n",
       "G15                                  Greifen    grasp  \n",
       "G16                            Positionieren      pos  \n",
       "G17                                Umgreifen     regr  \n",
       "G18                                  Ablegen  release  "
      ]
     },
     "execution_count": 480,
     "metadata": {},
     "output_type": "execute_result"
    }
   ],
   "source": [
    "gestures_df"
   ]
  },
  {
   "cell_type": "code",
   "execution_count": null,
   "metadata": {
    "collapsed": true
   },
   "outputs": [],
   "source": [
    "#-"
   ]
  },
  {
   "cell_type": "code",
   "execution_count": null,
   "metadata": {
    "collapsed": true
   },
   "outputs": [],
   "source": [
    "# TODO work with Sliding Window ?"
   ]
  }
 ],
 "metadata": {
  "kernelspec": {
   "display_name": "Python 2",
   "language": "python",
   "name": "python2"
  },
  "language_info": {
   "codemirror_mode": {
    "name": "ipython",
    "version": 2
   },
   "file_extension": ".py",
   "mimetype": "text/x-python",
   "name": "python",
   "nbconvert_exporter": "python",
   "pygments_lexer": "ipython2",
   "version": "2.7.12"
  }
 },
 "nbformat": 4,
 "nbformat_minor": 0
}
